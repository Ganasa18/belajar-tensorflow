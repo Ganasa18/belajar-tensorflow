{
  "nbformat": 4,
  "nbformat_minor": 0,
  "metadata": {
    "colab": {
      "provenance": [],
      "gpuType": "T4",
      "mount_file_id": "1Bb8-s-kucFtTYy8bLbRaOpqMv7_6P2Ot",
      "authorship_tag": "ABX9TyOA7HvdaFti0CT+F8XHBkx3",
      "include_colab_link": true
    },
    "kernelspec": {
      "name": "python3",
      "display_name": "Python 3"
    },
    "language_info": {
      "name": "python"
    },
    "accelerator": "GPU"
  },
  "cells": [
    {
      "cell_type": "markdown",
      "metadata": {
        "id": "view-in-github",
        "colab_type": "text"
      },
      "source": [
        "<a href=\"https://colab.research.google.com/github/Ganasa18/belajar-tensorflow/blob/main/01_neural_network_regression_in_tensorflow.ipynb\" target=\"_parent\"><img src=\"https://colab.research.google.com/assets/colab-badge.svg\" alt=\"Open In Colab\"/></a>"
      ]
    },
    {
      "cell_type": "markdown",
      "source": [
        "# Introduction to Regression with Neural Network in Tensorflow\n",
        "\n",
        "There are many defininitions for a regression prubm but in our case, we'ere going to simplify it: predicting a numerical variable based on some other combination of variables, even shorter... predicting a number."
      ],
      "metadata": {
        "id": "BVFGOsQ_llrx"
      }
    },
    {
      "cell_type": "code",
      "source": [
        "# Import TensorFlow\n",
        "import tensorflow as tf\n",
        "print(tf.__version__)"
      ],
      "metadata": {
        "colab": {
          "base_uri": "https://localhost:8080/"
        },
        "id": "UpPow3Jtl7Az",
        "outputId": "a24be46f-e653-40f4-82ef-b7c18fa7923b"
      },
      "execution_count": 1,
      "outputs": [
        {
          "output_type": "stream",
          "name": "stdout",
          "text": [
            "2.15.0\n"
          ]
        }
      ]
    },
    {
      "cell_type": "markdown",
      "source": [
        "## Creating data to view and fit"
      ],
      "metadata": {
        "id": "LgSb2zr1mSX2"
      }
    },
    {
      "cell_type": "code",
      "source": [
        "import numpy as np\n",
        "import matplotlib.pyplot as plt\n",
        "\n",
        "# # Create features\n",
        "# X = np.array([-7.0, -4.0, -1.0, 2.0, 5.0, 8.0, 11.0, 14.0])\n",
        "\n",
        "# # Create labels\n",
        "# y = np.array([3.0, 6.0, 9.0, 12.0, 15.0, 18.0, 21.0, 24.0])\n",
        "\n",
        "# Create features (using tensors)\n",
        "X = tf.constant([-7.0, -4.0, -1.0, 2.0, 5.0, 8.0, 11.0, 14.0])\n",
        "\n",
        "# Create labels (using tensors)\n",
        "y = tf.constant([3.0, 6.0, 9.0, 12.0, 15.0, 18.0, 21.0, 24.0])\n",
        "\n",
        "# Visualize it\n",
        "plt.scatter(X, y)"
      ],
      "metadata": {
        "colab": {
          "base_uri": "https://localhost:8080/",
          "height": 453
        },
        "id": "jA0resGPmMHX",
        "outputId": "957a1299-cc81-4888-b269-652eff804b87"
      },
      "execution_count": 2,
      "outputs": [
        {
          "output_type": "execute_result",
          "data": {
            "text/plain": [
              "<matplotlib.collections.PathCollection at 0x7868f066f6a0>"
            ]
          },
          "metadata": {},
          "execution_count": 2
        },
        {
          "output_type": "display_data",
          "data": {
            "text/plain": [
              "<Figure size 640x480 with 1 Axes>"
            ],
            "image/png": "[encoded data removed]"
          },
          "metadata": {}
        }
      ]
    },
    {
      "cell_type": "code",
      "source": [
        "# X + 10 for to make labels have relationship\n",
        "# -7 + 10 = 3 | -4 + 10 = 6\n",
        "y == X + 10"
      ],
      "metadata": {
        "colab": {
          "base_uri": "https://localhost:8080/"
        },
        "id": "gqzlyGrznO0N",
        "outputId": "c3888f3f-8cd0-49d8-d2ca-2fb253fb8bd4"
      },
      "execution_count": 3,
      "outputs": [
        {
          "output_type": "execute_result",
          "data": {
            "text/plain": [
              "<tf.Tensor: shape=(8,), dtype=bool, numpy=array([ True,  True,  True,  True,  True,  True,  True,  True])>"
            ]
          },
          "metadata": {},
          "execution_count": 3
        }
      ]
    },
    {
      "cell_type": "markdown",
      "source": [
        "## Input and output shapes"
      ],
      "metadata": {
        "id": "zMVizaR4n0UK"
      }
    },
    {
      "cell_type": "code",
      "source": [
        "# Create a demo tensor for our housing price prediction problem\n",
        "\n",
        "# Input Shapes 3\n",
        "house_info = tf.constant([\"bedroom\", \"bathroom\", \"garage\"])\n",
        "# Output Shapes 1\n",
        "house_price = tf.constant([939700])\n",
        "\n",
        "house_info, house_price"
      ],
      "metadata": {
        "colab": {
          "base_uri": "https://localhost:8080/"
        },
        "id": "foVL6Tamn3lK",
        "outputId": "03e59128-c26f-4cc5-ff41-b0b8ac1182e7"
      },
      "execution_count": 4,
      "outputs": [
        {
          "output_type": "execute_result",
          "data": {
            "text/plain": [
              "(<tf.Tensor: shape=(3,), dtype=string, numpy=array([b'bedroom', b'bathroom', b'garage'], dtype=object)>,\n",
              " <tf.Tensor: shape=(1,), dtype=int32, numpy=array([939700], dtype=int32)>)"
            ]
          },
          "metadata": {},
          "execution_count": 4
        }
      ]
    },
    {
      "cell_type": "code",
      "source": [
        "X[0], y[0]"
      ],
      "metadata": {
        "colab": {
          "base_uri": "https://localhost:8080/"
        },
        "id": "wfwyun2vqjY3",
        "outputId": "3f5661dc-6cca-4b74-df2f-412d3f751a2c"
      },
      "execution_count": 5,
      "outputs": [
        {
          "output_type": "execute_result",
          "data": {
            "text/plain": [
              "(<tf.Tensor: shape=(), dtype=float32, numpy=-7.0>,\n",
              " <tf.Tensor: shape=(), dtype=float32, numpy=3.0>)"
            ]
          },
          "metadata": {},
          "execution_count": 5
        }
      ]
    },
    {
      "cell_type": "code",
      "source": [
        "X[1], y[1]"
      ],
      "metadata": {
        "colab": {
          "base_uri": "https://localhost:8080/"
        },
        "id": "VMCf5eOyqq27",
        "outputId": "966a3f18-2d27-4d9c-b9e9-132d0ea3a02b"
      },
      "execution_count": 6,
      "outputs": [
        {
          "output_type": "execute_result",
          "data": {
            "text/plain": [
              "(<tf.Tensor: shape=(), dtype=float32, numpy=-4.0>,\n",
              " <tf.Tensor: shape=(), dtype=float32, numpy=6.0>)"
            ]
          },
          "metadata": {},
          "execution_count": 6
        }
      ]
    },
    {
      "cell_type": "code",
      "source": [
        "input_shape = X[0].shape\n",
        "output_shape = y[0].shape\n",
        "\n",
        "input_shape, output_shape"
      ],
      "metadata": {
        "colab": {
          "base_uri": "https://localhost:8080/"
        },
        "id": "cJ_f7O0xqLWb",
        "outputId": "2f878938-930d-44ae-9cef-e735b311ccad"
      },
      "execution_count": 7,
      "outputs": [
        {
          "output_type": "execute_result",
          "data": {
            "text/plain": [
              "(TensorShape([]), TensorShape([]))"
            ]
          },
          "metadata": {},
          "execution_count": 7
        }
      ]
    },
    {
      "cell_type": "code",
      "source": [
        "X[0].ndim"
      ],
      "metadata": {
        "colab": {
          "base_uri": "https://localhost:8080/"
        },
        "id": "easIhWwfrDQ-",
        "outputId": "77ef0109-011a-4f91-d115-98875ee344b4"
      },
      "execution_count": 8,
      "outputs": [
        {
          "output_type": "execute_result",
          "data": {
            "text/plain": [
              "0"
            ]
          },
          "metadata": {},
          "execution_count": 8
        }
      ]
    },
    {
      "cell_type": "code",
      "source": [
        "X[0], y[0]"
      ],
      "metadata": {
        "colab": {
          "base_uri": "https://localhost:8080/"
        },
        "id": "fHIzjPaErHbv",
        "outputId": "92369773-e1cd-4284-f6db-d6d38cb515a1"
      },
      "execution_count": 9,
      "outputs": [
        {
          "output_type": "execute_result",
          "data": {
            "text/plain": [
              "(<tf.Tensor: shape=(), dtype=float32, numpy=-7.0>,\n",
              " <tf.Tensor: shape=(), dtype=float32, numpy=3.0>)"
            ]
          },
          "metadata": {},
          "execution_count": 9
        }
      ]
    },
    {
      "cell_type": "code",
      "source": [
        "# Turn our NumPy arrays into tensors with dtype\n",
        "X = tf.constant(X)\n",
        "y = tf.constant(y)\n",
        "# X = tf.cast(tf.constant(X), dtype=tf.float32)\n",
        "# y = tf.cast(tf.constant(y), dtype=tf.float32)\n",
        "X, y"
      ],
      "metadata": {
        "colab": {
          "base_uri": "https://localhost:8080/"
        },
        "id": "XKJ2ThI9rric",
        "outputId": "765e7708-9cb1-49df-a531-005f4ceff01c"
      },
      "execution_count": 10,
      "outputs": [
        {
          "output_type": "execute_result",
          "data": {
            "text/plain": [
              "(<tf.Tensor: shape=(8,), dtype=float32, numpy=array([-7., -4., -1.,  2.,  5.,  8., 11., 14.], dtype=float32)>,\n",
              " <tf.Tensor: shape=(8,), dtype=float32, numpy=array([ 3.,  6.,  9., 12., 15., 18., 21., 24.], dtype=float32)>)"
            ]
          },
          "metadata": {},
          "execution_count": 10
        }
      ]
    },
    {
      "cell_type": "code",
      "source": [
        "input_shape = X[0].shape\n",
        "output_shape = y[0].shape\n",
        "\n",
        "input_shape, output_shape"
      ],
      "metadata": {
        "colab": {
          "base_uri": "https://localhost:8080/"
        },
        "id": "mAUHfPW8r7hJ",
        "outputId": "3c332644-92c8-4258-b1ff-a4037c810932"
      },
      "execution_count": 11,
      "outputs": [
        {
          "output_type": "execute_result",
          "data": {
            "text/plain": [
              "(TensorShape([]), TensorShape([]))"
            ]
          },
          "metadata": {},
          "execution_count": 11
        }
      ]
    },
    {
      "cell_type": "code",
      "source": [
        "plt.scatter(X, y)"
      ],
      "metadata": {
        "colab": {
          "base_uri": "https://localhost:8080/",
          "height": 453
        },
        "id": "Usz48-uPsPUJ",
        "outputId": "26b0131c-e763-4e64-95a7-4e10294dc068"
      },
      "execution_count": 12,
      "outputs": [
        {
          "output_type": "execute_result",
          "data": {
            "text/plain": [
              "<matplotlib.collections.PathCollection at 0x7868f05aeb30>"
            ]
          },
          "metadata": {},
          "execution_count": 12
        },
        {
          "output_type": "display_data",
          "data": {
            "text/plain": [
              "<Figure size 640x480 with 1 Axes>"
            ],
            "image/png": "[encoded data removed]"
          },
          "metadata": {}
        }
      ]
    },
    {
      "cell_type": "markdown",
      "source": [
        "## Steps in modellng with TensorFlow\n",
        "\n",
        "1. **Creating a model** - define the input and output layers, as well as the hidden layes of a deep learning model.\n",
        "\n",
        "2. **Compiling a model** - define the loss function (in other words, the function which tells our model how wrong it is) and the optimizer (tells our model how to improve the patterns its learning) and evaluation metrics (what we can use to interpret the performance of our model)\n",
        "\n",
        "3. **Fitting a model** - letting the model try to find patterns between X & y (features and labels)"
      ],
      "metadata": {
        "id": "t8PtwZq9sWzU"
      }
    },
    {
      "cell_type": "code",
      "source": [
        "# model = tf.keras.Sequential()\n",
        "# model.add(tf.keras.Input(shape=(16,)))\n",
        "# model.add(tf.keras.layers.Dense(8))\n",
        "# ...\n",
        "# model = tf.kears.Sequential()\n",
        "# model.add(tf.keras.layers.Dense(1))\n",
        "# model.add(tf.keras.layers.Dense(1))"
      ],
      "metadata": {
        "id": "Z-7sNpzqxUWj"
      },
      "execution_count": 13,
      "outputs": []
    },
    {
      "cell_type": "code",
      "source": [
        "# Set random seed\n",
        "tf.random.set_seed(42)\n",
        "\n",
        "# 1. Create a model using the Sequential API\n",
        "model = tf.keras.Sequential([\n",
        "    tf.keras.layers.Dense(1)\n",
        "    # tf.keras.layers.Dense(1)\n",
        "])\n",
        "\n",
        "# 2. Compile the model\n",
        "model.compile(loss=tf.keras.losses.mae, # mae is short for mean absolute error (computes the mean absolute error beetween labels and predictions)\n",
        "              optimizer=tf.keras.optimizers.SGD(), # sgd is short for stochasitc gradient descent\n",
        "              # optimizer=\"sgd\",\n",
        "              metrics=[\"mae\"])\n",
        "\n",
        "# 3. Fit the model\n",
        "model.fit(tf.expand_dims(X, axis=-1), y, epochs=5)"
      ],
      "metadata": {
        "colab": {
          "base_uri": "https://localhost:8080/"
        },
        "id": "FlMAKGrBtNuU",
        "outputId": "6d7f7d99-00af-4b8c-91cf-eeee1acd7316"
      },
      "execution_count": 14,
      "outputs": [
        {
          "output_type": "stream",
          "name": "stdout",
          "text": [
            "Epoch 1/5\n",
            "1/1 [==============================] - 1s 567ms/step - loss: 9.1030 - mae: 9.1030\n",
            "Epoch 2/5\n",
            "1/1 [==============================] - 0s 11ms/step - loss: 8.9705 - mae: 8.9705\n",
            "Epoch 3/5\n",
            "1/1 [==============================] - 0s 14ms/step - loss: 8.8380 - mae: 8.8380\n",
            "Epoch 4/5\n",
            "1/1 [==============================] - 0s 12ms/step - loss: 8.7055 - mae: 8.7055\n",
            "Epoch 5/5\n",
            "1/1 [==============================] - 0s 11ms/step - loss: 8.5730 - mae: 8.5730\n"
          ]
        },
        {
          "output_type": "execute_result",
          "data": {
            "text/plain": [
              "<keras.src.callbacks.History at 0x7868f034f670>"
            ]
          },
          "metadata": {},
          "execution_count": 14
        }
      ]
    },
    {
      "cell_type": "code",
      "source": [
        "# Check out X and y\n",
        "X, y"
      ],
      "metadata": {
        "colab": {
          "base_uri": "https://localhost:8080/"
        },
        "id": "7OQazTGOvpvf",
        "outputId": "dbd5cdab-00e3-43fb-953a-fa5daec0f2e4"
      },
      "execution_count": 15,
      "outputs": [
        {
          "output_type": "execute_result",
          "data": {
            "text/plain": [
              "(<tf.Tensor: shape=(8,), dtype=float32, numpy=array([-7., -4., -1.,  2.,  5.,  8., 11., 14.], dtype=float32)>,\n",
              " <tf.Tensor: shape=(8,), dtype=float32, numpy=array([ 3.,  6.,  9., 12., 15., 18., 21., 24.], dtype=float32)>)"
            ]
          },
          "metadata": {},
          "execution_count": 15
        }
      ]
    },
    {
      "cell_type": "code",
      "source": [
        "# Try and make a prediction using our model (add 17.0 predict)\n",
        "y_pred = model.predict([17.0])\n",
        "y_pred"
      ],
      "metadata": {
        "colab": {
          "base_uri": "https://localhost:8080/"
        },
        "id": "c5cds6T80Mx9",
        "outputId": "acf8613d-bbb4-4614-f74e-b85d111eb334"
      },
      "execution_count": 16,
      "outputs": [
        {
          "output_type": "stream",
          "name": "stdout",
          "text": [
            "1/1 [==============================] - 0s 167ms/step\n"
          ]
        },
        {
          "output_type": "execute_result",
          "data": {
            "text/plain": [
              "array([[24.381826]], dtype=float32)"
            ]
          },
          "metadata": {},
          "execution_count": 16
        }
      ]
    },
    {
      "cell_type": "markdown",
      "source": [
        "## Improving our model\n",
        "\n",
        "We can improve our mode, by altering the steps we took to create a model.\n",
        "\n",
        "1. **Creating a model** - here we might add more layers,increase the number of hidden units (all called neurons) within each of the hidden layers, change the activation function of each layer.\n",
        "\n",
        "2. **Compiling a model** - here we might change he optimzization function or perhaps the **learning rate** of the optimization function.\n",
        "\n",
        "3. **Fitting a model** - here we mgith fit a model for more epochs (leave it training for longer) or on more data (give the model more examples)"
      ],
      "metadata": {
        "id": "M8vVm8-21HRX"
      }
    },
    {
      "cell_type": "code",
      "source": [
        "# Let's rebuild our model\n",
        "\n",
        "# 1. Create the model\n",
        "model = tf.keras.Sequential([\n",
        "    tf.keras.layers.Dense(1)\n",
        "])\n",
        "\n",
        "# 2. Compile the model\n",
        "model.compile(loss=tf.keras.losses.mae,\n",
        "              optimizer=tf.keras.optimizers.SGD(),\n",
        "              metrics=[\"mae\"])\n",
        "\n",
        "# 3. Fite the model (this time we'll train for longer)\n",
        "model.fit(tf.expand_dims(X, axis=-1), y, epochs=100)"
      ],
      "metadata": {
        "colab": {
          "base_uri": "https://localhost:8080/"
        },
        "id": "hcLBAweC1ObX",
        "outputId": "4334e828-7560-4f23-ca5c-aef4c4aad3d1"
      },
      "execution_count": 17,
      "outputs": [
        {
          "output_type": "stream",
          "name": "stdout",
          "text": [
            "Epoch 1/100\n",
            "1/1 [==============================] - 0s 500ms/step - loss: 8.4403 - mae: 8.4403\n",
            "Epoch 2/100\n",
            "1/1 [==============================] - 0s 25ms/step - loss: 8.3078 - mae: 8.3078\n",
            "Epoch 3/100\n",
            "1/1 [==============================] - 0s 18ms/step - loss: 8.1753 - mae: 8.1753\n",
            "Epoch 4/100\n",
            "1/1 [==============================] - 0s 19ms/step - loss: 8.0428 - mae: 8.0428\n",
            "Epoch 5/100\n",
            "1/1 [==============================] - 0s 21ms/step - loss: 7.9103 - mae: 7.9103\n",
            "Epoch 6/100\n",
            "1/1 [==============================] - 0s 19ms/step - loss: 7.7778 - mae: 7.7778\n",
            "Epoch 7/100\n",
            "1/1 [==============================] - 0s 21ms/step - loss: 7.6453 - mae: 7.6453\n",
            "Epoch 8/100\n",
            "1/1 [==============================] - 0s 12ms/step - loss: 7.5129 - mae: 7.5129\n",
            "Epoch 9/100\n",
            "1/1 [==============================] - 0s 16ms/step - loss: 7.4400 - mae: 7.4400\n",
            "Epoch 10/100\n",
            "1/1 [==============================] - 0s 17ms/step - loss: 7.4344 - mae: 7.4344\n",
            "Epoch 11/100\n",
            "1/1 [==============================] - 0s 14ms/step - loss: 7.4288 - mae: 7.4288\n",
            "Epoch 12/100\n",
            "1/1 [==============================] - 0s 13ms/step - loss: 7.4231 - mae: 7.4231\n",
            "Epoch 13/100\n",
            "1/1 [==============================] - 0s 13ms/step - loss: 7.4175 - mae: 7.4175\n",
            "Epoch 14/100\n",
            "1/1 [==============================] - 0s 12ms/step - loss: 7.4119 - mae: 7.4119\n",
            "Epoch 15/100\n",
            "1/1 [==============================] - 0s 20ms/step - loss: 7.4062 - mae: 7.4062\n",
            "Epoch 16/100\n",
            "1/1 [==============================] - 0s 16ms/step - loss: 7.4006 - mae: 7.4006\n",
            "Epoch 17/100\n",
            "1/1 [==============================] - 0s 14ms/step - loss: 7.3950 - mae: 7.3950\n",
            "Epoch 18/100\n",
            "1/1 [==============================] - 0s 13ms/step - loss: 7.3894 - mae: 7.3894\n",
            "Epoch 19/100\n",
            "1/1 [==============================] - 0s 15ms/step - loss: 7.3837 - mae: 7.3837\n",
            "Epoch 20/100\n",
            "1/1 [==============================] - 0s 14ms/step - loss: 7.3781 - mae: 7.3781\n",
            "Epoch 21/100\n",
            "1/1 [==============================] - 0s 13ms/step - loss: 7.3725 - mae: 7.3725\n",
            "Epoch 22/100\n",
            "1/1 [==============================] - 0s 19ms/step - loss: 7.3669 - mae: 7.3669\n",
            "Epoch 23/100\n",
            "1/1 [==============================] - 0s 18ms/step - loss: 7.3612 - mae: 7.3612\n",
            "Epoch 24/100\n",
            "1/1 [==============================] - 0s 15ms/step - loss: 7.3556 - mae: 7.3556\n",
            "Epoch 25/100\n",
            "1/1 [==============================] - 0s 15ms/step - loss: 7.3500 - mae: 7.3500\n",
            "Epoch 26/100\n",
            "1/1 [==============================] - 0s 15ms/step - loss: 7.3444 - mae: 7.3444\n",
            "Epoch 27/100\n",
            "1/1 [==============================] - 0s 16ms/step - loss: 7.3387 - mae: 7.3387\n",
            "Epoch 28/100\n",
            "1/1 [==============================] - 0s 16ms/step - loss: 7.3331 - mae: 7.3331\n",
            "Epoch 29/100\n",
            "1/1 [==============================] - 0s 15ms/step - loss: 7.3275 - mae: 7.3275\n",
            "Epoch 30/100\n",
            "1/1 [==============================] - 0s 15ms/step - loss: 7.3219 - mae: 7.3219\n",
            "Epoch 31/100\n",
            "1/1 [==============================] - 0s 13ms/step - loss: 7.3162 - mae: 7.3162\n",
            "Epoch 32/100\n",
            "1/1 [==============================] - 0s 14ms/step - loss: 7.3106 - mae: 7.3106\n",
            "Epoch 33/100\n",
            "1/1 [==============================] - 0s 12ms/step - loss: 7.3050 - mae: 7.3050\n",
            "Epoch 34/100\n",
            "1/1 [==============================] - 0s 11ms/step - loss: 7.2994 - mae: 7.2994\n",
            "Epoch 35/100\n",
            "1/1 [==============================] - 0s 11ms/step - loss: 7.2937 - mae: 7.2937\n",
            "Epoch 36/100\n",
            "1/1 [==============================] - 0s 15ms/step - loss: 7.2881 - mae: 7.2881\n",
            "Epoch 37/100\n",
            "1/1 [==============================] - 0s 12ms/step - loss: 7.2825 - mae: 7.2825\n",
            "Epoch 38/100\n",
            "1/1 [==============================] - 0s 13ms/step - loss: 7.2769 - mae: 7.2769\n",
            "Epoch 39/100\n",
            "1/1 [==============================] - 0s 12ms/step - loss: 7.2712 - mae: 7.2712\n",
            "Epoch 40/100\n",
            "1/1 [==============================] - 0s 10ms/step - loss: 7.2656 - mae: 7.2656\n",
            "Epoch 41/100\n",
            "1/1 [==============================] - 0s 10ms/step - loss: 7.2600 - mae: 7.2600\n",
            "Epoch 42/100\n",
            "1/1 [==============================] - 0s 12ms/step - loss: 7.2544 - mae: 7.2544\n",
            "Epoch 43/100\n",
            "1/1 [==============================] - 0s 12ms/step - loss: 7.2488 - mae: 7.2488\n",
            "Epoch 44/100\n",
            "1/1 [==============================] - 0s 15ms/step - loss: 7.2431 - mae: 7.2431\n",
            "Epoch 45/100\n",
            "1/1 [==============================] - 0s 14ms/step - loss: 7.2375 - mae: 7.2375\n",
            "Epoch 46/100\n",
            "1/1 [==============================] - 0s 16ms/step - loss: 7.2319 - mae: 7.2319\n",
            "Epoch 47/100\n",
            "1/1 [==============================] - 0s 14ms/step - loss: 7.2263 - mae: 7.2263\n",
            "Epoch 48/100\n",
            "1/1 [==============================] - 0s 13ms/step - loss: 7.2206 - mae: 7.2206\n",
            "Epoch 49/100\n",
            "1/1 [==============================] - 0s 13ms/step - loss: 7.2150 - mae: 7.2150\n",
            "Epoch 50/100\n",
            "1/1 [==============================] - 0s 14ms/step - loss: 7.2094 - mae: 7.2094\n",
            "Epoch 51/100\n",
            "1/1 [==============================] - 0s 19ms/step - loss: 7.2038 - mae: 7.2038\n",
            "Epoch 52/100\n",
            "1/1 [==============================] - 0s 19ms/step - loss: 7.1981 - mae: 7.1981\n",
            "Epoch 53/100\n",
            "1/1 [==============================] - 0s 24ms/step - loss: 7.1925 - mae: 7.1925\n",
            "Epoch 54/100\n",
            "1/1 [==============================] - 0s 17ms/step - loss: 7.1869 - mae: 7.1869\n",
            "Epoch 55/100\n",
            "1/1 [==============================] - 0s 21ms/step - loss: 7.1812 - mae: 7.1812\n",
            "Epoch 56/100\n",
            "1/1 [==============================] - 0s 15ms/step - loss: 7.1756 - mae: 7.1756\n",
            "Epoch 57/100\n",
            "1/1 [==============================] - 0s 18ms/step - loss: 7.1700 - mae: 7.1700\n",
            "Epoch 58/100\n",
            "1/1 [==============================] - 0s 16ms/step - loss: 7.1644 - mae: 7.1644\n",
            "Epoch 59/100\n",
            "1/1 [==============================] - 0s 20ms/step - loss: 7.1588 - mae: 7.1588\n",
            "Epoch 60/100\n",
            "1/1 [==============================] - 0s 17ms/step - loss: 7.1531 - mae: 7.1531\n",
            "Epoch 61/100\n",
            "1/1 [==============================] - 0s 15ms/step - loss: 7.1475 - mae: 7.1475\n",
            "Epoch 62/100\n",
            "1/1 [==============================] - 0s 13ms/step - loss: 7.1419 - mae: 7.1419\n",
            "Epoch 63/100\n",
            "1/1 [==============================] - 0s 14ms/step - loss: 7.1363 - mae: 7.1363\n",
            "Epoch 64/100\n",
            "1/1 [==============================] - 0s 13ms/step - loss: 7.1306 - mae: 7.1306\n",
            "Epoch 65/100\n",
            "1/1 [==============================] - 0s 14ms/step - loss: 7.1250 - mae: 7.1250\n",
            "Epoch 66/100\n",
            "1/1 [==============================] - 0s 13ms/step - loss: 7.1194 - mae: 7.1194\n",
            "Epoch 67/100\n",
            "1/1 [==============================] - 0s 13ms/step - loss: 7.1138 - mae: 7.1138\n",
            "Epoch 68/100\n",
            "1/1 [==============================] - 0s 9ms/step - loss: 7.1081 - mae: 7.1081\n",
            "Epoch 69/100\n",
            "1/1 [==============================] - 0s 11ms/step - loss: 7.1025 - mae: 7.1025\n",
            "Epoch 70/100\n",
            "1/1 [==============================] - 0s 9ms/step - loss: 7.0969 - mae: 7.0969\n",
            "Epoch 71/100\n",
            "1/1 [==============================] - 0s 11ms/step - loss: 7.0913 - mae: 7.0913\n",
            "Epoch 72/100\n",
            "1/1 [==============================] - 0s 10ms/step - loss: 7.0856 - mae: 7.0856\n",
            "Epoch 73/100\n",
            "1/1 [==============================] - 0s 10ms/step - loss: 7.0800 - mae: 7.0800\n",
            "Epoch 74/100\n",
            "1/1 [==============================] - 0s 10ms/step - loss: 7.0744 - mae: 7.0744\n",
            "Epoch 75/100\n",
            "1/1 [==============================] - 0s 13ms/step - loss: 7.0688 - mae: 7.0688\n",
            "Epoch 76/100\n",
            "1/1 [==============================] - 0s 10ms/step - loss: 7.0631 - mae: 7.0631\n",
            "Epoch 77/100\n",
            "1/1 [==============================] - 0s 12ms/step - loss: 7.0575 - mae: 7.0575\n",
            "Epoch 78/100\n",
            "1/1 [==============================] - 0s 16ms/step - loss: 7.0519 - mae: 7.0519\n",
            "Epoch 79/100\n",
            "1/1 [==============================] - 0s 16ms/step - loss: 7.0463 - mae: 7.0463\n",
            "Epoch 80/100\n",
            "1/1 [==============================] - 0s 13ms/step - loss: 7.0406 - mae: 7.0406\n",
            "Epoch 81/100\n",
            "1/1 [==============================] - 0s 10ms/step - loss: 7.0350 - mae: 7.0350\n",
            "Epoch 82/100\n",
            "1/1 [==============================] - 0s 11ms/step - loss: 7.0294 - mae: 7.0294\n",
            "Epoch 83/100\n",
            "1/1 [==============================] - 0s 10ms/step - loss: 7.0238 - mae: 7.0238\n",
            "Epoch 84/100\n",
            "1/1 [==============================] - 0s 11ms/step - loss: 7.0181 - mae: 7.0181\n",
            "Epoch 85/100\n",
            "1/1 [==============================] - 0s 11ms/step - loss: 7.0125 - mae: 7.0125\n",
            "Epoch 86/100\n",
            "1/1 [==============================] - 0s 12ms/step - loss: 7.0069 - mae: 7.0069\n",
            "Epoch 87/100\n",
            "1/1 [==============================] - 0s 11ms/step - loss: 7.0013 - mae: 7.0013\n",
            "Epoch 88/100\n",
            "1/1 [==============================] - 0s 16ms/step - loss: 6.9956 - mae: 6.9956\n",
            "Epoch 89/100\n",
            "1/1 [==============================] - 0s 16ms/step - loss: 6.9900 - mae: 6.9900\n",
            "Epoch 90/100\n",
            "1/1 [==============================] - 0s 14ms/step - loss: 6.9844 - mae: 6.9844\n",
            "Epoch 91/100\n",
            "1/1 [==============================] - 0s 13ms/step - loss: 6.9788 - mae: 6.9788\n",
            "Epoch 92/100\n",
            "1/1 [==============================] - 0s 12ms/step - loss: 6.9731 - mae: 6.9731\n",
            "Epoch 93/100\n",
            "1/1 [==============================] - 0s 12ms/step - loss: 6.9675 - mae: 6.9675\n",
            "Epoch 94/100\n",
            "1/1 [==============================] - 0s 14ms/step - loss: 6.9619 - mae: 6.9619\n",
            "Epoch 95/100\n",
            "1/1 [==============================] - 0s 12ms/step - loss: 6.9563 - mae: 6.9563\n",
            "Epoch 96/100\n",
            "1/1 [==============================] - 0s 13ms/step - loss: 6.9506 - mae: 6.9506\n",
            "Epoch 97/100\n",
            "1/1 [==============================] - 0s 11ms/step - loss: 6.9450 - mae: 6.9450\n",
            "Epoch 98/100\n",
            "1/1 [==============================] - 0s 11ms/step - loss: 6.9394 - mae: 6.9394\n",
            "Epoch 99/100\n",
            "1/1 [==============================] - 0s 20ms/step - loss: 6.9338 - mae: 6.9338\n",
            "Epoch 100/100\n",
            "1/1 [==============================] - 0s 11ms/step - loss: 6.9281 - mae: 6.9281\n"
          ]
        },
        {
          "output_type": "execute_result",
          "data": {
            "text/plain": [
              "<keras.src.callbacks.History at 0x7868f01a3fd0>"
            ]
          },
          "metadata": {},
          "execution_count": 17
        }
      ]
    },
    {
      "cell_type": "code",
      "source": [
        "# Remind ourselves of the data\n",
        "X, y"
      ],
      "metadata": {
        "colab": {
          "base_uri": "https://localhost:8080/"
        },
        "id": "I00vc9yQv6Qg",
        "outputId": "d571cd82-7aba-4ac8-b3ff-2a3b940cbb9c"
      },
      "execution_count": 18,
      "outputs": [
        {
          "output_type": "execute_result",
          "data": {
            "text/plain": [
              "(<tf.Tensor: shape=(8,), dtype=float32, numpy=array([-7., -4., -1.,  2.,  5.,  8., 11., 14.], dtype=float32)>,\n",
              " <tf.Tensor: shape=(8,), dtype=float32, numpy=array([ 3.,  6.,  9., 12., 15., 18., 21., 24.], dtype=float32)>)"
            ]
          },
          "metadata": {},
          "execution_count": 18
        }
      ]
    },
    {
      "cell_type": "code",
      "source": [
        "# Let's see of our model's prediction has improved..\n",
        "model.predict([17.0])"
      ],
      "metadata": {
        "colab": {
          "base_uri": "https://localhost:8080/"
        },
        "id": "g4cuTXrPv-qo",
        "outputId": "d6d0c717-9ed6-48c1-b038-9a15da7c883a"
      },
      "execution_count": 19,
      "outputs": [
        {
          "output_type": "stream",
          "name": "stdout",
          "text": [
            "1/1 [==============================] - 0s 117ms/step\n"
          ]
        },
        {
          "output_type": "execute_result",
          "data": {
            "text/plain": [
              "array([[30.10544]], dtype=float32)"
            ]
          },
          "metadata": {},
          "execution_count": 19
        }
      ]
    },
    {
      "cell_type": "code",
      "source": [
        "# Let's see if we can make another to improve model\n",
        "\n",
        "# 1. Create the model (this time with an extra hidden layer with 100 hidden units)\n",
        "model = tf.keras.Sequential([\n",
        "    tf.keras.layers.Dense(50, activation=None),\n",
        "    tf.keras.layers.Dense(1)\n",
        "])\n",
        "\n",
        "# 2. Compile the model\n",
        "model.compile(loss=\"mae\",\n",
        "              optimizer=tf.keras.optimizers.Adam(learning_rate=0.01),\n",
        "              metrics=[\"mae\"])\n",
        "\n",
        "# 3. Fite the model (this time we'll train for longer)\n",
        "model.fit(tf.expand_dims(X, axis=-1), y, epochs=100)"
      ],
      "metadata": {
        "colab": {
          "base_uri": "https://localhost:8080/"
        },
        "id": "MS4vWeqhC7wy",
        "outputId": "447c496a-657f-41ed-8a0a-bab360d8eb35"
      },
      "execution_count": 20,
      "outputs": [
        {
          "output_type": "stream",
          "name": "stdout",
          "text": [
            "Epoch 1/100\n",
            "1/1 [==============================] - 1s 1s/step - loss: 12.8105 - mae: 12.8105\n",
            "Epoch 2/100\n",
            "1/1 [==============================] - 0s 13ms/step - loss: 12.0824 - mae: 12.0824\n",
            "Epoch 3/100\n",
            "1/1 [==============================] - 0s 13ms/step - loss: 11.3502 - mae: 11.3502\n",
            "Epoch 4/100\n",
            "1/1 [==============================] - 0s 12ms/step - loss: 10.6120 - mae: 10.6120\n",
            "Epoch 5/100\n",
            "1/1 [==============================] - 0s 12ms/step - loss: 9.8664 - mae: 9.8664\n",
            "Epoch 6/100\n",
            "1/1 [==============================] - 0s 15ms/step - loss: 9.1120 - mae: 9.1120\n",
            "Epoch 7/100\n",
            "1/1 [==============================] - 0s 15ms/step - loss: 8.3471 - mae: 8.3471\n",
            "Epoch 8/100\n",
            "1/1 [==============================] - 0s 14ms/step - loss: 7.5699 - mae: 7.5699\n",
            "Epoch 9/100\n",
            "1/1 [==============================] - 0s 13ms/step - loss: 6.8779 - mae: 6.8779\n",
            "Epoch 10/100\n",
            "1/1 [==============================] - 0s 19ms/step - loss: 6.8895 - mae: 6.8895\n",
            "Epoch 11/100\n",
            "1/1 [==============================] - 0s 12ms/step - loss: 7.1717 - mae: 7.1717\n",
            "Epoch 12/100\n",
            "1/1 [==============================] - 0s 20ms/step - loss: 7.3337 - mae: 7.3337\n",
            "Epoch 13/100\n",
            "1/1 [==============================] - 0s 16ms/step - loss: 7.4091 - mae: 7.4091\n",
            "Epoch 14/100\n",
            "1/1 [==============================] - 0s 14ms/step - loss: 7.3434 - mae: 7.3434\n",
            "Epoch 15/100\n",
            "1/1 [==============================] - 0s 19ms/step - loss: 7.1632 - mae: 7.1632\n",
            "Epoch 16/100\n",
            "1/1 [==============================] - 0s 20ms/step - loss: 6.9611 - mae: 6.9611\n",
            "Epoch 17/100\n",
            "1/1 [==============================] - 0s 25ms/step - loss: 6.7273 - mae: 6.7273\n",
            "Epoch 18/100\n",
            "1/1 [==============================] - 0s 23ms/step - loss: 6.4681 - mae: 6.4681\n",
            "Epoch 19/100\n",
            "1/1 [==============================] - 0s 13ms/step - loss: 6.2262 - mae: 6.2262\n",
            "Epoch 20/100\n",
            "1/1 [==============================] - 0s 13ms/step - loss: 6.1741 - mae: 6.1741\n",
            "Epoch 21/100\n",
            "1/1 [==============================] - 0s 12ms/step - loss: 6.1182 - mae: 6.1182\n",
            "Epoch 22/100\n",
            "1/1 [==============================] - 0s 13ms/step - loss: 6.2219 - mae: 6.2219\n",
            "Epoch 23/100\n",
            "1/1 [==============================] - 0s 15ms/step - loss: 6.2338 - mae: 6.2338\n",
            "Epoch 24/100\n",
            "1/1 [==============================] - 0s 14ms/step - loss: 6.1402 - mae: 6.1402\n",
            "Epoch 25/100\n",
            "1/1 [==============================] - 0s 14ms/step - loss: 5.9543 - mae: 5.9543\n",
            "Epoch 26/100\n",
            "1/1 [==============================] - 0s 15ms/step - loss: 5.7231 - mae: 5.7231\n",
            "Epoch 27/100\n",
            "1/1 [==============================] - 0s 17ms/step - loss: 5.6231 - mae: 5.6231\n",
            "Epoch 28/100\n",
            "1/1 [==============================] - 0s 13ms/step - loss: 5.5203 - mae: 5.5203\n",
            "Epoch 29/100\n",
            "1/1 [==============================] - 0s 18ms/step - loss: 5.4335 - mae: 5.4335\n",
            "Epoch 30/100\n",
            "1/1 [==============================] - 0s 15ms/step - loss: 5.4045 - mae: 5.4045\n",
            "Epoch 31/100\n",
            "1/1 [==============================] - 0s 14ms/step - loss: 5.3272 - mae: 5.3272\n",
            "Epoch 32/100\n",
            "1/1 [==============================] - 0s 13ms/step - loss: 5.2059 - mae: 5.2059\n",
            "Epoch 33/100\n",
            "1/1 [==============================] - 0s 17ms/step - loss: 5.0446 - mae: 5.0446\n",
            "Epoch 34/100\n",
            "1/1 [==============================] - 0s 17ms/step - loss: 4.9447 - mae: 4.9447\n",
            "Epoch 35/100\n",
            "1/1 [==============================] - 0s 13ms/step - loss: 4.8512 - mae: 4.8512\n",
            "Epoch 36/100\n",
            "1/1 [==============================] - 0s 17ms/step - loss: 4.7513 - mae: 4.7513\n",
            "Epoch 37/100\n",
            "1/1 [==============================] - 0s 18ms/step - loss: 4.6448 - mae: 4.6448\n",
            "Epoch 38/100\n",
            "1/1 [==============================] - 0s 17ms/step - loss: 4.5953 - mae: 4.5953\n",
            "Epoch 39/100\n",
            "1/1 [==============================] - 0s 16ms/step - loss: 4.4264 - mae: 4.4264\n",
            "Epoch 40/100\n",
            "1/1 [==============================] - 0s 16ms/step - loss: 4.2582 - mae: 4.2582\n",
            "Epoch 41/100\n",
            "1/1 [==============================] - 0s 18ms/step - loss: 4.1078 - mae: 4.1078\n",
            "Epoch 42/100\n",
            "1/1 [==============================] - 0s 21ms/step - loss: 3.9804 - mae: 3.9804\n",
            "Epoch 43/100\n",
            "1/1 [==============================] - 0s 18ms/step - loss: 3.8856 - mae: 3.8856\n",
            "Epoch 44/100\n",
            "1/1 [==============================] - 0s 15ms/step - loss: 3.7342 - mae: 3.7342\n",
            "Epoch 45/100\n",
            "1/1 [==============================] - 0s 13ms/step - loss: 3.5299 - mae: 3.5299\n",
            "Epoch 46/100\n",
            "1/1 [==============================] - 0s 18ms/step - loss: 3.3588 - mae: 3.3588\n",
            "Epoch 47/100\n",
            "1/1 [==============================] - 0s 18ms/step - loss: 3.2044 - mae: 3.2044\n",
            "Epoch 48/100\n",
            "1/1 [==============================] - 0s 15ms/step - loss: 3.0790 - mae: 3.0790\n",
            "Epoch 49/100\n",
            "1/1 [==============================] - 0s 18ms/step - loss: 2.8645 - mae: 2.8645\n",
            "Epoch 50/100\n",
            "1/1 [==============================] - 0s 15ms/step - loss: 2.6478 - mae: 2.6478\n",
            "Epoch 51/100\n",
            "1/1 [==============================] - 0s 16ms/step - loss: 2.4936 - mae: 2.4936\n",
            "Epoch 52/100\n",
            "1/1 [==============================] - 0s 14ms/step - loss: 2.3431 - mae: 2.3431\n",
            "Epoch 53/100\n",
            "1/1 [==============================] - 0s 14ms/step - loss: 2.1236 - mae: 2.1236\n",
            "Epoch 54/100\n",
            "1/1 [==============================] - 0s 16ms/step - loss: 1.8388 - mae: 1.8388\n",
            "Epoch 55/100\n",
            "1/1 [==============================] - 0s 17ms/step - loss: 1.5959 - mae: 1.5959\n",
            "Epoch 56/100\n",
            "1/1 [==============================] - 0s 16ms/step - loss: 1.5322 - mae: 1.5322\n",
            "Epoch 57/100\n",
            "1/1 [==============================] - 0s 16ms/step - loss: 1.2902 - mae: 1.2902\n",
            "Epoch 58/100\n",
            "1/1 [==============================] - 0s 16ms/step - loss: 0.8741 - mae: 0.8741\n",
            "Epoch 59/100\n",
            "1/1 [==============================] - 0s 14ms/step - loss: 0.8092 - mae: 0.8092\n",
            "Epoch 60/100\n",
            "1/1 [==============================] - 0s 12ms/step - loss: 0.7665 - mae: 0.7665\n",
            "Epoch 61/100\n",
            "1/1 [==============================] - 0s 14ms/step - loss: 0.3979 - mae: 0.3979\n",
            "Epoch 62/100\n",
            "1/1 [==============================] - 0s 15ms/step - loss: 0.3407 - mae: 0.3407\n",
            "Epoch 63/100\n",
            "1/1 [==============================] - 0s 17ms/step - loss: 0.6233 - mae: 0.6233\n",
            "Epoch 64/100\n",
            "1/1 [==============================] - 0s 13ms/step - loss: 0.6018 - mae: 0.6018\n",
            "Epoch 65/100\n",
            "1/1 [==============================] - 0s 15ms/step - loss: 0.7250 - mae: 0.7250\n",
            "Epoch 66/100\n",
            "1/1 [==============================] - 0s 12ms/step - loss: 0.8128 - mae: 0.8128\n",
            "Epoch 67/100\n",
            "1/1 [==============================] - 0s 14ms/step - loss: 0.7320 - mae: 0.7320\n",
            "Epoch 68/100\n",
            "1/1 [==============================] - 0s 14ms/step - loss: 0.7615 - mae: 0.7615\n",
            "Epoch 69/100\n",
            "1/1 [==============================] - 0s 13ms/step - loss: 0.7365 - mae: 0.7365\n",
            "Epoch 70/100\n",
            "1/1 [==============================] - 0s 17ms/step - loss: 0.5641 - mae: 0.5641\n",
            "Epoch 71/100\n",
            "1/1 [==============================] - 0s 19ms/step - loss: 0.6054 - mae: 0.6054\n",
            "Epoch 72/100\n",
            "1/1 [==============================] - 0s 23ms/step - loss: 0.5135 - mae: 0.5135\n",
            "Epoch 73/100\n",
            "1/1 [==============================] - 0s 16ms/step - loss: 0.2551 - mae: 0.2551\n",
            "Epoch 74/100\n",
            "1/1 [==============================] - 0s 13ms/step - loss: 0.2542 - mae: 0.2542\n",
            "Epoch 75/100\n",
            "1/1 [==============================] - 0s 19ms/step - loss: 0.2904 - mae: 0.2904\n",
            "Epoch 76/100\n",
            "1/1 [==============================] - 0s 20ms/step - loss: 0.2579 - mae: 0.2579\n",
            "Epoch 77/100\n",
            "1/1 [==============================] - 0s 17ms/step - loss: 0.5288 - mae: 0.5288\n",
            "Epoch 78/100\n",
            "1/1 [==============================] - 0s 16ms/step - loss: 0.6087 - mae: 0.6087\n",
            "Epoch 79/100\n",
            "1/1 [==============================] - 0s 14ms/step - loss: 0.4469 - mae: 0.4469\n",
            "Epoch 80/100\n",
            "1/1 [==============================] - 0s 18ms/step - loss: 0.4895 - mae: 0.4895\n",
            "Epoch 81/100\n",
            "1/1 [==============================] - 0s 16ms/step - loss: 0.5674 - mae: 0.5674\n",
            "Epoch 82/100\n",
            "1/1 [==============================] - 0s 20ms/step - loss: 0.4870 - mae: 0.4870\n",
            "Epoch 83/100\n",
            "1/1 [==============================] - 0s 12ms/step - loss: 0.2639 - mae: 0.2639\n",
            "Epoch 84/100\n",
            "1/1 [==============================] - 0s 15ms/step - loss: 0.3056 - mae: 0.3056\n",
            "Epoch 85/100\n",
            "1/1 [==============================] - 0s 14ms/step - loss: 0.3224 - mae: 0.3224\n",
            "Epoch 86/100\n",
            "1/1 [==============================] - 0s 13ms/step - loss: 0.1449 - mae: 0.1449\n",
            "Epoch 87/100\n",
            "1/1 [==============================] - 0s 14ms/step - loss: 0.4272 - mae: 0.4272\n",
            "Epoch 88/100\n",
            "1/1 [==============================] - 0s 15ms/step - loss: 0.5431 - mae: 0.5431\n",
            "Epoch 89/100\n",
            "1/1 [==============================] - 0s 13ms/step - loss: 0.3930 - mae: 0.3930\n",
            "Epoch 90/100\n",
            "1/1 [==============================] - 0s 12ms/step - loss: 0.2460 - mae: 0.2460\n",
            "Epoch 91/100\n",
            "1/1 [==============================] - 0s 12ms/step - loss: 0.3225 - mae: 0.3225\n",
            "Epoch 92/100\n",
            "1/1 [==============================] - 0s 13ms/step - loss: 0.2762 - mae: 0.2762\n",
            "Epoch 93/100\n",
            "1/1 [==============================] - 0s 11ms/step - loss: 0.0293 - mae: 0.0293\n",
            "Epoch 94/100\n",
            "1/1 [==============================] - 0s 13ms/step - loss: 0.0674 - mae: 0.0674\n",
            "Epoch 95/100\n",
            "1/1 [==============================] - 0s 13ms/step - loss: 0.2102 - mae: 0.2102\n",
            "Epoch 96/100\n",
            "1/1 [==============================] - 0s 12ms/step - loss: 0.1447 - mae: 0.1447\n",
            "Epoch 97/100\n",
            "1/1 [==============================] - 0s 13ms/step - loss: 0.2339 - mae: 0.2339\n",
            "Epoch 98/100\n",
            "1/1 [==============================] - 0s 11ms/step - loss: 0.2665 - mae: 0.2665\n",
            "Epoch 99/100\n",
            "1/1 [==============================] - 0s 15ms/step - loss: 0.0739 - mae: 0.0739\n",
            "Epoch 100/100\n",
            "1/1 [==============================] - 0s 12ms/step - loss: 0.3336 - mae: 0.3336\n"
          ]
        },
        {
          "output_type": "execute_result",
          "data": {
            "text/plain": [
              "<keras.src.callbacks.History at 0x7868e076ec50>"
            ]
          },
          "metadata": {},
          "execution_count": 20
        }
      ]
    },
    {
      "cell_type": "code",
      "source": [
        "# Let's remind ourselves of the data\n",
        "X, y"
      ],
      "metadata": {
        "colab": {
          "base_uri": "https://localhost:8080/"
        },
        "id": "dNVVRN8TFUDE",
        "outputId": "f9ffa24c-e8a5-4c52-a041-7fc0169f915e"
      },
      "execution_count": 21,
      "outputs": [
        {
          "output_type": "execute_result",
          "data": {
            "text/plain": [
              "(<tf.Tensor: shape=(8,), dtype=float32, numpy=array([-7., -4., -1.,  2.,  5.,  8., 11., 14.], dtype=float32)>,\n",
              " <tf.Tensor: shape=(8,), dtype=float32, numpy=array([ 3.,  6.,  9., 12., 15., 18., 21., 24.], dtype=float32)>)"
            ]
          },
          "metadata": {},
          "execution_count": 21
        }
      ]
    },
    {
      "cell_type": "code",
      "source": [
        "# Let's try to make a prediction\n",
        "model.predict([17.0])"
      ],
      "metadata": {
        "colab": {
          "base_uri": "https://localhost:8080/"
        },
        "id": "XoAAxQ9WFwxZ",
        "outputId": "cdf55fde-a4cc-4d46-a774-faaaf455b33a"
      },
      "execution_count": 22,
      "outputs": [
        {
          "output_type": "stream",
          "name": "stdout",
          "text": [
            "1/1 [==============================] - 0s 86ms/step\n"
          ]
        },
        {
          "output_type": "execute_result",
          "data": {
            "text/plain": [
              "array([[28.044456]], dtype=float32)"
            ]
          },
          "metadata": {},
          "execution_count": 22
        }
      ]
    },
    {
      "cell_type": "markdown",
      "source": [
        "## Evaluting a model\n",
        "\n",
        "In practice, a typical workflow you'll go through when build neural ntework is :\n",
        "\n",
        "```\n",
        "Build a model -> fit it -> evaliate it -> tweak a model -> fit it -> evaluate it -> tewak a model -> fit it -> evaluate it ...\n",
        "```"
      ],
      "metadata": {
        "id": "WqaevRySJeSs"
      }
    },
    {
      "cell_type": "markdown",
      "source": [
        "When it comes to evaluation.. there are 3 words you should memorize :\n",
        "\n",
        "> \"Visualize, visualize, visualize\"\n",
        "It's good idea to visalize:\n",
        "* The data - what data are we working with ? What does it look like ?\n",
        "* The model itself - what does our model look like ?\n",
        "* The training of a model - how does a model perform whie it learns?\n",
        "* The prediction of the model - how do the predions of a model line up agains the ground truth (the original labels)?"
      ],
      "metadata": {
        "id": "UcmATVxrLg6N"
      }
    },
    {
      "cell_type": "code",
      "source": [
        "# Make a bigger dataset\n",
        "X = tf.range(-100, 100, 4)\n",
        "X"
      ],
      "metadata": {
        "colab": {
          "base_uri": "https://localhost:8080/"
        },
        "id": "cZ3L1y0yJhoy",
        "outputId": "8fab3165-8da7-4b4a-abb4-6515789ad42a"
      },
      "execution_count": 23,
      "outputs": [
        {
          "output_type": "execute_result",
          "data": {
            "text/plain": [
              "<tf.Tensor: shape=(50,), dtype=int32, numpy=\n",
              "array([-100,  -96,  -92,  -88,  -84,  -80,  -76,  -72,  -68,  -64,  -60,\n",
              "        -56,  -52,  -48,  -44,  -40,  -36,  -32,  -28,  -24,  -20,  -16,\n",
              "        -12,   -8,   -4,    0,    4,    8,   12,   16,   20,   24,   28,\n",
              "         32,   36,   40,   44,   48,   52,   56,   60,   64,   68,   72,\n",
              "         76,   80,   84,   88,   92,   96], dtype=int32)>"
            ]
          },
          "metadata": {},
          "execution_count": 23
        }
      ]
    },
    {
      "cell_type": "code",
      "source": [
        "#  Make labels for the dataset\n",
        "y = X + 10\n",
        "y"
      ],
      "metadata": {
        "colab": {
          "base_uri": "https://localhost:8080/"
        },
        "id": "a_2dy3nmMUh4",
        "outputId": "9124cfa8-c762-4fc6-854c-61aae8f29def"
      },
      "execution_count": 24,
      "outputs": [
        {
          "output_type": "execute_result",
          "data": {
            "text/plain": [
              "<tf.Tensor: shape=(50,), dtype=int32, numpy=\n",
              "array([-90, -86, -82, -78, -74, -70, -66, -62, -58, -54, -50, -46, -42,\n",
              "       -38, -34, -30, -26, -22, -18, -14, -10,  -6,  -2,   2,   6,  10,\n",
              "        14,  18,  22,  26,  30,  34,  38,  42,  46,  50,  54,  58,  62,\n",
              "        66,  70,  74,  78,  82,  86,  90,  94,  98, 102, 106], dtype=int32)>"
            ]
          },
          "metadata": {},
          "execution_count": 24
        }
      ]
    },
    {
      "cell_type": "code",
      "source": [
        "# Visualize the data\n",
        "import matplotlib.pyplot as plt\n",
        "\n",
        "# plt.plot(X, y)\n",
        "plt.scatter(X, y)"
      ],
      "metadata": {
        "colab": {
          "base_uri": "https://localhost:8080/",
          "height": 448
        },
        "id": "jw2LhE7UMfcm",
        "outputId": "bfb9af16-6d88-4cb9-894e-326bcd107c14"
      },
      "execution_count": 25,
      "outputs": [
        {
          "output_type": "execute_result",
          "data": {
            "text/plain": [
              "<matplotlib.collections.PathCollection at 0x7868e06c5780>"
            ]
          },
          "metadata": {},
          "execution_count": 25
        },
        {
          "output_type": "display_data",
          "data": {
            "text/plain": [
              "<Figure size 640x480 with 1 Axes>"
            ],
            "image/png": "[encoded data removed]"
          },
          "metadata": {}
        }
      ]
    },
    {
      "cell_type": "markdown",
      "source": [
        "### The 3 sets...\n",
        "\n",
        "* **Training set** - the model learns from this data, which is typically 70-80% of the total data you have available.\n",
        "\n",
        "* **Validation set** - the model gets tuned on this data, whic is typically 10-15% of the data availbale.\n",
        "\n",
        "* **Test set** - the model gets evaluated on this data to test what is has learned, this set is typically 10-15% of the total data available.\n"
      ],
      "metadata": {
        "id": "5nwt_WrNM6m1"
      }
    },
    {
      "cell_type": "code",
      "source": [
        "# Check the length of how many sample we have\n",
        "len(X)"
      ],
      "metadata": {
        "colab": {
          "base_uri": "https://localhost:8080/"
        },
        "id": "b3vf4yTYOknn",
        "outputId": "de4eb767-006f-4a74-98b2-d23851ba9202"
      },
      "execution_count": 26,
      "outputs": [
        {
          "output_type": "execute_result",
          "data": {
            "text/plain": [
              "50"
            ]
          },
          "metadata": {},
          "execution_count": 26
        }
      ]
    },
    {
      "cell_type": "code",
      "source": [
        "#  Split the data into train and test sets\n",
        "X_train = X[:40] # first 40 are training samples (80% of the data)\n",
        "y_train = y[:40]\n",
        "\n",
        "# labels\n",
        "X_test = X[40:] # last 10 are testing samples (20% of the data)\n",
        "y_test = y[40:]\n",
        "\n",
        "len(X_train), len(X_test), len(y_train), len(y_test)"
      ],
      "metadata": {
        "colab": {
          "base_uri": "https://localhost:8080/"
        },
        "id": "jYNTC9s1PCeA",
        "outputId": "afdfe783-8da4-4f91-ebb0-6d8efb6036d5"
      },
      "execution_count": 27,
      "outputs": [
        {
          "output_type": "execute_result",
          "data": {
            "text/plain": [
              "(40, 10, 40, 10)"
            ]
          },
          "metadata": {},
          "execution_count": 27
        }
      ]
    },
    {
      "cell_type": "markdown",
      "source": [
        "### Visualizing the data\n",
        "\n",
        "Now, we've got our data in training and test sets... let's visualize it again!"
      ],
      "metadata": {
        "id": "p62AjtXLQEa4"
      }
    },
    {
      "cell_type": "code",
      "source": [
        "plt.figure(figsize=(10, 7))\n",
        "# Plot training data in blue\n",
        "plt.scatter(X_train, y_train, c=\"b\", label=\"Training data\")\n",
        "# Plot test data in green\n",
        "plt.scatter(X_test, y_test, c=\"g\", label=\"Testing data\")\n",
        "# Show a legend\n",
        "plt.legend();"
      ],
      "metadata": {
        "colab": {
          "base_uri": "https://localhost:8080/",
          "height": 599
        },
        "id": "gLn7ImjtP9y6",
        "outputId": "b33f6617-1634-4aeb-a679-a1a4d3c6a154"
      },
      "execution_count": 28,
      "outputs": [
        {
          "output_type": "display_data",
          "data": {
            "text/plain": [
              "<Figure size 1000x700 with 1 Axes>"
            ],
            "image/png": "[encoded data removed]"
          },
          "metadata": {}
        }
      ]
    },
    {
      "cell_type": "code",
      "source": [
        "# Let's have a look at how to build a neural network for our data\n",
        "\n",
        "# 1. Create a model\n",
        "model = tf.keras.Sequential([\n",
        "    tf.keras.layers.Dense(1)\n",
        "])\n",
        "\n",
        "# 2. Compile the model\n",
        "model.compile(loss=\"mae\",\n",
        "              optimizer=tf.keras.optimizers.SGD(),\n",
        "              metrics=['mae'])\n",
        "\n",
        "# 3. Fit the model\n",
        "# model.fit(X_train, y_train epochs=100)"
      ],
      "metadata": {
        "id": "bJ6lUYFFQ6Ym"
      },
      "execution_count": 29,
      "outputs": []
    },
    {
      "cell_type": "markdown",
      "source": [
        "## Visualinzing the model\n"
      ],
      "metadata": {
        "id": "gr5QNX1JWBe-"
      }
    },
    {
      "cell_type": "code",
      "source": [
        "# model.summary()"
      ],
      "metadata": {
        "id": "kCRSR7HYWJhq"
      },
      "execution_count": 30,
      "outputs": []
    },
    {
      "cell_type": "code",
      "source": [
        "# X.shape\n",
        "X[0], y[0]"
      ],
      "metadata": {
        "colab": {
          "base_uri": "https://localhost:8080/"
        },
        "id": "PqrIkJKLW0qz",
        "outputId": "ba7b945e-4785-42a6-a902-937710e71abd"
      },
      "execution_count": 31,
      "outputs": [
        {
          "output_type": "execute_result",
          "data": {
            "text/plain": [
              "(<tf.Tensor: shape=(), dtype=int32, numpy=-100>,\n",
              " <tf.Tensor: shape=(), dtype=int32, numpy=-90>)"
            ]
          },
          "metadata": {},
          "execution_count": 31
        }
      ]
    },
    {
      "cell_type": "code",
      "source": [
        "# Let's create a model which builds models automatically by defining the shape argument\n",
        "tf.random.set_seed(42)\n",
        "\n",
        "# Create a model (same as above)\n",
        "# Dense = same as fully connected layer\n",
        "# Fundamentals of neural network Weights and Biases\n",
        "model = tf.keras.Sequential([\n",
        "    tf.keras.layers.Dense(10, input_shape=[1], name=\"input_layer\"), # because one input and one output X[0], y[0]\n",
        "    tf.keras.layers.Dense(1, name=\"output_layer\")\n",
        "], name=\"model_1\")\n",
        "\n",
        "# 2. Compile the model (same as above)\n",
        "model.compile(loss=tf.keras.losses.mae,\n",
        "              optimizer=tf.keras.optimizers.SGD(),\n",
        "              metrics=[\"mae\"])"
      ],
      "metadata": {
        "id": "ujG_KldgWTrZ"
      },
      "execution_count": 32,
      "outputs": []
    },
    {
      "cell_type": "code",
      "source": [
        "model.summary()"
      ],
      "metadata": {
        "colab": {
          "base_uri": "https://localhost:8080/"
        },
        "id": "b5NNgxaHXlOK",
        "outputId": "aeb6bd89-0550-4c19-cca1-76942a57837b"
      },
      "execution_count": 33,
      "outputs": [
        {
          "output_type": "stream",
          "name": "stdout",
          "text": [
            "Model: \"model_1\"\n",
            "_________________________________________________________________\n",
            " Layer (type)                Output Shape              Param #   \n",
            "=================================================================\n",
            " input_layer (Dense)         (None, 10)                20        \n",
            "                                                                 \n",
            " output_layer (Dense)        (None, 1)                 11        \n",
            "                                                                 \n",
            "=================================================================\n",
            "Total params: 31 (124.00 Byte)\n",
            "Trainable params: 31 (124.00 Byte)\n",
            "Non-trainable params: 0 (0.00 Byte)\n",
            "_________________________________________________________________\n"
          ]
        }
      ]
    },
    {
      "cell_type": "markdown",
      "source": [
        "* Total params - total number of parameters in the model. (X and y)\n",
        "* Trainable parameters - these are the parameters (patterns) the model can update as it trains.\n",
        "* Non-trainable params - these parameters aren't updated during training (this is typical when you bring in already learn patterns or paramters from other models during **transfer learning**).\n",
        "\n"
      ],
      "metadata": {
        "id": "-SnwDjbUX_3u"
      }
    },
    {
      "cell_type": "code",
      "source": [
        "#  Let's fit our model to the training data\n",
        "model.fit(X_train, y_train, epochs=100, verbose=0)"
      ],
      "metadata": {
        "colab": {
          "base_uri": "https://localhost:8080/"
        },
        "id": "ZVlQw9g5Y2MM",
        "outputId": "3205f84d-fc72-4e2b-998f-44035aca7ad5"
      },
      "execution_count": 34,
      "outputs": [
        {
          "output_type": "execute_result",
          "data": {
            "text/plain": [
              "<keras.src.callbacks.History at 0x7868e056cbb0>"
            ]
          },
          "metadata": {},
          "execution_count": 34
        }
      ]
    },
    {
      "cell_type": "code",
      "source": [
        "# Get a summary of our model\n",
        "model.summary()"
      ],
      "metadata": {
        "colab": {
          "base_uri": "https://localhost:8080/"
        },
        "id": "zMQZHYzrbFPL",
        "outputId": "16f88864-ecd0-4e43-9c3d-16749dfd45e6"
      },
      "execution_count": 35,
      "outputs": [
        {
          "output_type": "stream",
          "name": "stdout",
          "text": [
            "Model: \"model_1\"\n",
            "_________________________________________________________________\n",
            " Layer (type)                Output Shape              Param #   \n",
            "=================================================================\n",
            " input_layer (Dense)         (None, 10)                20        \n",
            "                                                                 \n",
            " output_layer (Dense)        (None, 1)                 11        \n",
            "                                                                 \n",
            "=================================================================\n",
            "Total params: 31 (124.00 Byte)\n",
            "Trainable params: 31 (124.00 Byte)\n",
            "Non-trainable params: 0 (0.00 Byte)\n",
            "_________________________________________________________________\n"
          ]
        }
      ]
    },
    {
      "cell_type": "code",
      "source": [
        "from tensorflow.keras.utils import plot_model\n",
        "\n",
        "plot_model(model=model, show_shapes=True)"
      ],
      "metadata": {
        "colab": {
          "base_uri": "https://localhost:8080/",
          "height": 312
        },
        "id": "3R8_Gj2nefjV",
        "outputId": "33378423-3c45-4e10-8751-b73bfa5acb4a"
      },
      "execution_count": 36,
      "outputs": [
        {
          "output_type": "execute_result",
          "data": {
            "image/png": "[encoded data removed]",
            "text/plain": [
              "<IPython.core.display.Image object>"
            ]
          },
          "metadata": {},
          "execution_count": 36
        }
      ]
    },
    {
      "cell_type": "markdown",
      "source": [
        "### Visualizing our model's prediction\n",
        "\n",
        "To visualize predictions it's a good idea to plot them agains the ground truth labels.\n",
        "\n",
        "Often you'll see this in the form of y_test or y_true versus y_pred (ground truth versus your model;s predictions)\n"
      ],
      "metadata": {
        "id": "zHbE2a5rgaTz"
      }
    },
    {
      "cell_type": "code",
      "source": [
        "# Make some predictions\n",
        "y_pred = model.predict(X_test)\n",
        "y_pred"
      ],
      "metadata": {
        "colab": {
          "base_uri": "https://localhost:8080/"
        },
        "id": "r0MkTDpl4ELT",
        "outputId": "c3d4fc4e-85da-406b-d8ab-4c8b255c274c"
      },
      "execution_count": 37,
      "outputs": [
        {
          "output_type": "stream",
          "name": "stdout",
          "text": [
            "1/1 [==============================] - 0s 73ms/step\n"
          ]
        },
        {
          "output_type": "execute_result",
          "data": {
            "text/plain": [
              "array([[ 70.498215],\n",
              "       [ 75.08167 ],\n",
              "       [ 79.66513 ],\n",
              "       [ 84.24859 ],\n",
              "       [ 88.83205 ],\n",
              "       [ 93.41551 ],\n",
              "       [ 97.99896 ],\n",
              "       [102.58242 ],\n",
              "       [107.16588 ],\n",
              "       [111.74934 ]], dtype=float32)"
            ]
          },
          "metadata": {},
          "execution_count": 37
        }
      ]
    },
    {
      "cell_type": "code",
      "source": [
        "y_test"
      ],
      "metadata": {
        "colab": {
          "base_uri": "https://localhost:8080/"
        },
        "id": "kBHKslUi4aHd",
        "outputId": "e8b58d6e-935e-4866-be03-daa915ac2f89"
      },
      "execution_count": 38,
      "outputs": [
        {
          "output_type": "execute_result",
          "data": {
            "text/plain": [
              "<tf.Tensor: shape=(10,), dtype=int32, numpy=array([ 70,  74,  78,  82,  86,  90,  94,  98, 102, 106], dtype=int32)>"
            ]
          },
          "metadata": {},
          "execution_count": 38
        }
      ]
    },
    {
      "cell_type": "markdown",
      "source": [
        "**Note:** if you feel like you-re going to reuse some kind of functionality in the future, it's a good idea to\n",
        "turn into a function"
      ],
      "metadata": {
        "id": "i037oyEV6suP"
      }
    },
    {
      "cell_type": "code",
      "source": [
        "# Let's create a plotting function\n",
        "def plot_predictions(train_data=X_train,\n",
        "                     train_labels=y_train,\n",
        "                     test_data=X_test,\n",
        "                     test_labels=y_test,\n",
        "                     predictions=y_pred):\n",
        "  \"\"\"\n",
        "  Plots training data, test data and compares predictions to ground truth labels.\n",
        "  \"\"\"\n",
        "  plt.figure(figsize=(10, 7))\n",
        "  # Plot training data in blue\n",
        "  plt.scatter(train_data, train_labels, c=\"b\", label=\"Training data\")\n",
        "  # Plot testing data in green\n",
        "  plt.scatter(test_data, test_labels, c=\"g\", label=\"Testing data\")\n",
        "  # Plot model's preditions in red\n",
        "  plt.scatter(test_data, predictions, c=\"r\", label=\"Predictions\")\n",
        "  # Show the legend\n",
        "  plt.legend();\n"
      ],
      "metadata": {
        "id": "9p2-tTX36jlQ"
      },
      "execution_count": 39,
      "outputs": []
    },
    {
      "cell_type": "code",
      "source": [
        "plot_predictions(train_data=X_train,\n",
        "                 train_labels=y_train,\n",
        "                 test_data=X_test,\n",
        "                 test_labels=y_test,\n",
        "                 predictions=y_pred)"
      ],
      "metadata": {
        "colab": {
          "base_uri": "https://localhost:8080/",
          "height": 599
        },
        "id": "2jCaxNfB88zN",
        "outputId": "5b961808-58f4-4e04-a9f9-e7fcb91061a2"
      },
      "execution_count": 40,
      "outputs": [
        {
          "output_type": "display_data",
          "data": {
            "text/plain": [
              "<Figure size 1000x700 with 1 Axes>"
            ],
            "image/png": "[encoded data removed]"
          },
          "metadata": {}
        }
      ]
    },
    {
      "cell_type": "markdown",
      "source": [
        "### Evaluating our model's preditions with regression evaluation metrics\n",
        "\n",
        "Depending on the problem you're working on, there will be different evaluation metrics to evaluate your model's\n",
        "\n",
        "Since we're working on a regression, two of the main metrics:\n",
        "* MAE - mean absolute error, \"on average, how wrong is each of my model;s preditions\"\n",
        "* MSE - mean square error, \"square the average errors\""
      ],
      "metadata": {
        "id": "fcR_qdC_-OT2"
      }
    },
    {
      "cell_type": "code",
      "source": [
        "# Evaluate the model on the test\n",
        "model.evaluate(X_test, y_test)"
      ],
      "metadata": {
        "colab": {
          "base_uri": "https://localhost:8080/"
        },
        "id": "9JZXsvwc-ULo",
        "outputId": "1b8a20c5-f100-4389-b2ed-3c73c16d1ec3"
      },
      "execution_count": 41,
      "outputs": [
        {
          "output_type": "stream",
          "name": "stdout",
          "text": [
            "1/1 [==============================] - 0s 188ms/step - loss: 3.1238 - mae: 3.1238\n"
          ]
        },
        {
          "output_type": "execute_result",
          "data": {
            "text/plain": [
              "[3.123772382736206, 3.123772382736206]"
            ]
          },
          "metadata": {},
          "execution_count": 41
        }
      ]
    },
    {
      "cell_type": "code",
      "source": [
        "# Calculate the maen absolute error\n",
        "mae = tf.metrics.mean_absolute_error(y_true=y_test, y_pred=tf.constant(y_pred))\n",
        "mae"
      ],
      "metadata": {
        "colab": {
          "base_uri": "https://localhost:8080/"
        },
        "id": "ZoxFDXwXjt6G",
        "outputId": "34b25754-8cb3-4d56-b744-54e4a4d06c8d"
      },
      "execution_count": 42,
      "outputs": [
        {
          "output_type": "execute_result",
          "data": {
            "text/plain": [
              "<tf.Tensor: shape=(10,), dtype=float32, numpy=\n",
              "array([17.601429, 14.150996, 11.733948, 10.350283, 10.      , 10.683103,\n",
              "       12.399585, 15.265936, 19.165878, 23.749336], dtype=float32)>"
            ]
          },
          "metadata": {},
          "execution_count": 42
        }
      ]
    },
    {
      "cell_type": "code",
      "source": [
        "# tf.constant to make tensor format\n",
        "tf.constant(y_pred)"
      ],
      "metadata": {
        "colab": {
          "base_uri": "https://localhost:8080/"
        },
        "id": "-Gsx6sJNjnxh",
        "outputId": "2f2ee810-855f-4852-89de-6bccb80e0c40"
      },
      "execution_count": 43,
      "outputs": [
        {
          "output_type": "execute_result",
          "data": {
            "text/plain": [
              "<tf.Tensor: shape=(10, 1), dtype=float32, numpy=\n",
              "array([[ 70.498215],\n",
              "       [ 75.08167 ],\n",
              "       [ 79.66513 ],\n",
              "       [ 84.24859 ],\n",
              "       [ 88.83205 ],\n",
              "       [ 93.41551 ],\n",
              "       [ 97.99896 ],\n",
              "       [102.58242 ],\n",
              "       [107.16588 ],\n",
              "       [111.74934 ]], dtype=float32)>"
            ]
          },
          "metadata": {},
          "execution_count": 43
        }
      ]
    },
    {
      "cell_type": "code",
      "source": [
        "y_test"
      ],
      "metadata": {
        "colab": {
          "base_uri": "https://localhost:8080/"
        },
        "id": "wkutOWgMjq_y",
        "outputId": "7efd11ba-697e-403a-ef46-745050764935"
      },
      "execution_count": 44,
      "outputs": [
        {
          "output_type": "execute_result",
          "data": {
            "text/plain": [
              "<tf.Tensor: shape=(10,), dtype=int32, numpy=array([ 70,  74,  78,  82,  86,  90,  94,  98, 102, 106], dtype=int32)>"
            ]
          },
          "metadata": {},
          "execution_count": 44
        }
      ]
    },
    {
      "cell_type": "code",
      "source": [
        "# Remove shape dimension ,1 to make same shape\n",
        "tf.squeeze(y_pred)"
      ],
      "metadata": {
        "colab": {
          "base_uri": "https://localhost:8080/"
        },
        "id": "-5pc6urIjspm",
        "outputId": "4fd5ad9f-2a26-436d-d345-2bc0a0778cb3"
      },
      "execution_count": 45,
      "outputs": [
        {
          "output_type": "execute_result",
          "data": {
            "text/plain": [
              "<tf.Tensor: shape=(10,), dtype=float32, numpy=\n",
              "array([ 70.498215,  75.08167 ,  79.66513 ,  84.24859 ,  88.83205 ,\n",
              "        93.41551 ,  97.99896 , 102.58242 , 107.16588 , 111.74934 ],\n",
              "      dtype=float32)>"
            ]
          },
          "metadata": {},
          "execution_count": 45
        }
      ]
    },
    {
      "cell_type": "code",
      "source": [
        "# Calcluate the mean absolute error\n",
        "mae = tf.metrics.mean_absolute_error(y_true=y_test,\n",
        "                                     y_pred=tf.squeeze(y_pred))\n",
        "mae"
      ],
      "metadata": {
        "colab": {
          "base_uri": "https://localhost:8080/"
        },
        "id": "viNZ-0FuluxG",
        "outputId": "2aedf932-1714-4aa6-baec-145c16d637af"
      },
      "execution_count": 46,
      "outputs": [
        {
          "output_type": "execute_result",
          "data": {
            "text/plain": [
              "<tf.Tensor: shape=(), dtype=float32, numpy=3.1237762>"
            ]
          },
          "metadata": {},
          "execution_count": 46
        }
      ]
    },
    {
      "cell_type": "code",
      "source": [
        "# Calculate the mean square error\n",
        "mse = tf.metrics.mean_squared_error(y_true=y_test,\n",
        "                                    y_pred=tf.squeeze(y_pred))\n",
        "mse"
      ],
      "metadata": {
        "colab": {
          "base_uri": "https://localhost:8080/"
        },
        "id": "97ZLur6CmQZH",
        "outputId": "98a51897-fc20-4546-e816-9c9711511020"
      },
      "execution_count": 47,
      "outputs": [
        {
          "output_type": "execute_result",
          "data": {
            "text/plain": [
              "<tf.Tensor: shape=(), dtype=float32, numpy=12.566469>"
            ]
          },
          "metadata": {},
          "execution_count": 47
        }
      ]
    },
    {
      "cell_type": "code",
      "source": [
        "# Make some functions to reuse MAE and MSE\n",
        "def mae(y_true, y_pred):\n",
        "  return tf.metrics.mean_absolute_error(y_true=y_true,\n",
        "                                        y_pred=tf.squeeze(y_pred))\n",
        "\n",
        "def mse(y_true, y_pred):\n",
        "  return tf.metrics.mean_squared_error(y_true=y_true,\n",
        "                                       y_pred=tf.squeeze(y_pred))"
      ],
      "metadata": {
        "id": "3tozQMLbmkQy"
      },
      "execution_count": 48,
      "outputs": []
    },
    {
      "cell_type": "markdown",
      "source": [
        "### Running experiments to improve our model\n",
        "\n",
        "```\n",
        "Build a model -> fit it -> evaluate it -> tweak it -> fit it -> evaluate it -> tweak it ->fit it -> evaluate it ...\n",
        "```\n",
        "\n",
        "1. Get more data - get more example for your mode to train on(more opportunites to learn patterns or realtionship between features and labels).\n",
        "\n",
        "2. Make your model larger (using a more complex model) - this migh come in the form of more layers or more hidden units in each layer.\n",
        "\n",
        "3. Train for longer - give your model of a chance to find patterns in the data\n",
        "\n",
        "Let's do 3 modelling experiments:\n",
        "\n",
        "1. `model_1` - same as the original model, 1 layer, trained for 100 epochs.\n",
        "2. `model_2` - 2 layeres, trained for 100 epochs.\n",
        "3. `model_3` - 2 layers, trained for 500 epochs.\n",
        "\n",
        "***Build model_1***"
      ],
      "metadata": {
        "id": "-irS8B9V1yfG"
      }
    },
    {
      "cell_type": "code",
      "source": [
        "# X_train, y_train\n",
        "# Set random seed\n",
        "tf.random.set_seed(42)\n",
        "\n",
        "# 1. Create a model\n",
        "model_1 = tf.keras.Sequential([\n",
        "    tf.keras.layers.Dense(1)\n",
        "])\n",
        "\n",
        "# 2. Compile the model\n",
        "model_1.compile(loss=\"mae\",\n",
        "              optimizer=tf.keras.optimizers.SGD(),\n",
        "              metrics=['mae'])\n",
        "\n",
        "# 3. Fit the model\n",
        "model_1.fit(tf.expand_dims(X_train, axis=-1), y_train, epochs=100)"
      ],
      "metadata": {
        "colab": {
          "base_uri": "https://localhost:8080/"
        },
        "id": "u2hMpRh42DN2",
        "outputId": "272d3b26-a904-4175-fd0d-c8c46dcfd151"
      },
      "execution_count": 49,
      "outputs": [
        {
          "output_type": "stream",
          "name": "stdout",
          "text": [
            "Epoch 1/100\n",
            "2/2 [==============================] - 0s 14ms/step - loss: 89.3773 - mae: 89.3773\n",
            "Epoch 2/100\n",
            "2/2 [==============================] - 0s 9ms/step - loss: 53.9218 - mae: 53.9218\n",
            "Epoch 3/100\n",
            "2/2 [==============================] - 0s 13ms/step - loss: 17.9073 - mae: 17.9073\n",
            "Epoch 4/100\n",
            "2/2 [==============================] - 0s 8ms/step - loss: 10.0176 - mae: 10.0176\n",
            "Epoch 5/100\n",
            "2/2 [==============================] - 0s 12ms/step - loss: 11.3394 - mae: 11.3394\n",
            "Epoch 6/100\n",
            "2/2 [==============================] - 0s 8ms/step - loss: 10.4651 - mae: 10.4651\n",
            "Epoch 7/100\n",
            "2/2 [==============================] - 0s 10ms/step - loss: 9.4389 - mae: 9.4389\n",
            "Epoch 8/100\n",
            "2/2 [==============================] - 0s 9ms/step - loss: 9.3029 - mae: 9.3029\n",
            "Epoch 9/100\n",
            "2/2 [==============================] - 0s 9ms/step - loss: 12.0183 - mae: 12.0183\n",
            "Epoch 10/100\n",
            "2/2 [==============================] - 0s 9ms/step - loss: 13.9904 - mae: 13.9904\n",
            "Epoch 11/100\n",
            "2/2 [==============================] - 0s 8ms/step - loss: 12.1438 - mae: 12.1438\n",
            "Epoch 12/100\n",
            "2/2 [==============================] - 0s 9ms/step - loss: 16.0183 - mae: 16.0183\n",
            "Epoch 13/100\n",
            "2/2 [==============================] - 0s 11ms/step - loss: 11.6785 - mae: 11.6785\n",
            "Epoch 14/100\n",
            "2/2 [==============================] - 0s 9ms/step - loss: 13.5104 - mae: 13.5104\n",
            "Epoch 15/100\n",
            "2/2 [==============================] - 0s 10ms/step - loss: 10.8244 - mae: 10.8244\n",
            "Epoch 16/100\n",
            "2/2 [==============================] - 0s 8ms/step - loss: 8.5543 - mae: 8.5543\n",
            "Epoch 17/100\n",
            "2/2 [==============================] - 0s 9ms/step - loss: 13.6414 - mae: 13.6414\n",
            "Epoch 18/100\n",
            "2/2 [==============================] - 0s 9ms/step - loss: 11.4645 - mae: 11.4645\n",
            "Epoch 19/100\n",
            "2/2 [==============================] - 0s 9ms/step - loss: 17.9632 - mae: 17.9632\n",
            "Epoch 20/100\n",
            "2/2 [==============================] - 0s 9ms/step - loss: 15.0975 - mae: 15.0975\n",
            "Epoch 21/100\n",
            "2/2 [==============================] - 0s 14ms/step - loss: 11.0681 - mae: 11.0681\n",
            "Epoch 22/100\n",
            "2/2 [==============================] - 0s 11ms/step - loss: 8.2029 - mae: 8.2029\n",
            "Epoch 23/100\n",
            "2/2 [==============================] - 0s 12ms/step - loss: 9.5232 - mae: 9.5232\n",
            "Epoch 24/100\n",
            "2/2 [==============================] - 0s 9ms/step - loss: 7.6941 - mae: 7.6941\n",
            "Epoch 25/100\n",
            "2/2 [==============================] - 0s 13ms/step - loss: 13.1599 - mae: 13.1599\n",
            "Epoch 26/100\n",
            "2/2 [==============================] - 0s 9ms/step - loss: 16.4685 - mae: 16.4685\n",
            "Epoch 27/100\n",
            "2/2 [==============================] - 0s 11ms/step - loss: 13.2101 - mae: 13.2101\n",
            "Epoch 28/100\n",
            "2/2 [==============================] - 0s 13ms/step - loss: 14.3076 - mae: 14.3076\n",
            "Epoch 29/100\n",
            "2/2 [==============================] - 0s 9ms/step - loss: 10.1005 - mae: 10.1005\n",
            "Epoch 30/100\n",
            "2/2 [==============================] - 0s 9ms/step - loss: 16.4027 - mae: 16.4027\n",
            "Epoch 31/100\n",
            "2/2 [==============================] - 0s 8ms/step - loss: 23.6080 - mae: 23.6080\n",
            "Epoch 32/100\n",
            "2/2 [==============================] - 0s 9ms/step - loss: 7.6413 - mae: 7.6413\n",
            "Epoch 33/100\n",
            "2/2 [==============================] - 0s 10ms/step - loss: 9.3388 - mae: 9.3388\n",
            "Epoch 34/100\n",
            "2/2 [==============================] - 0s 9ms/step - loss: 13.7211 - mae: 13.7211\n",
            "Epoch 35/100\n",
            "2/2 [==============================] - 0s 10ms/step - loss: 11.1709 - mae: 11.1709\n",
            "Epoch 36/100\n",
            "2/2 [==============================] - 0s 9ms/step - loss: 13.3772 - mae: 13.3772\n",
            "Epoch 37/100\n",
            "2/2 [==============================] - 0s 11ms/step - loss: 9.4879 - mae: 9.4879\n",
            "Epoch 38/100\n",
            "2/2 [==============================] - 0s 10ms/step - loss: 10.1450 - mae: 10.1450\n",
            "Epoch 39/100\n",
            "2/2 [==============================] - 0s 10ms/step - loss: 10.2229 - mae: 10.2229\n",
            "Epoch 40/100\n",
            "2/2 [==============================] - 0s 10ms/step - loss: 10.9609 - mae: 10.9609\n",
            "Epoch 41/100\n",
            "2/2 [==============================] - 0s 10ms/step - loss: 7.9517 - mae: 7.9517\n",
            "Epoch 42/100\n",
            "2/2 [==============================] - 0s 10ms/step - loss: 10.1008 - mae: 10.1008\n",
            "Epoch 43/100\n",
            "2/2 [==============================] - 0s 10ms/step - loss: 8.7201 - mae: 8.7201\n",
            "Epoch 44/100\n",
            "2/2 [==============================] - 0s 12ms/step - loss: 12.1942 - mae: 12.1942\n",
            "Epoch 45/100\n",
            "2/2 [==============================] - 0s 10ms/step - loss: 13.8484 - mae: 13.8484\n",
            "Epoch 46/100\n",
            "2/2 [==============================] - 0s 10ms/step - loss: 8.5156 - mae: 8.5156\n",
            "Epoch 47/100\n",
            "2/2 [==============================] - 0s 10ms/step - loss: 9.1441 - mae: 9.1441\n",
            "Epoch 48/100\n",
            "2/2 [==============================] - 0s 11ms/step - loss: 10.6240 - mae: 10.6240\n",
            "Epoch 49/100\n",
            "2/2 [==============================] - 0s 8ms/step - loss: 7.7620 - mae: 7.7620\n",
            "Epoch 50/100\n",
            "2/2 [==============================] - 0s 12ms/step - loss: 9.5464 - mae: 9.5464\n",
            "Epoch 51/100\n",
            "2/2 [==============================] - 0s 9ms/step - loss: 9.1796 - mae: 9.1796\n",
            "Epoch 52/100\n",
            "2/2 [==============================] - 0s 8ms/step - loss: 16.3282 - mae: 16.3282\n",
            "Epoch 53/100\n",
            "2/2 [==============================] - 0s 8ms/step - loss: 14.1681 - mae: 14.1681\n",
            "Epoch 54/100\n",
            "2/2 [==============================] - 0s 8ms/step - loss: 21.1859 - mae: 21.1859\n",
            "Epoch 55/100\n",
            "2/2 [==============================] - 0s 10ms/step - loss: 16.3704 - mae: 16.3704\n",
            "Epoch 56/100\n",
            "2/2 [==============================] - 0s 14ms/step - loss: 10.0310 - mae: 10.0310\n",
            "Epoch 57/100\n",
            "2/2 [==============================] - 0s 8ms/step - loss: 9.9688 - mae: 9.9688\n",
            "Epoch 58/100\n",
            "2/2 [==============================] - 0s 8ms/step - loss: 9.2324 - mae: 9.2324\n",
            "Epoch 59/100\n",
            "2/2 [==============================] - 0s 11ms/step - loss: 8.4319 - mae: 8.4319\n",
            "Epoch 60/100\n",
            "2/2 [==============================] - 0s 10ms/step - loss: 9.5014 - mae: 9.5014\n",
            "Epoch 61/100\n",
            "2/2 [==============================] - 0s 9ms/step - loss: 11.4370 - mae: 11.4370\n",
            "Epoch 62/100\n",
            "2/2 [==============================] - 0s 8ms/step - loss: 11.7403 - mae: 11.7403\n",
            "Epoch 63/100\n",
            "2/2 [==============================] - 0s 9ms/step - loss: 7.1023 - mae: 7.1023\n",
            "Epoch 64/100\n",
            "2/2 [==============================] - 0s 9ms/step - loss: 17.0160 - mae: 17.0160\n",
            "Epoch 65/100\n",
            "2/2 [==============================] - 0s 8ms/step - loss: 12.5043 - mae: 12.5043\n",
            "Epoch 66/100\n",
            "2/2 [==============================] - 0s 8ms/step - loss: 13.0692 - mae: 13.0692\n",
            "Epoch 67/100\n",
            "2/2 [==============================] - 0s 9ms/step - loss: 8.0975 - mae: 8.0975\n",
            "Epoch 68/100\n",
            "2/2 [==============================] - 0s 9ms/step - loss: 10.2309 - mae: 10.2309\n",
            "Epoch 69/100\n",
            "2/2 [==============================] - 0s 8ms/step - loss: 12.4169 - mae: 12.4169\n",
            "Epoch 70/100\n",
            "2/2 [==============================] - 0s 13ms/step - loss: 9.0638 - mae: 9.0638\n",
            "Epoch 71/100\n",
            "2/2 [==============================] - 0s 14ms/step - loss: 10.0475 - mae: 10.0475\n",
            "Epoch 72/100\n",
            "2/2 [==============================] - 0s 13ms/step - loss: 10.0651 - mae: 10.0651\n",
            "Epoch 73/100\n",
            "2/2 [==============================] - 0s 11ms/step - loss: 12.6108 - mae: 12.6108\n",
            "Epoch 74/100\n",
            "2/2 [==============================] - 0s 10ms/step - loss: 10.4363 - mae: 10.4363\n",
            "Epoch 75/100\n",
            "2/2 [==============================] - 0s 11ms/step - loss: 9.7336 - mae: 9.7336\n",
            "Epoch 76/100\n",
            "2/2 [==============================] - 0s 11ms/step - loss: 11.2314 - mae: 11.2314\n",
            "Epoch 77/100\n",
            "2/2 [==============================] - 0s 10ms/step - loss: 8.3747 - mae: 8.3747\n",
            "Epoch 78/100\n",
            "2/2 [==============================] - 0s 9ms/step - loss: 9.1290 - mae: 9.1290\n",
            "Epoch 79/100\n",
            "2/2 [==============================] - 0s 10ms/step - loss: 19.5638 - mae: 19.5638\n",
            "Epoch 80/100\n",
            "2/2 [==============================] - 0s 9ms/step - loss: 14.8746 - mae: 14.8746\n",
            "Epoch 81/100\n",
            "2/2 [==============================] - 0s 9ms/step - loss: 9.0620 - mae: 9.0620\n",
            "Epoch 82/100\n",
            "2/2 [==============================] - 0s 9ms/step - loss: 13.0091 - mae: 13.0091\n",
            "Epoch 83/100\n",
            "2/2 [==============================] - 0s 9ms/step - loss: 7.9359 - mae: 7.9359\n",
            "Epoch 84/100\n",
            "2/2 [==============================] - 0s 9ms/step - loss: 7.7222 - mae: 7.7222\n",
            "Epoch 85/100\n",
            "2/2 [==============================] - 0s 11ms/step - loss: 10.0775 - mae: 10.0775\n",
            "Epoch 86/100\n",
            "2/2 [==============================] - 0s 10ms/step - loss: 9.2813 - mae: 9.2813\n",
            "Epoch 87/100\n",
            "2/2 [==============================] - 0s 11ms/step - loss: 12.0651 - mae: 12.0651\n",
            "Epoch 88/100\n",
            "2/2 [==============================] - 0s 9ms/step - loss: 10.6868 - mae: 10.6868\n",
            "Epoch 89/100\n",
            "2/2 [==============================] - 0s 10ms/step - loss: 7.2956 - mae: 7.2956\n",
            "Epoch 90/100\n",
            "2/2 [==============================] - 0s 9ms/step - loss: 12.8291 - mae: 12.8291\n",
            "Epoch 91/100\n",
            "2/2 [==============================] - 0s 14ms/step - loss: 7.5082 - mae: 7.5082\n",
            "Epoch 92/100\n",
            "2/2 [==============================] - 0s 9ms/step - loss: 6.7797 - mae: 6.7797\n",
            "Epoch 93/100\n",
            "2/2 [==============================] - 0s 9ms/step - loss: 11.9797 - mae: 11.9797\n",
            "Epoch 94/100\n",
            "2/2 [==============================] - 0s 11ms/step - loss: 8.9121 - mae: 8.9121\n",
            "Epoch 95/100\n",
            "2/2 [==============================] - 0s 10ms/step - loss: 7.7520 - mae: 7.7520\n",
            "Epoch 96/100\n",
            "2/2 [==============================] - 0s 9ms/step - loss: 6.7787 - mae: 6.7787\n",
            "Epoch 97/100\n",
            "2/2 [==============================] - 0s 11ms/step - loss: 8.6650 - mae: 8.6650\n",
            "Epoch 98/100\n",
            "2/2 [==============================] - 0s 9ms/step - loss: 9.4160 - mae: 9.4160\n",
            "Epoch 99/100\n",
            "2/2 [==============================] - 0s 8ms/step - loss: 9.1519 - mae: 9.1519\n",
            "Epoch 100/100\n",
            "2/2 [==============================] - 0s 8ms/step - loss: 10.5075 - mae: 10.5075\n"
          ]
        },
        {
          "output_type": "execute_result",
          "data": {
            "text/plain": [
              "<keras.src.callbacks.History at 0x7868e161cb50>"
            ]
          },
          "metadata": {},
          "execution_count": 49
        }
      ]
    },
    {
      "cell_type": "code",
      "source": [
        "# Make and plot predictions for model_1\n",
        "y_preds_1 = model_1.predict(X_test)\n",
        "plot_predictions(predictions=y_preds_1)"
      ],
      "metadata": {
        "colab": {
          "base_uri": "https://localhost:8080/",
          "height": 656
        },
        "id": "L4PRCYRa6s2S",
        "outputId": "d516292f-48a1-4b82-bfb2-78315e21fc28"
      },
      "execution_count": 50,
      "outputs": [
        {
          "output_type": "stream",
          "name": "stderr",
          "text": [
            "WARNING:tensorflow:5 out of the last 5 calls to <function Model.make_predict_function.<locals>.predict_function at 0x7868e1738af0> triggered tf.function retracing. Tracing is expensive and the excessive number of tracings could be due to (1) creating @tf.function repeatedly in a loop, (2) passing tensors with different shapes, (3) passing Python objects instead of tensors. For (1), please define your @tf.function outside of the loop. For (2), @tf.function has reduce_retracing=True option that can avoid unnecessary retracing. For (3), please refer to https://www.tensorflow.org/guide/function#controlling_retracing and https://www.tensorflow.org/api_docs/python/tf/function for  more details.\n"
          ]
        },
        {
          "output_type": "stream",
          "name": "stdout",
          "text": [
            "1/1 [==============================] - 0s 59ms/step\n"
          ]
        },
        {
          "output_type": "display_data",
          "data": {
            "text/plain": [
              "<Figure size 1000x700 with 1 Axes>"
            ],
            "image/png": "[encoded data removed]"
          },
          "metadata": {}
        }
      ]
    },
    {
      "cell_type": "code",
      "source": [
        "tf.constant(y_preds_1), tf.squeeze(y_preds_1) # squeeze remove one demension"
      ],
      "metadata": {
        "colab": {
          "base_uri": "https://localhost:8080/"
        },
        "id": "5DyALUfy8tQZ",
        "outputId": "3c2e6997-2bfa-46eb-9d02-4f36bda80bf7"
      },
      "execution_count": 51,
      "outputs": [
        {
          "output_type": "execute_result",
          "data": {
            "text/plain": [
              "(<tf.Tensor: shape=(10, 1), dtype=float32, numpy=\n",
              " array([[56.446194],\n",
              "        [60.125233],\n",
              "        [63.80427 ],\n",
              "        [67.483315],\n",
              "        [71.16235 ],\n",
              "        [74.84139 ],\n",
              "        [78.520424],\n",
              "        [82.19946 ],\n",
              "        [85.8785  ],\n",
              "        [89.55754 ]], dtype=float32)>,\n",
              " <tf.Tensor: shape=(10,), dtype=float32, numpy=\n",
              " array([56.446194, 60.125233, 63.80427 , 67.483315, 71.16235 , 74.84139 ,\n",
              "        78.520424, 82.19946 , 85.8785  , 89.55754 ], dtype=float32)>)"
            ]
          },
          "metadata": {},
          "execution_count": 51
        }
      ]
    },
    {
      "cell_type": "code",
      "source": [
        "# Calculate model_1 evaluation metrics\n",
        "mae_1 = mae(y_test, y_preds_1)\n",
        "mse_1 = mse(y_test, y_preds_1)\n",
        "mae_1, mse_1"
      ],
      "metadata": {
        "colab": {
          "base_uri": "https://localhost:8080/"
        },
        "id": "ynFHWsvK7uIU",
        "outputId": "99f6342f-2ce5-4ad7-d4b7-9c5986b87dc8"
      },
      "execution_count": 52,
      "outputs": [
        {
          "output_type": "execute_result",
          "data": {
            "text/plain": [
              "(<tf.Tensor: shape=(), dtype=float32, numpy=14.998133>,\n",
              " <tf.Tensor: shape=(), dtype=float32, numpy=225.79382>)"
            ]
          },
          "metadata": {},
          "execution_count": 52
        }
      ]
    },
    {
      "cell_type": "markdown",
      "source": [
        "**Build `model_2`**\n",
        "* 2 dense layers, trained for 100 epochs"
      ],
      "metadata": {
        "id": "KW8jFFpb9uH7"
      }
    },
    {
      "cell_type": "code",
      "source": [
        "# Set random seed\n",
        "tf.random.set_seed(42)\n",
        "\n",
        "# 1. Create a model\n",
        "model_2 = tf.keras.Sequential([\n",
        "    tf.keras.layers.Dense(10),\n",
        "    tf.keras.layers.Dense(1)\n",
        "])\n",
        "\n",
        "# 2. Compile the model\n",
        "model_2.compile(loss=tf.keras.losses.mae,\n",
        "              optimizer=tf.keras.optimizers.SGD(),\n",
        "              metrics=['mse'])\n",
        "\n",
        "# 3. Fit the model\n",
        "model_2.fit(tf.expand_dims(X_train, axis=-1), y_train, epochs=100)"
      ],
      "metadata": {
        "colab": {
          "base_uri": "https://localhost:8080/"
        },
        "id": "5fXIg4Bx8olV",
        "outputId": "8378852d-7ad0-49ab-e21f-97d46cd19201"
      },
      "execution_count": 53,
      "outputs": [
        {
          "output_type": "stream",
          "name": "stdout",
          "text": [
            "Epoch 1/100\n",
            "2/2 [==============================] - 1s 13ms/step - loss: 13.7649 - mse: 294.2114\n",
            "Epoch 2/100\n",
            "2/2 [==============================] - 0s 8ms/step - loss: 21.7062 - mse: 745.4691\n",
            "Epoch 3/100\n",
            "2/2 [==============================] - 0s 12ms/step - loss: 19.3706 - mse: 549.7042\n",
            "Epoch 4/100\n",
            "2/2 [==============================] - 0s 9ms/step - loss: 14.0382 - mse: 259.5456\n",
            "Epoch 5/100\n",
            "2/2 [==============================] - 0s 9ms/step - loss: 15.6565 - mse: 317.4714\n",
            "Epoch 6/100\n",
            "2/2 [==============================] - 0s 10ms/step - loss: 12.4226 - mse: 196.9267\n",
            "Epoch 7/100\n",
            "2/2 [==============================] - 0s 9ms/step - loss: 11.7103 - mse: 168.9010\n",
            "Epoch 8/100\n",
            "2/2 [==============================] - 0s 9ms/step - loss: 12.1114 - mse: 201.6966\n",
            "Epoch 9/100\n",
            "2/2 [==============================] - 0s 13ms/step - loss: 38.0738 - mse: 2239.4038\n",
            "Epoch 10/100\n",
            "2/2 [==============================] - 0s 9ms/step - loss: 25.6517 - mse: 924.1639\n",
            "Epoch 11/100\n",
            "2/2 [==============================] - 0s 8ms/step - loss: 10.2445 - mse: 148.3610\n",
            "Epoch 12/100\n",
            "2/2 [==============================] - 0s 8ms/step - loss: 25.2932 - mse: 891.8236\n",
            "Epoch 13/100\n",
            "2/2 [==============================] - 0s 9ms/step - loss: 17.0607 - mse: 404.3045\n",
            "Epoch 14/100\n",
            "2/2 [==============================] - 0s 9ms/step - loss: 26.0650 - mse: 1062.5828\n",
            "Epoch 15/100\n",
            "2/2 [==============================] - 0s 9ms/step - loss: 18.1089 - mse: 455.9937\n",
            "Epoch 16/100\n",
            "2/2 [==============================] - 0s 9ms/step - loss: 7.8497 - mse: 89.4517\n",
            "Epoch 17/100\n",
            "2/2 [==============================] - 0s 9ms/step - loss: 22.2273 - mse: 684.7014\n",
            "Epoch 18/100\n",
            "2/2 [==============================] - 0s 9ms/step - loss: 10.8199 - mse: 171.9797\n",
            "Epoch 19/100\n",
            "2/2 [==============================] - 0s 8ms/step - loss: 10.7096 - mse: 139.3714\n",
            "Epoch 20/100\n",
            "2/2 [==============================] - 0s 9ms/step - loss: 12.0334 - mse: 165.1983\n",
            "Epoch 21/100\n",
            "2/2 [==============================] - 0s 8ms/step - loss: 20.1600 - mse: 590.2250\n",
            "Epoch 22/100\n",
            "2/2 [==============================] - 0s 8ms/step - loss: 13.7852 - mse: 243.3661\n",
            "Epoch 23/100\n",
            "2/2 [==============================] - 0s 9ms/step - loss: 9.5325 - mse: 94.8476\n",
            "Epoch 24/100\n",
            "2/2 [==============================] - 0s 9ms/step - loss: 11.8899 - mse: 163.7971\n",
            "Epoch 25/100\n",
            "2/2 [==============================] - 0s 12ms/step - loss: 16.2248 - mse: 385.6635\n",
            "Epoch 26/100\n",
            "2/2 [==============================] - 0s 10ms/step - loss: 16.4135 - mse: 375.2492\n",
            "Epoch 27/100\n",
            "2/2 [==============================] - 0s 13ms/step - loss: 11.5820 - mse: 181.8313\n",
            "Epoch 28/100\n",
            "2/2 [==============================] - 0s 10ms/step - loss: 30.0305 - mse: 1470.5684\n",
            "Epoch 29/100\n",
            "2/2 [==============================] - 0s 10ms/step - loss: 9.2417 - mse: 92.2863\n",
            "Epoch 30/100\n",
            "2/2 [==============================] - 0s 10ms/step - loss: 30.5725 - mse: 1715.1959\n",
            "Epoch 31/100\n",
            "2/2 [==============================] - 0s 10ms/step - loss: 55.5801 - mse: 5542.2529\n",
            "Epoch 32/100\n",
            "2/2 [==============================] - 0s 12ms/step - loss: 9.7273 - mse: 103.3085\n",
            "Epoch 33/100\n",
            "2/2 [==============================] - 0s 9ms/step - loss: 12.3480 - mse: 195.3445\n",
            "Epoch 34/100\n",
            "2/2 [==============================] - 0s 11ms/step - loss: 24.7549 - mse: 932.1659\n",
            "Epoch 35/100\n",
            "2/2 [==============================] - 0s 15ms/step - loss: 11.9032 - mse: 211.5113\n",
            "Epoch 36/100\n",
            "2/2 [==============================] - 0s 11ms/step - loss: 22.0757 - mse: 694.3444\n",
            "Epoch 37/100\n",
            "2/2 [==============================] - 0s 8ms/step - loss: 17.8700 - mse: 455.4398\n",
            "Epoch 38/100\n",
            "2/2 [==============================] - 0s 11ms/step - loss: 9.9655 - mse: 111.7735\n",
            "Epoch 39/100\n",
            "2/2 [==============================] - 0s 7ms/step - loss: 10.4973 - mse: 126.5513\n",
            "Epoch 40/100\n",
            "2/2 [==============================] - 0s 8ms/step - loss: 15.5893 - mse: 351.0136\n",
            "Epoch 41/100\n",
            "2/2 [==============================] - 0s 8ms/step - loss: 11.8186 - mse: 183.1071\n",
            "Epoch 42/100\n",
            "2/2 [==============================] - 0s 8ms/step - loss: 9.9387 - mse: 112.7688\n",
            "Epoch 43/100\n",
            "2/2 [==============================] - 0s 8ms/step - loss: 9.7887 - mse: 105.7625\n",
            "Epoch 44/100\n",
            "2/2 [==============================] - 0s 8ms/step - loss: 30.6071 - mse: 1525.2532\n",
            "Epoch 45/100\n",
            "2/2 [==============================] - 0s 7ms/step - loss: 11.9813 - mse: 175.6567\n",
            "Epoch 46/100\n",
            "2/2 [==============================] - 0s 8ms/step - loss: 16.1381 - mse: 388.6581\n",
            "Epoch 47/100\n",
            "2/2 [==============================] - 0s 8ms/step - loss: 15.0333 - mse: 310.1955\n",
            "Epoch 48/100\n",
            "2/2 [==============================] - 0s 8ms/step - loss: 14.2522 - mse: 273.1608\n",
            "Epoch 49/100\n",
            "2/2 [==============================] - 0s 8ms/step - loss: 13.7997 - mse: 266.1894\n",
            "Epoch 50/100\n",
            "2/2 [==============================] - 0s 8ms/step - loss: 12.6688 - mse: 210.4717\n",
            "Epoch 51/100\n",
            "2/2 [==============================] - 0s 8ms/step - loss: 14.7136 - mse: 302.3436\n",
            "Epoch 52/100\n",
            "2/2 [==============================] - 0s 9ms/step - loss: 18.6204 - mse: 518.4507\n",
            "Epoch 53/100\n",
            "2/2 [==============================] - 0s 12ms/step - loss: 23.9543 - mse: 815.8205\n",
            "Epoch 54/100\n",
            "2/2 [==============================] - 0s 11ms/step - loss: 23.9057 - mse: 854.0724\n",
            "Epoch 55/100\n",
            "2/2 [==============================] - 0s 11ms/step - loss: 23.1199 - mse: 800.0906\n",
            "Epoch 56/100\n",
            "2/2 [==============================] - 0s 8ms/step - loss: 10.8497 - mse: 170.8078\n",
            "Epoch 57/100\n",
            "2/2 [==============================] - 0s 11ms/step - loss: 12.7041 - mse: 197.3303\n",
            "Epoch 58/100\n",
            "2/2 [==============================] - 0s 9ms/step - loss: 9.5735 - mse: 102.1892\n",
            "Epoch 59/100\n",
            "2/2 [==============================] - 0s 13ms/step - loss: 12.4835 - mse: 214.6859\n",
            "Epoch 60/100\n",
            "2/2 [==============================] - 0s 7ms/step - loss: 12.2900 - mse: 207.3298\n",
            "Epoch 61/100\n",
            "2/2 [==============================] - 0s 9ms/step - loss: 17.4186 - mse: 426.5088\n",
            "Epoch 62/100\n",
            "2/2 [==============================] - 0s 9ms/step - loss: 10.5794 - mse: 136.3044\n",
            "Epoch 63/100\n",
            "2/2 [==============================] - 0s 8ms/step - loss: 10.4691 - mse: 151.4165\n",
            "Epoch 64/100\n",
            "2/2 [==============================] - 0s 8ms/step - loss: 24.8028 - mse: 908.4271\n",
            "Epoch 65/100\n",
            "2/2 [==============================] - 0s 10ms/step - loss: 10.6558 - mse: 141.9760\n",
            "Epoch 66/100\n",
            "2/2 [==============================] - 0s 11ms/step - loss: 21.7458 - mse: 701.9882\n",
            "Epoch 67/100\n",
            "2/2 [==============================] - 0s 11ms/step - loss: 10.6919 - mse: 135.4319\n",
            "Epoch 68/100\n",
            "2/2 [==============================] - 0s 15ms/step - loss: 10.6216 - mse: 148.5291\n",
            "Epoch 69/100\n",
            "2/2 [==============================] - 0s 11ms/step - loss: 22.6633 - mse: 740.2018\n",
            "Epoch 70/100\n",
            "2/2 [==============================] - 0s 13ms/step - loss: 9.3310 - mse: 165.8899\n",
            "Epoch 71/100\n",
            "2/2 [==============================] - 0s 12ms/step - loss: 15.4379 - mse: 323.2956\n",
            "Epoch 72/100\n",
            "2/2 [==============================] - 0s 10ms/step - loss: 7.0047 - mse: 67.2213\n",
            "Epoch 73/100\n",
            "2/2 [==============================] - 0s 8ms/step - loss: 12.2024 - mse: 215.8351\n",
            "Epoch 74/100\n",
            "2/2 [==============================] - 0s 11ms/step - loss: 17.3382 - mse: 407.1737\n",
            "Epoch 75/100\n",
            "2/2 [==============================] - 0s 13ms/step - loss: 7.2025 - mse: 71.1597\n",
            "Epoch 76/100\n",
            "2/2 [==============================] - 0s 12ms/step - loss: 9.4464 - mse: 148.8726\n",
            "Epoch 77/100\n",
            "2/2 [==============================] - 0s 9ms/step - loss: 22.1641 - mse: 733.5224\n",
            "Epoch 78/100\n",
            "2/2 [==============================] - 0s 9ms/step - loss: 17.4942 - mse: 465.1107\n",
            "Epoch 79/100\n",
            "2/2 [==============================] - 0s 9ms/step - loss: 14.7174 - mse: 316.9938\n",
            "Epoch 80/100\n",
            "2/2 [==============================] - 0s 8ms/step - loss: 24.9120 - mse: 945.4073\n",
            "Epoch 81/100\n",
            "2/2 [==============================] - 0s 10ms/step - loss: 10.7853 - mse: 136.8311\n",
            "Epoch 82/100\n",
            "2/2 [==============================] - 0s 17ms/step - loss: 12.8088 - mse: 233.4417\n",
            "Epoch 83/100\n",
            "2/2 [==============================] - 0s 9ms/step - loss: 17.5984 - mse: 404.1807\n",
            "Epoch 84/100\n",
            "2/2 [==============================] - 0s 16ms/step - loss: 7.2800 - mse: 72.8336\n",
            "Epoch 85/100\n",
            "2/2 [==============================] - 0s 13ms/step - loss: 15.0922 - mse: 317.9539\n",
            "Epoch 86/100\n",
            "2/2 [==============================] - 0s 10ms/step - loss: 15.3852 - mse: 317.8864\n",
            "Epoch 87/100\n",
            "2/2 [==============================] - 0s 9ms/step - loss: 19.3147 - mse: 530.7543\n",
            "Epoch 88/100\n",
            "2/2 [==============================] - 0s 16ms/step - loss: 29.2775 - mse: 1237.3236\n",
            "Epoch 89/100\n",
            "2/2 [==============================] - 0s 10ms/step - loss: 10.0781 - mse: 123.7685\n",
            "Epoch 90/100\n",
            "2/2 [==============================] - 0s 9ms/step - loss: 21.0858 - mse: 636.4442\n",
            "Epoch 91/100\n",
            "2/2 [==============================] - 0s 10ms/step - loss: 10.4516 - mse: 163.2891\n",
            "Epoch 92/100\n",
            "2/2 [==============================] - 0s 10ms/step - loss: 18.0101 - mse: 443.8464\n",
            "Epoch 93/100\n",
            "2/2 [==============================] - 0s 9ms/step - loss: 6.5311 - mse: 60.8231\n",
            "Epoch 94/100\n",
            "2/2 [==============================] - 0s 11ms/step - loss: 11.1148 - mse: 153.1263\n",
            "Epoch 95/100\n",
            "2/2 [==============================] - 0s 10ms/step - loss: 24.4397 - mse: 896.0597\n",
            "Epoch 96/100\n",
            "2/2 [==============================] - 0s 12ms/step - loss: 10.7225 - mse: 171.8438\n",
            "Epoch 97/100\n",
            "2/2 [==============================] - 0s 10ms/step - loss: 15.4001 - mse: 359.7339\n",
            "Epoch 98/100\n",
            "2/2 [==============================] - 0s 10ms/step - loss: 8.2358 - mse: 110.1452\n",
            "Epoch 99/100\n",
            "2/2 [==============================] - 0s 13ms/step - loss: 16.5865 - mse: 386.2499\n",
            "Epoch 100/100\n",
            "2/2 [==============================] - 0s 13ms/step - loss: 14.3422 - mse: 297.5466\n"
          ]
        },
        {
          "output_type": "execute_result",
          "data": {
            "text/plain": [
              "<keras.src.callbacks.History at 0x7868e0d595d0>"
            ]
          },
          "metadata": {},
          "execution_count": 53
        }
      ]
    },
    {
      "cell_type": "code",
      "source": [
        "# Make and plot predictions of model_2\n",
        "y_preds_2 = model_2.predict(X_test)\n",
        "plot_predictions(predictions=y_preds_2)"
      ],
      "metadata": {
        "colab": {
          "base_uri": "https://localhost:8080/",
          "height": 656
        },
        "id": "tUYh6yFe-jKP",
        "outputId": "bcdd2d4e-b913-4a3f-f69d-9f4379d31448"
      },
      "execution_count": 54,
      "outputs": [
        {
          "output_type": "stream",
          "name": "stderr",
          "text": [
            "WARNING:tensorflow:6 out of the last 6 calls to <function Model.make_predict_function.<locals>.predict_function at 0x7868e0d469e0> triggered tf.function retracing. Tracing is expensive and the excessive number of tracings could be due to (1) creating @tf.function repeatedly in a loop, (2) passing tensors with different shapes, (3) passing Python objects instead of tensors. For (1), please define your @tf.function outside of the loop. For (2), @tf.function has reduce_retracing=True option that can avoid unnecessary retracing. For (3), please refer to https://www.tensorflow.org/guide/function#controlling_retracing and https://www.tensorflow.org/api_docs/python/tf/function for  more details.\n"
          ]
        },
        {
          "output_type": "stream",
          "name": "stdout",
          "text": [
            "1/1 [==============================] - 0s 90ms/step\n"
          ]
        },
        {
          "output_type": "display_data",
          "data": {
            "text/plain": [
              "<Figure size 1000x700 with 1 Axes>"
            ],
            "image/png": "[encoded data removed]"
          },
          "metadata": {}
        }
      ]
    },
    {
      "cell_type": "code",
      "source": [
        "# Calculate model_2 evaluation metrics\n",
        "mae_2 = mae(y_test, y_preds_2)\n",
        "mse_2 = mse(y_test, y_preds_2)\n",
        "mae_2, mse_2"
      ],
      "metadata": {
        "colab": {
          "base_uri": "https://localhost:8080/"
        },
        "id": "ua_MldCN-zYu",
        "outputId": "91ffaf4f-b4ea-4afe-c98a-5baf5fe17c40"
      },
      "execution_count": 55,
      "outputs": [
        {
          "output_type": "execute_result",
          "data": {
            "text/plain": [
              "(<tf.Tensor: shape=(), dtype=float32, numpy=11.115316>,\n",
              " <tf.Tensor: shape=(), dtype=float32, numpy=131.66739>)"
            ]
          },
          "metadata": {},
          "execution_count": 55
        }
      ]
    },
    {
      "cell_type": "markdown",
      "source": [
        "**Build `model_3`**\n",
        "\n",
        "* 2 layers, trained for 500 epochs"
      ],
      "metadata": {
        "id": "hPnBZMMZ_TN7"
      }
    },
    {
      "cell_type": "code",
      "source": [
        "# Set random seed\n",
        "tf.random.set_seed(42)\n",
        "\n",
        "# 1. Create a model\n",
        "model_3 = tf.keras.Sequential([\n",
        "    tf.keras.layers.Dense(10),\n",
        "    tf.keras.layers.Dense(1)\n",
        "])\n",
        "\n",
        "# 2. Compile the model\n",
        "model_3.compile(loss=tf.keras.losses.mae,\n",
        "              optimizer=tf.keras.optimizers.SGD(),\n",
        "              metrics=['mae'])\n",
        "\n",
        "# 3. Fit the model\n",
        "model_3.fit(tf.expand_dims(X_train, axis=-1), y_train, epochs=500)"
      ],
      "metadata": {
        "colab": {
          "base_uri": "https://localhost:8080/"
        },
        "id": "mDYRLxdn_Ow-",
        "outputId": "934f0022-4481-4700-bb64-daafe0f67b74"
      },
      "execution_count": 56,
      "outputs": [
        {
          "output_type": "stream",
          "name": "stdout",
          "text": [
            "Epoch 1/500\n",
            "2/2 [==============================] - 1s 20ms/step - loss: 29.0546 - mae: 29.0546\n",
            "Epoch 2/500\n",
            "2/2 [==============================] - 0s 10ms/step - loss: 23.2000 - mae: 23.2000\n",
            "Epoch 3/500\n",
            "2/2 [==============================] - 0s 10ms/step - loss: 29.4389 - mae: 29.4389\n",
            "Epoch 4/500\n",
            "2/2 [==============================] - 0s 13ms/step - loss: 23.0211 - mae: 23.0211\n",
            "Epoch 5/500\n",
            "2/2 [==============================] - 0s 18ms/step - loss: 13.7642 - mae: 13.7642\n",
            "Epoch 6/500\n",
            "2/2 [==============================] - 0s 12ms/step - loss: 11.0398 - mae: 11.0398\n",
            "Epoch 7/500\n",
            "2/2 [==============================] - 0s 10ms/step - loss: 12.0205 - mae: 12.0205\n",
            "Epoch 8/500\n",
            "2/2 [==============================] - 0s 9ms/step - loss: 10.8303 - mae: 10.8303\n",
            "Epoch 9/500\n",
            "2/2 [==============================] - 0s 14ms/step - loss: 37.3263 - mae: 37.3263\n",
            "Epoch 10/500\n",
            "2/2 [==============================] - 0s 10ms/step - loss: 25.0202 - mae: 25.0202\n",
            "Epoch 11/500\n",
            "2/2 [==============================] - 0s 9ms/step - loss: 11.0162 - mae: 11.0162\n",
            "Epoch 12/500\n",
            "2/2 [==============================] - 0s 9ms/step - loss: 24.3524 - mae: 24.3524\n",
            "Epoch 13/500\n",
            "2/2 [==============================] - 0s 10ms/step - loss: 19.3521 - mae: 19.3521\n",
            "Epoch 14/500\n",
            "2/2 [==============================] - 0s 8ms/step - loss: 23.6104 - mae: 23.6104\n",
            "Epoch 15/500\n",
            "2/2 [==============================] - 0s 10ms/step - loss: 15.7058 - mae: 15.7058\n",
            "Epoch 16/500\n",
            "2/2 [==============================] - 0s 10ms/step - loss: 10.4113 - mae: 10.4113\n",
            "Epoch 17/500\n",
            "2/2 [==============================] - 0s 9ms/step - loss: 19.6249 - mae: 19.6249\n",
            "Epoch 18/500\n",
            "2/2 [==============================] - 0s 8ms/step - loss: 13.2710 - mae: 13.2710\n",
            "Epoch 19/500\n",
            "2/2 [==============================] - 0s 9ms/step - loss: 16.0379 - mae: 16.0379\n",
            "Epoch 20/500\n",
            "2/2 [==============================] - 0s 9ms/step - loss: 10.1918 - mae: 10.1918\n",
            "Epoch 21/500\n",
            "2/2 [==============================] - 0s 8ms/step - loss: 13.7378 - mae: 13.7378\n",
            "Epoch 22/500\n",
            "2/2 [==============================] - 0s 10ms/step - loss: 21.9539 - mae: 21.9539\n",
            "Epoch 23/500\n",
            "2/2 [==============================] - 0s 10ms/step - loss: 10.4492 - mae: 10.4492\n",
            "Epoch 24/500\n",
            "2/2 [==============================] - 0s 13ms/step - loss: 15.7422 - mae: 15.7422\n",
            "Epoch 25/500\n",
            "2/2 [==============================] - 0s 12ms/step - loss: 14.8940 - mae: 14.8940\n",
            "Epoch 26/500\n",
            "2/2 [==============================] - 0s 15ms/step - loss: 19.5159 - mae: 19.5159\n",
            "Epoch 27/500\n",
            "2/2 [==============================] - 0s 12ms/step - loss: 20.5462 - mae: 20.5462\n",
            "Epoch 28/500\n",
            "2/2 [==============================] - 0s 9ms/step - loss: 14.9147 - mae: 14.9147\n",
            "Epoch 29/500\n",
            "2/2 [==============================] - 0s 10ms/step - loss: 9.2596 - mae: 9.2596\n",
            "Epoch 30/500\n",
            "2/2 [==============================] - 0s 9ms/step - loss: 30.2962 - mae: 30.2962\n",
            "Epoch 31/500\n",
            "2/2 [==============================] - 0s 12ms/step - loss: 55.0422 - mae: 55.0422\n",
            "Epoch 32/500\n",
            "2/2 [==============================] - 0s 10ms/step - loss: 9.6837 - mae: 9.6837\n",
            "Epoch 33/500\n",
            "2/2 [==============================] - 0s 11ms/step - loss: 12.2927 - mae: 12.2927\n",
            "Epoch 34/500\n",
            "2/2 [==============================] - 0s 10ms/step - loss: 24.4250 - mae: 24.4250\n",
            "Epoch 35/500\n",
            "2/2 [==============================] - 0s 10ms/step - loss: 11.9593 - mae: 11.9593\n",
            "Epoch 36/500\n",
            "2/2 [==============================] - 0s 15ms/step - loss: 22.2096 - mae: 22.2096\n",
            "Epoch 37/500\n",
            "2/2 [==============================] - 0s 9ms/step - loss: 17.3850 - mae: 17.3850\n",
            "Epoch 38/500\n",
            "2/2 [==============================] - 0s 10ms/step - loss: 10.6696 - mae: 10.6696\n",
            "Epoch 39/500\n",
            "2/2 [==============================] - 0s 10ms/step - loss: 11.1863 - mae: 11.1863\n",
            "Epoch 40/500\n",
            "2/2 [==============================] - 0s 9ms/step - loss: 18.0046 - mae: 18.0046\n",
            "Epoch 41/500\n",
            "2/2 [==============================] - 0s 14ms/step - loss: 10.4083 - mae: 10.4083\n",
            "Epoch 42/500\n",
            "2/2 [==============================] - 0s 11ms/step - loss: 7.2664 - mae: 7.2664\n",
            "Epoch 43/500\n",
            "2/2 [==============================] - 0s 9ms/step - loss: 18.9690 - mae: 18.9690\n",
            "Epoch 44/500\n",
            "2/2 [==============================] - 0s 9ms/step - loss: 20.1290 - mae: 20.1290\n",
            "Epoch 45/500\n",
            "2/2 [==============================] - 0s 10ms/step - loss: 10.1258 - mae: 10.1258\n",
            "Epoch 46/500\n",
            "2/2 [==============================] - 0s 9ms/step - loss: 11.3914 - mae: 11.3914\n",
            "Epoch 47/500\n",
            "2/2 [==============================] - 0s 10ms/step - loss: 9.8113 - mae: 9.8113\n",
            "Epoch 48/500\n",
            "2/2 [==============================] - 0s 10ms/step - loss: 17.5944 - mae: 17.5944\n",
            "Epoch 49/500\n",
            "2/2 [==============================] - 0s 13ms/step - loss: 9.3393 - mae: 9.3393\n",
            "Epoch 50/500\n",
            "2/2 [==============================] - 0s 10ms/step - loss: 13.3955 - mae: 13.3955\n",
            "Epoch 51/500\n",
            "2/2 [==============================] - 0s 9ms/step - loss: 11.4390 - mae: 11.4390\n",
            "Epoch 52/500\n",
            "2/2 [==============================] - 0s 14ms/step - loss: 29.4618 - mae: 29.4618\n",
            "Epoch 53/500\n",
            "2/2 [==============================] - 0s 14ms/step - loss: 16.7841 - mae: 16.7841\n",
            "Epoch 54/500\n",
            "2/2 [==============================] - 0s 14ms/step - loss: 21.7723 - mae: 21.7723\n",
            "Epoch 55/500\n",
            "2/2 [==============================] - 0s 11ms/step - loss: 22.3876 - mae: 22.3876\n",
            "Epoch 56/500\n",
            "2/2 [==============================] - 0s 14ms/step - loss: 10.6374 - mae: 10.6374\n",
            "Epoch 57/500\n",
            "2/2 [==============================] - 0s 11ms/step - loss: 12.4042 - mae: 12.4042\n",
            "Epoch 58/500\n",
            "2/2 [==============================] - 0s 12ms/step - loss: 9.4127 - mae: 9.4127\n",
            "Epoch 59/500\n",
            "2/2 [==============================] - 0s 12ms/step - loss: 12.2003 - mae: 12.2003\n",
            "Epoch 60/500\n",
            "2/2 [==============================] - 0s 13ms/step - loss: 11.6783 - mae: 11.6783\n",
            "Epoch 61/500\n",
            "2/2 [==============================] - 0s 23ms/step - loss: 16.1395 - mae: 16.1395\n",
            "Epoch 62/500\n",
            "2/2 [==============================] - 0s 10ms/step - loss: 11.1881 - mae: 11.1881\n",
            "Epoch 63/500\n",
            "2/2 [==============================] - 0s 10ms/step - loss: 12.4581 - mae: 12.4581\n",
            "Epoch 64/500\n",
            "2/2 [==============================] - 0s 11ms/step - loss: 15.8372 - mae: 15.8372\n",
            "Epoch 65/500\n",
            "2/2 [==============================] - 0s 10ms/step - loss: 10.6371 - mae: 10.6371\n",
            "Epoch 66/500\n",
            "2/2 [==============================] - 0s 9ms/step - loss: 21.5959 - mae: 21.5959\n",
            "Epoch 67/500\n",
            "2/2 [==============================] - 0s 11ms/step - loss: 10.6576 - mae: 10.6576\n",
            "Epoch 68/500\n",
            "2/2 [==============================] - 0s 9ms/step - loss: 10.6002 - mae: 10.6002\n",
            "Epoch 69/500\n",
            "2/2 [==============================] - 0s 9ms/step - loss: 22.4667 - mae: 22.4667\n",
            "Epoch 70/500\n",
            "2/2 [==============================] - 0s 9ms/step - loss: 9.3797 - mae: 9.3797\n",
            "Epoch 71/500\n",
            "2/2 [==============================] - 0s 9ms/step - loss: 15.5138 - mae: 15.5138\n",
            "Epoch 72/500\n",
            "2/2 [==============================] - 0s 13ms/step - loss: 7.0242 - mae: 7.0242\n",
            "Epoch 73/500\n",
            "2/2 [==============================] - 0s 9ms/step - loss: 12.2553 - mae: 12.2553\n",
            "Epoch 74/500\n",
            "2/2 [==============================] - 0s 15ms/step - loss: 17.4199 - mae: 17.4199\n",
            "Epoch 75/500\n",
            "2/2 [==============================] - 0s 18ms/step - loss: 7.2412 - mae: 7.2412\n",
            "Epoch 76/500\n",
            "2/2 [==============================] - 0s 9ms/step - loss: 9.9966 - mae: 9.9966\n",
            "Epoch 77/500\n",
            "2/2 [==============================] - 0s 11ms/step - loss: 21.4817 - mae: 21.4817\n",
            "Epoch 78/500\n",
            "2/2 [==============================] - 0s 8ms/step - loss: 18.8179 - mae: 18.8179\n",
            "Epoch 79/500\n",
            "2/2 [==============================] - 0s 8ms/step - loss: 16.0877 - mae: 16.0877\n",
            "Epoch 80/500\n",
            "2/2 [==============================] - 0s 9ms/step - loss: 23.8108 - mae: 23.8108\n",
            "Epoch 81/500\n",
            "2/2 [==============================] - 0s 9ms/step - loss: 11.0887 - mae: 11.0887\n",
            "Epoch 82/500\n",
            "2/2 [==============================] - 0s 8ms/step - loss: 12.6566 - mae: 12.6566\n",
            "Epoch 83/500\n",
            "2/2 [==============================] - 0s 11ms/step - loss: 17.3977 - mae: 17.3977\n",
            "Epoch 84/500\n",
            "2/2 [==============================] - 0s 11ms/step - loss: 7.2792 - mae: 7.2792\n",
            "Epoch 85/500\n",
            "2/2 [==============================] - 0s 9ms/step - loss: 14.9538 - mae: 14.9538\n",
            "Epoch 86/500\n",
            "2/2 [==============================] - 0s 8ms/step - loss: 15.2801 - mae: 15.2801\n",
            "Epoch 87/500\n",
            "2/2 [==============================] - 0s 8ms/step - loss: 19.0868 - mae: 19.0868\n",
            "Epoch 88/500\n",
            "2/2 [==============================] - 0s 8ms/step - loss: 29.8872 - mae: 29.8872\n",
            "Epoch 89/500\n",
            "2/2 [==============================] - 0s 10ms/step - loss: 10.2055 - mae: 10.2055\n",
            "Epoch 90/500\n",
            "2/2 [==============================] - 0s 11ms/step - loss: 21.5681 - mae: 21.5681\n",
            "Epoch 91/500\n",
            "2/2 [==============================] - 0s 10ms/step - loss: 10.6021 - mae: 10.6021\n",
            "Epoch 92/500\n",
            "2/2 [==============================] - 0s 10ms/step - loss: 18.4321 - mae: 18.4321\n",
            "Epoch 93/500\n",
            "2/2 [==============================] - 0s 9ms/step - loss: 7.4352 - mae: 7.4352\n",
            "Epoch 94/500\n",
            "2/2 [==============================] - 0s 9ms/step - loss: 17.7621 - mae: 17.7621\n",
            "Epoch 95/500\n",
            "2/2 [==============================] - 0s 8ms/step - loss: 11.1397 - mae: 11.1397\n",
            "Epoch 96/500\n",
            "2/2 [==============================] - 0s 9ms/step - loss: 19.4565 - mae: 19.4565\n",
            "Epoch 97/500\n",
            "2/2 [==============================] - 0s 8ms/step - loss: 12.1835 - mae: 12.1835\n",
            "Epoch 98/500\n",
            "2/2 [==============================] - 0s 8ms/step - loss: 11.5870 - mae: 11.5870\n",
            "Epoch 99/500\n",
            "2/2 [==============================] - 0s 9ms/step - loss: 13.8935 - mae: 13.8935\n",
            "Epoch 100/500\n",
            "2/2 [==============================] - 0s 8ms/step - loss: 20.2255 - mae: 20.2255\n",
            "Epoch 101/500\n",
            "2/2 [==============================] - 0s 9ms/step - loss: 11.4649 - mae: 11.4649\n",
            "Epoch 102/500\n",
            "2/2 [==============================] - 0s 9ms/step - loss: 17.4814 - mae: 17.4814\n",
            "Epoch 103/500\n",
            "2/2 [==============================] - 0s 12ms/step - loss: 7.0393 - mae: 7.0393\n",
            "Epoch 104/500\n",
            "2/2 [==============================] - 0s 9ms/step - loss: 23.5952 - mae: 23.5952\n",
            "Epoch 105/500\n",
            "2/2 [==============================] - 0s 10ms/step - loss: 16.8650 - mae: 16.8650\n",
            "Epoch 106/500\n",
            "2/2 [==============================] - 0s 12ms/step - loss: 9.3118 - mae: 9.3118\n",
            "Epoch 107/500\n",
            "2/2 [==============================] - 0s 15ms/step - loss: 25.3934 - mae: 25.3934\n",
            "Epoch 108/500\n",
            "2/2 [==============================] - 0s 10ms/step - loss: 13.4382 - mae: 13.4382\n",
            "Epoch 109/500\n",
            "2/2 [==============================] - 0s 8ms/step - loss: 9.5250 - mae: 9.5250\n",
            "Epoch 110/500\n",
            "2/2 [==============================] - 0s 10ms/step - loss: 9.6743 - mae: 9.6743\n",
            "Epoch 111/500\n",
            "2/2 [==============================] - 0s 9ms/step - loss: 14.5745 - mae: 14.5745\n",
            "Epoch 112/500\n",
            "2/2 [==============================] - 0s 8ms/step - loss: 9.5716 - mae: 9.5716\n",
            "Epoch 113/500\n",
            "2/2 [==============================] - 0s 13ms/step - loss: 17.7537 - mae: 17.7537\n",
            "Epoch 114/500\n",
            "2/2 [==============================] - 0s 9ms/step - loss: 17.1254 - mae: 17.1254\n",
            "Epoch 115/500\n",
            "2/2 [==============================] - 0s 11ms/step - loss: 11.1165 - mae: 11.1165\n",
            "Epoch 116/500\n",
            "2/2 [==============================] - 0s 10ms/step - loss: 23.2257 - mae: 23.2257\n",
            "Epoch 117/500\n",
            "2/2 [==============================] - 0s 10ms/step - loss: 9.6052 - mae: 9.6052\n",
            "Epoch 118/500\n",
            "2/2 [==============================] - 0s 10ms/step - loss: 10.6733 - mae: 10.6733\n",
            "Epoch 119/500\n",
            "2/2 [==============================] - 0s 10ms/step - loss: 8.0495 - mae: 8.0495\n",
            "Epoch 120/500\n",
            "2/2 [==============================] - 0s 11ms/step - loss: 29.5536 - mae: 29.5536\n",
            "Epoch 121/500\n",
            "2/2 [==============================] - 0s 10ms/step - loss: 8.0849 - mae: 8.0849\n",
            "Epoch 122/500\n",
            "2/2 [==============================] - 0s 10ms/step - loss: 28.1928 - mae: 28.1928\n",
            "Epoch 123/500\n",
            "2/2 [==============================] - 0s 9ms/step - loss: 32.7572 - mae: 32.7572\n",
            "Epoch 124/500\n",
            "2/2 [==============================] - 0s 9ms/step - loss: 19.5256 - mae: 19.5256\n",
            "Epoch 125/500\n",
            "2/2 [==============================] - 0s 10ms/step - loss: 6.3931 - mae: 6.3931\n",
            "Epoch 126/500\n",
            "2/2 [==============================] - 0s 9ms/step - loss: 26.8163 - mae: 26.8163\n",
            "Epoch 127/500\n",
            "2/2 [==============================] - 0s 11ms/step - loss: 8.5877 - mae: 8.5877\n",
            "Epoch 128/500\n",
            "2/2 [==============================] - 0s 10ms/step - loss: 13.8393 - mae: 13.8393\n",
            "Epoch 129/500\n",
            "2/2 [==============================] - 0s 11ms/step - loss: 11.3092 - mae: 11.3092\n",
            "Epoch 130/500\n",
            "2/2 [==============================] - 0s 12ms/step - loss: 11.5256 - mae: 11.5256\n",
            "Epoch 131/500\n",
            "2/2 [==============================] - 0s 10ms/step - loss: 20.6733 - mae: 20.6733\n",
            "Epoch 132/500\n",
            "2/2 [==============================] - 0s 9ms/step - loss: 8.0205 - mae: 8.0205\n",
            "Epoch 133/500\n",
            "2/2 [==============================] - 0s 8ms/step - loss: 8.8352 - mae: 8.8352\n",
            "Epoch 134/500\n",
            "2/2 [==============================] - 0s 8ms/step - loss: 21.5169 - mae: 21.5169\n",
            "Epoch 135/500\n",
            "2/2 [==============================] - 0s 8ms/step - loss: 10.9035 - mae: 10.9035\n",
            "Epoch 136/500\n",
            "2/2 [==============================] - 0s 9ms/step - loss: 19.3988 - mae: 19.3988\n",
            "Epoch 137/500\n",
            "2/2 [==============================] - 0s 9ms/step - loss: 22.6079 - mae: 22.6079\n",
            "Epoch 138/500\n",
            "2/2 [==============================] - 0s 9ms/step - loss: 8.9276 - mae: 8.9276\n",
            "Epoch 139/500\n",
            "2/2 [==============================] - 0s 11ms/step - loss: 7.1130 - mae: 7.1130\n",
            "Epoch 140/500\n",
            "2/2 [==============================] - 0s 10ms/step - loss: 21.2960 - mae: 21.2960\n",
            "Epoch 141/500\n",
            "2/2 [==============================] - 0s 9ms/step - loss: 8.4497 - mae: 8.4497\n",
            "Epoch 142/500\n",
            "2/2 [==============================] - 0s 9ms/step - loss: 37.4631 - mae: 37.4631\n",
            "Epoch 143/500\n",
            "2/2 [==============================] - 0s 9ms/step - loss: 26.0069 - mae: 26.0069\n",
            "Epoch 144/500\n",
            "2/2 [==============================] - 0s 11ms/step - loss: 9.5348 - mae: 9.5348\n",
            "Epoch 145/500\n",
            "2/2 [==============================] - 0s 9ms/step - loss: 26.4935 - mae: 26.4935\n",
            "Epoch 146/500\n",
            "2/2 [==============================] - 0s 9ms/step - loss: 8.9089 - mae: 8.9089\n",
            "Epoch 147/500\n",
            "2/2 [==============================] - 0s 10ms/step - loss: 15.5277 - mae: 15.5277\n",
            "Epoch 148/500\n",
            "2/2 [==============================] - 0s 10ms/step - loss: 18.1778 - mae: 18.1778\n",
            "Epoch 149/500\n",
            "2/2 [==============================] - 0s 9ms/step - loss: 8.3250 - mae: 8.3250\n",
            "Epoch 150/500\n",
            "2/2 [==============================] - 0s 9ms/step - loss: 7.5516 - mae: 7.5516\n",
            "Epoch 151/500\n",
            "2/2 [==============================] - 0s 10ms/step - loss: 18.6214 - mae: 18.6214\n",
            "Epoch 152/500\n",
            "2/2 [==============================] - 0s 10ms/step - loss: 10.3747 - mae: 10.3747\n",
            "Epoch 153/500\n",
            "2/2 [==============================] - 0s 9ms/step - loss: 30.0693 - mae: 30.0693\n",
            "Epoch 154/500\n",
            "2/2 [==============================] - 0s 9ms/step - loss: 10.4829 - mae: 10.4829\n",
            "Epoch 155/500\n",
            "2/2 [==============================] - 0s 9ms/step - loss: 15.3860 - mae: 15.3860\n",
            "Epoch 156/500\n",
            "2/2 [==============================] - 0s 10ms/step - loss: 16.8593 - mae: 16.8593\n",
            "Epoch 157/500\n",
            "2/2 [==============================] - 0s 10ms/step - loss: 33.2438 - mae: 33.2438\n",
            "Epoch 158/500\n",
            "2/2 [==============================] - 0s 14ms/step - loss: 10.8450 - mae: 10.8450\n",
            "Epoch 159/500\n",
            "2/2 [==============================] - 0s 10ms/step - loss: 8.9755 - mae: 8.9755\n",
            "Epoch 160/500\n",
            "2/2 [==============================] - 0s 8ms/step - loss: 22.4275 - mae: 22.4275\n",
            "Epoch 161/500\n",
            "2/2 [==============================] - 0s 9ms/step - loss: 11.8361 - mae: 11.8361\n",
            "Epoch 162/500\n",
            "2/2 [==============================] - 0s 9ms/step - loss: 21.8421 - mae: 21.8421\n",
            "Epoch 163/500\n",
            "2/2 [==============================] - 0s 8ms/step - loss: 19.5059 - mae: 19.5059\n",
            "Epoch 164/500\n",
            "2/2 [==============================] - 0s 10ms/step - loss: 11.3983 - mae: 11.3983\n",
            "Epoch 165/500\n",
            "2/2 [==============================] - 0s 9ms/step - loss: 11.6057 - mae: 11.6057\n",
            "Epoch 166/500\n",
            "2/2 [==============================] - 0s 8ms/step - loss: 21.3511 - mae: 21.3511\n",
            "Epoch 167/500\n",
            "2/2 [==============================] - 0s 8ms/step - loss: 26.8908 - mae: 26.8908\n",
            "Epoch 168/500\n",
            "2/2 [==============================] - 0s 8ms/step - loss: 9.9884 - mae: 9.9884\n",
            "Epoch 169/500\n",
            "2/2 [==============================] - 0s 9ms/step - loss: 23.1524 - mae: 23.1524\n",
            "Epoch 170/500\n",
            "2/2 [==============================] - 0s 9ms/step - loss: 9.5776 - mae: 9.5776\n",
            "Epoch 171/500\n",
            "2/2 [==============================] - 0s 13ms/step - loss: 15.8441 - mae: 15.8441\n",
            "Epoch 172/500\n",
            "2/2 [==============================] - 0s 10ms/step - loss: 13.8752 - mae: 13.8752\n",
            "Epoch 173/500\n",
            "2/2 [==============================] - 0s 13ms/step - loss: 22.5630 - mae: 22.5630\n",
            "Epoch 174/500\n",
            "2/2 [==============================] - 0s 9ms/step - loss: 11.3551 - mae: 11.3551\n",
            "Epoch 175/500\n",
            "2/2 [==============================] - 0s 10ms/step - loss: 20.1356 - mae: 20.1356\n",
            "Epoch 176/500\n",
            "2/2 [==============================] - 0s 9ms/step - loss: 7.4104 - mae: 7.4104\n",
            "Epoch 177/500\n",
            "2/2 [==============================] - 0s 9ms/step - loss: 8.5945 - mae: 8.5945\n",
            "Epoch 178/500\n",
            "2/2 [==============================] - 0s 9ms/step - loss: 15.5305 - mae: 15.5305\n",
            "Epoch 179/500\n",
            "2/2 [==============================] - 0s 9ms/step - loss: 9.2655 - mae: 9.2655\n",
            "Epoch 180/500\n",
            "2/2 [==============================] - 0s 9ms/step - loss: 8.1290 - mae: 8.1290\n",
            "Epoch 181/500\n",
            "2/2 [==============================] - 0s 9ms/step - loss: 18.7879 - mae: 18.7879\n",
            "Epoch 182/500\n",
            "2/2 [==============================] - 0s 9ms/step - loss: 10.7932 - mae: 10.7932\n",
            "Epoch 183/500\n",
            "2/2 [==============================] - 0s 8ms/step - loss: 11.5020 - mae: 11.5020\n",
            "Epoch 184/500\n",
            "2/2 [==============================] - 0s 9ms/step - loss: 29.7959 - mae: 29.7959\n",
            "Epoch 185/500\n",
            "2/2 [==============================] - 0s 9ms/step - loss: 7.5396 - mae: 7.5396\n",
            "Epoch 186/500\n",
            "2/2 [==============================] - 0s 8ms/step - loss: 16.4434 - mae: 16.4434\n",
            "Epoch 187/500\n",
            "2/2 [==============================] - 0s 9ms/step - loss: 10.7146 - mae: 10.7146\n",
            "Epoch 188/500\n",
            "2/2 [==============================] - 0s 11ms/step - loss: 22.5270 - mae: 22.5270\n",
            "Epoch 189/500\n",
            "2/2 [==============================] - 0s 13ms/step - loss: 11.6781 - mae: 11.6781\n",
            "Epoch 190/500\n",
            "2/2 [==============================] - 0s 8ms/step - loss: 9.4274 - mae: 9.4274\n",
            "Epoch 191/500\n",
            "2/2 [==============================] - 0s 9ms/step - loss: 15.6270 - mae: 15.6270\n",
            "Epoch 192/500\n",
            "2/2 [==============================] - 0s 12ms/step - loss: 12.8400 - mae: 12.8400\n",
            "Epoch 193/500\n",
            "2/2 [==============================] - 0s 10ms/step - loss: 27.8068 - mae: 27.8068\n",
            "Epoch 194/500\n",
            "2/2 [==============================] - 0s 12ms/step - loss: 7.1164 - mae: 7.1164\n",
            "Epoch 195/500\n",
            "2/2 [==============================] - 0s 13ms/step - loss: 7.0324 - mae: 7.0324\n",
            "Epoch 196/500\n",
            "2/2 [==============================] - 0s 10ms/step - loss: 21.9158 - mae: 21.9158\n",
            "Epoch 197/500\n",
            "2/2 [==============================] - 0s 10ms/step - loss: 21.0453 - mae: 21.0453\n",
            "Epoch 198/500\n",
            "2/2 [==============================] - 0s 10ms/step - loss: 12.5828 - mae: 12.5828\n",
            "Epoch 199/500\n",
            "2/2 [==============================] - 0s 8ms/step - loss: 18.0855 - mae: 18.0855\n",
            "Epoch 200/500\n",
            "2/2 [==============================] - 0s 11ms/step - loss: 13.9116 - mae: 13.9116\n",
            "Epoch 201/500\n",
            "2/2 [==============================] - 0s 9ms/step - loss: 6.0112 - mae: 6.0112\n",
            "Epoch 202/500\n",
            "2/2 [==============================] - 0s 8ms/step - loss: 22.9890 - mae: 22.9890\n",
            "Epoch 203/500\n",
            "2/2 [==============================] - 0s 9ms/step - loss: 8.9532 - mae: 8.9532\n",
            "Epoch 204/500\n",
            "2/2 [==============================] - 0s 9ms/step - loss: 18.9544 - mae: 18.9544\n",
            "Epoch 205/500\n",
            "2/2 [==============================] - 0s 11ms/step - loss: 9.3803 - mae: 9.3803\n",
            "Epoch 206/500\n",
            "2/2 [==============================] - 0s 10ms/step - loss: 11.0247 - mae: 11.0247\n",
            "Epoch 207/500\n",
            "2/2 [==============================] - 0s 9ms/step - loss: 17.5162 - mae: 17.5162\n",
            "Epoch 208/500\n",
            "2/2 [==============================] - 0s 8ms/step - loss: 14.2470 - mae: 14.2470\n",
            "Epoch 209/500\n",
            "2/2 [==============================] - 0s 8ms/step - loss: 16.5729 - mae: 16.5729\n",
            "Epoch 210/500\n",
            "2/2 [==============================] - 0s 9ms/step - loss: 18.0603 - mae: 18.0603\n",
            "Epoch 211/500\n",
            "2/2 [==============================] - 0s 9ms/step - loss: 9.8646 - mae: 9.8646\n",
            "Epoch 212/500\n",
            "2/2 [==============================] - 0s 9ms/step - loss: 18.5382 - mae: 18.5382\n",
            "Epoch 213/500\n",
            "2/2 [==============================] - 0s 9ms/step - loss: 14.9737 - mae: 14.9737\n",
            "Epoch 214/500\n",
            "2/2 [==============================] - 0s 8ms/step - loss: 14.5442 - mae: 14.5442\n",
            "Epoch 215/500\n",
            "2/2 [==============================] - 0s 8ms/step - loss: 23.2209 - mae: 23.2209\n",
            "Epoch 216/500\n",
            "2/2 [==============================] - 0s 9ms/step - loss: 13.4939 - mae: 13.4939\n",
            "Epoch 217/500\n",
            "2/2 [==============================] - 0s 9ms/step - loss: 9.9461 - mae: 9.9461\n",
            "Epoch 218/500\n",
            "2/2 [==============================] - 0s 9ms/step - loss: 12.4467 - mae: 12.4467\n",
            "Epoch 219/500\n",
            "2/2 [==============================] - 0s 9ms/step - loss: 5.2799 - mae: 5.2799\n",
            "Epoch 220/500\n",
            "2/2 [==============================] - 0s 9ms/step - loss: 12.4213 - mae: 12.4213\n",
            "Epoch 221/500\n",
            "2/2 [==============================] - 0s 11ms/step - loss: 22.4344 - mae: 22.4344\n",
            "Epoch 222/500\n",
            "2/2 [==============================] - 0s 8ms/step - loss: 21.5685 - mae: 21.5685\n",
            "Epoch 223/500\n",
            "2/2 [==============================] - 0s 8ms/step - loss: 11.6433 - mae: 11.6433\n",
            "Epoch 224/500\n",
            "2/2 [==============================] - 0s 9ms/step - loss: 15.1153 - mae: 15.1153\n",
            "Epoch 225/500\n",
            "2/2 [==============================] - 0s 8ms/step - loss: 17.1773 - mae: 17.1773\n",
            "Epoch 226/500\n",
            "2/2 [==============================] - 0s 8ms/step - loss: 16.3482 - mae: 16.3482\n",
            "Epoch 227/500\n",
            "2/2 [==============================] - 0s 9ms/step - loss: 16.7238 - mae: 16.7238\n",
            "Epoch 228/500\n",
            "2/2 [==============================] - 0s 8ms/step - loss: 10.0971 - mae: 10.0971\n",
            "Epoch 229/500\n",
            "2/2 [==============================] - 0s 8ms/step - loss: 18.0275 - mae: 18.0275\n",
            "Epoch 230/500\n",
            "2/2 [==============================] - 0s 8ms/step - loss: 15.5932 - mae: 15.5932\n",
            "Epoch 231/500\n",
            "2/2 [==============================] - 0s 7ms/step - loss: 21.1686 - mae: 21.1686\n",
            "Epoch 232/500\n",
            "2/2 [==============================] - 0s 8ms/step - loss: 25.3572 - mae: 25.3572\n",
            "Epoch 233/500\n",
            "2/2 [==============================] - 0s 11ms/step - loss: 16.3819 - mae: 16.3819\n",
            "Epoch 234/500\n",
            "2/2 [==============================] - 0s 8ms/step - loss: 7.2846 - mae: 7.2846\n",
            "Epoch 235/500\n",
            "2/2 [==============================] - 0s 8ms/step - loss: 17.0355 - mae: 17.0355\n",
            "Epoch 236/500\n",
            "2/2 [==============================] - 0s 14ms/step - loss: 7.1424 - mae: 7.1424\n",
            "Epoch 237/500\n",
            "2/2 [==============================] - 0s 10ms/step - loss: 9.2365 - mae: 9.2365\n",
            "Epoch 238/500\n",
            "2/2 [==============================] - 0s 11ms/step - loss: 8.1112 - mae: 8.1112\n",
            "Epoch 239/500\n",
            "2/2 [==============================] - 0s 13ms/step - loss: 17.1318 - mae: 17.1318\n",
            "Epoch 240/500\n",
            "2/2 [==============================] - 0s 11ms/step - loss: 8.8893 - mae: 8.8893\n",
            "Epoch 241/500\n",
            "2/2 [==============================] - 0s 11ms/step - loss: 13.2280 - mae: 13.2280\n",
            "Epoch 242/500\n",
            "2/2 [==============================] - 0s 13ms/step - loss: 8.8080 - mae: 8.8080\n",
            "Epoch 243/500\n",
            "2/2 [==============================] - 0s 11ms/step - loss: 19.0043 - mae: 19.0043\n",
            "Epoch 244/500\n",
            "2/2 [==============================] - 0s 11ms/step - loss: 13.9672 - mae: 13.9672\n",
            "Epoch 245/500\n",
            "2/2 [==============================] - 0s 15ms/step - loss: 14.6071 - mae: 14.6071\n",
            "Epoch 246/500\n",
            "2/2 [==============================] - 0s 9ms/step - loss: 15.7363 - mae: 15.7363\n",
            "Epoch 247/500\n",
            "2/2 [==============================] - 0s 15ms/step - loss: 17.5906 - mae: 17.5906\n",
            "Epoch 248/500\n",
            "2/2 [==============================] - 0s 11ms/step - loss: 13.1522 - mae: 13.1522\n",
            "Epoch 249/500\n",
            "2/2 [==============================] - 0s 9ms/step - loss: 14.4558 - mae: 14.4558\n",
            "Epoch 250/500\n",
            "2/2 [==============================] - 0s 8ms/step - loss: 23.1354 - mae: 23.1354\n",
            "Epoch 251/500\n",
            "2/2 [==============================] - 0s 9ms/step - loss: 10.0656 - mae: 10.0656\n",
            "Epoch 252/500\n",
            "2/2 [==============================] - 0s 11ms/step - loss: 32.5419 - mae: 32.5419\n",
            "Epoch 253/500\n",
            "2/2 [==============================] - 0s 9ms/step - loss: 18.5983 - mae: 18.5983\n",
            "Epoch 254/500\n",
            "2/2 [==============================] - 0s 13ms/step - loss: 6.3282 - mae: 6.3282\n",
            "Epoch 255/500\n",
            "2/2 [==============================] - 0s 14ms/step - loss: 19.4549 - mae: 19.4549\n",
            "Epoch 256/500\n",
            "2/2 [==============================] - 0s 10ms/step - loss: 33.4734 - mae: 33.4734\n",
            "Epoch 257/500\n",
            "2/2 [==============================] - 0s 11ms/step - loss: 16.5366 - mae: 16.5366\n",
            "Epoch 258/500\n",
            "2/2 [==============================] - 0s 11ms/step - loss: 5.7947 - mae: 5.7947\n",
            "Epoch 259/500\n",
            "2/2 [==============================] - 0s 11ms/step - loss: 14.8186 - mae: 14.8186\n",
            "Epoch 260/500\n",
            "2/2 [==============================] - 0s 11ms/step - loss: 14.9522 - mae: 14.9522\n",
            "Epoch 261/500\n",
            "2/2 [==============================] - 0s 10ms/step - loss: 17.4323 - mae: 17.4323\n",
            "Epoch 262/500\n",
            "2/2 [==============================] - 0s 10ms/step - loss: 15.7659 - mae: 15.7659\n",
            "Epoch 263/500\n",
            "2/2 [==============================] - 0s 11ms/step - loss: 10.9252 - mae: 10.9252\n",
            "Epoch 264/500\n",
            "2/2 [==============================] - 0s 13ms/step - loss: 18.5083 - mae: 18.5083\n",
            "Epoch 265/500\n",
            "2/2 [==============================] - 0s 10ms/step - loss: 13.5109 - mae: 13.5109\n",
            "Epoch 266/500\n",
            "2/2 [==============================] - 0s 9ms/step - loss: 10.0163 - mae: 10.0163\n",
            "Epoch 267/500\n",
            "2/2 [==============================] - 0s 11ms/step - loss: 4.8953 - mae: 4.8953\n",
            "Epoch 268/500\n",
            "2/2 [==============================] - 0s 10ms/step - loss: 14.9872 - mae: 14.9872\n",
            "Epoch 269/500\n",
            "2/2 [==============================] - 0s 11ms/step - loss: 24.1513 - mae: 24.1513\n",
            "Epoch 270/500\n",
            "2/2 [==============================] - 0s 12ms/step - loss: 16.6632 - mae: 16.6632\n",
            "Epoch 271/500\n",
            "2/2 [==============================] - 0s 10ms/step - loss: 15.0876 - mae: 15.0876\n",
            "Epoch 272/500\n",
            "2/2 [==============================] - 0s 14ms/step - loss: 29.1697 - mae: 29.1697\n",
            "Epoch 273/500\n",
            "2/2 [==============================] - 0s 12ms/step - loss: 5.4313 - mae: 5.4313\n",
            "Epoch 274/500\n",
            "2/2 [==============================] - 0s 8ms/step - loss: 13.9510 - mae: 13.9510\n",
            "Epoch 275/500\n",
            "2/2 [==============================] - 0s 13ms/step - loss: 17.0162 - mae: 17.0162\n",
            "Epoch 276/500\n",
            "2/2 [==============================] - 0s 11ms/step - loss: 12.8060 - mae: 12.8060\n",
            "Epoch 277/500\n",
            "2/2 [==============================] - 0s 11ms/step - loss: 30.4066 - mae: 30.4066\n",
            "Epoch 278/500\n",
            "2/2 [==============================] - 0s 8ms/step - loss: 11.2261 - mae: 11.2261\n",
            "Epoch 279/500\n",
            "2/2 [==============================] - 0s 10ms/step - loss: 16.0171 - mae: 16.0171\n",
            "Epoch 280/500\n",
            "2/2 [==============================] - 0s 10ms/step - loss: 21.0668 - mae: 21.0668\n",
            "Epoch 281/500\n",
            "2/2 [==============================] - 0s 10ms/step - loss: 18.1512 - mae: 18.1512\n",
            "Epoch 282/500\n",
            "2/2 [==============================] - 0s 8ms/step - loss: 6.8574 - mae: 6.8574\n",
            "Epoch 283/500\n",
            "2/2 [==============================] - 0s 8ms/step - loss: 8.0436 - mae: 8.0436\n",
            "Epoch 284/500\n",
            "2/2 [==============================] - 0s 9ms/step - loss: 24.7268 - mae: 24.7268\n",
            "Epoch 285/500\n",
            "2/2 [==============================] - 0s 12ms/step - loss: 13.5277 - mae: 13.5277\n",
            "Epoch 286/500\n",
            "2/2 [==============================] - 0s 10ms/step - loss: 7.7199 - mae: 7.7199\n",
            "Epoch 287/500\n",
            "2/2 [==============================] - 0s 10ms/step - loss: 23.3801 - mae: 23.3801\n",
            "Epoch 288/500\n",
            "2/2 [==============================] - 0s 8ms/step - loss: 23.5760 - mae: 23.5760\n",
            "Epoch 289/500\n",
            "2/2 [==============================] - 0s 15ms/step - loss: 11.9863 - mae: 11.9863\n",
            "Epoch 290/500\n",
            "2/2 [==============================] - 0s 10ms/step - loss: 16.5544 - mae: 16.5544\n",
            "Epoch 291/500\n",
            "2/2 [==============================] - 0s 12ms/step - loss: 16.8221 - mae: 16.8221\n",
            "Epoch 292/500\n",
            "2/2 [==============================] - 0s 7ms/step - loss: 9.4359 - mae: 9.4359\n",
            "Epoch 293/500\n",
            "2/2 [==============================] - 0s 7ms/step - loss: 15.2609 - mae: 15.2609\n",
            "Epoch 294/500\n",
            "2/2 [==============================] - 0s 8ms/step - loss: 22.7257 - mae: 22.7257\n",
            "Epoch 295/500\n",
            "2/2 [==============================] - 0s 8ms/step - loss: 17.8961 - mae: 17.8961\n",
            "Epoch 296/500\n",
            "2/2 [==============================] - 0s 8ms/step - loss: 6.1109 - mae: 6.1109\n",
            "Epoch 297/500\n",
            "2/2 [==============================] - 0s 17ms/step - loss: 10.9177 - mae: 10.9177\n",
            "Epoch 298/500\n",
            "2/2 [==============================] - 0s 13ms/step - loss: 23.1379 - mae: 23.1379\n",
            "Epoch 299/500\n",
            "2/2 [==============================] - 0s 11ms/step - loss: 17.7633 - mae: 17.7633\n",
            "Epoch 300/500\n",
            "2/2 [==============================] - 0s 13ms/step - loss: 6.9319 - mae: 6.9319\n",
            "Epoch 301/500\n",
            "2/2 [==============================] - 0s 11ms/step - loss: 25.2157 - mae: 25.2157\n",
            "Epoch 302/500\n",
            "2/2 [==============================] - 0s 13ms/step - loss: 9.3752 - mae: 9.3752\n",
            "Epoch 303/500\n",
            "2/2 [==============================] - 0s 13ms/step - loss: 14.3578 - mae: 14.3578\n",
            "Epoch 304/500\n",
            "2/2 [==============================] - 0s 10ms/step - loss: 10.7423 - mae: 10.7423\n",
            "Epoch 305/500\n",
            "2/2 [==============================] - 0s 8ms/step - loss: 12.6267 - mae: 12.6267\n",
            "Epoch 306/500\n",
            "2/2 [==============================] - 0s 8ms/step - loss: 8.2138 - mae: 8.2138\n",
            "Epoch 307/500\n",
            "2/2 [==============================] - 0s 8ms/step - loss: 13.0800 - mae: 13.0800\n",
            "Epoch 308/500\n",
            "2/2 [==============================] - 0s 8ms/step - loss: 8.0934 - mae: 8.0934\n",
            "Epoch 309/500\n",
            "2/2 [==============================] - 0s 10ms/step - loss: 12.0331 - mae: 12.0331\n",
            "Epoch 310/500\n",
            "2/2 [==============================] - 0s 11ms/step - loss: 5.0194 - mae: 5.0194\n",
            "Epoch 311/500\n",
            "2/2 [==============================] - 0s 8ms/step - loss: 13.7951 - mae: 13.7951\n",
            "Epoch 312/500\n",
            "2/2 [==============================] - 0s 13ms/step - loss: 30.3973 - mae: 30.3973\n",
            "Epoch 313/500\n",
            "2/2 [==============================] - 0s 11ms/step - loss: 6.8821 - mae: 6.8821\n",
            "Epoch 314/500\n",
            "2/2 [==============================] - 0s 8ms/step - loss: 11.0439 - mae: 11.0439\n",
            "Epoch 315/500\n",
            "2/2 [==============================] - 0s 11ms/step - loss: 23.2793 - mae: 23.2793\n",
            "Epoch 316/500\n",
            "2/2 [==============================] - 0s 11ms/step - loss: 14.9164 - mae: 14.9164\n",
            "Epoch 317/500\n",
            "2/2 [==============================] - 0s 8ms/step - loss: 20.7679 - mae: 20.7679\n",
            "Epoch 318/500\n",
            "2/2 [==============================] - 0s 14ms/step - loss: 7.7933 - mae: 7.7933\n",
            "Epoch 319/500\n",
            "2/2 [==============================] - 0s 9ms/step - loss: 17.7357 - mae: 17.7357\n",
            "Epoch 320/500\n",
            "2/2 [==============================] - 0s 9ms/step - loss: 10.0536 - mae: 10.0536\n",
            "Epoch 321/500\n",
            "2/2 [==============================] - 0s 13ms/step - loss: 8.1649 - mae: 8.1649\n",
            "Epoch 322/500\n",
            "2/2 [==============================] - 0s 9ms/step - loss: 4.2021 - mae: 4.2021\n",
            "Epoch 323/500\n",
            "2/2 [==============================] - 0s 9ms/step - loss: 14.6536 - mae: 14.6536\n",
            "Epoch 324/500\n",
            "2/2 [==============================] - 0s 9ms/step - loss: 18.8329 - mae: 18.8329\n",
            "Epoch 325/500\n",
            "2/2 [==============================] - 0s 9ms/step - loss: 17.5859 - mae: 17.5859\n",
            "Epoch 326/500\n",
            "2/2 [==============================] - 0s 9ms/step - loss: 24.1445 - mae: 24.1445\n",
            "Epoch 327/500\n",
            "2/2 [==============================] - 0s 15ms/step - loss: 9.3120 - mae: 9.3120\n",
            "Epoch 328/500\n",
            "2/2 [==============================] - 0s 12ms/step - loss: 10.3209 - mae: 10.3209\n",
            "Epoch 329/500\n",
            "2/2 [==============================] - 0s 8ms/step - loss: 16.0088 - mae: 16.0088\n",
            "Epoch 330/500\n",
            "2/2 [==============================] - 0s 9ms/step - loss: 14.3321 - mae: 14.3321\n",
            "Epoch 331/500\n",
            "2/2 [==============================] - 0s 13ms/step - loss: 25.7914 - mae: 25.7914\n",
            "Epoch 332/500\n",
            "2/2 [==============================] - 0s 8ms/step - loss: 17.0904 - mae: 17.0904\n",
            "Epoch 333/500\n",
            "2/2 [==============================] - 0s 10ms/step - loss: 8.3914 - mae: 8.3914\n",
            "Epoch 334/500\n",
            "2/2 [==============================] - 0s 8ms/step - loss: 13.3254 - mae: 13.3254\n",
            "Epoch 335/500\n",
            "2/2 [==============================] - 0s 10ms/step - loss: 13.0446 - mae: 13.0446\n",
            "Epoch 336/500\n",
            "2/2 [==============================] - 0s 9ms/step - loss: 32.5657 - mae: 32.5657\n",
            "Epoch 337/500\n",
            "2/2 [==============================] - 0s 8ms/step - loss: 11.0947 - mae: 11.0947\n",
            "Epoch 338/500\n",
            "2/2 [==============================] - 0s 11ms/step - loss: 20.0707 - mae: 20.0707\n",
            "Epoch 339/500\n",
            "2/2 [==============================] - 0s 8ms/step - loss: 33.9789 - mae: 33.9789\n",
            "Epoch 340/500\n",
            "2/2 [==============================] - 0s 8ms/step - loss: 8.5592 - mae: 8.5592\n",
            "Epoch 341/500\n",
            "2/2 [==============================] - 0s 10ms/step - loss: 21.7336 - mae: 21.7336\n",
            "Epoch 342/500\n",
            "2/2 [==============================] - 0s 12ms/step - loss: 14.0026 - mae: 14.0026\n",
            "Epoch 343/500\n",
            "2/2 [==============================] - 0s 10ms/step - loss: 11.5160 - mae: 11.5160\n",
            "Epoch 344/500\n",
            "2/2 [==============================] - 0s 12ms/step - loss: 10.6056 - mae: 10.6056\n",
            "Epoch 345/500\n",
            "2/2 [==============================] - 0s 12ms/step - loss: 30.8045 - mae: 30.8045\n",
            "Epoch 346/500\n",
            "2/2 [==============================] - 0s 13ms/step - loss: 10.5490 - mae: 10.5490\n",
            "Epoch 347/500\n",
            "2/2 [==============================] - 0s 9ms/step - loss: 25.4018 - mae: 25.4018\n",
            "Epoch 348/500\n",
            "2/2 [==============================] - 0s 11ms/step - loss: 13.6370 - mae: 13.6370\n",
            "Epoch 349/500\n",
            "2/2 [==============================] - 0s 11ms/step - loss: 12.8640 - mae: 12.8640\n",
            "Epoch 350/500\n",
            "2/2 [==============================] - 0s 12ms/step - loss: 15.3191 - mae: 15.3191\n",
            "Epoch 351/500\n",
            "2/2 [==============================] - 0s 11ms/step - loss: 32.7831 - mae: 32.7831\n",
            "Epoch 352/500\n",
            "2/2 [==============================] - 0s 9ms/step - loss: 13.9344 - mae: 13.9344\n",
            "Epoch 353/500\n",
            "2/2 [==============================] - 0s 13ms/step - loss: 17.5820 - mae: 17.5820\n",
            "Epoch 354/500\n",
            "2/2 [==============================] - 0s 9ms/step - loss: 11.2526 - mae: 11.2526\n",
            "Epoch 355/500\n",
            "2/2 [==============================] - 0s 10ms/step - loss: 26.5878 - mae: 26.5878\n",
            "Epoch 356/500\n",
            "2/2 [==============================] - 0s 9ms/step - loss: 10.7375 - mae: 10.7375\n",
            "Epoch 357/500\n",
            "2/2 [==============================] - 0s 8ms/step - loss: 12.9799 - mae: 12.9799\n",
            "Epoch 358/500\n",
            "2/2 [==============================] - 0s 8ms/step - loss: 14.2960 - mae: 14.2960\n",
            "Epoch 359/500\n",
            "2/2 [==============================] - 0s 9ms/step - loss: 12.3662 - mae: 12.3662\n",
            "Epoch 360/500\n",
            "2/2 [==============================] - 0s 8ms/step - loss: 20.4391 - mae: 20.4391\n",
            "Epoch 361/500\n",
            "2/2 [==============================] - 0s 8ms/step - loss: 10.6992 - mae: 10.6992\n",
            "Epoch 362/500\n",
            "2/2 [==============================] - 0s 9ms/step - loss: 6.6978 - mae: 6.6978\n",
            "Epoch 363/500\n",
            "2/2 [==============================] - 0s 9ms/step - loss: 23.6409 - mae: 23.6409\n",
            "Epoch 364/500\n",
            "2/2 [==============================] - 0s 9ms/step - loss: 29.2665 - mae: 29.2665\n",
            "Epoch 365/500\n",
            "2/2 [==============================] - 0s 13ms/step - loss: 8.1169 - mae: 8.1169\n",
            "Epoch 366/500\n",
            "2/2 [==============================] - 0s 13ms/step - loss: 6.0105 - mae: 6.0105\n",
            "Epoch 367/500\n",
            "2/2 [==============================] - 0s 10ms/step - loss: 34.4799 - mae: 34.4799\n",
            "Epoch 368/500\n",
            "2/2 [==============================] - 0s 9ms/step - loss: 7.2279 - mae: 7.2279\n",
            "Epoch 369/500\n",
            "2/2 [==============================] - 0s 9ms/step - loss: 9.0438 - mae: 9.0438\n",
            "Epoch 370/500\n",
            "2/2 [==============================] - 0s 9ms/step - loss: 10.7500 - mae: 10.7500\n",
            "Epoch 371/500\n",
            "2/2 [==============================] - 0s 10ms/step - loss: 8.8218 - mae: 8.8218\n",
            "Epoch 372/500\n",
            "2/2 [==============================] - 0s 9ms/step - loss: 7.6538 - mae: 7.6538\n",
            "Epoch 373/500\n",
            "2/2 [==============================] - 0s 11ms/step - loss: 25.1105 - mae: 25.1105\n",
            "Epoch 374/500\n",
            "2/2 [==============================] - 0s 9ms/step - loss: 13.0877 - mae: 13.0877\n",
            "Epoch 375/500\n",
            "2/2 [==============================] - 0s 9ms/step - loss: 11.8793 - mae: 11.8793\n",
            "Epoch 376/500\n",
            "2/2 [==============================] - 0s 10ms/step - loss: 14.1727 - mae: 14.1727\n",
            "Epoch 377/500\n",
            "2/2 [==============================] - 0s 10ms/step - loss: 15.7208 - mae: 15.7208\n",
            "Epoch 378/500\n",
            "2/2 [==============================] - 0s 15ms/step - loss: 17.0611 - mae: 17.0611\n",
            "Epoch 379/500\n",
            "2/2 [==============================] - 0s 12ms/step - loss: 28.4425 - mae: 28.4425\n",
            "Epoch 380/500\n",
            "2/2 [==============================] - 0s 12ms/step - loss: 24.3188 - mae: 24.3188\n",
            "Epoch 381/500\n",
            "2/2 [==============================] - 0s 10ms/step - loss: 6.7385 - mae: 6.7385\n",
            "Epoch 382/500\n",
            "2/2 [==============================] - 0s 11ms/step - loss: 16.9480 - mae: 16.9480\n",
            "Epoch 383/500\n",
            "2/2 [==============================] - 0s 12ms/step - loss: 22.8690 - mae: 22.8690\n",
            "Epoch 384/500\n",
            "2/2 [==============================] - 0s 13ms/step - loss: 11.6134 - mae: 11.6134\n",
            "Epoch 385/500\n",
            "2/2 [==============================] - 0s 11ms/step - loss: 15.5667 - mae: 15.5667\n",
            "Epoch 386/500\n",
            "2/2 [==============================] - 0s 14ms/step - loss: 25.9112 - mae: 25.9112\n",
            "Epoch 387/500\n",
            "2/2 [==============================] - 0s 9ms/step - loss: 13.0975 - mae: 13.0975\n",
            "Epoch 388/500\n",
            "2/2 [==============================] - 0s 9ms/step - loss: 7.2966 - mae: 7.2966\n",
            "Epoch 389/500\n",
            "2/2 [==============================] - 0s 12ms/step - loss: 17.0604 - mae: 17.0604\n",
            "Epoch 390/500\n",
            "2/2 [==============================] - 0s 9ms/step - loss: 22.9159 - mae: 22.9159\n",
            "Epoch 391/500\n",
            "2/2 [==============================] - 0s 8ms/step - loss: 18.7597 - mae: 18.7597\n",
            "Epoch 392/500\n",
            "2/2 [==============================] - 0s 9ms/step - loss: 5.8029 - mae: 5.8029\n",
            "Epoch 393/500\n",
            "2/2 [==============================] - 0s 9ms/step - loss: 20.3768 - mae: 20.3768\n",
            "Epoch 394/500\n",
            "2/2 [==============================] - 0s 10ms/step - loss: 22.6086 - mae: 22.6086\n",
            "Epoch 395/500\n",
            "2/2 [==============================] - 0s 12ms/step - loss: 17.7057 - mae: 17.7057\n",
            "Epoch 396/500\n",
            "2/2 [==============================] - 0s 10ms/step - loss: 7.6636 - mae: 7.6636\n",
            "Epoch 397/500\n",
            "2/2 [==============================] - 0s 9ms/step - loss: 9.1911 - mae: 9.1911\n",
            "Epoch 398/500\n",
            "2/2 [==============================] - 0s 9ms/step - loss: 11.8691 - mae: 11.8691\n",
            "Epoch 399/500\n",
            "2/2 [==============================] - 0s 10ms/step - loss: 10.5850 - mae: 10.5850\n",
            "Epoch 400/500\n",
            "2/2 [==============================] - 0s 11ms/step - loss: 21.8417 - mae: 21.8417\n",
            "Epoch 401/500\n",
            "2/2 [==============================] - 0s 8ms/step - loss: 14.9999 - mae: 14.9999\n",
            "Epoch 402/500\n",
            "2/2 [==============================] - 0s 9ms/step - loss: 8.4801 - mae: 8.4801\n",
            "Epoch 403/500\n",
            "2/2 [==============================] - 0s 10ms/step - loss: 10.4794 - mae: 10.4794\n",
            "Epoch 404/500\n",
            "2/2 [==============================] - 0s 11ms/step - loss: 10.3256 - mae: 10.3256\n",
            "Epoch 405/500\n",
            "2/2 [==============================] - 0s 8ms/step - loss: 6.3076 - mae: 6.3076\n",
            "Epoch 406/500\n",
            "2/2 [==============================] - 0s 10ms/step - loss: 19.8938 - mae: 19.8938\n",
            "Epoch 407/500\n",
            "2/2 [==============================] - 0s 8ms/step - loss: 9.6831 - mae: 9.6831\n",
            "Epoch 408/500\n",
            "2/2 [==============================] - 0s 8ms/step - loss: 21.3390 - mae: 21.3390\n",
            "Epoch 409/500\n",
            "2/2 [==============================] - 0s 11ms/step - loss: 29.5300 - mae: 29.5300\n",
            "Epoch 410/500\n",
            "2/2 [==============================] - 0s 8ms/step - loss: 9.9895 - mae: 9.9895\n",
            "Epoch 411/500\n",
            "2/2 [==============================] - 0s 8ms/step - loss: 14.8237 - mae: 14.8237\n",
            "Epoch 412/500\n",
            "2/2 [==============================] - 0s 8ms/step - loss: 21.6694 - mae: 21.6694\n",
            "Epoch 413/500\n",
            "2/2 [==============================] - 0s 7ms/step - loss: 12.7213 - mae: 12.7213\n",
            "Epoch 414/500\n",
            "2/2 [==============================] - 0s 8ms/step - loss: 5.4884 - mae: 5.4884\n",
            "Epoch 415/500\n",
            "2/2 [==============================] - 0s 8ms/step - loss: 13.5984 - mae: 13.5984\n",
            "Epoch 416/500\n",
            "2/2 [==============================] - 0s 8ms/step - loss: 28.1963 - mae: 28.1963\n",
            "Epoch 417/500\n",
            "2/2 [==============================] - 0s 8ms/step - loss: 8.0822 - mae: 8.0822\n",
            "Epoch 418/500\n",
            "2/2 [==============================] - 0s 8ms/step - loss: 8.0719 - mae: 8.0719\n",
            "Epoch 419/500\n",
            "2/2 [==============================] - 0s 11ms/step - loss: 15.3355 - mae: 15.3355\n",
            "Epoch 420/500\n",
            "2/2 [==============================] - 0s 13ms/step - loss: 23.6457 - mae: 23.6457\n",
            "Epoch 421/500\n",
            "2/2 [==============================] - 0s 11ms/step - loss: 20.2661 - mae: 20.2661\n",
            "Epoch 422/500\n",
            "2/2 [==============================] - 0s 11ms/step - loss: 5.8167 - mae: 5.8167\n",
            "Epoch 423/500\n",
            "2/2 [==============================] - 0s 10ms/step - loss: 21.7759 - mae: 21.7759\n",
            "Epoch 424/500\n",
            "2/2 [==============================] - 0s 9ms/step - loss: 5.8656 - mae: 5.8656\n",
            "Epoch 425/500\n",
            "2/2 [==============================] - 0s 8ms/step - loss: 21.8547 - mae: 21.8547\n",
            "Epoch 426/500\n",
            "2/2 [==============================] - 0s 8ms/step - loss: 10.3127 - mae: 10.3127\n",
            "Epoch 427/500\n",
            "2/2 [==============================] - 0s 8ms/step - loss: 4.2689 - mae: 4.2689\n",
            "Epoch 428/500\n",
            "2/2 [==============================] - 0s 10ms/step - loss: 18.9967 - mae: 18.9967\n",
            "Epoch 429/500\n",
            "2/2 [==============================] - 0s 11ms/step - loss: 31.5795 - mae: 31.5795\n",
            "Epoch 430/500\n",
            "2/2 [==============================] - 0s 9ms/step - loss: 23.9026 - mae: 23.9026\n",
            "Epoch 431/500\n",
            "2/2 [==============================] - 0s 12ms/step - loss: 15.5590 - mae: 15.5590\n",
            "Epoch 432/500\n",
            "2/2 [==============================] - 0s 11ms/step - loss: 10.6682 - mae: 10.6682\n",
            "Epoch 433/500\n",
            "2/2 [==============================] - 0s 14ms/step - loss: 9.4272 - mae: 9.4272\n",
            "Epoch 434/500\n",
            "2/2 [==============================] - 0s 15ms/step - loss: 30.9316 - mae: 30.9316\n",
            "Epoch 435/500\n",
            "2/2 [==============================] - 0s 13ms/step - loss: 11.7874 - mae: 11.7874\n",
            "Epoch 436/500\n",
            "2/2 [==============================] - 0s 11ms/step - loss: 28.7089 - mae: 28.7089\n",
            "Epoch 437/500\n",
            "2/2 [==============================] - 0s 10ms/step - loss: 7.4920 - mae: 7.4920\n",
            "Epoch 438/500\n",
            "2/2 [==============================] - 0s 11ms/step - loss: 13.1246 - mae: 13.1246\n",
            "Epoch 439/500\n",
            "2/2 [==============================] - 0s 10ms/step - loss: 34.0920 - mae: 34.0920\n",
            "Epoch 440/500\n",
            "2/2 [==============================] - 0s 11ms/step - loss: 15.6851 - mae: 15.6851\n",
            "Epoch 441/500\n",
            "2/2 [==============================] - 0s 9ms/step - loss: 18.2390 - mae: 18.2390\n",
            "Epoch 442/500\n",
            "2/2 [==============================] - 0s 11ms/step - loss: 27.2791 - mae: 27.2791\n",
            "Epoch 443/500\n",
            "2/2 [==============================] - 0s 9ms/step - loss: 10.3831 - mae: 10.3831\n",
            "Epoch 444/500\n",
            "2/2 [==============================] - 0s 13ms/step - loss: 6.2385 - mae: 6.2385\n",
            "Epoch 445/500\n",
            "2/2 [==============================] - 0s 12ms/step - loss: 7.8407 - mae: 7.8407\n",
            "Epoch 446/500\n",
            "2/2 [==============================] - 0s 11ms/step - loss: 15.9388 - mae: 15.9388\n",
            "Epoch 447/500\n",
            "2/2 [==============================] - 0s 9ms/step - loss: 9.2191 - mae: 9.2191\n",
            "Epoch 448/500\n",
            "2/2 [==============================] - 0s 11ms/step - loss: 3.2304 - mae: 3.2304\n",
            "Epoch 449/500\n",
            "2/2 [==============================] - 0s 10ms/step - loss: 14.3137 - mae: 14.3137\n",
            "Epoch 450/500\n",
            "2/2 [==============================] - 0s 9ms/step - loss: 17.0563 - mae: 17.0563\n",
            "Epoch 451/500\n",
            "2/2 [==============================] - 0s 9ms/step - loss: 14.3953 - mae: 14.3953\n",
            "Epoch 452/500\n",
            "2/2 [==============================] - 0s 9ms/step - loss: 30.8965 - mae: 30.8965\n",
            "Epoch 453/500\n",
            "2/2 [==============================] - 0s 9ms/step - loss: 9.0883 - mae: 9.0883\n",
            "Epoch 454/500\n",
            "2/2 [==============================] - 0s 9ms/step - loss: 27.1980 - mae: 27.1980\n",
            "Epoch 455/500\n",
            "2/2 [==============================] - 0s 8ms/step - loss: 11.4084 - mae: 11.4084\n",
            "Epoch 456/500\n",
            "2/2 [==============================] - 0s 13ms/step - loss: 15.6268 - mae: 15.6268\n",
            "Epoch 457/500\n",
            "2/2 [==============================] - 0s 9ms/step - loss: 19.2724 - mae: 19.2724\n",
            "Epoch 458/500\n",
            "2/2 [==============================] - 0s 9ms/step - loss: 23.0476 - mae: 23.0476\n",
            "Epoch 459/500\n",
            "2/2 [==============================] - 0s 9ms/step - loss: 16.4808 - mae: 16.4808\n",
            "Epoch 460/500\n",
            "2/2 [==============================] - 0s 8ms/step - loss: 7.4123 - mae: 7.4123\n",
            "Epoch 461/500\n",
            "2/2 [==============================] - 0s 14ms/step - loss: 15.6722 - mae: 15.6722\n",
            "Epoch 462/500\n",
            "2/2 [==============================] - 0s 9ms/step - loss: 15.1689 - mae: 15.1689\n",
            "Epoch 463/500\n",
            "2/2 [==============================] - 0s 10ms/step - loss: 16.8047 - mae: 16.8047\n",
            "Epoch 464/500\n",
            "2/2 [==============================] - 0s 8ms/step - loss: 11.2240 - mae: 11.2240\n",
            "Epoch 465/500\n",
            "2/2 [==============================] - 0s 8ms/step - loss: 21.5409 - mae: 21.5409\n",
            "Epoch 466/500\n",
            "2/2 [==============================] - 0s 8ms/step - loss: 25.0132 - mae: 25.0132\n",
            "Epoch 467/500\n",
            "2/2 [==============================] - 0s 13ms/step - loss: 14.8420 - mae: 14.8420\n",
            "Epoch 468/500\n",
            "2/2 [==============================] - 0s 10ms/step - loss: 10.3596 - mae: 10.3596\n",
            "Epoch 469/500\n",
            "2/2 [==============================] - 0s 10ms/step - loss: 27.3674 - mae: 27.3674\n",
            "Epoch 470/500\n",
            "2/2 [==============================] - 0s 9ms/step - loss: 12.4194 - mae: 12.4194\n",
            "Epoch 471/500\n",
            "2/2 [==============================] - 0s 9ms/step - loss: 12.0839 - mae: 12.0839\n",
            "Epoch 472/500\n",
            "2/2 [==============================] - 0s 8ms/step - loss: 15.5059 - mae: 15.5059\n",
            "Epoch 473/500\n",
            "2/2 [==============================] - 0s 10ms/step - loss: 15.5128 - mae: 15.5128\n",
            "Epoch 474/500\n",
            "2/2 [==============================] - 0s 8ms/step - loss: 9.0901 - mae: 9.0901\n",
            "Epoch 475/500\n",
            "2/2 [==============================] - 0s 10ms/step - loss: 7.1741 - mae: 7.1741\n",
            "Epoch 476/500\n",
            "2/2 [==============================] - 0s 8ms/step - loss: 11.9023 - mae: 11.9023\n",
            "Epoch 477/500\n",
            "2/2 [==============================] - 0s 9ms/step - loss: 27.9638 - mae: 27.9638\n",
            "Epoch 478/500\n",
            "2/2 [==============================] - 0s 8ms/step - loss: 8.5710 - mae: 8.5710\n",
            "Epoch 479/500\n",
            "2/2 [==============================] - 0s 9ms/step - loss: 12.1121 - mae: 12.1121\n",
            "Epoch 480/500\n",
            "2/2 [==============================] - 0s 9ms/step - loss: 18.3823 - mae: 18.3823\n",
            "Epoch 481/500\n",
            "2/2 [==============================] - 0s 10ms/step - loss: 16.2261 - mae: 16.2261\n",
            "Epoch 482/500\n",
            "2/2 [==============================] - 0s 12ms/step - loss: 15.0395 - mae: 15.0395\n",
            "Epoch 483/500\n",
            "2/2 [==============================] - 0s 11ms/step - loss: 20.4977 - mae: 20.4977\n",
            "Epoch 484/500\n",
            "2/2 [==============================] - 0s 9ms/step - loss: 35.2164 - mae: 35.2164\n",
            "Epoch 485/500\n",
            "2/2 [==============================] - 0s 9ms/step - loss: 13.8869 - mae: 13.8869\n",
            "Epoch 486/500\n",
            "2/2 [==============================] - 0s 9ms/step - loss: 6.9802 - mae: 6.9802\n",
            "Epoch 487/500\n",
            "2/2 [==============================] - 0s 11ms/step - loss: 6.2341 - mae: 6.2341\n",
            "Epoch 488/500\n",
            "2/2 [==============================] - 0s 9ms/step - loss: 29.7300 - mae: 29.7300\n",
            "Epoch 489/500\n",
            "2/2 [==============================] - 0s 13ms/step - loss: 12.6824 - mae: 12.6824\n",
            "Epoch 490/500\n",
            "2/2 [==============================] - 0s 9ms/step - loss: 13.1139 - mae: 13.1139\n",
            "Epoch 491/500\n",
            "2/2 [==============================] - 0s 9ms/step - loss: 24.3924 - mae: 24.3924\n",
            "Epoch 492/500\n",
            "2/2 [==============================] - 0s 9ms/step - loss: 18.5416 - mae: 18.5416\n",
            "Epoch 493/500\n",
            "2/2 [==============================] - 0s 8ms/step - loss: 4.7246 - mae: 4.7246\n",
            "Epoch 494/500\n",
            "2/2 [==============================] - 0s 10ms/step - loss: 11.9126 - mae: 11.9126\n",
            "Epoch 495/500\n",
            "2/2 [==============================] - 0s 12ms/step - loss: 13.7292 - mae: 13.7292\n",
            "Epoch 496/500\n",
            "2/2 [==============================] - 0s 11ms/step - loss: 12.9178 - mae: 12.9178\n",
            "Epoch 497/500\n",
            "2/2 [==============================] - 0s 11ms/step - loss: 18.0533 - mae: 18.0533\n",
            "Epoch 498/500\n",
            "2/2 [==============================] - 0s 13ms/step - loss: 22.5673 - mae: 22.5673\n",
            "Epoch 499/500\n",
            "2/2 [==============================] - 0s 12ms/step - loss: 8.4797 - mae: 8.4797\n",
            "Epoch 500/500\n",
            "2/2 [==============================] - 0s 12ms/step - loss: 14.4509 - mae: 14.4509\n"
          ]
        },
        {
          "output_type": "execute_result",
          "data": {
            "text/plain": [
              "<keras.src.callbacks.History at 0x7868e0cd3d00>"
            ]
          },
          "metadata": {},
          "execution_count": 56
        }
      ]
    },
    {
      "cell_type": "code",
      "source": [
        "# Make and plot some predictions\n",
        "y_preds_3 = model_3.predict(X_test)\n",
        "plot_predictions(predictions=y_preds_3)"
      ],
      "metadata": {
        "colab": {
          "base_uri": "https://localhost:8080/",
          "height": 617
        },
        "id": "wXfQ-uCS_6JS",
        "outputId": "5c63ce8a-d3c3-4a52-f8e6-3fbdd59f3a9c"
      },
      "execution_count": 57,
      "outputs": [
        {
          "output_type": "stream",
          "name": "stdout",
          "text": [
            "1/1 [==============================] - 0s 142ms/step\n"
          ]
        },
        {
          "output_type": "display_data",
          "data": {
            "text/plain": [
              "<Figure size 1000x700 with 1 Axes>"
            ],
            "image/png": "[encoded data removed]"
          },
          "metadata": {}
        }
      ]
    },
    {
      "cell_type": "code",
      "source": [
        "# Calculate model_3 evaluation metrics\n",
        "mae_3 = mae(y_test, y_preds_3)\n",
        "mse_3 = mse(y_test, y_preds_3)\n",
        "mae_3, mse_3"
      ],
      "metadata": {
        "colab": {
          "base_uri": "https://localhost:8080/"
        },
        "id": "tYUHXqA2AMJc",
        "outputId": "9cacd606-ded6-4560-8d08-d0674206f2e9"
      },
      "execution_count": 58,
      "outputs": [
        {
          "output_type": "execute_result",
          "data": {
            "text/plain": [
              "(<tf.Tensor: shape=(), dtype=float32, numpy=68.11183>,\n",
              " <tf.Tensor: shape=(), dtype=float32, numpy=4724.2656>)"
            ]
          },
          "metadata": {},
          "execution_count": 58
        }
      ]
    },
    {
      "cell_type": "markdown",
      "source": [
        "🗝️ **Note:** you want to start with small experiments (small models) and make sure they work and tehn increase their scale when necessary."
      ],
      "metadata": {
        "id": "jFi3hYR3Bwek"
      }
    },
    {
      "cell_type": "markdown",
      "source": [
        "### Comparing the results of our experiments\n",
        "We've run few experiments, let's compare the results."
      ],
      "metadata": {
        "id": "ieDrq3M8Aln4"
      }
    },
    {
      "cell_type": "code",
      "source": [
        "# Let's compare our model's results using a pandas DataFrame\n",
        "import pandas as pd\n",
        "# change to numpy to read able mae and mse\n",
        "model_results = [[\"model_1\", mae_1.numpy(), mse_1.numpy()],\n",
        "                 [\"model_2\", mae_2.numpy(), mse_2.numpy()],\n",
        "                 [\"model_3\", mae_3.numpy(), mse_3.numpy()]]\n",
        "\n",
        "all_results = pd.DataFrame(model_results, columns=[\"model\", \"mae\", \"mse\"])\n",
        "all_results"
      ],
      "metadata": {
        "colab": {
          "base_uri": "https://localhost:8080/",
          "height": 143
        },
        "id": "Uf9uMrsYAuh4",
        "outputId": "2d59144d-f5d3-4b0f-b1b9-9e41a6937955"
      },
      "execution_count": 59,
      "outputs": [
        {
          "output_type": "execute_result",
          "data": {
            "text/plain": [
              "     model        mae          mse\n",
              "0  model_1  14.998133   225.793823\n",
              "1  model_2  11.115316   131.667389\n",
              "2  model_3  68.111832  4724.265625"
            ],
            "text/html": [
              "\n",
              "  <div id=\"df-f11e8ec6-123a-4c0e-a7f3-00d891194202\" class=\"colab-df-container\">\n",
              "    <div>\n",
              "<style scoped>\n",
              "    .dataframe tbody tr th:only-of-type {\n",
              "        vertical-align: middle;\n",
              "    }\n",
              "\n",
              "    .dataframe tbody tr th {\n",
              "        vertical-align: top;\n",
              "    }\n",
              "\n",
              "    .dataframe thead th {\n",
              "        text-align: right;\n",
              "    }\n",
              "</style>\n",
              "<table border=\"1\" class=\"dataframe\">\n",
              "  <thead>\n",
              "    <tr style=\"text-align: right;\">\n",
              "      <th></th>\n",
              "      <th>model</th>\n",
              "      <th>mae</th>\n",
              "      <th>mse</th>\n",
              "    </tr>\n",
              "  </thead>\n",
              "  <tbody>\n",
              "    <tr>\n",
              "      <th>0</th>\n",
              "      <td>model_1</td>\n",
              "      <td>14.998133</td>\n",
              "      <td>225.793823</td>\n",
              "    </tr>\n",
              "    <tr>\n",
              "      <th>1</th>\n",
              "      <td>model_2</td>\n",
              "      <td>11.115316</td>\n",
              "      <td>131.667389</td>\n",
              "    </tr>\n",
              "    <tr>\n",
              "      <th>2</th>\n",
              "      <td>model_3</td>\n",
              "      <td>68.111832</td>\n",
              "      <td>4724.265625</td>\n",
              "    </tr>\n",
              "  </tbody>\n",
              "</table>\n",
              "</div>\n",
              "    <div class=\"colab-df-buttons\">\n",
              "\n",
              "  <div class=\"colab-df-container\">\n",
              "    <button class=\"colab-df-convert\" onclick=\"convertToInteractive('df-f11e8ec6-123a-4c0e-a7f3-00d891194202')\"\n",
              "            title=\"Convert this dataframe to an interactive table.\"\n",
              "            style=\"display:none;\">\n",
              "\n",
              "  <svg xmlns=\"http://www.w3.org/2000/svg\" height=\"24px\" viewBox=\"0 -960 960 960\">\n",
              "    <path d=\"M120-120v-720h720v720H120Zm60-500h600v-160H180v160Zm220 220h160v-160H400v160Zm0 220h160v-160H400v160ZM180-400h160v-160H180v160Zm440 0h160v-160H620v160ZM180-180h160v-160H180v160Zm440 0h160v-160H620v160Z\"/>\n",
              "  </svg>\n",
              "    </button>\n",
              "\n",
              "  <style>\n",
              "    .colab-df-container {\n",
              "      display:flex;\n",
              "      gap: 12px;\n",
              "    }\n",
              "\n",
              "    .colab-df-convert {\n",
              "      background-color: #E8F0FE;\n",
              "      border: none;\n",
              "      border-radius: 50%;\n",
              "      cursor: pointer;\n",
              "      display: none;\n",
              "      fill: #1967D2;\n",
              "      height: 32px;\n",
              "      padding: 0 0 0 0;\n",
              "      width: 32px;\n",
              "    }\n",
              "\n",
              "    .colab-df-convert:hover {\n",
              "      background-color: #E2EBFA;\n",
              "      box-shadow: 0px 1px 2px rgba(60, 64, 67, 0.3), 0px 1px 3px 1px rgba(60, 64, 67, 0.15);\n",
              "      fill: #174EA6;\n",
              "    }\n",
              "\n",
              "    .colab-df-buttons div {\n",
              "      margin-bottom: 4px;\n",
              "    }\n",
              "\n",
              "    [theme=dark] .colab-df-convert {\n",
              "      background-color: #3B4455;\n",
              "      fill: #D2E3FC;\n",
              "    }\n",
              "\n",
              "    [theme=dark] .colab-df-convert:hover {\n",
              "      background-color: #434B5C;\n",
              "      box-shadow: 0px 1px 3px 1px rgba(0, 0, 0, 0.15);\n",
              "      filter: drop-shadow(0px 1px 2px rgba(0, 0, 0, 0.3));\n",
              "      fill: #FFFFFF;\n",
              "    }\n",
              "  </style>\n",
              "\n",
              "    <script>\n",
              "      const buttonEl =\n",
              "        document.querySelector('#df-f11e8ec6-123a-4c0e-a7f3-00d891194202 button.colab-df-convert');\n",
              "      buttonEl.style.display =\n",
              "        google.colab.kernel.accessAllowed ? 'block' : 'none';\n",
              "\n",
              "      async function convertToInteractive(key) {\n",
              "        const element = document.querySelector('#df-f11e8ec6-123a-4c0e-a7f3-00d891194202');\n",
              "        const dataTable =\n",
              "          await google.colab.kernel.invokeFunction('convertToInteractive',\n",
              "                                                    [key], {});\n",
              "        if (!dataTable) return;\n",
              "\n",
              "        const docLinkHtml = 'Like what you see? Visit the ' +\n",
              "          '<a target=\"_blank\" href=https://colab.research.google.com/notebooks/data_table.ipynb>data table notebook</a>'\n",
              "          + ' to learn more about interactive tables.';\n",
              "        element.innerHTML = '';\n",
              "        dataTable['output_type'] = 'display_data';\n",
              "        await google.colab.output.renderOutput(dataTable, element);\n",
              "        const docLink = document.createElement('div');\n",
              "        docLink.innerHTML = docLinkHtml;\n",
              "        element.appendChild(docLink);\n",
              "      }\n",
              "    </script>\n",
              "  </div>\n",
              "\n",
              "\n",
              "<div id=\"df-48af009c-8c3a-4607-865a-fa86312bd38e\">\n",
              "  <button class=\"colab-df-quickchart\" onclick=\"quickchart('df-48af009c-8c3a-4607-865a-fa86312bd38e')\"\n",
              "            title=\"Suggest charts\"\n",
              "            style=\"display:none;\">\n",
              "\n",
              "<svg xmlns=\"http://www.w3.org/2000/svg\" height=\"24px\"viewBox=\"0 0 24 24\"\n",
              "     width=\"24px\">\n",
              "    <g>\n",
              "        <path d=\"M19 3H5c-1.1 0-2 .9-2 2v14c0 1.1.9 2 2 2h14c1.1 0 2-.9 2-2V5c0-1.1-.9-2-2-2zM9 17H7v-7h2v7zm4 0h-2V7h2v10zm4 0h-2v-4h2v4z\"/>\n",
              "    </g>\n",
              "</svg>\n",
              "  </button>\n",
              "\n",
              "<style>\n",
              "  .colab-df-quickchart {\n",
              "      --bg-color: #E8F0FE;\n",
              "      --fill-color: #1967D2;\n",
              "      --hover-bg-color: #E2EBFA;\n",
              "      --hover-fill-color: #174EA6;\n",
              "      --disabled-fill-color: #AAA;\n",
              "      --disabled-bg-color: #DDD;\n",
              "  }\n",
              "\n",
              "  [theme=dark] .colab-df-quickchart {\n",
              "      --bg-color: #3B4455;\n",
              "      --fill-color: #D2E3FC;\n",
              "      --hover-bg-color: #434B5C;\n",
              "      --hover-fill-color: #FFFFFF;\n",
              "      --disabled-bg-color: #3B4455;\n",
              "      --disabled-fill-color: #666;\n",
              "  }\n",
              "\n",
              "  .colab-df-quickchart {\n",
              "    background-color: var(--bg-color);\n",
              "    border: none;\n",
              "    border-radius: 50%;\n",
              "    cursor: pointer;\n",
              "    display: none;\n",
              "    fill: var(--fill-color);\n",
              "    height: 32px;\n",
              "    padding: 0;\n",
              "    width: 32px;\n",
              "  }\n",
              "\n",
              "  .colab-df-quickchart:hover {\n",
              "    background-color: var(--hover-bg-color);\n",
              "    box-shadow: 0 1px 2px rgba(60, 64, 67, 0.3), 0 1px 3px 1px rgba(60, 64, 67, 0.15);\n",
              "    fill: var(--button-hover-fill-color);\n",
              "  }\n",
              "\n",
              "  .colab-df-quickchart-complete:disabled,\n",
              "  .colab-df-quickchart-complete:disabled:hover {\n",
              "    background-color: var(--disabled-bg-color);\n",
              "    fill: var(--disabled-fill-color);\n",
              "    box-shadow: none;\n",
              "  }\n",
              "\n",
              "  .colab-df-spinner {\n",
              "    border: 2px solid var(--fill-color);\n",
              "    border-color: transparent;\n",
              "    border-bottom-color: var(--fill-color);\n",
              "    animation:\n",
              "      spin 1s steps(1) infinite;\n",
              "  }\n",
              "\n",
              "  @keyframes spin {\n",
              "    0% {\n",
              "      border-color: transparent;\n",
              "      border-bottom-color: var(--fill-color);\n",
              "      border-left-color: var(--fill-color);\n",
              "    }\n",
              "    20% {\n",
              "      border-color: transparent;\n",
              "      border-left-color: var(--fill-color);\n",
              "      border-top-color: var(--fill-color);\n",
              "    }\n",
              "    30% {\n",
              "      border-color: transparent;\n",
              "      border-left-color: var(--fill-color);\n",
              "      border-top-color: var(--fill-color);\n",
              "      border-right-color: var(--fill-color);\n",
              "    }\n",
              "    40% {\n",
              "      border-color: transparent;\n",
              "      border-right-color: var(--fill-color);\n",
              "      border-top-color: var(--fill-color);\n",
              "    }\n",
              "    60% {\n",
              "      border-color: transparent;\n",
              "      border-right-color: var(--fill-color);\n",
              "    }\n",
              "    80% {\n",
              "      border-color: transparent;\n",
              "      border-right-color: var(--fill-color);\n",
              "      border-bottom-color: var(--fill-color);\n",
              "    }\n",
              "    90% {\n",
              "      border-color: transparent;\n",
              "      border-bottom-color: var(--fill-color);\n",
              "    }\n",
              "  }\n",
              "</style>\n",
              "\n",
              "  <script>\n",
              "    async function quickchart(key) {\n",
              "      const quickchartButtonEl =\n",
              "        document.querySelector('#' + key + ' button');\n",
              "      quickchartButtonEl.disabled = true;  // To prevent multiple clicks.\n",
              "      quickchartButtonEl.classList.add('colab-df-spinner');\n",
              "      try {\n",
              "        const charts = await google.colab.kernel.invokeFunction(\n",
              "            'suggestCharts', [key], {});\n",
              "      } catch (error) {\n",
              "        console.error('Error during call to suggestCharts:', error);\n",
              "      }\n",
              "      quickchartButtonEl.classList.remove('colab-df-spinner');\n",
              "      quickchartButtonEl.classList.add('colab-df-quickchart-complete');\n",
              "    }\n",
              "    (() => {\n",
              "      let quickchartButtonEl =\n",
              "        document.querySelector('#df-48af009c-8c3a-4607-865a-fa86312bd38e button');\n",
              "      quickchartButtonEl.style.display =\n",
              "        google.colab.kernel.accessAllowed ? 'block' : 'none';\n",
              "    })();\n",
              "  </script>\n",
              "</div>\n",
              "    </div>\n",
              "  </div>\n"
            ],
            "application/vnd.google.colaboratory.intrinsic+json": {
              "type": "dataframe",
              "variable_name": "all_results",
              "summary": "{\n  \"name\": \"all_results\",\n  \"rows\": 3,\n  \"fields\": [\n    {\n      \"column\": \"model\",\n      \"properties\": {\n        \"dtype\": \"string\",\n        \"num_unique_values\": 3,\n        \"samples\": [\n          \"model_1\",\n          \"model_2\",\n          \"model_3\"\n        ],\n        \"semantic_type\": \"\",\n        \"description\": \"\"\n      }\n    },\n    {\n      \"column\": \"mae\",\n      \"properties\": {\n        \"dtype\": \"float32\",\n        \"num_unique_values\": 3,\n        \"samples\": [\n          14.998132705688477,\n          11.115316390991211,\n          68.11183166503906\n        ],\n        \"semantic_type\": \"\",\n        \"description\": \"\"\n      }\n    },\n    {\n      \"column\": \"mse\",\n      \"properties\": {\n        \"dtype\": \"float32\",\n        \"num_unique_values\": 3,\n        \"samples\": [\n          225.7938232421875,\n          131.66738891601562,\n          4724.265625\n        ],\n        \"semantic_type\": \"\",\n        \"description\": \"\"\n      }\n    }\n  ]\n}"
            }
          },
          "metadata": {},
          "execution_count": 59
        }
      ]
    },
    {
      "cell_type": "markdown",
      "source": [
        "Looks like `model_2` perofmed the best..."
      ],
      "metadata": {
        "id": "tHvnTbo8DZy8"
      }
    },
    {
      "cell_type": "code",
      "source": [
        "model_2.summary()"
      ],
      "metadata": {
        "colab": {
          "base_uri": "https://localhost:8080/"
        },
        "id": "uPmByMCwCvbR",
        "outputId": "ad871a14-21d2-4f0d-f65d-1b6ecf74f4ea"
      },
      "execution_count": 60,
      "outputs": [
        {
          "output_type": "stream",
          "name": "stdout",
          "text": [
            "Model: \"sequential_5\"\n",
            "_________________________________________________________________\n",
            " Layer (type)                Output Shape              Param #   \n",
            "=================================================================\n",
            " dense_6 (Dense)             (None, 10)                20        \n",
            "                                                                 \n",
            " dense_7 (Dense)             (None, 1)                 11        \n",
            "                                                                 \n",
            "=================================================================\n",
            "Total params: 31 (124.00 Byte)\n",
            "Trainable params: 31 (124.00 Byte)\n",
            "Non-trainable params: 0 (0.00 Byte)\n",
            "_________________________________________________________________\n"
          ]
        }
      ]
    },
    {
      "cell_type": "markdown",
      "source": [
        "> 🗝️ **Note:** One of your main golals hould be to minimize the time between your experiments. The more experiments you do, the more this you'll figure out which don't work and in turn, get closer to figuring out what does work. Remember the machine learning practioner's motto: \"experiment, experiment, experiment\".\n",
        "\n"
      ],
      "metadata": {
        "id": "qrAxEu_pDdz5"
      }
    },
    {
      "cell_type": "markdown",
      "source": [
        "### Tracking your experiments\n",
        "\n",
        "One really good habit to get into is tracking your modelling experiments to see which perform better than others.\n",
        "\n",
        "We've done a simple version of this above (keeping the results in different variables).\n",
        "\n",
        "📖 Resource: But as you build more models, you'll want to look into using tools such as:\n",
        "\n",
        "[TensorBoard](https://tensorboard.dev/) - a component of the TensorFlow library to help track modelling experiments (we'll see this later).\n",
        "\n",
        "[Weights & Biases](https://wandb.ai/site/) - a tool for tracking all kinds of machine learning experiments (the good news for Weights & Biases is it plugs into TensorBoard).\n",
        "\n",
        "There tare tow main formats we  can save our mode's too:\n",
        "\n",
        "1. The [SavedModel](https://www.tensorflow.org/tutorials/keras/save_and_load#savedmodel_format) format (default)\n",
        "2. The [HDF5](https://www.tensorflow.org/tutorials/keras/save_and_load#hdf5_format) format"
      ],
      "metadata": {
        "id": "a4YuYZYPEIPn"
      }
    },
    {
      "cell_type": "markdown",
      "source": [
        "### Saving our models\n",
        "\n",
        "Saving our models allows us to use them otuside of Google Colab (or wherever thew were trained) such as in a web application or a mobile app."
      ],
      "metadata": {
        "id": "iJjMPL2BFyrd"
      }
    },
    {
      "cell_type": "code",
      "source": [
        "# Save model using the SavedModel\n",
        "model_2.save(\"best_model_SavedModel_format\")"
      ],
      "metadata": {
        "id": "vuerTloDD47C"
      },
      "execution_count": 61,
      "outputs": []
    },
    {
      "cell_type": "code",
      "source": [
        "# Save model using the HDF5 format (Hierarchical Data Format) designed to store and organize large amounts of data\n",
        "# outside of tenserflow code best format\n",
        "model_2.save(\"best_model_HDF5_format.h5\")"
      ],
      "metadata": {
        "colab": {
          "base_uri": "https://localhost:8080/"
        },
        "id": "OVesGZl3Hb16",
        "outputId": "18deae23-d4b8-44c4-a358-e96d82aeecbd"
      },
      "execution_count": 62,
      "outputs": [
        {
          "output_type": "stream",
          "name": "stderr",
          "text": [
            "/usr/local/lib/python3.10/dist-packages/keras/src/engine/training.py:3103: UserWarning: You are saving your model as an HDF5 file via `model.save()`. This file format is considered legacy. We recommend using instead the native Keras format, e.g. `model.save('my_model.keras')`.\n",
            "  saving_api.save_model(\n"
          ]
        }
      ]
    },
    {
      "cell_type": "markdown",
      "source": [
        "## Loading the saved model"
      ],
      "metadata": {
        "id": "Kiga2UuYJuw5"
      }
    },
    {
      "cell_type": "code",
      "source": [
        "# Load in the SavedModel format model\n",
        "loaded_SavedModel_format = tf.keras.models.load_model(\"best_model_SavedModel_format\")\n",
        "loaded_SavedModel_format.summary()"
      ],
      "metadata": {
        "colab": {
          "base_uri": "https://localhost:8080/"
        },
        "id": "4pwtGAaAIgo2",
        "outputId": "ea5922be-8410-47bd-869d-732c3e768954"
      },
      "execution_count": 63,
      "outputs": [
        {
          "output_type": "stream",
          "name": "stdout",
          "text": [
            "Model: \"sequential_5\"\n",
            "_________________________________________________________________\n",
            " Layer (type)                Output Shape              Param #   \n",
            "=================================================================\n",
            " dense_6 (Dense)             (None, 10)                20        \n",
            "                                                                 \n",
            " dense_7 (Dense)             (None, 1)                 11        \n",
            "                                                                 \n",
            "=================================================================\n",
            "Total params: 31 (124.00 Byte)\n",
            "Trainable params: 31 (124.00 Byte)\n",
            "Non-trainable params: 0 (0.00 Byte)\n",
            "_________________________________________________________________\n"
          ]
        }
      ]
    },
    {
      "cell_type": "code",
      "source": [
        "model_2.summary()"
      ],
      "metadata": {
        "colab": {
          "base_uri": "https://localhost:8080/"
        },
        "id": "G6hC8nIUKRXX",
        "outputId": "4a66cbdc-a095-4a08-d3db-be172cb57ebf"
      },
      "execution_count": 64,
      "outputs": [
        {
          "output_type": "stream",
          "name": "stdout",
          "text": [
            "Model: \"sequential_5\"\n",
            "_________________________________________________________________\n",
            " Layer (type)                Output Shape              Param #   \n",
            "=================================================================\n",
            " dense_6 (Dense)             (None, 10)                20        \n",
            "                                                                 \n",
            " dense_7 (Dense)             (None, 1)                 11        \n",
            "                                                                 \n",
            "=================================================================\n",
            "Total params: 31 (124.00 Byte)\n",
            "Trainable params: 31 (124.00 Byte)\n",
            "Non-trainable params: 0 (0.00 Byte)\n",
            "_________________________________________________________________\n"
          ]
        }
      ]
    },
    {
      "cell_type": "code",
      "source": [
        "# Compare model_2 predictions with SavedModel format model predictions\n",
        "model_2_preds = model_2.predict(X_test)\n",
        "loaded_SavedModel_format_preds = loaded_SavedModel_format.predict(X_test)\n",
        "\n",
        "# Compare the MAE of model 2 and loaded SavedModel\n",
        "mae(y_true=y_test, y_pred=model_2_preds) == mae(y_true=y_test, y_pred=loaded_SavedModel_format_preds)\n",
        "\n",
        "model_2_preds == loaded_SavedModel_format_preds"
      ],
      "metadata": {
        "colab": {
          "base_uri": "https://localhost:8080/"
        },
        "id": "vWvDj8ggKZgX",
        "outputId": "71aee79b-91a8-4b17-e586-fcf1ee5caa4c"
      },
      "execution_count": 65,
      "outputs": [
        {
          "output_type": "stream",
          "name": "stdout",
          "text": [
            "1/1 [==============================] - 0s 88ms/step\n",
            "1/1 [==============================] - 0s 105ms/step\n"
          ]
        },
        {
          "output_type": "execute_result",
          "data": {
            "text/plain": [
              "array([[ True],\n",
              "       [ True],\n",
              "       [ True],\n",
              "       [ True],\n",
              "       [ True],\n",
              "       [ True],\n",
              "       [ True],\n",
              "       [ True],\n",
              "       [ True],\n",
              "       [ True]])"
            ]
          },
          "metadata": {},
          "execution_count": 65
        }
      ]
    },
    {
      "cell_type": "code",
      "source": [
        "# Load in model in h5 format\n",
        "loaded_h5_model = tf.keras.models.load_model(\"best_model_HDF5_format.h5\")\n",
        "loaded_h5_model.summary()"
      ],
      "metadata": {
        "colab": {
          "base_uri": "https://localhost:8080/"
        },
        "id": "oRFcwhvBMMqQ",
        "outputId": "96e42a2e-6d71-4b93-cb74-ead57954d954"
      },
      "execution_count": 66,
      "outputs": [
        {
          "output_type": "stream",
          "name": "stdout",
          "text": [
            "Model: \"sequential_5\"\n",
            "_________________________________________________________________\n",
            " Layer (type)                Output Shape              Param #   \n",
            "=================================================================\n",
            " dense_6 (Dense)             (None, 10)                20        \n",
            "                                                                 \n",
            " dense_7 (Dense)             (None, 1)                 11        \n",
            "                                                                 \n",
            "=================================================================\n",
            "Total params: 31 (124.00 Byte)\n",
            "Trainable params: 31 (124.00 Byte)\n",
            "Non-trainable params: 0 (0.00 Byte)\n",
            "_________________________________________________________________\n"
          ]
        }
      ]
    },
    {
      "cell_type": "code",
      "source": [
        "# Check to see if loaded .h5 model predictions match model_2\n",
        "model_2_preds = model_2.predict(X_test)\n",
        "loaded_h5_model_preds = loaded_h5_model.predict(X_test)\n",
        "model_2_preds == loaded_h5_model_preds"
      ],
      "metadata": {
        "colab": {
          "base_uri": "https://localhost:8080/"
        },
        "id": "wKkbonlDM0bD",
        "outputId": "dfe8649f-0906-4930-b777-8ad00ec829ea"
      },
      "execution_count": 67,
      "outputs": [
        {
          "output_type": "stream",
          "name": "stdout",
          "text": [
            "1/1 [==============================] - 0s 34ms/step\n",
            "1/1 [==============================] - 0s 89ms/step\n"
          ]
        },
        {
          "output_type": "execute_result",
          "data": {
            "text/plain": [
              "array([[ True],\n",
              "       [ True],\n",
              "       [ True],\n",
              "       [ True],\n",
              "       [ True],\n",
              "       [ True],\n",
              "       [ True],\n",
              "       [ True],\n",
              "       [ True],\n",
              "       [ True]])"
            ]
          },
          "metadata": {},
          "execution_count": 67
        }
      ]
    },
    {
      "cell_type": "code",
      "source": [
        "model_2.summary()"
      ],
      "metadata": {
        "colab": {
          "base_uri": "https://localhost:8080/"
        },
        "id": "-w5DNZVzMhKQ",
        "outputId": "b643409d-aa16-4635-f61f-cfd83067af78"
      },
      "execution_count": 68,
      "outputs": [
        {
          "output_type": "stream",
          "name": "stdout",
          "text": [
            "Model: \"sequential_5\"\n",
            "_________________________________________________________________\n",
            " Layer (type)                Output Shape              Param #   \n",
            "=================================================================\n",
            " dense_6 (Dense)             (None, 10)                20        \n",
            "                                                                 \n",
            " dense_7 (Dense)             (None, 1)                 11        \n",
            "                                                                 \n",
            "=================================================================\n",
            "Total params: 31 (124.00 Byte)\n",
            "Trainable params: 31 (124.00 Byte)\n",
            "Non-trainable params: 0 (0.00 Byte)\n",
            "_________________________________________________________________\n"
          ]
        }
      ]
    },
    {
      "cell_type": "code",
      "source": [
        "model_2_preds.squeeze()"
      ],
      "metadata": {
        "colab": {
          "base_uri": "https://localhost:8080/"
        },
        "id": "gCTUjyOuLAF6",
        "outputId": "cb977aba-fcc9-41ac-8bd3-cab035e0774b"
      },
      "execution_count": 69,
      "outputs": [
        {
          "output_type": "execute_result",
          "data": {
            "text/plain": [
              "array([ 76.651695,  81.643616,  86.63552 ,  91.62745 ,  96.619354,\n",
              "       101.61128 , 106.603195, 111.5951  , 116.58702 , 121.578926],\n",
              "      dtype=float32)"
            ]
          },
          "metadata": {},
          "execution_count": 69
        }
      ]
    },
    {
      "cell_type": "code",
      "source": [
        "loaded_SavedModel_format_preds.squeeze()"
      ],
      "metadata": {
        "colab": {
          "base_uri": "https://localhost:8080/"
        },
        "id": "8X0j6eYILwLe",
        "outputId": "8ed83900-6ed0-48ef-fe6a-1475411ce96e"
      },
      "execution_count": 70,
      "outputs": [
        {
          "output_type": "execute_result",
          "data": {
            "text/plain": [
              "array([ 76.651695,  81.643616,  86.63552 ,  91.62745 ,  96.619354,\n",
              "       101.61128 , 106.603195, 111.5951  , 116.58702 , 121.578926],\n",
              "      dtype=float32)"
            ]
          },
          "metadata": {},
          "execution_count": 70
        }
      ]
    },
    {
      "cell_type": "markdown",
      "source": [
        "## Downlaod a model (or any other file) from Google Colab\n",
        "\n",
        "If you want to download your files from Google Colab:\n",
        "\n",
        "1. You can go the the \"files\" and right click and download.\n",
        "\n",
        "2. Use code (see the cell below).\n",
        "\n",
        "3. Save it to Google Drive by connecting Google Drive and copying it there (see 2nd code cell below)\n",
        "\n"
      ],
      "metadata": {
        "id": "c-nbxzINNhoC"
      }
    },
    {
      "cell_type": "code",
      "source": [
        "# Download a file from Google Colab\n",
        "from google.colab import files\n",
        "\n",
        "files.download(\"/content/best_model_HDF5_format.h5\")"
      ],
      "metadata": {
        "colab": {
          "base_uri": "https://localhost:8080/",
          "height": 17
        },
        "id": "YjJDKoKbL3F9",
        "outputId": "a7f8a435-0b3f-4aa6-cc95-ca87a6353af8"
      },
      "execution_count": 71,
      "outputs": [
        {
          "output_type": "display_data",
          "data": {
            "text/plain": [
              "<IPython.core.display.Javascript object>"
            ],
            "application/javascript": [
              "\n",
              "    async function download(id, filename, size) {\n",
              "      if (!google.colab.kernel.accessAllowed) {\n",
              "        return;\n",
              "      }\n",
              "      const div = document.createElement('div');\n",
              "      const label = document.createElement('label');\n",
              "      label.textContent = `Downloading \"${filename}\": `;\n",
              "      div.appendChild(label);\n",
              "      const progress = document.createElement('progress');\n",
              "      progress.max = size;\n",
              "      div.appendChild(progress);\n",
              "      document.body.appendChild(div);\n",
              "\n",
              "      const buffers = [];\n",
              "      let downloaded = 0;\n",
              "\n",
              "      const channel = await google.colab.kernel.comms.open(id);\n",
              "      // Send a message to notify the kernel that we're ready.\n",
              "      channel.send({})\n",
              "\n",
              "      for await (const message of channel.messages) {\n",
              "        // Send a message to notify the kernel that we're ready.\n",
              "        channel.send({})\n",
              "        if (message.buffers) {\n",
              "          for (const buffer of message.buffers) {\n",
              "            buffers.push(buffer);\n",
              "            downloaded += buffer.byteLength;\n",
              "            progress.value = downloaded;\n",
              "          }\n",
              "        }\n",
              "      }\n",
              "      const blob = new Blob(buffers, {type: 'application/binary'});\n",
              "      const a = document.createElement('a');\n",
              "      a.href = window.URL.createObjectURL(blob);\n",
              "      a.download = filename;\n",
              "      div.appendChild(a);\n",
              "      a.click();\n",
              "      div.remove();\n",
              "    }\n",
              "  "
            ]
          },
          "metadata": {}
        },
        {
          "output_type": "display_data",
          "data": {
            "text/plain": [
              "<IPython.core.display.Javascript object>"
            ],
            "application/javascript": [
              "download(\"download_993b9e18-5c62-4d0e-a3bf-d9c0ce83d9f7\", \"best_model_HDF5_format.h5\", 21952)"
            ]
          },
          "metadata": {}
        }
      ]
    },
    {
      "cell_type": "code",
      "source": [
        "# Save a file from Google Colab to Google Drive (requires mounting Google Drive)\n",
        "!cp /content/best_model_HDF5_format.h5 /content/drive/MyDrive/tensorflow_course\n"
      ],
      "metadata": {
        "id": "Go3pJA9TOO1h"
      },
      "execution_count": 72,
      "outputs": []
    },
    {
      "cell_type": "markdown",
      "source": [
        "### A larger example"
      ],
      "metadata": {
        "id": "vfGPfhx2Cgxq"
      }
    },
    {
      "cell_type": "code",
      "source": [
        "# Import required libraries\n",
        "import tensorflow as tf\n",
        "import pandas as pd\n",
        "import matplotlib.pyplot as plt"
      ],
      "metadata": {
        "id": "F23LIX_ZCkuf"
      },
      "execution_count": 73,
      "outputs": []
    },
    {
      "cell_type": "code",
      "source": [
        "# Read in the insurance dataset\n",
        "\n",
        "insurance = pd.read_csv(\"https://raw.githubusercontent.com/stedy/Machine-Learning-with-R-datasets/master/insurance.csv\")\n",
        "insurance"
      ],
      "metadata": {
        "colab": {
          "base_uri": "https://localhost:8080/",
          "height": 423
        },
        "id": "dv1wAC3QDmKf",
        "outputId": "55d684d4-77c8-4301-f253-c8a7604b032e"
      },
      "execution_count": 74,
      "outputs": [
        {
          "output_type": "execute_result",
          "data": {
            "text/plain": [
              "      age     sex     bmi  children smoker     region      charges\n",
              "0      19  female  27.900         0    yes  southwest  16884.92400\n",
              "1      18    male  33.770         1     no  southeast   1725.55230\n",
              "2      28    male  33.000         3     no  southeast   4449.46200\n",
              "3      33    male  22.705         0     no  northwest  21984.47061\n",
              "4      32    male  28.880         0     no  northwest   3866.85520\n",
              "...   ...     ...     ...       ...    ...        ...          ...\n",
              "1333   50    male  30.970         3     no  northwest  10600.54830\n",
              "1334   18  female  31.920         0     no  northeast   2205.98080\n",
              "1335   18  female  36.850         0     no  southeast   1629.83350\n",
              "1336   21  female  25.800         0     no  southwest   2007.94500\n",
              "1337   61  female  29.070         0    yes  northwest  29141.36030\n",
              "\n",
              "[1338 rows x 7 columns]"
            ],
            "text/html": [
              "\n",
              "  <div id=\"df-231cf949-0591-4eab-a264-6fe0ab467999\" class=\"colab-df-container\">\n",
              "    <div>\n",
              "<style scoped>\n",
              "    .dataframe tbody tr th:only-of-type {\n",
              "        vertical-align: middle;\n",
              "    }\n",
              "\n",
              "    .dataframe tbody tr th {\n",
              "        vertical-align: top;\n",
              "    }\n",
              "\n",
              "    .dataframe thead th {\n",
              "        text-align: right;\n",
              "    }\n",
              "</style>\n",
              "<table border=\"1\" class=\"dataframe\">\n",
              "  <thead>\n",
              "    <tr style=\"text-align: right;\">\n",
              "      <th></th>\n",
              "      <th>age</th>\n",
              "      <th>sex</th>\n",
              "      <th>bmi</th>\n",
              "      <th>children</th>\n",
              "      <th>smoker</th>\n",
              "      <th>region</th>\n",
              "      <th>charges</th>\n",
              "    </tr>\n",
              "  </thead>\n",
              "  <tbody>\n",
              "    <tr>\n",
              "      <th>0</th>\n",
              "      <td>19</td>\n",
              "      <td>female</td>\n",
              "      <td>27.900</td>\n",
              "      <td>0</td>\n",
              "      <td>yes</td>\n",
              "      <td>southwest</td>\n",
              "      <td>16884.92400</td>\n",
              "    </tr>\n",
              "    <tr>\n",
              "      <th>1</th>\n",
              "      <td>18</td>\n",
              "      <td>male</td>\n",
              "      <td>33.770</td>\n",
              "      <td>1</td>\n",
              "      <td>no</td>\n",
              "      <td>southeast</td>\n",
              "      <td>1725.55230</td>\n",
              "    </tr>\n",
              "    <tr>\n",
              "      <th>2</th>\n",
              "      <td>28</td>\n",
              "      <td>male</td>\n",
              "      <td>33.000</td>\n",
              "      <td>3</td>\n",
              "      <td>no</td>\n",
              "      <td>southeast</td>\n",
              "      <td>4449.46200</td>\n",
              "    </tr>\n",
              "    <tr>\n",
              "      <th>3</th>\n",
              "      <td>33</td>\n",
              "      <td>male</td>\n",
              "      <td>22.705</td>\n",
              "      <td>0</td>\n",
              "      <td>no</td>\n",
              "      <td>northwest</td>\n",
              "      <td>21984.47061</td>\n",
              "    </tr>\n",
              "    <tr>\n",
              "      <th>4</th>\n",
              "      <td>32</td>\n",
              "      <td>male</td>\n",
              "      <td>28.880</td>\n",
              "      <td>0</td>\n",
              "      <td>no</td>\n",
              "      <td>northwest</td>\n",
              "      <td>3866.85520</td>\n",
              "    </tr>\n",
              "    <tr>\n",
              "      <th>...</th>\n",
              "      <td>...</td>\n",
              "      <td>...</td>\n",
              "      <td>...</td>\n",
              "      <td>...</td>\n",
              "      <td>...</td>\n",
              "      <td>...</td>\n",
              "      <td>...</td>\n",
              "    </tr>\n",
              "    <tr>\n",
              "      <th>1333</th>\n",
              "      <td>50</td>\n",
              "      <td>male</td>\n",
              "      <td>30.970</td>\n",
              "      <td>3</td>\n",
              "      <td>no</td>\n",
              "      <td>northwest</td>\n",
              "      <td>10600.54830</td>\n",
              "    </tr>\n",
              "    <tr>\n",
              "      <th>1334</th>\n",
              "      <td>18</td>\n",
              "      <td>female</td>\n",
              "      <td>31.920</td>\n",
              "      <td>0</td>\n",
              "      <td>no</td>\n",
              "      <td>northeast</td>\n",
              "      <td>2205.98080</td>\n",
              "    </tr>\n",
              "    <tr>\n",
              "      <th>1335</th>\n",
              "      <td>18</td>\n",
              "      <td>female</td>\n",
              "      <td>36.850</td>\n",
              "      <td>0</td>\n",
              "      <td>no</td>\n",
              "      <td>southeast</td>\n",
              "      <td>1629.83350</td>\n",
              "    </tr>\n",
              "    <tr>\n",
              "      <th>1336</th>\n",
              "      <td>21</td>\n",
              "      <td>female</td>\n",
              "      <td>25.800</td>\n",
              "      <td>0</td>\n",
              "      <td>no</td>\n",
              "      <td>southwest</td>\n",
              "      <td>2007.94500</td>\n",
              "    </tr>\n",
              "    <tr>\n",
              "      <th>1337</th>\n",
              "      <td>61</td>\n",
              "      <td>female</td>\n",
              "      <td>29.070</td>\n",
              "      <td>0</td>\n",
              "      <td>yes</td>\n",
              "      <td>northwest</td>\n",
              "      <td>29141.36030</td>\n",
              "    </tr>\n",
              "  </tbody>\n",
              "</table>\n",
              "<p>1338 rows × 7 columns</p>\n",
              "</div>\n",
              "    <div class=\"colab-df-buttons\">\n",
              "\n",
              "  <div class=\"colab-df-container\">\n",
              "    <button class=\"colab-df-convert\" onclick=\"convertToInteractive('df-231cf949-0591-4eab-a264-6fe0ab467999')\"\n",
              "            title=\"Convert this dataframe to an interactive table.\"\n",
              "            style=\"display:none;\">\n",
              "\n",
              "  <svg xmlns=\"http://www.w3.org/2000/svg\" height=\"24px\" viewBox=\"0 -960 960 960\">\n",
              "    <path d=\"M120-120v-720h720v720H120Zm60-500h600v-160H180v160Zm220 220h160v-160H400v160Zm0 220h160v-160H400v160ZM180-400h160v-160H180v160Zm440 0h160v-160H620v160ZM180-180h160v-160H180v160Zm440 0h160v-160H620v160Z\"/>\n",
              "  </svg>\n",
              "    </button>\n",
              "\n",
              "  <style>\n",
              "    .colab-df-container {\n",
              "      display:flex;\n",
              "      gap: 12px;\n",
              "    }\n",
              "\n",
              "    .colab-df-convert {\n",
              "      background-color: #E8F0FE;\n",
              "      border: none;\n",
              "      border-radius: 50%;\n",
              "      cursor: pointer;\n",
              "      display: none;\n",
              "      fill: #1967D2;\n",
              "      height: 32px;\n",
              "      padding: 0 0 0 0;\n",
              "      width: 32px;\n",
              "    }\n",
              "\n",
              "    .colab-df-convert:hover {\n",
              "      background-color: #E2EBFA;\n",
              "      box-shadow: 0px 1px 2px rgba(60, 64, 67, 0.3), 0px 1px 3px 1px rgba(60, 64, 67, 0.15);\n",
              "      fill: #174EA6;\n",
              "    }\n",
              "\n",
              "    .colab-df-buttons div {\n",
              "      margin-bottom: 4px;\n",
              "    }\n",
              "\n",
              "    [theme=dark] .colab-df-convert {\n",
              "      background-color: #3B4455;\n",
              "      fill: #D2E3FC;\n",
              "    }\n",
              "\n",
              "    [theme=dark] .colab-df-convert:hover {\n",
              "      background-color: #434B5C;\n",
              "      box-shadow: 0px 1px 3px 1px rgba(0, 0, 0, 0.15);\n",
              "      filter: drop-shadow(0px 1px 2px rgba(0, 0, 0, 0.3));\n",
              "      fill: #FFFFFF;\n",
              "    }\n",
              "  </style>\n",
              "\n",
              "    <script>\n",
              "      const buttonEl =\n",
              "        document.querySelector('#df-231cf949-0591-4eab-a264-6fe0ab467999 button.colab-df-convert');\n",
              "      buttonEl.style.display =\n",
              "        google.colab.kernel.accessAllowed ? 'block' : 'none';\n",
              "\n",
              "      async function convertToInteractive(key) {\n",
              "        const element = document.querySelector('#df-231cf949-0591-4eab-a264-6fe0ab467999');\n",
              "        const dataTable =\n",
              "          await google.colab.kernel.invokeFunction('convertToInteractive',\n",
              "                                                    [key], {});\n",
              "        if (!dataTable) return;\n",
              "\n",
              "        const docLinkHtml = 'Like what you see? Visit the ' +\n",
              "          '<a target=\"_blank\" href=https://colab.research.google.com/notebooks/data_table.ipynb>data table notebook</a>'\n",
              "          + ' to learn more about interactive tables.';\n",
              "        element.innerHTML = '';\n",
              "        dataTable['output_type'] = 'display_data';\n",
              "        await google.colab.output.renderOutput(dataTable, element);\n",
              "        const docLink = document.createElement('div');\n",
              "        docLink.innerHTML = docLinkHtml;\n",
              "        element.appendChild(docLink);\n",
              "      }\n",
              "    </script>\n",
              "  </div>\n",
              "\n",
              "\n",
              "<div id=\"df-207850cc-7051-4cbb-8c04-5e710d78e4e9\">\n",
              "  <button class=\"colab-df-quickchart\" onclick=\"quickchart('df-207850cc-7051-4cbb-8c04-5e710d78e4e9')\"\n",
              "            title=\"Suggest charts\"\n",
              "            style=\"display:none;\">\n",
              "\n",
              "<svg xmlns=\"http://www.w3.org/2000/svg\" height=\"24px\"viewBox=\"0 0 24 24\"\n",
              "     width=\"24px\">\n",
              "    <g>\n",
              "        <path d=\"M19 3H5c-1.1 0-2 .9-2 2v14c0 1.1.9 2 2 2h14c1.1 0 2-.9 2-2V5c0-1.1-.9-2-2-2zM9 17H7v-7h2v7zm4 0h-2V7h2v10zm4 0h-2v-4h2v4z\"/>\n",
              "    </g>\n",
              "</svg>\n",
              "  </button>\n",
              "\n",
              "<style>\n",
              "  .colab-df-quickchart {\n",
              "      --bg-color: #E8F0FE;\n",
              "      --fill-color: #1967D2;\n",
              "      --hover-bg-color: #E2EBFA;\n",
              "      --hover-fill-color: #174EA6;\n",
              "      --disabled-fill-color: #AAA;\n",
              "      --disabled-bg-color: #DDD;\n",
              "  }\n",
              "\n",
              "  [theme=dark] .colab-df-quickchart {\n",
              "      --bg-color: #3B4455;\n",
              "      --fill-color: #D2E3FC;\n",
              "      --hover-bg-color: #434B5C;\n",
              "      --hover-fill-color: #FFFFFF;\n",
              "      --disabled-bg-color: #3B4455;\n",
              "      --disabled-fill-color: #666;\n",
              "  }\n",
              "\n",
              "  .colab-df-quickchart {\n",
              "    background-color: var(--bg-color);\n",
              "    border: none;\n",
              "    border-radius: 50%;\n",
              "    cursor: pointer;\n",
              "    display: none;\n",
              "    fill: var(--fill-color);\n",
              "    height: 32px;\n",
              "    padding: 0;\n",
              "    width: 32px;\n",
              "  }\n",
              "\n",
              "  .colab-df-quickchart:hover {\n",
              "    background-color: var(--hover-bg-color);\n",
              "    box-shadow: 0 1px 2px rgba(60, 64, 67, 0.3), 0 1px 3px 1px rgba(60, 64, 67, 0.15);\n",
              "    fill: var(--button-hover-fill-color);\n",
              "  }\n",
              "\n",
              "  .colab-df-quickchart-complete:disabled,\n",
              "  .colab-df-quickchart-complete:disabled:hover {\n",
              "    background-color: var(--disabled-bg-color);\n",
              "    fill: var(--disabled-fill-color);\n",
              "    box-shadow: none;\n",
              "  }\n",
              "\n",
              "  .colab-df-spinner {\n",
              "    border: 2px solid var(--fill-color);\n",
              "    border-color: transparent;\n",
              "    border-bottom-color: var(--fill-color);\n",
              "    animation:\n",
              "      spin 1s steps(1) infinite;\n",
              "  }\n",
              "\n",
              "  @keyframes spin {\n",
              "    0% {\n",
              "      border-color: transparent;\n",
              "      border-bottom-color: var(--fill-color);\n",
              "      border-left-color: var(--fill-color);\n",
              "    }\n",
              "    20% {\n",
              "      border-color: transparent;\n",
              "      border-left-color: var(--fill-color);\n",
              "      border-top-color: var(--fill-color);\n",
              "    }\n",
              "    30% {\n",
              "      border-color: transparent;\n",
              "      border-left-color: var(--fill-color);\n",
              "      border-top-color: var(--fill-color);\n",
              "      border-right-color: var(--fill-color);\n",
              "    }\n",
              "    40% {\n",
              "      border-color: transparent;\n",
              "      border-right-color: var(--fill-color);\n",
              "      border-top-color: var(--fill-color);\n",
              "    }\n",
              "    60% {\n",
              "      border-color: transparent;\n",
              "      border-right-color: var(--fill-color);\n",
              "    }\n",
              "    80% {\n",
              "      border-color: transparent;\n",
              "      border-right-color: var(--fill-color);\n",
              "      border-bottom-color: var(--fill-color);\n",
              "    }\n",
              "    90% {\n",
              "      border-color: transparent;\n",
              "      border-bottom-color: var(--fill-color);\n",
              "    }\n",
              "  }\n",
              "</style>\n",
              "\n",
              "  <script>\n",
              "    async function quickchart(key) {\n",
              "      const quickchartButtonEl =\n",
              "        document.querySelector('#' + key + ' button');\n",
              "      quickchartButtonEl.disabled = true;  // To prevent multiple clicks.\n",
              "      quickchartButtonEl.classList.add('colab-df-spinner');\n",
              "      try {\n",
              "        const charts = await google.colab.kernel.invokeFunction(\n",
              "            'suggestCharts', [key], {});\n",
              "      } catch (error) {\n",
              "        console.error('Error during call to suggestCharts:', error);\n",
              "      }\n",
              "      quickchartButtonEl.classList.remove('colab-df-spinner');\n",
              "      quickchartButtonEl.classList.add('colab-df-quickchart-complete');\n",
              "    }\n",
              "    (() => {\n",
              "      let quickchartButtonEl =\n",
              "        document.querySelector('#df-207850cc-7051-4cbb-8c04-5e710d78e4e9 button');\n",
              "      quickchartButtonEl.style.display =\n",
              "        google.colab.kernel.accessAllowed ? 'block' : 'none';\n",
              "    })();\n",
              "  </script>\n",
              "</div>\n",
              "    </div>\n",
              "  </div>\n"
            ],
            "application/vnd.google.colaboratory.intrinsic+json": {
              "type": "dataframe",
              "variable_name": "insurance",
              "summary": "{\n  \"name\": \"insurance\",\n  \"rows\": 1338,\n  \"fields\": [\n    {\n      \"column\": \"age\",\n      \"properties\": {\n        \"dtype\": \"number\",\n        \"std\": 14,\n        \"min\": 18,\n        \"max\": 64,\n        \"num_unique_values\": 47,\n        \"samples\": [\n          21,\n          45,\n          36\n        ],\n        \"semantic_type\": \"\",\n        \"description\": \"\"\n      }\n    },\n    {\n      \"column\": \"sex\",\n      \"properties\": {\n        \"dtype\": \"category\",\n        \"num_unique_values\": 2,\n        \"samples\": [\n          \"male\",\n          \"female\"\n        ],\n        \"semantic_type\": \"\",\n        \"description\": \"\"\n      }\n    },\n    {\n      \"column\": \"bmi\",\n      \"properties\": {\n        \"dtype\": \"number\",\n        \"std\": 6.098186911679014,\n        \"min\": 15.96,\n        \"max\": 53.13,\n        \"num_unique_values\": 548,\n        \"samples\": [\n          23.18,\n          26.885\n        ],\n        \"semantic_type\": \"\",\n        \"description\": \"\"\n      }\n    },\n    {\n      \"column\": \"children\",\n      \"properties\": {\n        \"dtype\": \"number\",\n        \"std\": 1,\n        \"min\": 0,\n        \"max\": 5,\n        \"num_unique_values\": 6,\n        \"samples\": [\n          0,\n          1\n        ],\n        \"semantic_type\": \"\",\n        \"description\": \"\"\n      }\n    },\n    {\n      \"column\": \"smoker\",\n      \"properties\": {\n        \"dtype\": \"category\",\n        \"num_unique_values\": 2,\n        \"samples\": [\n          \"no\",\n          \"yes\"\n        ],\n        \"semantic_type\": \"\",\n        \"description\": \"\"\n      }\n    },\n    {\n      \"column\": \"region\",\n      \"properties\": {\n        \"dtype\": \"category\",\n        \"num_unique_values\": 4,\n        \"samples\": [\n          \"southeast\",\n          \"northeast\"\n        ],\n        \"semantic_type\": \"\",\n        \"description\": \"\"\n      }\n    },\n    {\n      \"column\": \"charges\",\n      \"properties\": {\n        \"dtype\": \"number\",\n        \"std\": 12110.011236694001,\n        \"min\": 1121.8739,\n        \"max\": 63770.42801,\n        \"num_unique_values\": 1337,\n        \"samples\": [\n          8688.85885,\n          5708.867\n        ],\n        \"semantic_type\": \"\",\n        \"description\": \"\"\n      }\n    }\n  ]\n}"
            }
          },
          "metadata": {},
          "execution_count": 74
        }
      ]
    },
    {
      "cell_type": "code",
      "source": [
        "# Let's try one-hot encode our DataFrame so it's all numbers\n",
        "insurance_one_hot = pd.get_dummies(insurance)\n",
        "insurance_one_hot.head()"
      ],
      "metadata": {
        "colab": {
          "base_uri": "https://localhost:8080/",
          "height": 226
        },
        "id": "FdbJlGX-EWAg",
        "outputId": "d78ffec6-717e-40b1-f089-24d2dd0673ae"
      },
      "execution_count": 77,
      "outputs": [
        {
          "output_type": "execute_result",
          "data": {
            "text/plain": [
              "   age     bmi  children      charges  sex_female  sex_male  smoker_no  \\\n",
              "0   19  27.900         0  16884.92400           1         0          0   \n",
              "1   18  33.770         1   1725.55230           0         1          1   \n",
              "2   28  33.000         3   4449.46200           0         1          1   \n",
              "3   33  22.705         0  21984.47061           0         1          1   \n",
              "4   32  28.880         0   3866.85520           0         1          1   \n",
              "\n",
              "   smoker_yes  region_northeast  region_northwest  region_southeast  \\\n",
              "0           1                 0                 0                 0   \n",
              "1           0                 0                 0                 1   \n",
              "2           0                 0                 0                 1   \n",
              "3           0                 0                 1                 0   \n",
              "4           0                 0                 1                 0   \n",
              "\n",
              "   region_southwest  \n",
              "0                 1  \n",
              "1                 0  \n",
              "2                 0  \n",
              "3                 0  \n",
              "4                 0  "
            ],
            "text/html": [
              "\n",
              "  <div id=\"df-784d9921-63bc-41bf-a5bd-90bdb36cb128\" class=\"colab-df-container\">\n",
              "    <div>\n",
              "<style scoped>\n",
              "    .dataframe tbody tr th:only-of-type {\n",
              "        vertical-align: middle;\n",
              "    }\n",
              "\n",
              "    .dataframe tbody tr th {\n",
              "        vertical-align: top;\n",
              "    }\n",
              "\n",
              "    .dataframe thead th {\n",
              "        text-align: right;\n",
              "    }\n",
              "</style>\n",
              "<table border=\"1\" class=\"dataframe\">\n",
              "  <thead>\n",
              "    <tr style=\"text-align: right;\">\n",
              "      <th></th>\n",
              "      <th>age</th>\n",
              "      <th>bmi</th>\n",
              "      <th>children</th>\n",
              "      <th>charges</th>\n",
              "      <th>sex_female</th>\n",
              "      <th>sex_male</th>\n",
              "      <th>smoker_no</th>\n",
              "      <th>smoker_yes</th>\n",
              "      <th>region_northeast</th>\n",
              "      <th>region_northwest</th>\n",
              "      <th>region_southeast</th>\n",
              "      <th>region_southwest</th>\n",
              "    </tr>\n",
              "  </thead>\n",
              "  <tbody>\n",
              "    <tr>\n",
              "      <th>0</th>\n",
              "      <td>19</td>\n",
              "      <td>27.900</td>\n",
              "      <td>0</td>\n",
              "      <td>16884.92400</td>\n",
              "      <td>1</td>\n",
              "      <td>0</td>\n",
              "      <td>0</td>\n",
              "      <td>1</td>\n",
              "      <td>0</td>\n",
              "      <td>0</td>\n",
              "      <td>0</td>\n",
              "      <td>1</td>\n",
              "    </tr>\n",
              "    <tr>\n",
              "      <th>1</th>\n",
              "      <td>18</td>\n",
              "      <td>33.770</td>\n",
              "      <td>1</td>\n",
              "      <td>1725.55230</td>\n",
              "      <td>0</td>\n",
              "      <td>1</td>\n",
              "      <td>1</td>\n",
              "      <td>0</td>\n",
              "      <td>0</td>\n",
              "      <td>0</td>\n",
              "      <td>1</td>\n",
              "      <td>0</td>\n",
              "    </tr>\n",
              "    <tr>\n",
              "      <th>2</th>\n",
              "      <td>28</td>\n",
              "      <td>33.000</td>\n",
              "      <td>3</td>\n",
              "      <td>4449.46200</td>\n",
              "      <td>0</td>\n",
              "      <td>1</td>\n",
              "      <td>1</td>\n",
              "      <td>0</td>\n",
              "      <td>0</td>\n",
              "      <td>0</td>\n",
              "      <td>1</td>\n",
              "      <td>0</td>\n",
              "    </tr>\n",
              "    <tr>\n",
              "      <th>3</th>\n",
              "      <td>33</td>\n",
              "      <td>22.705</td>\n",
              "      <td>0</td>\n",
              "      <td>21984.47061</td>\n",
              "      <td>0</td>\n",
              "      <td>1</td>\n",
              "      <td>1</td>\n",
              "      <td>0</td>\n",
              "      <td>0</td>\n",
              "      <td>1</td>\n",
              "      <td>0</td>\n",
              "      <td>0</td>\n",
              "    </tr>\n",
              "    <tr>\n",
              "      <th>4</th>\n",
              "      <td>32</td>\n",
              "      <td>28.880</td>\n",
              "      <td>0</td>\n",
              "      <td>3866.85520</td>\n",
              "      <td>0</td>\n",
              "      <td>1</td>\n",
              "      <td>1</td>\n",
              "      <td>0</td>\n",
              "      <td>0</td>\n",
              "      <td>1</td>\n",
              "      <td>0</td>\n",
              "      <td>0</td>\n",
              "    </tr>\n",
              "  </tbody>\n",
              "</table>\n",
              "</div>\n",
              "    <div class=\"colab-df-buttons\">\n",
              "\n",
              "  <div class=\"colab-df-container\">\n",
              "    <button class=\"colab-df-convert\" onclick=\"convertToInteractive('df-784d9921-63bc-41bf-a5bd-90bdb36cb128')\"\n",
              "            title=\"Convert this dataframe to an interactive table.\"\n",
              "            style=\"display:none;\">\n",
              "\n",
              "  <svg xmlns=\"http://www.w3.org/2000/svg\" height=\"24px\" viewBox=\"0 -960 960 960\">\n",
              "    <path d=\"M120-120v-720h720v720H120Zm60-500h600v-160H180v160Zm220 220h160v-160H400v160Zm0 220h160v-160H400v160ZM180-400h160v-160H180v160Zm440 0h160v-160H620v160ZM180-180h160v-160H180v160Zm440 0h160v-160H620v160Z\"/>\n",
              "  </svg>\n",
              "    </button>\n",
              "\n",
              "  <style>\n",
              "    .colab-df-container {\n",
              "      display:flex;\n",
              "      gap: 12px;\n",
              "    }\n",
              "\n",
              "    .colab-df-convert {\n",
              "      background-color: #E8F0FE;\n",
              "      border: none;\n",
              "      border-radius: 50%;\n",
              "      cursor: pointer;\n",
              "      display: none;\n",
              "      fill: #1967D2;\n",
              "      height: 32px;\n",
              "      padding: 0 0 0 0;\n",
              "      width: 32px;\n",
              "    }\n",
              "\n",
              "    .colab-df-convert:hover {\n",
              "      background-color: #E2EBFA;\n",
              "      box-shadow: 0px 1px 2px rgba(60, 64, 67, 0.3), 0px 1px 3px 1px rgba(60, 64, 67, 0.15);\n",
              "      fill: #174EA6;\n",
              "    }\n",
              "\n",
              "    .colab-df-buttons div {\n",
              "      margin-bottom: 4px;\n",
              "    }\n",
              "\n",
              "    [theme=dark] .colab-df-convert {\n",
              "      background-color: #3B4455;\n",
              "      fill: #D2E3FC;\n",
              "    }\n",
              "\n",
              "    [theme=dark] .colab-df-convert:hover {\n",
              "      background-color: #434B5C;\n",
              "      box-shadow: 0px 1px 3px 1px rgba(0, 0, 0, 0.15);\n",
              "      filter: drop-shadow(0px 1px 2px rgba(0, 0, 0, 0.3));\n",
              "      fill: #FFFFFF;\n",
              "    }\n",
              "  </style>\n",
              "\n",
              "    <script>\n",
              "      const buttonEl =\n",
              "        document.querySelector('#df-784d9921-63bc-41bf-a5bd-90bdb36cb128 button.colab-df-convert');\n",
              "      buttonEl.style.display =\n",
              "        google.colab.kernel.accessAllowed ? 'block' : 'none';\n",
              "\n",
              "      async function convertToInteractive(key) {\n",
              "        const element = document.querySelector('#df-784d9921-63bc-41bf-a5bd-90bdb36cb128');\n",
              "        const dataTable =\n",
              "          await google.colab.kernel.invokeFunction('convertToInteractive',\n",
              "                                                    [key], {});\n",
              "        if (!dataTable) return;\n",
              "\n",
              "        const docLinkHtml = 'Like what you see? Visit the ' +\n",
              "          '<a target=\"_blank\" href=https://colab.research.google.com/notebooks/data_table.ipynb>data table notebook</a>'\n",
              "          + ' to learn more about interactive tables.';\n",
              "        element.innerHTML = '';\n",
              "        dataTable['output_type'] = 'display_data';\n",
              "        await google.colab.output.renderOutput(dataTable, element);\n",
              "        const docLink = document.createElement('div');\n",
              "        docLink.innerHTML = docLinkHtml;\n",
              "        element.appendChild(docLink);\n",
              "      }\n",
              "    </script>\n",
              "  </div>\n",
              "\n",
              "\n",
              "<div id=\"df-d8b61ae4-274a-441c-a3f1-c787bf22bf25\">\n",
              "  <button class=\"colab-df-quickchart\" onclick=\"quickchart('df-d8b61ae4-274a-441c-a3f1-c787bf22bf25')\"\n",
              "            title=\"Suggest charts\"\n",
              "            style=\"display:none;\">\n",
              "\n",
              "<svg xmlns=\"http://www.w3.org/2000/svg\" height=\"24px\"viewBox=\"0 0 24 24\"\n",
              "     width=\"24px\">\n",
              "    <g>\n",
              "        <path d=\"M19 3H5c-1.1 0-2 .9-2 2v14c0 1.1.9 2 2 2h14c1.1 0 2-.9 2-2V5c0-1.1-.9-2-2-2zM9 17H7v-7h2v7zm4 0h-2V7h2v10zm4 0h-2v-4h2v4z\"/>\n",
              "    </g>\n",
              "</svg>\n",
              "  </button>\n",
              "\n",
              "<style>\n",
              "  .colab-df-quickchart {\n",
              "      --bg-color: #E8F0FE;\n",
              "      --fill-color: #1967D2;\n",
              "      --hover-bg-color: #E2EBFA;\n",
              "      --hover-fill-color: #174EA6;\n",
              "      --disabled-fill-color: #AAA;\n",
              "      --disabled-bg-color: #DDD;\n",
              "  }\n",
              "\n",
              "  [theme=dark] .colab-df-quickchart {\n",
              "      --bg-color: #3B4455;\n",
              "      --fill-color: #D2E3FC;\n",
              "      --hover-bg-color: #434B5C;\n",
              "      --hover-fill-color: #FFFFFF;\n",
              "      --disabled-bg-color: #3B4455;\n",
              "      --disabled-fill-color: #666;\n",
              "  }\n",
              "\n",
              "  .colab-df-quickchart {\n",
              "    background-color: var(--bg-color);\n",
              "    border: none;\n",
              "    border-radius: 50%;\n",
              "    cursor: pointer;\n",
              "    display: none;\n",
              "    fill: var(--fill-color);\n",
              "    height: 32px;\n",
              "    padding: 0;\n",
              "    width: 32px;\n",
              "  }\n",
              "\n",
              "  .colab-df-quickchart:hover {\n",
              "    background-color: var(--hover-bg-color);\n",
              "    box-shadow: 0 1px 2px rgba(60, 64, 67, 0.3), 0 1px 3px 1px rgba(60, 64, 67, 0.15);\n",
              "    fill: var(--button-hover-fill-color);\n",
              "  }\n",
              "\n",
              "  .colab-df-quickchart-complete:disabled,\n",
              "  .colab-df-quickchart-complete:disabled:hover {\n",
              "    background-color: var(--disabled-bg-color);\n",
              "    fill: var(--disabled-fill-color);\n",
              "    box-shadow: none;\n",
              "  }\n",
              "\n",
              "  .colab-df-spinner {\n",
              "    border: 2px solid var(--fill-color);\n",
              "    border-color: transparent;\n",
              "    border-bottom-color: var(--fill-color);\n",
              "    animation:\n",
              "      spin 1s steps(1) infinite;\n",
              "  }\n",
              "\n",
              "  @keyframes spin {\n",
              "    0% {\n",
              "      border-color: transparent;\n",
              "      border-bottom-color: var(--fill-color);\n",
              "      border-left-color: var(--fill-color);\n",
              "    }\n",
              "    20% {\n",
              "      border-color: transparent;\n",
              "      border-left-color: var(--fill-color);\n",
              "      border-top-color: var(--fill-color);\n",
              "    }\n",
              "    30% {\n",
              "      border-color: transparent;\n",
              "      border-left-color: var(--fill-color);\n",
              "      border-top-color: var(--fill-color);\n",
              "      border-right-color: var(--fill-color);\n",
              "    }\n",
              "    40% {\n",
              "      border-color: transparent;\n",
              "      border-right-color: var(--fill-color);\n",
              "      border-top-color: var(--fill-color);\n",
              "    }\n",
              "    60% {\n",
              "      border-color: transparent;\n",
              "      border-right-color: var(--fill-color);\n",
              "    }\n",
              "    80% {\n",
              "      border-color: transparent;\n",
              "      border-right-color: var(--fill-color);\n",
              "      border-bottom-color: var(--fill-color);\n",
              "    }\n",
              "    90% {\n",
              "      border-color: transparent;\n",
              "      border-bottom-color: var(--fill-color);\n",
              "    }\n",
              "  }\n",
              "</style>\n",
              "\n",
              "  <script>\n",
              "    async function quickchart(key) {\n",
              "      const quickchartButtonEl =\n",
              "        document.querySelector('#' + key + ' button');\n",
              "      quickchartButtonEl.disabled = true;  // To prevent multiple clicks.\n",
              "      quickchartButtonEl.classList.add('colab-df-spinner');\n",
              "      try {\n",
              "        const charts = await google.colab.kernel.invokeFunction(\n",
              "            'suggestCharts', [key], {});\n",
              "      } catch (error) {\n",
              "        console.error('Error during call to suggestCharts:', error);\n",
              "      }\n",
              "      quickchartButtonEl.classList.remove('colab-df-spinner');\n",
              "      quickchartButtonEl.classList.add('colab-df-quickchart-complete');\n",
              "    }\n",
              "    (() => {\n",
              "      let quickchartButtonEl =\n",
              "        document.querySelector('#df-d8b61ae4-274a-441c-a3f1-c787bf22bf25 button');\n",
              "      quickchartButtonEl.style.display =\n",
              "        google.colab.kernel.accessAllowed ? 'block' : 'none';\n",
              "    })();\n",
              "  </script>\n",
              "</div>\n",
              "    </div>\n",
              "  </div>\n"
            ],
            "application/vnd.google.colaboratory.intrinsic+json": {
              "type": "dataframe",
              "variable_name": "insurance_one_hot",
              "summary": "{\n  \"name\": \"insurance_one_hot\",\n  \"rows\": 1338,\n  \"fields\": [\n    {\n      \"column\": \"age\",\n      \"properties\": {\n        \"dtype\": \"number\",\n        \"std\": 14,\n        \"min\": 18,\n        \"max\": 64,\n        \"num_unique_values\": 47,\n        \"samples\": [\n          21,\n          45,\n          36\n        ],\n        \"semantic_type\": \"\",\n        \"description\": \"\"\n      }\n    },\n    {\n      \"column\": \"bmi\",\n      \"properties\": {\n        \"dtype\": \"number\",\n        \"std\": 6.098186911679014,\n        \"min\": 15.96,\n        \"max\": 53.13,\n        \"num_unique_values\": 548,\n        \"samples\": [\n          23.18,\n          26.885,\n          29.26\n        ],\n        \"semantic_type\": \"\",\n        \"description\": \"\"\n      }\n    },\n    {\n      \"column\": \"children\",\n      \"properties\": {\n        \"dtype\": \"number\",\n        \"std\": 1,\n        \"min\": 0,\n        \"max\": 5,\n        \"num_unique_values\": 6,\n        \"samples\": [\n          0,\n          1,\n          4\n        ],\n        \"semantic_type\": \"\",\n        \"description\": \"\"\n      }\n    },\n    {\n      \"column\": \"charges\",\n      \"properties\": {\n        \"dtype\": \"number\",\n        \"std\": 12110.011236694001,\n        \"min\": 1121.8739,\n        \"max\": 63770.42801,\n        \"num_unique_values\": 1337,\n        \"samples\": [\n          8688.85885,\n          5708.867,\n          11436.73815\n        ],\n        \"semantic_type\": \"\",\n        \"description\": \"\"\n      }\n    },\n    {\n      \"column\": \"sex_female\",\n      \"properties\": {\n        \"dtype\": \"uint8\",\n        \"num_unique_values\": 2,\n        \"samples\": [\n          0,\n          1\n        ],\n        \"semantic_type\": \"\",\n        \"description\": \"\"\n      }\n    },\n    {\n      \"column\": \"sex_male\",\n      \"properties\": {\n        \"dtype\": \"uint8\",\n        \"num_unique_values\": 2,\n        \"samples\": [\n          1,\n          0\n        ],\n        \"semantic_type\": \"\",\n        \"description\": \"\"\n      }\n    },\n    {\n      \"column\": \"smoker_no\",\n      \"properties\": {\n        \"dtype\": \"uint8\",\n        \"num_unique_values\": 2,\n        \"samples\": [\n          1,\n          0\n        ],\n        \"semantic_type\": \"\",\n        \"description\": \"\"\n      }\n    },\n    {\n      \"column\": \"smoker_yes\",\n      \"properties\": {\n        \"dtype\": \"uint8\",\n        \"num_unique_values\": 2,\n        \"samples\": [\n          0,\n          1\n        ],\n        \"semantic_type\": \"\",\n        \"description\": \"\"\n      }\n    },\n    {\n      \"column\": \"region_northeast\",\n      \"properties\": {\n        \"dtype\": \"uint8\",\n        \"num_unique_values\": 2,\n        \"samples\": [\n          1,\n          0\n        ],\n        \"semantic_type\": \"\",\n        \"description\": \"\"\n      }\n    },\n    {\n      \"column\": \"region_northwest\",\n      \"properties\": {\n        \"dtype\": \"uint8\",\n        \"num_unique_values\": 2,\n        \"samples\": [\n          1,\n          0\n        ],\n        \"semantic_type\": \"\",\n        \"description\": \"\"\n      }\n    },\n    {\n      \"column\": \"region_southeast\",\n      \"properties\": {\n        \"dtype\": \"uint8\",\n        \"num_unique_values\": 2,\n        \"samples\": [\n          1,\n          0\n        ],\n        \"semantic_type\": \"\",\n        \"description\": \"\"\n      }\n    },\n    {\n      \"column\": \"region_southwest\",\n      \"properties\": {\n        \"dtype\": \"uint8\",\n        \"num_unique_values\": 2,\n        \"samples\": [\n          0,\n          1\n        ],\n        \"semantic_type\": \"\",\n        \"description\": \"\"\n      }\n    }\n  ]\n}"
            }
          },
          "metadata": {},
          "execution_count": 77
        }
      ]
    },
    {
      "cell_type": "code",
      "source": [
        "# Create X & y values (features and labels)\n",
        "X = insurance_one_hot.drop(\"charges\", axis=1)\n",
        "y = insurance_one_hot[\"charges\"]"
      ],
      "metadata": {
        "id": "MeDmSr7AHr9Z"
      },
      "execution_count": 78,
      "outputs": []
    },
    {
      "cell_type": "code",
      "source": [
        "# View X data\n",
        "X.head()"
      ],
      "metadata": {
        "colab": {
          "base_uri": "https://localhost:8080/",
          "height": 226
        },
        "id": "79a1QWm4IPck",
        "outputId": "9d627ae4-97f0-4023-ee11-57ce250c4ce0"
      },
      "execution_count": 79,
      "outputs": [
        {
          "output_type": "execute_result",
          "data": {
            "text/plain": [
              "   age     bmi  children  sex_female  sex_male  smoker_no  smoker_yes  \\\n",
              "0   19  27.900         0           1         0          0           1   \n",
              "1   18  33.770         1           0         1          1           0   \n",
              "2   28  33.000         3           0         1          1           0   \n",
              "3   33  22.705         0           0         1          1           0   \n",
              "4   32  28.880         0           0         1          1           0   \n",
              "\n",
              "   region_northeast  region_northwest  region_southeast  region_southwest  \n",
              "0                 0                 0                 0                 1  \n",
              "1                 0                 0                 1                 0  \n",
              "2                 0                 0                 1                 0  \n",
              "3                 0                 1                 0                 0  \n",
              "4                 0                 1                 0                 0  "
            ],
            "text/html": [
              "\n",
              "  <div id=\"df-3af99e16-c6ff-4d5c-87b0-cd52ab41208b\" class=\"colab-df-container\">\n",
              "    <div>\n",
              "<style scoped>\n",
              "    .dataframe tbody tr th:only-of-type {\n",
              "        vertical-align: middle;\n",
              "    }\n",
              "\n",
              "    .dataframe tbody tr th {\n",
              "        vertical-align: top;\n",
              "    }\n",
              "\n",
              "    .dataframe thead th {\n",
              "        text-align: right;\n",
              "    }\n",
              "</style>\n",
              "<table border=\"1\" class=\"dataframe\">\n",
              "  <thead>\n",
              "    <tr style=\"text-align: right;\">\n",
              "      <th></th>\n",
              "      <th>age</th>\n",
              "      <th>bmi</th>\n",
              "      <th>children</th>\n",
              "      <th>sex_female</th>\n",
              "      <th>sex_male</th>\n",
              "      <th>smoker_no</th>\n",
              "      <th>smoker_yes</th>\n",
              "      <th>region_northeast</th>\n",
              "      <th>region_northwest</th>\n",
              "      <th>region_southeast</th>\n",
              "      <th>region_southwest</th>\n",
              "    </tr>\n",
              "  </thead>\n",
              "  <tbody>\n",
              "    <tr>\n",
              "      <th>0</th>\n",
              "      <td>19</td>\n",
              "      <td>27.900</td>\n",
              "      <td>0</td>\n",
              "      <td>1</td>\n",
              "      <td>0</td>\n",
              "      <td>0</td>\n",
              "      <td>1</td>\n",
              "      <td>0</td>\n",
              "      <td>0</td>\n",
              "      <td>0</td>\n",
              "      <td>1</td>\n",
              "    </tr>\n",
              "    <tr>\n",
              "      <th>1</th>\n",
              "      <td>18</td>\n",
              "      <td>33.770</td>\n",
              "      <td>1</td>\n",
              "      <td>0</td>\n",
              "      <td>1</td>\n",
              "      <td>1</td>\n",
              "      <td>0</td>\n",
              "      <td>0</td>\n",
              "      <td>0</td>\n",
              "      <td>1</td>\n",
              "      <td>0</td>\n",
              "    </tr>\n",
              "    <tr>\n",
              "      <th>2</th>\n",
              "      <td>28</td>\n",
              "      <td>33.000</td>\n",
              "      <td>3</td>\n",
              "      <td>0</td>\n",
              "      <td>1</td>\n",
              "      <td>1</td>\n",
              "      <td>0</td>\n",
              "      <td>0</td>\n",
              "      <td>0</td>\n",
              "      <td>1</td>\n",
              "      <td>0</td>\n",
              "    </tr>\n",
              "    <tr>\n",
              "      <th>3</th>\n",
              "      <td>33</td>\n",
              "      <td>22.705</td>\n",
              "      <td>0</td>\n",
              "      <td>0</td>\n",
              "      <td>1</td>\n",
              "      <td>1</td>\n",
              "      <td>0</td>\n",
              "      <td>0</td>\n",
              "      <td>1</td>\n",
              "      <td>0</td>\n",
              "      <td>0</td>\n",
              "    </tr>\n",
              "    <tr>\n",
              "      <th>4</th>\n",
              "      <td>32</td>\n",
              "      <td>28.880</td>\n",
              "      <td>0</td>\n",
              "      <td>0</td>\n",
              "      <td>1</td>\n",
              "      <td>1</td>\n",
              "      <td>0</td>\n",
              "      <td>0</td>\n",
              "      <td>1</td>\n",
              "      <td>0</td>\n",
              "      <td>0</td>\n",
              "    </tr>\n",
              "  </tbody>\n",
              "</table>\n",
              "</div>\n",
              "    <div class=\"colab-df-buttons\">\n",
              "\n",
              "  <div class=\"colab-df-container\">\n",
              "    <button class=\"colab-df-convert\" onclick=\"convertToInteractive('df-3af99e16-c6ff-4d5c-87b0-cd52ab41208b')\"\n",
              "            title=\"Convert this dataframe to an interactive table.\"\n",
              "            style=\"display:none;\">\n",
              "\n",
              "  <svg xmlns=\"http://www.w3.org/2000/svg\" height=\"24px\" viewBox=\"0 -960 960 960\">\n",
              "    <path d=\"M120-120v-720h720v720H120Zm60-500h600v-160H180v160Zm220 220h160v-160H400v160Zm0 220h160v-160H400v160ZM180-400h160v-160H180v160Zm440 0h160v-160H620v160ZM180-180h160v-160H180v160Zm440 0h160v-160H620v160Z\"/>\n",
              "  </svg>\n",
              "    </button>\n",
              "\n",
              "  <style>\n",
              "    .colab-df-container {\n",
              "      display:flex;\n",
              "      gap: 12px;\n",
              "    }\n",
              "\n",
              "    .colab-df-convert {\n",
              "      background-color: #E8F0FE;\n",
              "      border: none;\n",
              "      border-radius: 50%;\n",
              "      cursor: pointer;\n",
              "      display: none;\n",
              "      fill: #1967D2;\n",
              "      height: 32px;\n",
              "      padding: 0 0 0 0;\n",
              "      width: 32px;\n",
              "    }\n",
              "\n",
              "    .colab-df-convert:hover {\n",
              "      background-color: #E2EBFA;\n",
              "      box-shadow: 0px 1px 2px rgba(60, 64, 67, 0.3), 0px 1px 3px 1px rgba(60, 64, 67, 0.15);\n",
              "      fill: #174EA6;\n",
              "    }\n",
              "\n",
              "    .colab-df-buttons div {\n",
              "      margin-bottom: 4px;\n",
              "    }\n",
              "\n",
              "    [theme=dark] .colab-df-convert {\n",
              "      background-color: #3B4455;\n",
              "      fill: #D2E3FC;\n",
              "    }\n",
              "\n",
              "    [theme=dark] .colab-df-convert:hover {\n",
              "      background-color: #434B5C;\n",
              "      box-shadow: 0px 1px 3px 1px rgba(0, 0, 0, 0.15);\n",
              "      filter: drop-shadow(0px 1px 2px rgba(0, 0, 0, 0.3));\n",
              "      fill: #FFFFFF;\n",
              "    }\n",
              "  </style>\n",
              "\n",
              "    <script>\n",
              "      const buttonEl =\n",
              "        document.querySelector('#df-3af99e16-c6ff-4d5c-87b0-cd52ab41208b button.colab-df-convert');\n",
              "      buttonEl.style.display =\n",
              "        google.colab.kernel.accessAllowed ? 'block' : 'none';\n",
              "\n",
              "      async function convertToInteractive(key) {\n",
              "        const element = document.querySelector('#df-3af99e16-c6ff-4d5c-87b0-cd52ab41208b');\n",
              "        const dataTable =\n",
              "          await google.colab.kernel.invokeFunction('convertToInteractive',\n",
              "                                                    [key], {});\n",
              "        if (!dataTable) return;\n",
              "\n",
              "        const docLinkHtml = 'Like what you see? Visit the ' +\n",
              "          '<a target=\"_blank\" href=https://colab.research.google.com/notebooks/data_table.ipynb>data table notebook</a>'\n",
              "          + ' to learn more about interactive tables.';\n",
              "        element.innerHTML = '';\n",
              "        dataTable['output_type'] = 'display_data';\n",
              "        await google.colab.output.renderOutput(dataTable, element);\n",
              "        const docLink = document.createElement('div');\n",
              "        docLink.innerHTML = docLinkHtml;\n",
              "        element.appendChild(docLink);\n",
              "      }\n",
              "    </script>\n",
              "  </div>\n",
              "\n",
              "\n",
              "<div id=\"df-ad99fa8e-70d3-4512-9075-c952721d948c\">\n",
              "  <button class=\"colab-df-quickchart\" onclick=\"quickchart('df-ad99fa8e-70d3-4512-9075-c952721d948c')\"\n",
              "            title=\"Suggest charts\"\n",
              "            style=\"display:none;\">\n",
              "\n",
              "<svg xmlns=\"http://www.w3.org/2000/svg\" height=\"24px\"viewBox=\"0 0 24 24\"\n",
              "     width=\"24px\">\n",
              "    <g>\n",
              "        <path d=\"M19 3H5c-1.1 0-2 .9-2 2v14c0 1.1.9 2 2 2h14c1.1 0 2-.9 2-2V5c0-1.1-.9-2-2-2zM9 17H7v-7h2v7zm4 0h-2V7h2v10zm4 0h-2v-4h2v4z\"/>\n",
              "    </g>\n",
              "</svg>\n",
              "  </button>\n",
              "\n",
              "<style>\n",
              "  .colab-df-quickchart {\n",
              "      --bg-color: #E8F0FE;\n",
              "      --fill-color: #1967D2;\n",
              "      --hover-bg-color: #E2EBFA;\n",
              "      --hover-fill-color: #174EA6;\n",
              "      --disabled-fill-color: #AAA;\n",
              "      --disabled-bg-color: #DDD;\n",
              "  }\n",
              "\n",
              "  [theme=dark] .colab-df-quickchart {\n",
              "      --bg-color: #3B4455;\n",
              "      --fill-color: #D2E3FC;\n",
              "      --hover-bg-color: #434B5C;\n",
              "      --hover-fill-color: #FFFFFF;\n",
              "      --disabled-bg-color: #3B4455;\n",
              "      --disabled-fill-color: #666;\n",
              "  }\n",
              "\n",
              "  .colab-df-quickchart {\n",
              "    background-color: var(--bg-color);\n",
              "    border: none;\n",
              "    border-radius: 50%;\n",
              "    cursor: pointer;\n",
              "    display: none;\n",
              "    fill: var(--fill-color);\n",
              "    height: 32px;\n",
              "    padding: 0;\n",
              "    width: 32px;\n",
              "  }\n",
              "\n",
              "  .colab-df-quickchart:hover {\n",
              "    background-color: var(--hover-bg-color);\n",
              "    box-shadow: 0 1px 2px rgba(60, 64, 67, 0.3), 0 1px 3px 1px rgba(60, 64, 67, 0.15);\n",
              "    fill: var(--button-hover-fill-color);\n",
              "  }\n",
              "\n",
              "  .colab-df-quickchart-complete:disabled,\n",
              "  .colab-df-quickchart-complete:disabled:hover {\n",
              "    background-color: var(--disabled-bg-color);\n",
              "    fill: var(--disabled-fill-color);\n",
              "    box-shadow: none;\n",
              "  }\n",
              "\n",
              "  .colab-df-spinner {\n",
              "    border: 2px solid var(--fill-color);\n",
              "    border-color: transparent;\n",
              "    border-bottom-color: var(--fill-color);\n",
              "    animation:\n",
              "      spin 1s steps(1) infinite;\n",
              "  }\n",
              "\n",
              "  @keyframes spin {\n",
              "    0% {\n",
              "      border-color: transparent;\n",
              "      border-bottom-color: var(--fill-color);\n",
              "      border-left-color: var(--fill-color);\n",
              "    }\n",
              "    20% {\n",
              "      border-color: transparent;\n",
              "      border-left-color: var(--fill-color);\n",
              "      border-top-color: var(--fill-color);\n",
              "    }\n",
              "    30% {\n",
              "      border-color: transparent;\n",
              "      border-left-color: var(--fill-color);\n",
              "      border-top-color: var(--fill-color);\n",
              "      border-right-color: var(--fill-color);\n",
              "    }\n",
              "    40% {\n",
              "      border-color: transparent;\n",
              "      border-right-color: var(--fill-color);\n",
              "      border-top-color: var(--fill-color);\n",
              "    }\n",
              "    60% {\n",
              "      border-color: transparent;\n",
              "      border-right-color: var(--fill-color);\n",
              "    }\n",
              "    80% {\n",
              "      border-color: transparent;\n",
              "      border-right-color: var(--fill-color);\n",
              "      border-bottom-color: var(--fill-color);\n",
              "    }\n",
              "    90% {\n",
              "      border-color: transparent;\n",
              "      border-bottom-color: var(--fill-color);\n",
              "    }\n",
              "  }\n",
              "</style>\n",
              "\n",
              "  <script>\n",
              "    async function quickchart(key) {\n",
              "      const quickchartButtonEl =\n",
              "        document.querySelector('#' + key + ' button');\n",
              "      quickchartButtonEl.disabled = true;  // To prevent multiple clicks.\n",
              "      quickchartButtonEl.classList.add('colab-df-spinner');\n",
              "      try {\n",
              "        const charts = await google.colab.kernel.invokeFunction(\n",
              "            'suggestCharts', [key], {});\n",
              "      } catch (error) {\n",
              "        console.error('Error during call to suggestCharts:', error);\n",
              "      }\n",
              "      quickchartButtonEl.classList.remove('colab-df-spinner');\n",
              "      quickchartButtonEl.classList.add('colab-df-quickchart-complete');\n",
              "    }\n",
              "    (() => {\n",
              "      let quickchartButtonEl =\n",
              "        document.querySelector('#df-ad99fa8e-70d3-4512-9075-c952721d948c button');\n",
              "      quickchartButtonEl.style.display =\n",
              "        google.colab.kernel.accessAllowed ? 'block' : 'none';\n",
              "    })();\n",
              "  </script>\n",
              "</div>\n",
              "    </div>\n",
              "  </div>\n"
            ],
            "application/vnd.google.colaboratory.intrinsic+json": {
              "type": "dataframe",
              "variable_name": "X",
              "summary": "{\n  \"name\": \"X\",\n  \"rows\": 1338,\n  \"fields\": [\n    {\n      \"column\": \"age\",\n      \"properties\": {\n        \"dtype\": \"number\",\n        \"std\": 14,\n        \"min\": 18,\n        \"max\": 64,\n        \"num_unique_values\": 47,\n        \"samples\": [\n          21,\n          45,\n          36\n        ],\n        \"semantic_type\": \"\",\n        \"description\": \"\"\n      }\n    },\n    {\n      \"column\": \"bmi\",\n      \"properties\": {\n        \"dtype\": \"number\",\n        \"std\": 6.098186911679014,\n        \"min\": 15.96,\n        \"max\": 53.13,\n        \"num_unique_values\": 548,\n        \"samples\": [\n          23.18,\n          26.885,\n          29.26\n        ],\n        \"semantic_type\": \"\",\n        \"description\": \"\"\n      }\n    },\n    {\n      \"column\": \"children\",\n      \"properties\": {\n        \"dtype\": \"number\",\n        \"std\": 1,\n        \"min\": 0,\n        \"max\": 5,\n        \"num_unique_values\": 6,\n        \"samples\": [\n          0,\n          1,\n          4\n        ],\n        \"semantic_type\": \"\",\n        \"description\": \"\"\n      }\n    },\n    {\n      \"column\": \"sex_female\",\n      \"properties\": {\n        \"dtype\": \"uint8\",\n        \"num_unique_values\": 2,\n        \"samples\": [\n          0,\n          1\n        ],\n        \"semantic_type\": \"\",\n        \"description\": \"\"\n      }\n    },\n    {\n      \"column\": \"sex_male\",\n      \"properties\": {\n        \"dtype\": \"uint8\",\n        \"num_unique_values\": 2,\n        \"samples\": [\n          1,\n          0\n        ],\n        \"semantic_type\": \"\",\n        \"description\": \"\"\n      }\n    },\n    {\n      \"column\": \"smoker_no\",\n      \"properties\": {\n        \"dtype\": \"uint8\",\n        \"num_unique_values\": 2,\n        \"samples\": [\n          1,\n          0\n        ],\n        \"semantic_type\": \"\",\n        \"description\": \"\"\n      }\n    },\n    {\n      \"column\": \"smoker_yes\",\n      \"properties\": {\n        \"dtype\": \"uint8\",\n        \"num_unique_values\": 2,\n        \"samples\": [\n          0,\n          1\n        ],\n        \"semantic_type\": \"\",\n        \"description\": \"\"\n      }\n    },\n    {\n      \"column\": \"region_northeast\",\n      \"properties\": {\n        \"dtype\": \"uint8\",\n        \"num_unique_values\": 2,\n        \"samples\": [\n          1,\n          0\n        ],\n        \"semantic_type\": \"\",\n        \"description\": \"\"\n      }\n    },\n    {\n      \"column\": \"region_northwest\",\n      \"properties\": {\n        \"dtype\": \"uint8\",\n        \"num_unique_values\": 2,\n        \"samples\": [\n          1,\n          0\n        ],\n        \"semantic_type\": \"\",\n        \"description\": \"\"\n      }\n    },\n    {\n      \"column\": \"region_southeast\",\n      \"properties\": {\n        \"dtype\": \"uint8\",\n        \"num_unique_values\": 2,\n        \"samples\": [\n          1,\n          0\n        ],\n        \"semantic_type\": \"\",\n        \"description\": \"\"\n      }\n    },\n    {\n      \"column\": \"region_southwest\",\n      \"properties\": {\n        \"dtype\": \"uint8\",\n        \"num_unique_values\": 2,\n        \"samples\": [\n          0,\n          1\n        ],\n        \"semantic_type\": \"\",\n        \"description\": \"\"\n      }\n    }\n  ]\n}"
            }
          },
          "metadata": {},
          "execution_count": 79
        }
      ]
    },
    {
      "cell_type": "code",
      "source": [
        "# View y labels\n",
        "y.head()"
      ],
      "metadata": {
        "colab": {
          "base_uri": "https://localhost:8080/"
        },
        "id": "f7a4sbEwIbgd",
        "outputId": "baa59528-f0e0-4200-d8dd-e4c4faec5aac"
      },
      "execution_count": 80,
      "outputs": [
        {
          "output_type": "execute_result",
          "data": {
            "text/plain": [
              "0    16884.92400\n",
              "1     1725.55230\n",
              "2     4449.46200\n",
              "3    21984.47061\n",
              "4     3866.85520\n",
              "Name: charges, dtype: float64"
            ]
          },
          "metadata": {},
          "execution_count": 80
        }
      ]
    },
    {
      "cell_type": "code",
      "source": [
        "# Create training and test sets\n",
        "from sklearn.model_selection import train_test_split\n",
        "X_train, X_test, y_train, y_test = train_test_split(X, y, test_size=0.2, random_state=42)\n",
        "\n",
        "# make random train\n",
        "\n",
        "# Make 20% of data test\n",
        "len(X), len(X_train), len(X_test)"
      ],
      "metadata": {
        "colab": {
          "base_uri": "https://localhost:8080/"
        },
        "id": "TPC54T2zHzpl",
        "outputId": "b0312fc3-06ce-4fac-aa6a-96a3c9aa783a"
      },
      "execution_count": 82,
      "outputs": [
        {
          "output_type": "execute_result",
          "data": {
            "text/plain": [
              "(1338, 1070, 268)"
            ]
          },
          "metadata": {},
          "execution_count": 82
        }
      ]
    },
    {
      "cell_type": "code",
      "source": [
        "0.2*1338"
      ],
      "metadata": {
        "colab": {
          "base_uri": "https://localhost:8080/"
        },
        "id": "mQ7QIo5JJyyb",
        "outputId": "b4276e03-8844-47e7-d9b5-c41ba818ce5f"
      },
      "execution_count": 83,
      "outputs": [
        {
          "output_type": "execute_result",
          "data": {
            "text/plain": [
              "267.6"
            ]
          },
          "metadata": {},
          "execution_count": 83
        }
      ]
    },
    {
      "cell_type": "code",
      "source": [
        "X_train"
      ],
      "metadata": {
        "colab": {
          "base_uri": "https://localhost:8080/",
          "height": 443
        },
        "id": "97hTtCHoJ3yc",
        "outputId": "1bd5c752-1422-475b-9bb2-ea2d8188e18d"
      },
      "execution_count": 84,
      "outputs": [
        {
          "output_type": "execute_result",
          "data": {
            "text/plain": [
              "      age     bmi  children  sex_female  sex_male  smoker_no  smoker_yes  \\\n",
              "560    46  19.950         2           1         0          1           0   \n",
              "1285   47  24.320         0           1         0          1           0   \n",
              "1142   52  24.860         0           1         0          1           0   \n",
              "969    39  34.320         5           1         0          1           0   \n",
              "486    54  21.470         3           1         0          1           0   \n",
              "...   ...     ...       ...         ...       ...        ...         ...   \n",
              "1095   18  31.350         4           1         0          1           0   \n",
              "1130   39  23.870         5           1         0          1           0   \n",
              "1294   58  25.175         0           0         1          1           0   \n",
              "860    37  47.600         2           1         0          0           1   \n",
              "1126   55  29.900         0           0         1          1           0   \n",
              "\n",
              "      region_northeast  region_northwest  region_southeast  region_southwest  \n",
              "560                  0                 1                 0                 0  \n",
              "1285                 1                 0                 0                 0  \n",
              "1142                 0                 0                 1                 0  \n",
              "969                  0                 0                 1                 0  \n",
              "486                  0                 1                 0                 0  \n",
              "...                ...               ...               ...               ...  \n",
              "1095                 1                 0                 0                 0  \n",
              "1130                 0                 0                 1                 0  \n",
              "1294                 1                 0                 0                 0  \n",
              "860                  0                 0                 0                 1  \n",
              "1126                 0                 0                 0                 1  \n",
              "\n",
              "[1070 rows x 11 columns]"
            ],
            "text/html": [
              "\n",
              "  <div id=\"df-48a388c5-249b-4166-a558-756b0c254b4d\" class=\"colab-df-container\">\n",
              "    <div>\n",
              "<style scoped>\n",
              "    .dataframe tbody tr th:only-of-type {\n",
              "        vertical-align: middle;\n",
              "    }\n",
              "\n",
              "    .dataframe tbody tr th {\n",
              "        vertical-align: top;\n",
              "    }\n",
              "\n",
              "    .dataframe thead th {\n",
              "        text-align: right;\n",
              "    }\n",
              "</style>\n",
              "<table border=\"1\" class=\"dataframe\">\n",
              "  <thead>\n",
              "    <tr style=\"text-align: right;\">\n",
              "      <th></th>\n",
              "      <th>age</th>\n",
              "      <th>bmi</th>\n",
              "      <th>children</th>\n",
              "      <th>sex_female</th>\n",
              "      <th>sex_male</th>\n",
              "      <th>smoker_no</th>\n",
              "      <th>smoker_yes</th>\n",
              "      <th>region_northeast</th>\n",
              "      <th>region_northwest</th>\n",
              "      <th>region_southeast</th>\n",
              "      <th>region_southwest</th>\n",
              "    </tr>\n",
              "  </thead>\n",
              "  <tbody>\n",
              "    <tr>\n",
              "      <th>560</th>\n",
              "      <td>46</td>\n",
              "      <td>19.950</td>\n",
              "      <td>2</td>\n",
              "      <td>1</td>\n",
              "      <td>0</td>\n",
              "      <td>1</td>\n",
              "      <td>0</td>\n",
              "      <td>0</td>\n",
              "      <td>1</td>\n",
              "      <td>0</td>\n",
              "      <td>0</td>\n",
              "    </tr>\n",
              "    <tr>\n",
              "      <th>1285</th>\n",
              "      <td>47</td>\n",
              "      <td>24.320</td>\n",
              "      <td>0</td>\n",
              "      <td>1</td>\n",
              "      <td>0</td>\n",
              "      <td>1</td>\n",
              "      <td>0</td>\n",
              "      <td>1</td>\n",
              "      <td>0</td>\n",
              "      <td>0</td>\n",
              "      <td>0</td>\n",
              "    </tr>\n",
              "    <tr>\n",
              "      <th>1142</th>\n",
              "      <td>52</td>\n",
              "      <td>24.860</td>\n",
              "      <td>0</td>\n",
              "      <td>1</td>\n",
              "      <td>0</td>\n",
              "      <td>1</td>\n",
              "      <td>0</td>\n",
              "      <td>0</td>\n",
              "      <td>0</td>\n",
              "      <td>1</td>\n",
              "      <td>0</td>\n",
              "    </tr>\n",
              "    <tr>\n",
              "      <th>969</th>\n",
              "      <td>39</td>\n",
              "      <td>34.320</td>\n",
              "      <td>5</td>\n",
              "      <td>1</td>\n",
              "      <td>0</td>\n",
              "      <td>1</td>\n",
              "      <td>0</td>\n",
              "      <td>0</td>\n",
              "      <td>0</td>\n",
              "      <td>1</td>\n",
              "      <td>0</td>\n",
              "    </tr>\n",
              "    <tr>\n",
              "      <th>486</th>\n",
              "      <td>54</td>\n",
              "      <td>21.470</td>\n",
              "      <td>3</td>\n",
              "      <td>1</td>\n",
              "      <td>0</td>\n",
              "      <td>1</td>\n",
              "      <td>0</td>\n",
              "      <td>0</td>\n",
              "      <td>1</td>\n",
              "      <td>0</td>\n",
              "      <td>0</td>\n",
              "    </tr>\n",
              "    <tr>\n",
              "      <th>...</th>\n",
              "      <td>...</td>\n",
              "      <td>...</td>\n",
              "      <td>...</td>\n",
              "      <td>...</td>\n",
              "      <td>...</td>\n",
              "      <td>...</td>\n",
              "      <td>...</td>\n",
              "      <td>...</td>\n",
              "      <td>...</td>\n",
              "      <td>...</td>\n",
              "      <td>...</td>\n",
              "    </tr>\n",
              "    <tr>\n",
              "      <th>1095</th>\n",
              "      <td>18</td>\n",
              "      <td>31.350</td>\n",
              "      <td>4</td>\n",
              "      <td>1</td>\n",
              "      <td>0</td>\n",
              "      <td>1</td>\n",
              "      <td>0</td>\n",
              "      <td>1</td>\n",
              "      <td>0</td>\n",
              "      <td>0</td>\n",
              "      <td>0</td>\n",
              "    </tr>\n",
              "    <tr>\n",
              "      <th>1130</th>\n",
              "      <td>39</td>\n",
              "      <td>23.870</td>\n",
              "      <td>5</td>\n",
              "      <td>1</td>\n",
              "      <td>0</td>\n",
              "      <td>1</td>\n",
              "      <td>0</td>\n",
              "      <td>0</td>\n",
              "      <td>0</td>\n",
              "      <td>1</td>\n",
              "      <td>0</td>\n",
              "    </tr>\n",
              "    <tr>\n",
              "      <th>1294</th>\n",
              "      <td>58</td>\n",
              "      <td>25.175</td>\n",
              "      <td>0</td>\n",
              "      <td>0</td>\n",
              "      <td>1</td>\n",
              "      <td>1</td>\n",
              "      <td>0</td>\n",
              "      <td>1</td>\n",
              "      <td>0</td>\n",
              "      <td>0</td>\n",
              "      <td>0</td>\n",
              "    </tr>\n",
              "    <tr>\n",
              "      <th>860</th>\n",
              "      <td>37</td>\n",
              "      <td>47.600</td>\n",
              "      <td>2</td>\n",
              "      <td>1</td>\n",
              "      <td>0</td>\n",
              "      <td>0</td>\n",
              "      <td>1</td>\n",
              "      <td>0</td>\n",
              "      <td>0</td>\n",
              "      <td>0</td>\n",
              "      <td>1</td>\n",
              "    </tr>\n",
              "    <tr>\n",
              "      <th>1126</th>\n",
              "      <td>55</td>\n",
              "      <td>29.900</td>\n",
              "      <td>0</td>\n",
              "      <td>0</td>\n",
              "      <td>1</td>\n",
              "      <td>1</td>\n",
              "      <td>0</td>\n",
              "      <td>0</td>\n",
              "      <td>0</td>\n",
              "      <td>0</td>\n",
              "      <td>1</td>\n",
              "    </tr>\n",
              "  </tbody>\n",
              "</table>\n",
              "<p>1070 rows × 11 columns</p>\n",
              "</div>\n",
              "    <div class=\"colab-df-buttons\">\n",
              "\n",
              "  <div class=\"colab-df-container\">\n",
              "    <button class=\"colab-df-convert\" onclick=\"convertToInteractive('df-48a388c5-249b-4166-a558-756b0c254b4d')\"\n",
              "            title=\"Convert this dataframe to an interactive table.\"\n",
              "            style=\"display:none;\">\n",
              "\n",
              "  <svg xmlns=\"http://www.w3.org/2000/svg\" height=\"24px\" viewBox=\"0 -960 960 960\">\n",
              "    <path d=\"M120-120v-720h720v720H120Zm60-500h600v-160H180v160Zm220 220h160v-160H400v160Zm0 220h160v-160H400v160ZM180-400h160v-160H180v160Zm440 0h160v-160H620v160ZM180-180h160v-160H180v160Zm440 0h160v-160H620v160Z\"/>\n",
              "  </svg>\n",
              "    </button>\n",
              "\n",
              "  <style>\n",
              "    .colab-df-container {\n",
              "      display:flex;\n",
              "      gap: 12px;\n",
              "    }\n",
              "\n",
              "    .colab-df-convert {\n",
              "      background-color: #E8F0FE;\n",
              "      border: none;\n",
              "      border-radius: 50%;\n",
              "      cursor: pointer;\n",
              "      display: none;\n",
              "      fill: #1967D2;\n",
              "      height: 32px;\n",
              "      padding: 0 0 0 0;\n",
              "      width: 32px;\n",
              "    }\n",
              "\n",
              "    .colab-df-convert:hover {\n",
              "      background-color: #E2EBFA;\n",
              "      box-shadow: 0px 1px 2px rgba(60, 64, 67, 0.3), 0px 1px 3px 1px rgba(60, 64, 67, 0.15);\n",
              "      fill: #174EA6;\n",
              "    }\n",
              "\n",
              "    .colab-df-buttons div {\n",
              "      margin-bottom: 4px;\n",
              "    }\n",
              "\n",
              "    [theme=dark] .colab-df-convert {\n",
              "      background-color: #3B4455;\n",
              "      fill: #D2E3FC;\n",
              "    }\n",
              "\n",
              "    [theme=dark] .colab-df-convert:hover {\n",
              "      background-color: #434B5C;\n",
              "      box-shadow: 0px 1px 3px 1px rgba(0, 0, 0, 0.15);\n",
              "      filter: drop-shadow(0px 1px 2px rgba(0, 0, 0, 0.3));\n",
              "      fill: #FFFFFF;\n",
              "    }\n",
              "  </style>\n",
              "\n",
              "    <script>\n",
              "      const buttonEl =\n",
              "        document.querySelector('#df-48a388c5-249b-4166-a558-756b0c254b4d button.colab-df-convert');\n",
              "      buttonEl.style.display =\n",
              "        google.colab.kernel.accessAllowed ? 'block' : 'none';\n",
              "\n",
              "      async function convertToInteractive(key) {\n",
              "        const element = document.querySelector('#df-48a388c5-249b-4166-a558-756b0c254b4d');\n",
              "        const dataTable =\n",
              "          await google.colab.kernel.invokeFunction('convertToInteractive',\n",
              "                                                    [key], {});\n",
              "        if (!dataTable) return;\n",
              "\n",
              "        const docLinkHtml = 'Like what you see? Visit the ' +\n",
              "          '<a target=\"_blank\" href=https://colab.research.google.com/notebooks/data_table.ipynb>data table notebook</a>'\n",
              "          + ' to learn more about interactive tables.';\n",
              "        element.innerHTML = '';\n",
              "        dataTable['output_type'] = 'display_data';\n",
              "        await google.colab.output.renderOutput(dataTable, element);\n",
              "        const docLink = document.createElement('div');\n",
              "        docLink.innerHTML = docLinkHtml;\n",
              "        element.appendChild(docLink);\n",
              "      }\n",
              "    </script>\n",
              "  </div>\n",
              "\n",
              "\n",
              "<div id=\"df-00d312fa-0b7a-45e8-bfe8-0ab7bacb1d04\">\n",
              "  <button class=\"colab-df-quickchart\" onclick=\"quickchart('df-00d312fa-0b7a-45e8-bfe8-0ab7bacb1d04')\"\n",
              "            title=\"Suggest charts\"\n",
              "            style=\"display:none;\">\n",
              "\n",
              "<svg xmlns=\"http://www.w3.org/2000/svg\" height=\"24px\"viewBox=\"0 0 24 24\"\n",
              "     width=\"24px\">\n",
              "    <g>\n",
              "        <path d=\"M19 3H5c-1.1 0-2 .9-2 2v14c0 1.1.9 2 2 2h14c1.1 0 2-.9 2-2V5c0-1.1-.9-2-2-2zM9 17H7v-7h2v7zm4 0h-2V7h2v10zm4 0h-2v-4h2v4z\"/>\n",
              "    </g>\n",
              "</svg>\n",
              "  </button>\n",
              "\n",
              "<style>\n",
              "  .colab-df-quickchart {\n",
              "      --bg-color: #E8F0FE;\n",
              "      --fill-color: #1967D2;\n",
              "      --hover-bg-color: #E2EBFA;\n",
              "      --hover-fill-color: #174EA6;\n",
              "      --disabled-fill-color: #AAA;\n",
              "      --disabled-bg-color: #DDD;\n",
              "  }\n",
              "\n",
              "  [theme=dark] .colab-df-quickchart {\n",
              "      --bg-color: #3B4455;\n",
              "      --fill-color: #D2E3FC;\n",
              "      --hover-bg-color: #434B5C;\n",
              "      --hover-fill-color: #FFFFFF;\n",
              "      --disabled-bg-color: #3B4455;\n",
              "      --disabled-fill-color: #666;\n",
              "  }\n",
              "\n",
              "  .colab-df-quickchart {\n",
              "    background-color: var(--bg-color);\n",
              "    border: none;\n",
              "    border-radius: 50%;\n",
              "    cursor: pointer;\n",
              "    display: none;\n",
              "    fill: var(--fill-color);\n",
              "    height: 32px;\n",
              "    padding: 0;\n",
              "    width: 32px;\n",
              "  }\n",
              "\n",
              "  .colab-df-quickchart:hover {\n",
              "    background-color: var(--hover-bg-color);\n",
              "    box-shadow: 0 1px 2px rgba(60, 64, 67, 0.3), 0 1px 3px 1px rgba(60, 64, 67, 0.15);\n",
              "    fill: var(--button-hover-fill-color);\n",
              "  }\n",
              "\n",
              "  .colab-df-quickchart-complete:disabled,\n",
              "  .colab-df-quickchart-complete:disabled:hover {\n",
              "    background-color: var(--disabled-bg-color);\n",
              "    fill: var(--disabled-fill-color);\n",
              "    box-shadow: none;\n",
              "  }\n",
              "\n",
              "  .colab-df-spinner {\n",
              "    border: 2px solid var(--fill-color);\n",
              "    border-color: transparent;\n",
              "    border-bottom-color: var(--fill-color);\n",
              "    animation:\n",
              "      spin 1s steps(1) infinite;\n",
              "  }\n",
              "\n",
              "  @keyframes spin {\n",
              "    0% {\n",
              "      border-color: transparent;\n",
              "      border-bottom-color: var(--fill-color);\n",
              "      border-left-color: var(--fill-color);\n",
              "    }\n",
              "    20% {\n",
              "      border-color: transparent;\n",
              "      border-left-color: var(--fill-color);\n",
              "      border-top-color: var(--fill-color);\n",
              "    }\n",
              "    30% {\n",
              "      border-color: transparent;\n",
              "      border-left-color: var(--fill-color);\n",
              "      border-top-color: var(--fill-color);\n",
              "      border-right-color: var(--fill-color);\n",
              "    }\n",
              "    40% {\n",
              "      border-color: transparent;\n",
              "      border-right-color: var(--fill-color);\n",
              "      border-top-color: var(--fill-color);\n",
              "    }\n",
              "    60% {\n",
              "      border-color: transparent;\n",
              "      border-right-color: var(--fill-color);\n",
              "    }\n",
              "    80% {\n",
              "      border-color: transparent;\n",
              "      border-right-color: var(--fill-color);\n",
              "      border-bottom-color: var(--fill-color);\n",
              "    }\n",
              "    90% {\n",
              "      border-color: transparent;\n",
              "      border-bottom-color: var(--fill-color);\n",
              "    }\n",
              "  }\n",
              "</style>\n",
              "\n",
              "  <script>\n",
              "    async function quickchart(key) {\n",
              "      const quickchartButtonEl =\n",
              "        document.querySelector('#' + key + ' button');\n",
              "      quickchartButtonEl.disabled = true;  // To prevent multiple clicks.\n",
              "      quickchartButtonEl.classList.add('colab-df-spinner');\n",
              "      try {\n",
              "        const charts = await google.colab.kernel.invokeFunction(\n",
              "            'suggestCharts', [key], {});\n",
              "      } catch (error) {\n",
              "        console.error('Error during call to suggestCharts:', error);\n",
              "      }\n",
              "      quickchartButtonEl.classList.remove('colab-df-spinner');\n",
              "      quickchartButtonEl.classList.add('colab-df-quickchart-complete');\n",
              "    }\n",
              "    (() => {\n",
              "      let quickchartButtonEl =\n",
              "        document.querySelector('#df-00d312fa-0b7a-45e8-bfe8-0ab7bacb1d04 button');\n",
              "      quickchartButtonEl.style.display =\n",
              "        google.colab.kernel.accessAllowed ? 'block' : 'none';\n",
              "    })();\n",
              "  </script>\n",
              "</div>\n",
              "    </div>\n",
              "  </div>\n"
            ],
            "application/vnd.google.colaboratory.intrinsic+json": {
              "type": "dataframe",
              "variable_name": "X_train",
              "summary": "{\n  \"name\": \"X_train\",\n  \"rows\": 1070,\n  \"fields\": [\n    {\n      \"column\": \"age\",\n      \"properties\": {\n        \"dtype\": \"number\",\n        \"std\": 14,\n        \"min\": 18,\n        \"max\": 64,\n        \"num_unique_values\": 47,\n        \"samples\": [\n          35,\n          33,\n          20\n        ],\n        \"semantic_type\": \"\",\n        \"description\": \"\"\n      }\n    },\n    {\n      \"column\": \"bmi\",\n      \"properties\": {\n        \"dtype\": \"number\",\n        \"std\": 6.043385672727495,\n        \"min\": 15.96,\n        \"max\": 53.13,\n        \"num_unique_values\": 494,\n        \"samples\": [\n          27.3,\n          31.35,\n          21.66\n        ],\n        \"semantic_type\": \"\",\n        \"description\": \"\"\n      }\n    },\n    {\n      \"column\": \"children\",\n      \"properties\": {\n        \"dtype\": \"number\",\n        \"std\": 1,\n        \"min\": 0,\n        \"max\": 5,\n        \"num_unique_values\": 6,\n        \"samples\": [\n          2,\n          0,\n          4\n        ],\n        \"semantic_type\": \"\",\n        \"description\": \"\"\n      }\n    },\n    {\n      \"column\": \"sex_female\",\n      \"properties\": {\n        \"dtype\": \"uint8\",\n        \"num_unique_values\": 2,\n        \"samples\": [\n          0,\n          1\n        ],\n        \"semantic_type\": \"\",\n        \"description\": \"\"\n      }\n    },\n    {\n      \"column\": \"sex_male\",\n      \"properties\": {\n        \"dtype\": \"uint8\",\n        \"num_unique_values\": 2,\n        \"samples\": [\n          1,\n          0\n        ],\n        \"semantic_type\": \"\",\n        \"description\": \"\"\n      }\n    },\n    {\n      \"column\": \"smoker_no\",\n      \"properties\": {\n        \"dtype\": \"uint8\",\n        \"num_unique_values\": 2,\n        \"samples\": [\n          0,\n          1\n        ],\n        \"semantic_type\": \"\",\n        \"description\": \"\"\n      }\n    },\n    {\n      \"column\": \"smoker_yes\",\n      \"properties\": {\n        \"dtype\": \"uint8\",\n        \"num_unique_values\": 2,\n        \"samples\": [\n          1,\n          0\n        ],\n        \"semantic_type\": \"\",\n        \"description\": \"\"\n      }\n    },\n    {\n      \"column\": \"region_northeast\",\n      \"properties\": {\n        \"dtype\": \"uint8\",\n        \"num_unique_values\": 2,\n        \"samples\": [\n          1,\n          0\n        ],\n        \"semantic_type\": \"\",\n        \"description\": \"\"\n      }\n    },\n    {\n      \"column\": \"region_northwest\",\n      \"properties\": {\n        \"dtype\": \"uint8\",\n        \"num_unique_values\": 2,\n        \"samples\": [\n          0,\n          1\n        ],\n        \"semantic_type\": \"\",\n        \"description\": \"\"\n      }\n    },\n    {\n      \"column\": \"region_southeast\",\n      \"properties\": {\n        \"dtype\": \"uint8\",\n        \"num_unique_values\": 2,\n        \"samples\": [\n          1,\n          0\n        ],\n        \"semantic_type\": \"\",\n        \"description\": \"\"\n      }\n    },\n    {\n      \"column\": \"region_southwest\",\n      \"properties\": {\n        \"dtype\": \"uint8\",\n        \"num_unique_values\": 2,\n        \"samples\": [\n          1,\n          0\n        ],\n        \"semantic_type\": \"\",\n        \"description\": \"\"\n      }\n    }\n  ]\n}"
            }
          },
          "metadata": {},
          "execution_count": 84
        }
      ]
    },
    {
      "cell_type": "code",
      "source": [
        "# Build a neural network (sort of like model_2 above)\n",
        "tf.random.set_seed(42)\n",
        "\n",
        "# 1. Create a model\n",
        "insurance_model = tf.keras.Sequential([\n",
        "    tf.keras.layers.Dense(10),\n",
        "    tf.keras.layers.Dense(1)\n",
        "])\n",
        "\n",
        "# 2. Compile the model\n",
        "insurance_model.compile(loss=tf.keras.losses.mae,\n",
        "                        optimizer=tf.keras.optimizers.SGD(),\n",
        "                        metrics=[\"mae\"])\n",
        "\n",
        "# Because numpy array cannot to reformat to tensor\n",
        "# 3. Fit the model\n",
        "insurance_model.fit(X_train, y_train, epochs=100)"
      ],
      "metadata": {
        "colab": {
          "base_uri": "https://localhost:8080/"
        },
        "id": "oTPBgXY5H03g",
        "outputId": "132cce95-4624-4fd2-e232-473465aa7000"
      },
      "execution_count": 85,
      "outputs": [
        {
          "output_type": "stream",
          "name": "stdout",
          "text": [
            "Epoch 1/100\n",
            "34/34 [==============================] - 1s 6ms/step - loss: 8514.3779 - mae: 8514.3779\n",
            "Epoch 2/100\n",
            "34/34 [==============================] - 0s 5ms/step - loss: 7881.3477 - mae: 7881.3477\n",
            "Epoch 3/100\n",
            "34/34 [==============================] - 0s 4ms/step - loss: 7570.1787 - mae: 7570.1787\n",
            "Epoch 4/100\n",
            "34/34 [==============================] - 0s 3ms/step - loss: 7702.2163 - mae: 7702.2163\n",
            "Epoch 5/100\n",
            "34/34 [==============================] - 0s 3ms/step - loss: 7633.0405 - mae: 7633.0405\n",
            "Epoch 6/100\n",
            "34/34 [==============================] - 0s 2ms/step - loss: 7644.7271 - mae: 7644.7271\n",
            "Epoch 7/100\n",
            "34/34 [==============================] - 0s 2ms/step - loss: 7573.6187 - mae: 7573.6187\n",
            "Epoch 8/100\n",
            "34/34 [==============================] - 0s 2ms/step - loss: 7737.8052 - mae: 7737.8052\n",
            "Epoch 9/100\n",
            "34/34 [==============================] - 0s 2ms/step - loss: 7504.7202 - mae: 7504.7202\n",
            "Epoch 10/100\n",
            "34/34 [==============================] - 0s 2ms/step - loss: 7565.1846 - mae: 7565.1846\n",
            "Epoch 11/100\n",
            "34/34 [==============================] - 0s 2ms/step - loss: 7554.9136 - mae: 7554.9136\n",
            "Epoch 12/100\n",
            "34/34 [==============================] - 0s 2ms/step - loss: 7576.1133 - mae: 7576.1133\n",
            "Epoch 13/100\n",
            "34/34 [==============================] - 0s 2ms/step - loss: 7704.0640 - mae: 7704.0640\n",
            "Epoch 14/100\n",
            "34/34 [==============================] - 0s 2ms/step - loss: 7740.0776 - mae: 7740.0776\n",
            "Epoch 15/100\n",
            "34/34 [==============================] - 0s 2ms/step - loss: 7503.1045 - mae: 7503.1045\n",
            "Epoch 16/100\n",
            "34/34 [==============================] - 0s 2ms/step - loss: 7725.3672 - mae: 7725.3672\n",
            "Epoch 17/100\n",
            "34/34 [==============================] - 0s 2ms/step - loss: 7704.5264 - mae: 7704.5264\n",
            "Epoch 18/100\n",
            "34/34 [==============================] - 0s 2ms/step - loss: 7805.4902 - mae: 7805.4902\n",
            "Epoch 19/100\n",
            "34/34 [==============================] - 0s 2ms/step - loss: 7742.9805 - mae: 7742.9805\n",
            "Epoch 20/100\n",
            "34/34 [==============================] - 0s 2ms/step - loss: 7935.4282 - mae: 7935.4282\n",
            "Epoch 21/100\n",
            "34/34 [==============================] - 0s 2ms/step - loss: 7538.2964 - mae: 7538.2964\n",
            "Epoch 22/100\n",
            "34/34 [==============================] - 0s 2ms/step - loss: 7770.0000 - mae: 7770.0000\n",
            "Epoch 23/100\n",
            "34/34 [==============================] - 0s 2ms/step - loss: 7642.6001 - mae: 7642.6001\n",
            "Epoch 24/100\n",
            "34/34 [==============================] - 0s 2ms/step - loss: 7579.2017 - mae: 7579.2017\n",
            "Epoch 25/100\n",
            "34/34 [==============================] - 0s 2ms/step - loss: 7686.4458 - mae: 7686.4458\n",
            "Epoch 26/100\n",
            "34/34 [==============================] - 0s 2ms/step - loss: 7618.8379 - mae: 7618.8379\n",
            "Epoch 27/100\n",
            "34/34 [==============================] - 0s 2ms/step - loss: 7558.8423 - mae: 7558.8423\n",
            "Epoch 28/100\n",
            "34/34 [==============================] - 0s 2ms/step - loss: 7555.6431 - mae: 7555.6431\n",
            "Epoch 29/100\n",
            "34/34 [==============================] - 0s 2ms/step - loss: 7672.7817 - mae: 7672.7817\n",
            "Epoch 30/100\n",
            "34/34 [==============================] - 0s 1ms/step - loss: 7647.5815 - mae: 7647.5815\n",
            "Epoch 31/100\n",
            "34/34 [==============================] - 0s 2ms/step - loss: 7548.6499 - mae: 7548.6499\n",
            "Epoch 32/100\n",
            "34/34 [==============================] - 0s 2ms/step - loss: 7566.8320 - mae: 7566.8320\n",
            "Epoch 33/100\n",
            "34/34 [==============================] - 0s 2ms/step - loss: 7380.2544 - mae: 7380.2544\n",
            "Epoch 34/100\n",
            "34/34 [==============================] - 0s 2ms/step - loss: 7496.2764 - mae: 7496.2764\n",
            "Epoch 35/100\n",
            "34/34 [==============================] - 0s 2ms/step - loss: 7550.3613 - mae: 7550.3613\n",
            "Epoch 36/100\n",
            "34/34 [==============================] - 0s 2ms/step - loss: 7523.1392 - mae: 7523.1392\n",
            "Epoch 37/100\n",
            "34/34 [==============================] - 0s 2ms/step - loss: 7627.7100 - mae: 7627.7100\n",
            "Epoch 38/100\n",
            "34/34 [==============================] - 0s 2ms/step - loss: 7531.5908 - mae: 7531.5908\n",
            "Epoch 39/100\n",
            "34/34 [==============================] - 0s 3ms/step - loss: 7547.1562 - mae: 7547.1562\n",
            "Epoch 40/100\n",
            "34/34 [==============================] - 0s 2ms/step - loss: 7400.4707 - mae: 7400.4707\n",
            "Epoch 41/100\n",
            "34/34 [==============================] - 0s 2ms/step - loss: 7735.4932 - mae: 7735.4932\n",
            "Epoch 42/100\n",
            "34/34 [==============================] - 0s 2ms/step - loss: 7359.0854 - mae: 7359.0854\n",
            "Epoch 43/100\n",
            "34/34 [==============================] - 0s 2ms/step - loss: 7672.0771 - mae: 7672.0771\n",
            "Epoch 44/100\n",
            "34/34 [==============================] - 0s 2ms/step - loss: 7440.6562 - mae: 7440.6562\n",
            "Epoch 45/100\n",
            "34/34 [==============================] - 0s 2ms/step - loss: 7548.6973 - mae: 7548.6973\n",
            "Epoch 46/100\n",
            "34/34 [==============================] - 0s 2ms/step - loss: 7359.7090 - mae: 7359.7090\n",
            "Epoch 47/100\n",
            "34/34 [==============================] - 0s 2ms/step - loss: 7421.9380 - mae: 7421.9380\n",
            "Epoch 48/100\n",
            "34/34 [==============================] - 0s 2ms/step - loss: 7497.1519 - mae: 7497.1519\n",
            "Epoch 49/100\n",
            "34/34 [==============================] - 0s 2ms/step - loss: 7547.5811 - mae: 7547.5811\n",
            "Epoch 50/100\n",
            "34/34 [==============================] - 0s 2ms/step - loss: 7534.6338 - mae: 7534.6338\n",
            "Epoch 51/100\n",
            "34/34 [==============================] - 0s 2ms/step - loss: 7386.0396 - mae: 7386.0396\n",
            "Epoch 52/100\n",
            "34/34 [==============================] - 0s 2ms/step - loss: 7492.6909 - mae: 7492.6909\n",
            "Epoch 53/100\n",
            "34/34 [==============================] - 0s 2ms/step - loss: 7493.8857 - mae: 7493.8857\n",
            "Epoch 54/100\n",
            "34/34 [==============================] - 0s 2ms/step - loss: 7156.4600 - mae: 7156.4600\n",
            "Epoch 55/100\n",
            "34/34 [==============================] - 0s 2ms/step - loss: 7185.8462 - mae: 7185.8462\n",
            "Epoch 56/100\n",
            "34/34 [==============================] - 0s 2ms/step - loss: 7402.9927 - mae: 7402.9927\n",
            "Epoch 57/100\n",
            "34/34 [==============================] - 0s 2ms/step - loss: 7403.4717 - mae: 7403.4717\n",
            "Epoch 58/100\n",
            "34/34 [==============================] - 0s 2ms/step - loss: 7175.2988 - mae: 7175.2988\n",
            "Epoch 59/100\n",
            "34/34 [==============================] - 0s 2ms/step - loss: 7307.0605 - mae: 7307.0605\n",
            "Epoch 60/100\n",
            "34/34 [==============================] - 0s 2ms/step - loss: 7528.7222 - mae: 7528.7222\n",
            "Epoch 61/100\n",
            "34/34 [==============================] - 0s 4ms/step - loss: 7315.2808 - mae: 7315.2808\n",
            "Epoch 62/100\n",
            "34/34 [==============================] - 0s 5ms/step - loss: 7286.6821 - mae: 7286.6821\n",
            "Epoch 63/100\n",
            "34/34 [==============================] - 0s 4ms/step - loss: 7358.8467 - mae: 7358.8467\n",
            "Epoch 64/100\n",
            "34/34 [==============================] - 0s 5ms/step - loss: 7536.6963 - mae: 7536.6963\n",
            "Epoch 65/100\n",
            "34/34 [==============================] - 0s 3ms/step - loss: 7341.9507 - mae: 7341.9507\n",
            "Epoch 66/100\n",
            "34/34 [==============================] - 0s 3ms/step - loss: 7346.2695 - mae: 7346.2695\n",
            "Epoch 67/100\n",
            "34/34 [==============================] - 0s 2ms/step - loss: 7336.4180 - mae: 7336.4180\n",
            "Epoch 68/100\n",
            "34/34 [==============================] - 0s 2ms/step - loss: 7535.5684 - mae: 7535.5684\n",
            "Epoch 69/100\n",
            "34/34 [==============================] - 0s 2ms/step - loss: 7529.7446 - mae: 7529.7446\n",
            "Epoch 70/100\n",
            "34/34 [==============================] - 0s 2ms/step - loss: 7667.6968 - mae: 7667.6968\n",
            "Epoch 71/100\n",
            "34/34 [==============================] - 0s 2ms/step - loss: 7283.3071 - mae: 7283.3071\n",
            "Epoch 72/100\n",
            "34/34 [==============================] - 0s 2ms/step - loss: 7418.4819 - mae: 7418.4819\n",
            "Epoch 73/100\n",
            "34/34 [==============================] - 0s 2ms/step - loss: 7240.2656 - mae: 7240.2656\n",
            "Epoch 74/100\n",
            "34/34 [==============================] - 0s 2ms/step - loss: 7454.4297 - mae: 7454.4297\n",
            "Epoch 75/100\n",
            "34/34 [==============================] - 0s 2ms/step - loss: 7312.5078 - mae: 7312.5078\n",
            "Epoch 76/100\n",
            "34/34 [==============================] - 0s 2ms/step - loss: 7057.8462 - mae: 7057.8462\n",
            "Epoch 77/100\n",
            "34/34 [==============================] - 0s 2ms/step - loss: 7463.6216 - mae: 7463.6216\n",
            "Epoch 78/100\n",
            "34/34 [==============================] - 0s 2ms/step - loss: 7356.6064 - mae: 7356.6064\n",
            "Epoch 79/100\n",
            "34/34 [==============================] - 0s 2ms/step - loss: 7488.8970 - mae: 7488.8970\n",
            "Epoch 80/100\n",
            "34/34 [==============================] - 0s 2ms/step - loss: 6981.4575 - mae: 6981.4575\n",
            "Epoch 81/100\n",
            "34/34 [==============================] - 0s 2ms/step - loss: 7263.2329 - mae: 7263.2329\n",
            "Epoch 82/100\n",
            "34/34 [==============================] - 0s 2ms/step - loss: 7288.1274 - mae: 7288.1274\n",
            "Epoch 83/100\n",
            "34/34 [==============================] - 0s 2ms/step - loss: 7626.4771 - mae: 7626.4771\n",
            "Epoch 84/100\n",
            "34/34 [==============================] - 0s 2ms/step - loss: 7425.0869 - mae: 7425.0869\n",
            "Epoch 85/100\n",
            "34/34 [==============================] - 0s 2ms/step - loss: 7408.1270 - mae: 7408.1270\n",
            "Epoch 86/100\n",
            "34/34 [==============================] - 0s 2ms/step - loss: 7467.5063 - mae: 7467.5063\n",
            "Epoch 87/100\n",
            "34/34 [==============================] - 0s 2ms/step - loss: 7061.3882 - mae: 7061.3882\n",
            "Epoch 88/100\n",
            "34/34 [==============================] - 0s 3ms/step - loss: 7346.0952 - mae: 7346.0952\n",
            "Epoch 89/100\n",
            "34/34 [==============================] - 0s 2ms/step - loss: 7494.5527 - mae: 7494.5527\n",
            "Epoch 90/100\n",
            "34/34 [==============================] - 0s 2ms/step - loss: 7104.8379 - mae: 7104.8379\n",
            "Epoch 91/100\n",
            "34/34 [==============================] - 0s 2ms/step - loss: 7236.4038 - mae: 7236.4038\n",
            "Epoch 92/100\n",
            "34/34 [==============================] - 0s 2ms/step - loss: 7317.8193 - mae: 7317.8193\n",
            "Epoch 93/100\n",
            "34/34 [==============================] - 0s 2ms/step - loss: 7366.4458 - mae: 7366.4458\n",
            "Epoch 94/100\n",
            "34/34 [==============================] - 0s 2ms/step - loss: 7182.7861 - mae: 7182.7861\n",
            "Epoch 95/100\n",
            "34/34 [==============================] - 0s 2ms/step - loss: 7342.3936 - mae: 7342.3936\n",
            "Epoch 96/100\n",
            "34/34 [==============================] - 0s 2ms/step - loss: 7355.8115 - mae: 7355.8115\n",
            "Epoch 97/100\n",
            "34/34 [==============================] - 0s 2ms/step - loss: 7240.0557 - mae: 7240.0557\n",
            "Epoch 98/100\n",
            "34/34 [==============================] - 0s 2ms/step - loss: 7323.6201 - mae: 7323.6201\n",
            "Epoch 99/100\n",
            "34/34 [==============================] - 0s 2ms/step - loss: 7322.3149 - mae: 7322.3149\n",
            "Epoch 100/100\n",
            "34/34 [==============================] - 0s 2ms/step - loss: 7315.9727 - mae: 7315.9727\n"
          ]
        },
        {
          "output_type": "execute_result",
          "data": {
            "text/plain": [
              "<keras.src.callbacks.History at 0x7868d89d4820>"
            ]
          },
          "metadata": {},
          "execution_count": 85
        }
      ]
    },
    {
      "cell_type": "code",
      "source": [
        "# Check the results of the insurance model on the test data\n",
        "insurance_model.evaluate(X_test, y_test)"
      ],
      "metadata": {
        "colab": {
          "base_uri": "https://localhost:8080/"
        },
        "id": "rdHeZUYvLZjc",
        "outputId": "a267dc09-5165-4f22-e5bb-3de0a7958393"
      },
      "execution_count": 86,
      "outputs": [
        {
          "output_type": "stream",
          "name": "stdout",
          "text": [
            "9/9 [==============================] - 0s 8ms/step - loss: 8009.2324 - mae: 8009.2324\n"
          ]
        },
        {
          "output_type": "execute_result",
          "data": {
            "text/plain": [
              "[8009.232421875, 8009.232421875]"
            ]
          },
          "metadata": {},
          "execution_count": 86
        }
      ]
    },
    {
      "cell_type": "code",
      "source": [
        "y_train.median(), y_train.mean()"
      ],
      "metadata": {
        "colab": {
          "base_uri": "https://localhost:8080/"
        },
        "id": "yAsnDVuBMBFR",
        "outputId": "c31a0a85-e69a-4e0a-eb3f-a0a8954faaa5"
      },
      "execution_count": 89,
      "outputs": [
        {
          "output_type": "execute_result",
          "data": {
            "text/plain": [
              "(9575.4421, 13346.089736364485)"
            ]
          },
          "metadata": {},
          "execution_count": 89
        }
      ]
    },
    {
      "cell_type": "markdown",
      "source": [
        "Right now it looks like our model isn't performing to well.. lets try and improve it!\n",
        "\n",
        "To (try) improve our model, we'll run 2 experiments:\n",
        "1. Add an extra layer with more hidden units and use the Adam optimizer\n",
        "2. Train for longer (200 epochs)\n",
        "3. (insert your own experiment here)"
      ],
      "metadata": {
        "id": "g0Fvz4STMlld"
      }
    },
    {
      "cell_type": "code",
      "source": [
        "X_train, y_train"
      ],
      "metadata": {
        "colab": {
          "base_uri": "https://localhost:8080/"
        },
        "id": "DmgR-JTGOO8x",
        "outputId": "a26a5c0b-da1f-4598-edb5-02cbae0dc488"
      },
      "execution_count": 93,
      "outputs": [
        {
          "output_type": "execute_result",
          "data": {
            "text/plain": [
              "(      age     bmi  children  sex_female  sex_male  smoker_no  smoker_yes  \\\n",
              " 560    46  19.950         2           1         0          1           0   \n",
              " 1285   47  24.320         0           1         0          1           0   \n",
              " 1142   52  24.860         0           1         0          1           0   \n",
              " 969    39  34.320         5           1         0          1           0   \n",
              " 486    54  21.470         3           1         0          1           0   \n",
              " ...   ...     ...       ...         ...       ...        ...         ...   \n",
              " 1095   18  31.350         4           1         0          1           0   \n",
              " 1130   39  23.870         5           1         0          1           0   \n",
              " 1294   58  25.175         0           0         1          1           0   \n",
              " 860    37  47.600         2           1         0          0           1   \n",
              " 1126   55  29.900         0           0         1          1           0   \n",
              " \n",
              "       region_northeast  region_northwest  region_southeast  region_southwest  \n",
              " 560                  0                 1                 0                 0  \n",
              " 1285                 1                 0                 0                 0  \n",
              " 1142                 0                 0                 1                 0  \n",
              " 969                  0                 0                 1                 0  \n",
              " 486                  0                 1                 0                 0  \n",
              " ...                ...               ...               ...               ...  \n",
              " 1095                 1                 0                 0                 0  \n",
              " 1130                 0                 0                 1                 0  \n",
              " 1294                 1                 0                 0                 0  \n",
              " 860                  0                 0                 0                 1  \n",
              " 1126                 0                 0                 0                 1  \n",
              " \n",
              " [1070 rows x 11 columns],\n",
              " 560      9193.83850\n",
              " 1285     8534.67180\n",
              " 1142    27117.99378\n",
              " 969      8596.82780\n",
              " 486     12475.35130\n",
              "            ...     \n",
              " 1095     4561.18850\n",
              " 1130     8582.30230\n",
              " 1294    11931.12525\n",
              " 860     46113.51100\n",
              " 1126    10214.63600\n",
              " Name: charges, Length: 1070, dtype: float64)"
            ]
          },
          "metadata": {},
          "execution_count": 93
        }
      ]
    },
    {
      "cell_type": "code",
      "source": [
        "# Set random seed\n",
        "tf.random.set_seed(42)\n",
        "\n",
        "# 1. Create a model\n",
        "insurance_model_2 = tf.keras.Sequential([\n",
        "    tf.keras.layers.Dense(100),\n",
        "    tf.keras.layers.Dense(10),\n",
        "    tf.keras.layers.Dense(1)\n",
        "])\n",
        "\n",
        "# SGD doesnt work try with Adam\n",
        "\n",
        "# 2. Compile the model\n",
        "insurance_model_2.compile(loss=tf.keras.losses.mae,\n",
        "                        optimizer=tf.keras.optimizers.Adam(),\n",
        "                        metrics=[\"mae\"])\n",
        "\n",
        "\n",
        "# 3. Fit the model\n",
        "insurance_model_2.fit(X_train, y_train, epochs=100, verbose=1)"
      ],
      "metadata": {
        "colab": {
          "base_uri": "https://localhost:8080/"
        },
        "id": "vL0RFRg6MJP1",
        "outputId": "aa212ee2-48ed-4a40-c0a8-3954a6a33a54"
      },
      "execution_count": 94,
      "outputs": [
        {
          "output_type": "stream",
          "name": "stdout",
          "text": [
            "Epoch 1/100\n",
            "34/34 [==============================] - 1s 2ms/step - loss: 13287.2949 - mae: 13287.2949\n",
            "Epoch 2/100\n",
            "34/34 [==============================] - 0s 2ms/step - loss: 13102.5430 - mae: 13102.5430\n",
            "Epoch 3/100\n",
            "34/34 [==============================] - 0s 2ms/step - loss: 12725.0322 - mae: 12725.0322\n",
            "Epoch 4/100\n",
            "34/34 [==============================] - 0s 2ms/step - loss: 12006.7520 - mae: 12006.7520\n",
            "Epoch 5/100\n",
            "34/34 [==============================] - 0s 2ms/step - loss: 10839.1660 - mae: 10839.1660\n",
            "Epoch 6/100\n",
            "34/34 [==============================] - 0s 2ms/step - loss: 9391.2090 - mae: 9391.2090\n",
            "Epoch 7/100\n",
            "34/34 [==============================] - 0s 2ms/step - loss: 8103.4551 - mae: 8103.4551\n",
            "Epoch 8/100\n",
            "34/34 [==============================] - 0s 2ms/step - loss: 7514.1226 - mae: 7514.1226\n",
            "Epoch 9/100\n",
            "34/34 [==============================] - 0s 3ms/step - loss: 7423.3125 - mae: 7423.3125\n",
            "Epoch 10/100\n",
            "34/34 [==============================] - 0s 2ms/step - loss: 7404.1606 - mae: 7404.1606\n",
            "Epoch 11/100\n",
            "34/34 [==============================] - 0s 2ms/step - loss: 7385.6294 - mae: 7385.6294\n",
            "Epoch 12/100\n",
            "34/34 [==============================] - 0s 3ms/step - loss: 7363.7773 - mae: 7363.7773\n",
            "Epoch 13/100\n",
            "34/34 [==============================] - 0s 2ms/step - loss: 7343.4219 - mae: 7343.4219\n",
            "Epoch 14/100\n",
            "34/34 [==============================] - 0s 3ms/step - loss: 7321.3682 - mae: 7321.3682\n",
            "Epoch 15/100\n",
            "34/34 [==============================] - 0s 2ms/step - loss: 7302.5049 - mae: 7302.5049\n",
            "Epoch 16/100\n",
            "34/34 [==============================] - 0s 3ms/step - loss: 7280.3589 - mae: 7280.3589\n",
            "Epoch 17/100\n",
            "34/34 [==============================] - 0s 3ms/step - loss: 7260.4688 - mae: 7260.4688\n",
            "Epoch 18/100\n",
            "34/34 [==============================] - 0s 3ms/step - loss: 7237.1890 - mae: 7237.1890\n",
            "Epoch 19/100\n",
            "34/34 [==============================] - 0s 3ms/step - loss: 7214.8179 - mae: 7214.8179\n",
            "Epoch 20/100\n",
            "34/34 [==============================] - 0s 2ms/step - loss: 7191.4355 - mae: 7191.4355\n",
            "Epoch 21/100\n",
            "34/34 [==============================] - 0s 2ms/step - loss: 7173.2876 - mae: 7173.2876\n",
            "Epoch 22/100\n",
            "34/34 [==============================] - 0s 2ms/step - loss: 7144.9346 - mae: 7144.9346\n",
            "Epoch 23/100\n",
            "34/34 [==============================] - 0s 2ms/step - loss: 7120.0156 - mae: 7120.0156\n",
            "Epoch 24/100\n",
            "34/34 [==============================] - 0s 2ms/step - loss: 7094.6968 - mae: 7094.6968\n",
            "Epoch 25/100\n",
            "34/34 [==============================] - 0s 2ms/step - loss: 7076.5483 - mae: 7076.5483\n",
            "Epoch 26/100\n",
            "34/34 [==============================] - 0s 3ms/step - loss: 7044.2510 - mae: 7044.2510\n",
            "Epoch 27/100\n",
            "34/34 [==============================] - 0s 3ms/step - loss: 7015.6665 - mae: 7015.6665\n",
            "Epoch 28/100\n",
            "34/34 [==============================] - 0s 4ms/step - loss: 6987.2173 - mae: 6987.2173\n",
            "Epoch 29/100\n",
            "34/34 [==============================] - 0s 5ms/step - loss: 6958.6982 - mae: 6958.6982\n",
            "Epoch 30/100\n",
            "34/34 [==============================] - 0s 4ms/step - loss: 6930.6948 - mae: 6930.6948\n",
            "Epoch 31/100\n",
            "34/34 [==============================] - 0s 4ms/step - loss: 6899.1992 - mae: 6899.1992\n",
            "Epoch 32/100\n",
            "34/34 [==============================] - 0s 4ms/step - loss: 6870.5356 - mae: 6870.5356\n",
            "Epoch 33/100\n",
            "34/34 [==============================] - 0s 4ms/step - loss: 6838.2847 - mae: 6838.2847\n",
            "Epoch 34/100\n",
            "34/34 [==============================] - 0s 4ms/step - loss: 6806.3623 - mae: 6806.3623\n",
            "Epoch 35/100\n",
            "34/34 [==============================] - 0s 4ms/step - loss: 6771.0571 - mae: 6771.0571\n",
            "Epoch 36/100\n",
            "34/34 [==============================] - 0s 4ms/step - loss: 6735.7817 - mae: 6735.7817\n",
            "Epoch 37/100\n",
            "34/34 [==============================] - 0s 4ms/step - loss: 6699.0063 - mae: 6699.0063\n",
            "Epoch 38/100\n",
            "34/34 [==============================] - 0s 5ms/step - loss: 6666.8359 - mae: 6666.8359\n",
            "Epoch 39/100\n",
            "34/34 [==============================] - 0s 4ms/step - loss: 6628.6401 - mae: 6628.6401\n",
            "Epoch 40/100\n",
            "34/34 [==============================] - 0s 4ms/step - loss: 6592.9648 - mae: 6592.9648\n",
            "Epoch 41/100\n",
            "34/34 [==============================] - 0s 5ms/step - loss: 6561.2153 - mae: 6561.2153\n",
            "Epoch 42/100\n",
            "34/34 [==============================] - 0s 4ms/step - loss: 6536.9102 - mae: 6536.9102\n",
            "Epoch 43/100\n",
            "34/34 [==============================] - 0s 4ms/step - loss: 6508.0396 - mae: 6508.0396\n",
            "Epoch 44/100\n",
            "34/34 [==============================] - 0s 4ms/step - loss: 6486.6250 - mae: 6486.6250\n",
            "Epoch 45/100\n",
            "34/34 [==============================] - 0s 4ms/step - loss: 6476.5039 - mae: 6476.5039\n",
            "Epoch 46/100\n",
            "34/34 [==============================] - 0s 4ms/step - loss: 6456.9771 - mae: 6456.9771\n",
            "Epoch 47/100\n",
            "34/34 [==============================] - 0s 4ms/step - loss: 6440.4683 - mae: 6440.4683\n",
            "Epoch 48/100\n",
            "34/34 [==============================] - 0s 6ms/step - loss: 6426.2793 - mae: 6426.2793\n",
            "Epoch 49/100\n",
            "34/34 [==============================] - 0s 5ms/step - loss: 6412.8945 - mae: 6412.8945\n",
            "Epoch 50/100\n",
            "34/34 [==============================] - 0s 5ms/step - loss: 6398.3564 - mae: 6398.3564\n",
            "Epoch 51/100\n",
            "34/34 [==============================] - 0s 5ms/step - loss: 6384.5684 - mae: 6384.5684\n",
            "Epoch 52/100\n",
            "34/34 [==============================] - 0s 5ms/step - loss: 6372.5264 - mae: 6372.5264\n",
            "Epoch 53/100\n",
            "34/34 [==============================] - 0s 6ms/step - loss: 6357.5547 - mae: 6357.5547\n",
            "Epoch 54/100\n",
            "34/34 [==============================] - 0s 5ms/step - loss: 6343.0195 - mae: 6343.0195\n",
            "Epoch 55/100\n",
            "34/34 [==============================] - 0s 2ms/step - loss: 6328.4722 - mae: 6328.4722\n",
            "Epoch 56/100\n",
            "34/34 [==============================] - 0s 2ms/step - loss: 6314.1104 - mae: 6314.1104\n",
            "Epoch 57/100\n",
            "34/34 [==============================] - 0s 2ms/step - loss: 6300.1265 - mae: 6300.1265\n",
            "Epoch 58/100\n",
            "34/34 [==============================] - 0s 2ms/step - loss: 6285.3530 - mae: 6285.3530\n",
            "Epoch 59/100\n",
            "34/34 [==============================] - 0s 2ms/step - loss: 6269.5405 - mae: 6269.5405\n",
            "Epoch 60/100\n",
            "34/34 [==============================] - 0s 2ms/step - loss: 6257.7876 - mae: 6257.7876\n",
            "Epoch 61/100\n",
            "34/34 [==============================] - 0s 2ms/step - loss: 6237.5815 - mae: 6237.5815\n",
            "Epoch 62/100\n",
            "34/34 [==============================] - 0s 2ms/step - loss: 6223.5815 - mae: 6223.5815\n",
            "Epoch 63/100\n",
            "34/34 [==============================] - 0s 3ms/step - loss: 6204.3018 - mae: 6204.3018\n",
            "Epoch 64/100\n",
            "34/34 [==============================] - 0s 3ms/step - loss: 6186.6914 - mae: 6186.6914\n",
            "Epoch 65/100\n",
            "34/34 [==============================] - 0s 3ms/step - loss: 6167.8833 - mae: 6167.8833\n",
            "Epoch 66/100\n",
            "34/34 [==============================] - 0s 2ms/step - loss: 6149.0684 - mae: 6149.0684\n",
            "Epoch 67/100\n",
            "34/34 [==============================] - 0s 2ms/step - loss: 6135.4863 - mae: 6135.4863\n",
            "Epoch 68/100\n",
            "34/34 [==============================] - 0s 2ms/step - loss: 6111.5723 - mae: 6111.5723\n",
            "Epoch 69/100\n",
            "34/34 [==============================] - 0s 2ms/step - loss: 6093.1934 - mae: 6093.1934\n",
            "Epoch 70/100\n",
            "34/34 [==============================] - 0s 2ms/step - loss: 6071.4463 - mae: 6071.4463\n",
            "Epoch 71/100\n",
            "34/34 [==============================] - 0s 2ms/step - loss: 6050.6685 - mae: 6050.6685\n",
            "Epoch 72/100\n",
            "34/34 [==============================] - 0s 2ms/step - loss: 6029.3633 - mae: 6029.3633\n",
            "Epoch 73/100\n",
            "34/34 [==============================] - 0s 2ms/step - loss: 6013.3003 - mae: 6013.3003\n",
            "Epoch 74/100\n",
            "34/34 [==============================] - 0s 2ms/step - loss: 5982.5361 - mae: 5982.5361\n",
            "Epoch 75/100\n",
            "34/34 [==============================] - 0s 2ms/step - loss: 5960.3467 - mae: 5960.3467\n",
            "Epoch 76/100\n",
            "34/34 [==============================] - 0s 2ms/step - loss: 5941.7285 - mae: 5941.7285\n",
            "Epoch 77/100\n",
            "34/34 [==============================] - 0s 3ms/step - loss: 5908.6069 - mae: 5908.6069\n",
            "Epoch 78/100\n",
            "34/34 [==============================] - 0s 2ms/step - loss: 5882.8198 - mae: 5882.8198\n",
            "Epoch 79/100\n",
            "34/34 [==============================] - 0s 2ms/step - loss: 5856.0034 - mae: 5856.0034\n",
            "Epoch 80/100\n",
            "34/34 [==============================] - 0s 2ms/step - loss: 5825.0278 - mae: 5825.0278\n",
            "Epoch 81/100\n",
            "34/34 [==============================] - 0s 3ms/step - loss: 5797.5405 - mae: 5797.5405\n",
            "Epoch 82/100\n",
            "34/34 [==============================] - 0s 2ms/step - loss: 5765.0435 - mae: 5765.0435\n",
            "Epoch 83/100\n",
            "34/34 [==============================] - 0s 2ms/step - loss: 5734.5576 - mae: 5734.5576\n",
            "Epoch 84/100\n",
            "34/34 [==============================] - 0s 2ms/step - loss: 5698.1318 - mae: 5698.1318\n",
            "Epoch 85/100\n",
            "34/34 [==============================] - 0s 2ms/step - loss: 5669.4053 - mae: 5669.4053\n",
            "Epoch 86/100\n",
            "34/34 [==============================] - 0s 3ms/step - loss: 5631.7979 - mae: 5631.7979\n",
            "Epoch 87/100\n",
            "34/34 [==============================] - 0s 2ms/step - loss: 5591.4580 - mae: 5591.4580\n",
            "Epoch 88/100\n",
            "34/34 [==============================] - 0s 2ms/step - loss: 5553.6924 - mae: 5553.6924\n",
            "Epoch 89/100\n",
            "34/34 [==============================] - 0s 3ms/step - loss: 5509.5581 - mae: 5509.5581\n",
            "Epoch 90/100\n",
            "34/34 [==============================] - 0s 2ms/step - loss: 5463.9844 - mae: 5463.9844\n",
            "Epoch 91/100\n",
            "34/34 [==============================] - 0s 2ms/step - loss: 5422.6685 - mae: 5422.6685\n",
            "Epoch 92/100\n",
            "34/34 [==============================] - 0s 2ms/step - loss: 5371.8970 - mae: 5371.8970\n",
            "Epoch 93/100\n",
            "34/34 [==============================] - 0s 2ms/step - loss: 5324.3237 - mae: 5324.3237\n",
            "Epoch 94/100\n",
            "34/34 [==============================] - 0s 2ms/step - loss: 5273.0410 - mae: 5273.0410\n",
            "Epoch 95/100\n",
            "34/34 [==============================] - 0s 2ms/step - loss: 5217.0796 - mae: 5217.0796\n",
            "Epoch 96/100\n",
            "34/34 [==============================] - 0s 2ms/step - loss: 5168.5820 - mae: 5168.5820\n",
            "Epoch 97/100\n",
            "34/34 [==============================] - 0s 2ms/step - loss: 5109.9399 - mae: 5109.9399\n",
            "Epoch 98/100\n",
            "34/34 [==============================] - 0s 3ms/step - loss: 5042.8911 - mae: 5042.8911\n",
            "Epoch 99/100\n",
            "34/34 [==============================] - 0s 2ms/step - loss: 4977.8691 - mae: 4977.8691\n",
            "Epoch 100/100\n",
            "34/34 [==============================] - 0s 2ms/step - loss: 4922.7573 - mae: 4922.7573\n"
          ]
        },
        {
          "output_type": "execute_result",
          "data": {
            "text/plain": [
              "<keras.src.callbacks.History at 0x7868de0023b0>"
            ]
          },
          "metadata": {},
          "execution_count": 94
        }
      ]
    },
    {
      "cell_type": "code",
      "source": [
        "#  Evaluate the larger model\n",
        "insurance_model_2.evaluate(X_test, y_test)"
      ],
      "metadata": {
        "colab": {
          "base_uri": "https://localhost:8080/"
        },
        "id": "TzIoxEfcN53t",
        "outputId": "66570aa1-a2eb-4426-964c-32205132a551"
      },
      "execution_count": 95,
      "outputs": [
        {
          "output_type": "stream",
          "name": "stdout",
          "text": [
            "9/9 [==============================] - 0s 2ms/step - loss: 4793.0903 - mae: 4793.0903\n"
          ]
        },
        {
          "output_type": "execute_result",
          "data": {
            "text/plain": [
              "[4793.09033203125, 4793.09033203125]"
            ]
          },
          "metadata": {},
          "execution_count": 95
        }
      ]
    },
    {
      "cell_type": "code",
      "source": [
        "insurance_model.evaluate(X_test, y_test)"
      ],
      "metadata": {
        "colab": {
          "base_uri": "https://localhost:8080/"
        },
        "id": "NrsVQ_iJOEpr",
        "outputId": "eb6a1e26-29b2-4a12-cfe4-306485d1c7b3"
      },
      "execution_count": 96,
      "outputs": [
        {
          "output_type": "stream",
          "name": "stdout",
          "text": [
            "9/9 [==============================] - 0s 5ms/step - loss: 8009.2324 - mae: 8009.2324\n"
          ]
        },
        {
          "output_type": "execute_result",
          "data": {
            "text/plain": [
              "[8009.232421875, 8009.232421875]"
            ]
          },
          "metadata": {},
          "execution_count": 96
        }
      ]
    },
    {
      "cell_type": "code",
      "source": [
        "# Set random seed\n",
        "tf.random.set_seed(42)\n",
        "\n",
        "# 1. Create a model (same as above)\n",
        "insurance_model_3 = tf.keras.Sequential([\n",
        "    tf.keras.layers.Dense(100),\n",
        "    tf.keras.layers.Dense(10),\n",
        "    tf.keras.layers.Dense(1)\n",
        "])\n",
        "\n",
        "\n",
        "# 2. Compile the model\n",
        "insurance_model_3.compile(loss=tf.keras.losses.mae,\n",
        "                        optimizer=tf.keras.optimizers.Adam(),\n",
        "                        metrics=[\"mae\"])\n",
        "\n",
        "\n",
        "# 3. Fit the model\n",
        "history = insurance_model_3.fit(X_train, y_train, epochs=200)"
      ],
      "metadata": {
        "colab": {
          "base_uri": "https://localhost:8080/"
        },
        "id": "3CvLE8N_O30M",
        "outputId": "807efc69-a140-42e0-9af1-739b660482a9"
      },
      "execution_count": 97,
      "outputs": [
        {
          "output_type": "stream",
          "name": "stdout",
          "text": [
            "Epoch 1/200\n",
            "34/34 [==============================] - 1s 4ms/step - loss: 13301.7539 - mae: 13301.7539\n",
            "Epoch 2/200\n",
            "34/34 [==============================] - 0s 3ms/step - loss: 13157.4941 - mae: 13157.4941\n",
            "Epoch 3/200\n",
            "34/34 [==============================] - 0s 2ms/step - loss: 12844.1963 - mae: 12844.1963\n",
            "Epoch 4/200\n",
            "34/34 [==============================] - 0s 2ms/step - loss: 12228.8008 - mae: 12228.8008\n",
            "Epoch 5/200\n",
            "34/34 [==============================] - 0s 2ms/step - loss: 11182.9697 - mae: 11182.9697\n",
            "Epoch 6/200\n",
            "34/34 [==============================] - 0s 2ms/step - loss: 9769.6729 - mae: 9769.6729\n",
            "Epoch 7/200\n",
            "34/34 [==============================] - 0s 2ms/step - loss: 8370.9141 - mae: 8370.9141\n",
            "Epoch 8/200\n",
            "34/34 [==============================] - 0s 2ms/step - loss: 7591.8369 - mae: 7591.8369\n",
            "Epoch 9/200\n",
            "34/34 [==============================] - 0s 3ms/step - loss: 7432.4341 - mae: 7432.4341\n",
            "Epoch 10/200\n",
            "34/34 [==============================] - 0s 2ms/step - loss: 7409.5967 - mae: 7409.5967\n",
            "Epoch 11/200\n",
            "34/34 [==============================] - 0s 3ms/step - loss: 7391.4204 - mae: 7391.4204\n",
            "Epoch 12/200\n",
            "34/34 [==============================] - 0s 2ms/step - loss: 7370.0435 - mae: 7370.0435\n",
            "Epoch 13/200\n",
            "34/34 [==============================] - 0s 2ms/step - loss: 7350.4810 - mae: 7350.4810\n",
            "Epoch 14/200\n",
            "34/34 [==============================] - 0s 2ms/step - loss: 7328.9722 - mae: 7328.9722\n",
            "Epoch 15/200\n",
            "34/34 [==============================] - 0s 2ms/step - loss: 7310.7939 - mae: 7310.7939\n",
            "Epoch 16/200\n",
            "34/34 [==============================] - 0s 2ms/step - loss: 7289.0728 - mae: 7289.0728\n",
            "Epoch 17/200\n",
            "34/34 [==============================] - 0s 2ms/step - loss: 7270.0479 - mae: 7270.0479\n",
            "Epoch 18/200\n",
            "34/34 [==============================] - 0s 2ms/step - loss: 7247.4595 - mae: 7247.4595\n",
            "Epoch 19/200\n",
            "34/34 [==============================] - 0s 2ms/step - loss: 7225.8423 - mae: 7225.8423\n",
            "Epoch 20/200\n",
            "34/34 [==============================] - 0s 3ms/step - loss: 7203.4150 - mae: 7203.4150\n",
            "Epoch 21/200\n",
            "34/34 [==============================] - 0s 3ms/step - loss: 7185.5298 - mae: 7185.5298\n",
            "Epoch 22/200\n",
            "34/34 [==============================] - 0s 2ms/step - loss: 7158.6572 - mae: 7158.6572\n",
            "Epoch 23/200\n",
            "34/34 [==============================] - 0s 2ms/step - loss: 7134.8125 - mae: 7134.8125\n",
            "Epoch 24/200\n",
            "34/34 [==============================] - 0s 2ms/step - loss: 7110.8823 - mae: 7110.8823\n",
            "Epoch 25/200\n",
            "34/34 [==============================] - 0s 2ms/step - loss: 7092.9478 - mae: 7092.9478\n",
            "Epoch 26/200\n",
            "34/34 [==============================] - 0s 2ms/step - loss: 7062.7642 - mae: 7062.7642\n",
            "Epoch 27/200\n",
            "34/34 [==============================] - 0s 2ms/step - loss: 7034.8745 - mae: 7034.8745\n",
            "Epoch 28/200\n",
            "34/34 [==============================] - 0s 2ms/step - loss: 7007.5581 - mae: 7007.5581\n",
            "Epoch 29/200\n",
            "34/34 [==============================] - 0s 2ms/step - loss: 6980.0171 - mae: 6980.0171\n",
            "Epoch 30/200\n",
            "34/34 [==============================] - 0s 2ms/step - loss: 6953.7979 - mae: 6953.7979\n",
            "Epoch 31/200\n",
            "34/34 [==============================] - 0s 3ms/step - loss: 6923.2661 - mae: 6923.2661\n",
            "Epoch 32/200\n",
            "34/34 [==============================] - 0s 4ms/step - loss: 6896.1611 - mae: 6896.1611\n",
            "Epoch 33/200\n",
            "34/34 [==============================] - 0s 4ms/step - loss: 6865.4824 - mae: 6865.4824\n",
            "Epoch 34/200\n",
            "34/34 [==============================] - 0s 4ms/step - loss: 6833.5054 - mae: 6833.5054\n",
            "Epoch 35/200\n",
            "34/34 [==============================] - 0s 4ms/step - loss: 6801.3169 - mae: 6801.3169\n",
            "Epoch 36/200\n",
            "34/34 [==============================] - 0s 5ms/step - loss: 6767.6602 - mae: 6767.6602\n",
            "Epoch 37/200\n",
            "34/34 [==============================] - 0s 5ms/step - loss: 6732.2178 - mae: 6732.2178\n",
            "Epoch 38/200\n",
            "34/34 [==============================] - 0s 4ms/step - loss: 6700.4077 - mae: 6700.4077\n",
            "Epoch 39/200\n",
            "34/34 [==============================] - 0s 4ms/step - loss: 6661.6060 - mae: 6661.6060\n",
            "Epoch 40/200\n",
            "34/34 [==============================] - 0s 4ms/step - loss: 6626.4302 - mae: 6626.4302\n",
            "Epoch 41/200\n",
            "34/34 [==============================] - 0s 4ms/step - loss: 6592.7212 - mae: 6592.7212\n",
            "Epoch 42/200\n",
            "34/34 [==============================] - 0s 4ms/step - loss: 6563.0771 - mae: 6563.0771\n",
            "Epoch 43/200\n",
            "34/34 [==============================] - 0s 4ms/step - loss: 6533.7070 - mae: 6533.7070\n",
            "Epoch 44/200\n",
            "34/34 [==============================] - 0s 4ms/step - loss: 6509.4033 - mae: 6509.4033\n",
            "Epoch 45/200\n",
            "34/34 [==============================] - 0s 4ms/step - loss: 6493.6431 - mae: 6493.6431\n",
            "Epoch 46/200\n",
            "34/34 [==============================] - 0s 4ms/step - loss: 6476.1631 - mae: 6476.1631\n",
            "Epoch 47/200\n",
            "34/34 [==============================] - 0s 4ms/step - loss: 6459.1279 - mae: 6459.1279\n",
            "Epoch 48/200\n",
            "34/34 [==============================] - 0s 3ms/step - loss: 6444.2212 - mae: 6444.2212\n",
            "Epoch 49/200\n",
            "34/34 [==============================] - 0s 2ms/step - loss: 6430.6670 - mae: 6430.6670\n",
            "Epoch 50/200\n",
            "34/34 [==============================] - 0s 3ms/step - loss: 6417.0288 - mae: 6417.0288\n",
            "Epoch 51/200\n",
            "34/34 [==============================] - 0s 3ms/step - loss: 6403.0381 - mae: 6403.0381\n",
            "Epoch 52/200\n",
            "34/34 [==============================] - 0s 4ms/step - loss: 6392.3774 - mae: 6392.3774\n",
            "Epoch 53/200\n",
            "34/34 [==============================] - 0s 4ms/step - loss: 6378.5410 - mae: 6378.5410\n",
            "Epoch 54/200\n",
            "34/34 [==============================] - 0s 3ms/step - loss: 6365.0322 - mae: 6365.0322\n",
            "Epoch 55/200\n",
            "34/34 [==============================] - 0s 4ms/step - loss: 6351.5283 - mae: 6351.5283\n",
            "Epoch 56/200\n",
            "34/34 [==============================] - 0s 4ms/step - loss: 6337.3169 - mae: 6337.3169\n",
            "Epoch 57/200\n",
            "34/34 [==============================] - 0s 3ms/step - loss: 6325.4819 - mae: 6325.4819\n",
            "Epoch 58/200\n",
            "34/34 [==============================] - 0s 4ms/step - loss: 6310.9243 - mae: 6310.9243\n",
            "Epoch 59/200\n",
            "34/34 [==============================] - 0s 4ms/step - loss: 6296.6987 - mae: 6296.6987\n",
            "Epoch 60/200\n",
            "34/34 [==============================] - 0s 2ms/step - loss: 6286.1777 - mae: 6286.1777\n",
            "Epoch 61/200\n",
            "34/34 [==============================] - 0s 2ms/step - loss: 6266.2300 - mae: 6266.2300\n",
            "Epoch 62/200\n",
            "34/34 [==============================] - 0s 2ms/step - loss: 6255.6631 - mae: 6255.6631\n",
            "Epoch 63/200\n",
            "34/34 [==============================] - 0s 2ms/step - loss: 6236.3394 - mae: 6236.3394\n",
            "Epoch 64/200\n",
            "34/34 [==============================] - 0s 2ms/step - loss: 6221.2070 - mae: 6221.2070\n",
            "Epoch 65/200\n",
            "34/34 [==============================] - 0s 2ms/step - loss: 6204.1509 - mae: 6204.1509\n",
            "Epoch 66/200\n",
            "34/34 [==============================] - 0s 2ms/step - loss: 6187.1895 - mae: 6187.1895\n",
            "Epoch 67/200\n",
            "34/34 [==============================] - 0s 2ms/step - loss: 6174.7480 - mae: 6174.7480\n",
            "Epoch 68/200\n",
            "34/34 [==============================] - 0s 2ms/step - loss: 6152.7163 - mae: 6152.7163\n",
            "Epoch 69/200\n",
            "34/34 [==============================] - 0s 2ms/step - loss: 6137.3276 - mae: 6137.3276\n",
            "Epoch 70/200\n",
            "34/34 [==============================] - 0s 2ms/step - loss: 6117.3623 - mae: 6117.3623\n",
            "Epoch 71/200\n",
            "34/34 [==============================] - 0s 2ms/step - loss: 6098.4717 - mae: 6098.4717\n",
            "Epoch 72/200\n",
            "34/34 [==============================] - 0s 2ms/step - loss: 6080.3145 - mae: 6080.3145\n",
            "Epoch 73/200\n",
            "34/34 [==============================] - 0s 2ms/step - loss: 6066.1416 - mae: 6066.1416\n",
            "Epoch 74/200\n",
            "34/34 [==============================] - 0s 2ms/step - loss: 6038.8794 - mae: 6038.8794\n",
            "Epoch 75/200\n",
            "34/34 [==============================] - 0s 2ms/step - loss: 6018.5596 - mae: 6018.5596\n",
            "Epoch 76/200\n",
            "34/34 [==============================] - 0s 2ms/step - loss: 6003.3975 - mae: 6003.3975\n",
            "Epoch 77/200\n",
            "34/34 [==============================] - 0s 3ms/step - loss: 5972.3345 - mae: 5972.3345\n",
            "Epoch 78/200\n",
            "34/34 [==============================] - 0s 2ms/step - loss: 5950.4185 - mae: 5950.4185\n",
            "Epoch 79/200\n",
            "34/34 [==============================] - 0s 2ms/step - loss: 5926.5132 - mae: 5926.5132\n",
            "Epoch 80/200\n",
            "34/34 [==============================] - 0s 2ms/step - loss: 5900.4194 - mae: 5900.4194\n",
            "Epoch 81/200\n",
            "34/34 [==============================] - 0s 2ms/step - loss: 5875.5151 - mae: 5875.5151\n",
            "Epoch 82/200\n",
            "34/34 [==============================] - 0s 2ms/step - loss: 5849.1470 - mae: 5849.1470\n",
            "Epoch 83/200\n",
            "34/34 [==============================] - 0s 2ms/step - loss: 5821.0024 - mae: 5821.0024\n",
            "Epoch 84/200\n",
            "34/34 [==============================] - 0s 2ms/step - loss: 5789.8081 - mae: 5789.8081\n",
            "Epoch 85/200\n",
            "34/34 [==============================] - 0s 2ms/step - loss: 5765.6309 - mae: 5765.6309\n",
            "Epoch 86/200\n",
            "34/34 [==============================] - 0s 2ms/step - loss: 5730.6772 - mae: 5730.6772\n",
            "Epoch 87/200\n",
            "34/34 [==============================] - 0s 2ms/step - loss: 5695.9204 - mae: 5695.9204\n",
            "Epoch 88/200\n",
            "34/34 [==============================] - 0s 2ms/step - loss: 5663.0908 - mae: 5663.0908\n",
            "Epoch 89/200\n",
            "34/34 [==============================] - 0s 3ms/step - loss: 5625.7520 - mae: 5625.7520\n",
            "Epoch 90/200\n",
            "34/34 [==============================] - 0s 2ms/step - loss: 5586.5303 - mae: 5586.5303\n",
            "Epoch 91/200\n",
            "34/34 [==============================] - 0s 2ms/step - loss: 5554.6782 - mae: 5554.6782\n",
            "Epoch 92/200\n",
            "34/34 [==============================] - 0s 2ms/step - loss: 5505.6382 - mae: 5505.6382\n",
            "Epoch 93/200\n",
            "34/34 [==============================] - 0s 2ms/step - loss: 5467.3535 - mae: 5467.3535\n",
            "Epoch 94/200\n",
            "34/34 [==============================] - 0s 2ms/step - loss: 5424.7827 - mae: 5424.7827\n",
            "Epoch 95/200\n",
            "34/34 [==============================] - 0s 2ms/step - loss: 5374.2524 - mae: 5374.2524\n",
            "Epoch 96/200\n",
            "34/34 [==============================] - 0s 2ms/step - loss: 5331.7300 - mae: 5331.7300\n",
            "Epoch 97/200\n",
            "34/34 [==============================] - 0s 2ms/step - loss: 5280.6157 - mae: 5280.6157\n",
            "Epoch 98/200\n",
            "34/34 [==============================] - 0s 2ms/step - loss: 5222.1899 - mae: 5222.1899\n",
            "Epoch 99/200\n",
            "34/34 [==============================] - 0s 2ms/step - loss: 5166.5977 - mae: 5166.5977\n",
            "Epoch 100/200\n",
            "34/34 [==============================] - 0s 2ms/step - loss: 5112.9292 - mae: 5112.9292\n",
            "Epoch 101/200\n",
            "34/34 [==============================] - 0s 3ms/step - loss: 5046.4307 - mae: 5046.4307\n",
            "Epoch 102/200\n",
            "34/34 [==============================] - 0s 3ms/step - loss: 4982.1699 - mae: 4982.1699\n",
            "Epoch 103/200\n",
            "34/34 [==============================] - 0s 3ms/step - loss: 4919.1001 - mae: 4919.1001\n",
            "Epoch 104/200\n",
            "34/34 [==============================] - 0s 2ms/step - loss: 4844.9092 - mae: 4844.9092\n",
            "Epoch 105/200\n",
            "34/34 [==============================] - 0s 2ms/step - loss: 4767.7075 - mae: 4767.7075\n",
            "Epoch 106/200\n",
            "34/34 [==============================] - 0s 2ms/step - loss: 4689.0127 - mae: 4689.0127\n",
            "Epoch 107/200\n",
            "34/34 [==============================] - 0s 2ms/step - loss: 4608.4468 - mae: 4608.4468\n",
            "Epoch 108/200\n",
            "34/34 [==============================] - 0s 2ms/step - loss: 4524.4292 - mae: 4524.4292\n",
            "Epoch 109/200\n",
            "34/34 [==============================] - 0s 2ms/step - loss: 4440.7915 - mae: 4440.7915\n",
            "Epoch 110/200\n",
            "34/34 [==============================] - 0s 2ms/step - loss: 4355.9727 - mae: 4355.9727\n",
            "Epoch 111/200\n",
            "34/34 [==============================] - 0s 2ms/step - loss: 4272.7119 - mae: 4272.7119\n",
            "Epoch 112/200\n",
            "34/34 [==============================] - 0s 3ms/step - loss: 4202.9795 - mae: 4202.9795\n",
            "Epoch 113/200\n",
            "34/34 [==============================] - 0s 2ms/step - loss: 4127.9873 - mae: 4127.9873\n",
            "Epoch 114/200\n",
            "34/34 [==============================] - 0s 3ms/step - loss: 4055.5945 - mae: 4055.5945\n",
            "Epoch 115/200\n",
            "34/34 [==============================] - 0s 3ms/step - loss: 3995.3276 - mae: 3995.3276\n",
            "Epoch 116/200\n",
            "34/34 [==============================] - 0s 3ms/step - loss: 3957.6589 - mae: 3957.6589\n",
            "Epoch 117/200\n",
            "34/34 [==============================] - 0s 3ms/step - loss: 3933.9622 - mae: 3933.9622\n",
            "Epoch 118/200\n",
            "34/34 [==============================] - 0s 2ms/step - loss: 3906.3777 - mae: 3906.3777\n",
            "Epoch 119/200\n",
            "34/34 [==============================] - 0s 2ms/step - loss: 3876.6045 - mae: 3876.6045\n",
            "Epoch 120/200\n",
            "34/34 [==============================] - 0s 2ms/step - loss: 3855.2043 - mae: 3855.2043\n",
            "Epoch 121/200\n",
            "34/34 [==============================] - 0s 2ms/step - loss: 3845.2202 - mae: 3845.2202\n",
            "Epoch 122/200\n",
            "34/34 [==============================] - 0s 2ms/step - loss: 3838.8289 - mae: 3838.8289\n",
            "Epoch 123/200\n",
            "34/34 [==============================] - 0s 2ms/step - loss: 3830.4749 - mae: 3830.4749\n",
            "Epoch 124/200\n",
            "34/34 [==============================] - 0s 3ms/step - loss: 3819.3599 - mae: 3819.3599\n",
            "Epoch 125/200\n",
            "34/34 [==============================] - 0s 2ms/step - loss: 3805.8982 - mae: 3805.8982\n",
            "Epoch 126/200\n",
            "34/34 [==============================] - 0s 2ms/step - loss: 3818.7839 - mae: 3818.7839\n",
            "Epoch 127/200\n",
            "34/34 [==============================] - 0s 2ms/step - loss: 3807.2283 - mae: 3807.2283\n",
            "Epoch 128/200\n",
            "34/34 [==============================] - 0s 2ms/step - loss: 3799.8572 - mae: 3799.8572\n",
            "Epoch 129/200\n",
            "34/34 [==============================] - 0s 2ms/step - loss: 3805.1448 - mae: 3805.1448\n",
            "Epoch 130/200\n",
            "34/34 [==============================] - 0s 2ms/step - loss: 3793.5098 - mae: 3793.5098\n",
            "Epoch 131/200\n",
            "34/34 [==============================] - 0s 2ms/step - loss: 3788.0317 - mae: 3788.0317\n",
            "Epoch 132/200\n",
            "34/34 [==============================] - 0s 2ms/step - loss: 3780.1484 - mae: 3780.1484\n",
            "Epoch 133/200\n",
            "34/34 [==============================] - 0s 2ms/step - loss: 3776.1094 - mae: 3776.1094\n",
            "Epoch 134/200\n",
            "34/34 [==============================] - 0s 2ms/step - loss: 3775.2058 - mae: 3775.2058\n",
            "Epoch 135/200\n",
            "34/34 [==============================] - 0s 2ms/step - loss: 3772.2307 - mae: 3772.2307\n",
            "Epoch 136/200\n",
            "34/34 [==============================] - 0s 3ms/step - loss: 3772.1833 - mae: 3772.1833\n",
            "Epoch 137/200\n",
            "34/34 [==============================] - 0s 3ms/step - loss: 3778.5107 - mae: 3778.5107\n",
            "Epoch 138/200\n",
            "34/34 [==============================] - 0s 2ms/step - loss: 3787.8337 - mae: 3787.8337\n",
            "Epoch 139/200\n",
            "34/34 [==============================] - 0s 2ms/step - loss: 3766.6509 - mae: 3766.6509\n",
            "Epoch 140/200\n",
            "34/34 [==============================] - 0s 2ms/step - loss: 3768.3721 - mae: 3768.3721\n",
            "Epoch 141/200\n",
            "34/34 [==============================] - 0s 2ms/step - loss: 3767.8503 - mae: 3767.8503\n",
            "Epoch 142/200\n",
            "34/34 [==============================] - 0s 2ms/step - loss: 3768.2515 - mae: 3768.2515\n",
            "Epoch 143/200\n",
            "34/34 [==============================] - 0s 2ms/step - loss: 3759.4028 - mae: 3759.4028\n",
            "Epoch 144/200\n",
            "34/34 [==============================] - 0s 2ms/step - loss: 3755.1150 - mae: 3755.1150\n",
            "Epoch 145/200\n",
            "34/34 [==============================] - 0s 2ms/step - loss: 3755.7695 - mae: 3755.7695\n",
            "Epoch 146/200\n",
            "34/34 [==============================] - 0s 3ms/step - loss: 3759.4146 - mae: 3759.4146\n",
            "Epoch 147/200\n",
            "34/34 [==============================] - 0s 3ms/step - loss: 3756.6384 - mae: 3756.6384\n",
            "Epoch 148/200\n",
            "34/34 [==============================] - 0s 3ms/step - loss: 3761.8633 - mae: 3761.8633\n",
            "Epoch 149/200\n",
            "34/34 [==============================] - 0s 2ms/step - loss: 3748.2036 - mae: 3748.2036\n",
            "Epoch 150/200\n",
            "34/34 [==============================] - 0s 2ms/step - loss: 3743.5635 - mae: 3743.5635\n",
            "Epoch 151/200\n",
            "34/34 [==============================] - 0s 2ms/step - loss: 3746.4077 - mae: 3746.4077\n",
            "Epoch 152/200\n",
            "34/34 [==============================] - 0s 2ms/step - loss: 3747.7627 - mae: 3747.7627\n",
            "Epoch 153/200\n",
            "34/34 [==============================] - 0s 2ms/step - loss: 3746.9460 - mae: 3746.9460\n",
            "Epoch 154/200\n",
            "34/34 [==============================] - 0s 2ms/step - loss: 3742.2039 - mae: 3742.2039\n",
            "Epoch 155/200\n",
            "34/34 [==============================] - 0s 2ms/step - loss: 3744.0864 - mae: 3744.0864\n",
            "Epoch 156/200\n",
            "34/34 [==============================] - 0s 3ms/step - loss: 3739.9014 - mae: 3739.9014\n",
            "Epoch 157/200\n",
            "34/34 [==============================] - 0s 2ms/step - loss: 3739.7307 - mae: 3739.7307\n",
            "Epoch 158/200\n",
            "34/34 [==============================] - 0s 2ms/step - loss: 3734.2041 - mae: 3734.2041\n",
            "Epoch 159/200\n",
            "34/34 [==============================] - 0s 3ms/step - loss: 3732.6511 - mae: 3732.6511\n",
            "Epoch 160/200\n",
            "34/34 [==============================] - 0s 2ms/step - loss: 3738.5024 - mae: 3738.5024\n",
            "Epoch 161/200\n",
            "34/34 [==============================] - 0s 2ms/step - loss: 3734.8127 - mae: 3734.8127\n",
            "Epoch 162/200\n",
            "34/34 [==============================] - 0s 3ms/step - loss: 3728.9282 - mae: 3728.9282\n",
            "Epoch 163/200\n",
            "34/34 [==============================] - 0s 2ms/step - loss: 3728.5461 - mae: 3728.5461\n",
            "Epoch 164/200\n",
            "34/34 [==============================] - 0s 2ms/step - loss: 3732.3088 - mae: 3732.3088\n",
            "Epoch 165/200\n",
            "34/34 [==============================] - 0s 3ms/step - loss: 3722.1624 - mae: 3722.1624\n",
            "Epoch 166/200\n",
            "34/34 [==============================] - 0s 2ms/step - loss: 3726.2676 - mae: 3726.2676\n",
            "Epoch 167/200\n",
            "34/34 [==============================] - 0s 2ms/step - loss: 3726.5608 - mae: 3726.5608\n",
            "Epoch 168/200\n",
            "34/34 [==============================] - 0s 2ms/step - loss: 3722.7310 - mae: 3722.7310\n",
            "Epoch 169/200\n",
            "34/34 [==============================] - 0s 2ms/step - loss: 3720.6516 - mae: 3720.6516\n",
            "Epoch 170/200\n",
            "34/34 [==============================] - 0s 3ms/step - loss: 3714.0339 - mae: 3714.0339\n",
            "Epoch 171/200\n",
            "34/34 [==============================] - 0s 2ms/step - loss: 3713.7300 - mae: 3713.7300\n",
            "Epoch 172/200\n",
            "34/34 [==============================] - 0s 2ms/step - loss: 3715.0864 - mae: 3715.0864\n",
            "Epoch 173/200\n",
            "34/34 [==============================] - 0s 4ms/step - loss: 3710.9956 - mae: 3710.9956\n",
            "Epoch 174/200\n",
            "34/34 [==============================] - 0s 4ms/step - loss: 3715.8359 - mae: 3715.8359\n",
            "Epoch 175/200\n",
            "34/34 [==============================] - 0s 4ms/step - loss: 3715.6875 - mae: 3715.6875\n",
            "Epoch 176/200\n",
            "34/34 [==============================] - 0s 4ms/step - loss: 3712.8735 - mae: 3712.8735\n",
            "Epoch 177/200\n",
            "34/34 [==============================] - 0s 3ms/step - loss: 3707.7393 - mae: 3707.7393\n",
            "Epoch 178/200\n",
            "34/34 [==============================] - 0s 5ms/step - loss: 3704.6169 - mae: 3704.6169\n",
            "Epoch 179/200\n",
            "34/34 [==============================] - 0s 5ms/step - loss: 3711.5383 - mae: 3711.5383\n",
            "Epoch 180/200\n",
            "34/34 [==============================] - 0s 4ms/step - loss: 3716.3560 - mae: 3716.3560\n",
            "Epoch 181/200\n",
            "34/34 [==============================] - 0s 4ms/step - loss: 3702.4739 - mae: 3702.4739\n",
            "Epoch 182/200\n",
            "34/34 [==============================] - 0s 3ms/step - loss: 3700.6289 - mae: 3700.6289\n",
            "Epoch 183/200\n",
            "34/34 [==============================] - 0s 3ms/step - loss: 3698.7407 - mae: 3698.7407\n",
            "Epoch 184/200\n",
            "34/34 [==============================] - 0s 3ms/step - loss: 3705.9331 - mae: 3705.9331\n",
            "Epoch 185/200\n",
            "34/34 [==============================] - 0s 4ms/step - loss: 3699.5505 - mae: 3699.5505\n",
            "Epoch 186/200\n",
            "34/34 [==============================] - 0s 5ms/step - loss: 3701.8948 - mae: 3701.8948\n",
            "Epoch 187/200\n",
            "34/34 [==============================] - 0s 3ms/step - loss: 3693.9380 - mae: 3693.9380\n",
            "Epoch 188/200\n",
            "34/34 [==============================] - 0s 4ms/step - loss: 3702.4397 - mae: 3702.4397\n",
            "Epoch 189/200\n",
            "34/34 [==============================] - 0s 4ms/step - loss: 3692.0603 - mae: 3692.0603\n",
            "Epoch 190/200\n",
            "34/34 [==============================] - 0s 5ms/step - loss: 3689.7217 - mae: 3689.7217\n",
            "Epoch 191/200\n",
            "34/34 [==============================] - 0s 5ms/step - loss: 3708.4907 - mae: 3708.4907\n",
            "Epoch 192/200\n",
            "34/34 [==============================] - 0s 5ms/step - loss: 3692.6526 - mae: 3692.6526\n",
            "Epoch 193/200\n",
            "34/34 [==============================] - 0s 5ms/step - loss: 3682.5425 - mae: 3682.5425\n",
            "Epoch 194/200\n",
            "34/34 [==============================] - 0s 4ms/step - loss: 3683.0618 - mae: 3683.0618\n",
            "Epoch 195/200\n",
            "34/34 [==============================] - 0s 4ms/step - loss: 3680.4058 - mae: 3680.4058\n",
            "Epoch 196/200\n",
            "34/34 [==============================] - 0s 3ms/step - loss: 3688.9038 - mae: 3688.9038\n",
            "Epoch 197/200\n",
            "34/34 [==============================] - 0s 4ms/step - loss: 3673.7349 - mae: 3673.7349\n",
            "Epoch 198/200\n",
            "34/34 [==============================] - 0s 5ms/step - loss: 3679.3049 - mae: 3679.3049\n",
            "Epoch 199/200\n",
            "34/34 [==============================] - 0s 4ms/step - loss: 3687.1150 - mae: 3687.1150\n",
            "Epoch 200/200\n",
            "34/34 [==============================] - 0s 4ms/step - loss: 3674.3960 - mae: 3674.3960\n"
          ]
        }
      ]
    },
    {
      "cell_type": "code",
      "source": [
        "# Evaluate our third model\n",
        "insurance_model_3.evaluate(X_test, y_test)"
      ],
      "metadata": {
        "colab": {
          "base_uri": "https://localhost:8080/"
        },
        "id": "Mm6-sMLhPvjU",
        "outputId": "6c3871e2-0dec-4dd3-98c2-4ff782724cb2"
      },
      "execution_count": 98,
      "outputs": [
        {
          "output_type": "stream",
          "name": "stdout",
          "text": [
            "9/9 [==============================] - 0s 8ms/step - loss: 3506.8271 - mae: 3506.8271\n"
          ]
        },
        {
          "output_type": "execute_result",
          "data": {
            "text/plain": [
              "[3506.8271484375, 3506.8271484375]"
            ]
          },
          "metadata": {},
          "execution_count": 98
        }
      ]
    },
    {
      "cell_type": "code",
      "source": [
        "insurance_model.evaluate(X_test, y_test)"
      ],
      "metadata": {
        "colab": {
          "base_uri": "https://localhost:8080/"
        },
        "id": "VMgXJCzfP9rI",
        "outputId": "b0db6e68-ef15-4b69-8839-2ff4f1ae6f65"
      },
      "execution_count": 100,
      "outputs": [
        {
          "output_type": "stream",
          "name": "stdout",
          "text": [
            "9/9 [==============================] - 0s 3ms/step - loss: 8009.2324 - mae: 8009.2324\n"
          ]
        },
        {
          "output_type": "execute_result",
          "data": {
            "text/plain": [
              "[8009.232421875, 8009.232421875]"
            ]
          },
          "metadata": {},
          "execution_count": 100
        }
      ]
    },
    {
      "cell_type": "code",
      "source": [
        "# Plot history (also known as a loss curve or a training curve)\n",
        "# history from fit the model to visualize\n",
        "pd.DataFrame(history.history).plot()\n",
        "plt.ylabel(\"loss\")\n",
        "plt.xlabel(\"epochs\")"
      ],
      "metadata": {
        "colab": {
          "base_uri": "https://localhost:8080/",
          "height": 467
        },
        "id": "PF-lfUINQGX8",
        "outputId": "7250ee4e-5aa8-4ab3-9506-586d6952a0d4"
      },
      "execution_count": 101,
      "outputs": [
        {
          "output_type": "execute_result",
          "data": {
            "text/plain": [
              "Text(0.5, 0, 'epochs')"
            ]
          },
          "metadata": {},
          "execution_count": 101
        },
        {
          "output_type": "display_data",
          "data": {
            "text/plain": [
              "<Figure size 640x480 with 1 Axes>"
            ],
            "image/png": "[encoded data removed]"
          },
          "metadata": {}
        }
      ]
    },
    {
      "cell_type": "markdown",
      "source": [
        "🤔 **Question:** How long should you train for ?\n",
        "\n",
        "It depends. Really, it depends on the problem you're working on. However, many people have asked this question before\n",
        "\n",
        "TensorfFlow has a solution It's called the [EarlyStopping Callback](https://www.tensorflow.org/api_docs/python/tf/keras/callbacks/EarlyStopping), whic is a TensorFlow component you can add to your model to stop training once it stops improving a certain metrics."
      ],
      "metadata": {
        "id": "TWu41rkxQXYY"
      }
    },
    {
      "cell_type": "markdown",
      "source": [
        "## Preprocessing data (normalization and standarization)\n",
        "\n",
        "in terms of scaling values, neural networks tend to prefer normalization.\n",
        "\n",
        "If you're not sure on which to use, you could try both and see which performs better."
      ],
      "metadata": {
        "id": "gPTZACJ9R8va"
      }
    },
    {
      "cell_type": "code",
      "source": [
        "import pandas as pd\n",
        "import matplotlib.pyplot as plt\n",
        "import tensorflow as tf\n",
        "\n",
        "# Read in the insurance dataframe\n",
        "\n",
        "insurance = pd.read_csv(\"https://raw.githubusercontent.com/stedy/Machine-Learning-with-R-datasets/master/insurance.csv\")\n",
        "insurance"
      ],
      "metadata": {
        "colab": {
          "base_uri": "https://localhost:8080/",
          "height": 423
        },
        "id": "nEHry4kPj06h",
        "outputId": "38533cb2-6533-44cf-a832-27da5b1229fb"
      },
      "execution_count": 108,
      "outputs": [
        {
          "output_type": "execute_result",
          "data": {
            "text/plain": [
              "      age     sex     bmi  children smoker     region      charges\n",
              "0      19  female  27.900         0    yes  southwest  16884.92400\n",
              "1      18    male  33.770         1     no  southeast   1725.55230\n",
              "2      28    male  33.000         3     no  southeast   4449.46200\n",
              "3      33    male  22.705         0     no  northwest  21984.47061\n",
              "4      32    male  28.880         0     no  northwest   3866.85520\n",
              "...   ...     ...     ...       ...    ...        ...          ...\n",
              "1333   50    male  30.970         3     no  northwest  10600.54830\n",
              "1334   18  female  31.920         0     no  northeast   2205.98080\n",
              "1335   18  female  36.850         0     no  southeast   1629.83350\n",
              "1336   21  female  25.800         0     no  southwest   2007.94500\n",
              "1337   61  female  29.070         0    yes  northwest  29141.36030\n",
              "\n",
              "[1338 rows x 7 columns]"
            ],
            "text/html": [
              "\n",
              "  <div id=\"df-6dae19cf-57e2-4f22-9b80-6133a9e06fdc\" class=\"colab-df-container\">\n",
              "    <div>\n",
              "<style scoped>\n",
              "    .dataframe tbody tr th:only-of-type {\n",
              "        vertical-align: middle;\n",
              "    }\n",
              "\n",
              "    .dataframe tbody tr th {\n",
              "        vertical-align: top;\n",
              "    }\n",
              "\n",
              "    .dataframe thead th {\n",
              "        text-align: right;\n",
              "    }\n",
              "</style>\n",
              "<table border=\"1\" class=\"dataframe\">\n",
              "  <thead>\n",
              "    <tr style=\"text-align: right;\">\n",
              "      <th></th>\n",
              "      <th>age</th>\n",
              "      <th>sex</th>\n",
              "      <th>bmi</th>\n",
              "      <th>children</th>\n",
              "      <th>smoker</th>\n",
              "      <th>region</th>\n",
              "      <th>charges</th>\n",
              "    </tr>\n",
              "  </thead>\n",
              "  <tbody>\n",
              "    <tr>\n",
              "      <th>0</th>\n",
              "      <td>19</td>\n",
              "      <td>female</td>\n",
              "      <td>27.900</td>\n",
              "      <td>0</td>\n",
              "      <td>yes</td>\n",
              "      <td>southwest</td>\n",
              "      <td>16884.92400</td>\n",
              "    </tr>\n",
              "    <tr>\n",
              "      <th>1</th>\n",
              "      <td>18</td>\n",
              "      <td>male</td>\n",
              "      <td>33.770</td>\n",
              "      <td>1</td>\n",
              "      <td>no</td>\n",
              "      <td>southeast</td>\n",
              "      <td>1725.55230</td>\n",
              "    </tr>\n",
              "    <tr>\n",
              "      <th>2</th>\n",
              "      <td>28</td>\n",
              "      <td>male</td>\n",
              "      <td>33.000</td>\n",
              "      <td>3</td>\n",
              "      <td>no</td>\n",
              "      <td>southeast</td>\n",
              "      <td>4449.46200</td>\n",
              "    </tr>\n",
              "    <tr>\n",
              "      <th>3</th>\n",
              "      <td>33</td>\n",
              "      <td>male</td>\n",
              "      <td>22.705</td>\n",
              "      <td>0</td>\n",
              "      <td>no</td>\n",
              "      <td>northwest</td>\n",
              "      <td>21984.47061</td>\n",
              "    </tr>\n",
              "    <tr>\n",
              "      <th>4</th>\n",
              "      <td>32</td>\n",
              "      <td>male</td>\n",
              "      <td>28.880</td>\n",
              "      <td>0</td>\n",
              "      <td>no</td>\n",
              "      <td>northwest</td>\n",
              "      <td>3866.85520</td>\n",
              "    </tr>\n",
              "    <tr>\n",
              "      <th>...</th>\n",
              "      <td>...</td>\n",
              "      <td>...</td>\n",
              "      <td>...</td>\n",
              "      <td>...</td>\n",
              "      <td>...</td>\n",
              "      <td>...</td>\n",
              "      <td>...</td>\n",
              "    </tr>\n",
              "    <tr>\n",
              "      <th>1333</th>\n",
              "      <td>50</td>\n",
              "      <td>male</td>\n",
              "      <td>30.970</td>\n",
              "      <td>3</td>\n",
              "      <td>no</td>\n",
              "      <td>northwest</td>\n",
              "      <td>10600.54830</td>\n",
              "    </tr>\n",
              "    <tr>\n",
              "      <th>1334</th>\n",
              "      <td>18</td>\n",
              "      <td>female</td>\n",
              "      <td>31.920</td>\n",
              "      <td>0</td>\n",
              "      <td>no</td>\n",
              "      <td>northeast</td>\n",
              "      <td>2205.98080</td>\n",
              "    </tr>\n",
              "    <tr>\n",
              "      <th>1335</th>\n",
              "      <td>18</td>\n",
              "      <td>female</td>\n",
              "      <td>36.850</td>\n",
              "      <td>0</td>\n",
              "      <td>no</td>\n",
              "      <td>southeast</td>\n",
              "      <td>1629.83350</td>\n",
              "    </tr>\n",
              "    <tr>\n",
              "      <th>1336</th>\n",
              "      <td>21</td>\n",
              "      <td>female</td>\n",
              "      <td>25.800</td>\n",
              "      <td>0</td>\n",
              "      <td>no</td>\n",
              "      <td>southwest</td>\n",
              "      <td>2007.94500</td>\n",
              "    </tr>\n",
              "    <tr>\n",
              "      <th>1337</th>\n",
              "      <td>61</td>\n",
              "      <td>female</td>\n",
              "      <td>29.070</td>\n",
              "      <td>0</td>\n",
              "      <td>yes</td>\n",
              "      <td>northwest</td>\n",
              "      <td>29141.36030</td>\n",
              "    </tr>\n",
              "  </tbody>\n",
              "</table>\n",
              "<p>1338 rows × 7 columns</p>\n",
              "</div>\n",
              "    <div class=\"colab-df-buttons\">\n",
              "\n",
              "  <div class=\"colab-df-container\">\n",
              "    <button class=\"colab-df-convert\" onclick=\"convertToInteractive('df-6dae19cf-57e2-4f22-9b80-6133a9e06fdc')\"\n",
              "            title=\"Convert this dataframe to an interactive table.\"\n",
              "            style=\"display:none;\">\n",
              "\n",
              "  <svg xmlns=\"http://www.w3.org/2000/svg\" height=\"24px\" viewBox=\"0 -960 960 960\">\n",
              "    <path d=\"M120-120v-720h720v720H120Zm60-500h600v-160H180v160Zm220 220h160v-160H400v160Zm0 220h160v-160H400v160ZM180-400h160v-160H180v160Zm440 0h160v-160H620v160ZM180-180h160v-160H180v160Zm440 0h160v-160H620v160Z\"/>\n",
              "  </svg>\n",
              "    </button>\n",
              "\n",
              "  <style>\n",
              "    .colab-df-container {\n",
              "      display:flex;\n",
              "      gap: 12px;\n",
              "    }\n",
              "\n",
              "    .colab-df-convert {\n",
              "      background-color: #E8F0FE;\n",
              "      border: none;\n",
              "      border-radius: 50%;\n",
              "      cursor: pointer;\n",
              "      display: none;\n",
              "      fill: #1967D2;\n",
              "      height: 32px;\n",
              "      padding: 0 0 0 0;\n",
              "      width: 32px;\n",
              "    }\n",
              "\n",
              "    .colab-df-convert:hover {\n",
              "      background-color: #E2EBFA;\n",
              "      box-shadow: 0px 1px 2px rgba(60, 64, 67, 0.3), 0px 1px 3px 1px rgba(60, 64, 67, 0.15);\n",
              "      fill: #174EA6;\n",
              "    }\n",
              "\n",
              "    .colab-df-buttons div {\n",
              "      margin-bottom: 4px;\n",
              "    }\n",
              "\n",
              "    [theme=dark] .colab-df-convert {\n",
              "      background-color: #3B4455;\n",
              "      fill: #D2E3FC;\n",
              "    }\n",
              "\n",
              "    [theme=dark] .colab-df-convert:hover {\n",
              "      background-color: #434B5C;\n",
              "      box-shadow: 0px 1px 3px 1px rgba(0, 0, 0, 0.15);\n",
              "      filter: drop-shadow(0px 1px 2px rgba(0, 0, 0, 0.3));\n",
              "      fill: #FFFFFF;\n",
              "    }\n",
              "  </style>\n",
              "\n",
              "    <script>\n",
              "      const buttonEl =\n",
              "        document.querySelector('#df-6dae19cf-57e2-4f22-9b80-6133a9e06fdc button.colab-df-convert');\n",
              "      buttonEl.style.display =\n",
              "        google.colab.kernel.accessAllowed ? 'block' : 'none';\n",
              "\n",
              "      async function convertToInteractive(key) {\n",
              "        const element = document.querySelector('#df-6dae19cf-57e2-4f22-9b80-6133a9e06fdc');\n",
              "        const dataTable =\n",
              "          await google.colab.kernel.invokeFunction('convertToInteractive',\n",
              "                                                    [key], {});\n",
              "        if (!dataTable) return;\n",
              "\n",
              "        const docLinkHtml = 'Like what you see? Visit the ' +\n",
              "          '<a target=\"_blank\" href=https://colab.research.google.com/notebooks/data_table.ipynb>data table notebook</a>'\n",
              "          + ' to learn more about interactive tables.';\n",
              "        element.innerHTML = '';\n",
              "        dataTable['output_type'] = 'display_data';\n",
              "        await google.colab.output.renderOutput(dataTable, element);\n",
              "        const docLink = document.createElement('div');\n",
              "        docLink.innerHTML = docLinkHtml;\n",
              "        element.appendChild(docLink);\n",
              "      }\n",
              "    </script>\n",
              "  </div>\n",
              "\n",
              "\n",
              "<div id=\"df-060bb5fd-9775-42c5-a27e-2125e152c73b\">\n",
              "  <button class=\"colab-df-quickchart\" onclick=\"quickchart('df-060bb5fd-9775-42c5-a27e-2125e152c73b')\"\n",
              "            title=\"Suggest charts\"\n",
              "            style=\"display:none;\">\n",
              "\n",
              "<svg xmlns=\"http://www.w3.org/2000/svg\" height=\"24px\"viewBox=\"0 0 24 24\"\n",
              "     width=\"24px\">\n",
              "    <g>\n",
              "        <path d=\"M19 3H5c-1.1 0-2 .9-2 2v14c0 1.1.9 2 2 2h14c1.1 0 2-.9 2-2V5c0-1.1-.9-2-2-2zM9 17H7v-7h2v7zm4 0h-2V7h2v10zm4 0h-2v-4h2v4z\"/>\n",
              "    </g>\n",
              "</svg>\n",
              "  </button>\n",
              "\n",
              "<style>\n",
              "  .colab-df-quickchart {\n",
              "      --bg-color: #E8F0FE;\n",
              "      --fill-color: #1967D2;\n",
              "      --hover-bg-color: #E2EBFA;\n",
              "      --hover-fill-color: #174EA6;\n",
              "      --disabled-fill-color: #AAA;\n",
              "      --disabled-bg-color: #DDD;\n",
              "  }\n",
              "\n",
              "  [theme=dark] .colab-df-quickchart {\n",
              "      --bg-color: #3B4455;\n",
              "      --fill-color: #D2E3FC;\n",
              "      --hover-bg-color: #434B5C;\n",
              "      --hover-fill-color: #FFFFFF;\n",
              "      --disabled-bg-color: #3B4455;\n",
              "      --disabled-fill-color: #666;\n",
              "  }\n",
              "\n",
              "  .colab-df-quickchart {\n",
              "    background-color: var(--bg-color);\n",
              "    border: none;\n",
              "    border-radius: 50%;\n",
              "    cursor: pointer;\n",
              "    display: none;\n",
              "    fill: var(--fill-color);\n",
              "    height: 32px;\n",
              "    padding: 0;\n",
              "    width: 32px;\n",
              "  }\n",
              "\n",
              "  .colab-df-quickchart:hover {\n",
              "    background-color: var(--hover-bg-color);\n",
              "    box-shadow: 0 1px 2px rgba(60, 64, 67, 0.3), 0 1px 3px 1px rgba(60, 64, 67, 0.15);\n",
              "    fill: var(--button-hover-fill-color);\n",
              "  }\n",
              "\n",
              "  .colab-df-quickchart-complete:disabled,\n",
              "  .colab-df-quickchart-complete:disabled:hover {\n",
              "    background-color: var(--disabled-bg-color);\n",
              "    fill: var(--disabled-fill-color);\n",
              "    box-shadow: none;\n",
              "  }\n",
              "\n",
              "  .colab-df-spinner {\n",
              "    border: 2px solid var(--fill-color);\n",
              "    border-color: transparent;\n",
              "    border-bottom-color: var(--fill-color);\n",
              "    animation:\n",
              "      spin 1s steps(1) infinite;\n",
              "  }\n",
              "\n",
              "  @keyframes spin {\n",
              "    0% {\n",
              "      border-color: transparent;\n",
              "      border-bottom-color: var(--fill-color);\n",
              "      border-left-color: var(--fill-color);\n",
              "    }\n",
              "    20% {\n",
              "      border-color: transparent;\n",
              "      border-left-color: var(--fill-color);\n",
              "      border-top-color: var(--fill-color);\n",
              "    }\n",
              "    30% {\n",
              "      border-color: transparent;\n",
              "      border-left-color: var(--fill-color);\n",
              "      border-top-color: var(--fill-color);\n",
              "      border-right-color: var(--fill-color);\n",
              "    }\n",
              "    40% {\n",
              "      border-color: transparent;\n",
              "      border-right-color: var(--fill-color);\n",
              "      border-top-color: var(--fill-color);\n",
              "    }\n",
              "    60% {\n",
              "      border-color: transparent;\n",
              "      border-right-color: var(--fill-color);\n",
              "    }\n",
              "    80% {\n",
              "      border-color: transparent;\n",
              "      border-right-color: var(--fill-color);\n",
              "      border-bottom-color: var(--fill-color);\n",
              "    }\n",
              "    90% {\n",
              "      border-color: transparent;\n",
              "      border-bottom-color: var(--fill-color);\n",
              "    }\n",
              "  }\n",
              "</style>\n",
              "\n",
              "  <script>\n",
              "    async function quickchart(key) {\n",
              "      const quickchartButtonEl =\n",
              "        document.querySelector('#' + key + ' button');\n",
              "      quickchartButtonEl.disabled = true;  // To prevent multiple clicks.\n",
              "      quickchartButtonEl.classList.add('colab-df-spinner');\n",
              "      try {\n",
              "        const charts = await google.colab.kernel.invokeFunction(\n",
              "            'suggestCharts', [key], {});\n",
              "      } catch (error) {\n",
              "        console.error('Error during call to suggestCharts:', error);\n",
              "      }\n",
              "      quickchartButtonEl.classList.remove('colab-df-spinner');\n",
              "      quickchartButtonEl.classList.add('colab-df-quickchart-complete');\n",
              "    }\n",
              "    (() => {\n",
              "      let quickchartButtonEl =\n",
              "        document.querySelector('#df-060bb5fd-9775-42c5-a27e-2125e152c73b button');\n",
              "      quickchartButtonEl.style.display =\n",
              "        google.colab.kernel.accessAllowed ? 'block' : 'none';\n",
              "    })();\n",
              "  </script>\n",
              "</div>\n",
              "    </div>\n",
              "  </div>\n"
            ],
            "application/vnd.google.colaboratory.intrinsic+json": {
              "type": "dataframe",
              "variable_name": "insurance",
              "summary": "{\n  \"name\": \"insurance\",\n  \"rows\": 1338,\n  \"fields\": [\n    {\n      \"column\": \"age\",\n      \"properties\": {\n        \"dtype\": \"number\",\n        \"std\": 14,\n        \"min\": 18,\n        \"max\": 64,\n        \"num_unique_values\": 47,\n        \"samples\": [\n          21,\n          45,\n          36\n        ],\n        \"semantic_type\": \"\",\n        \"description\": \"\"\n      }\n    },\n    {\n      \"column\": \"sex\",\n      \"properties\": {\n        \"dtype\": \"category\",\n        \"num_unique_values\": 2,\n        \"samples\": [\n          \"male\",\n          \"female\"\n        ],\n        \"semantic_type\": \"\",\n        \"description\": \"\"\n      }\n    },\n    {\n      \"column\": \"bmi\",\n      \"properties\": {\n        \"dtype\": \"number\",\n        \"std\": 6.098186911679014,\n        \"min\": 15.96,\n        \"max\": 53.13,\n        \"num_unique_values\": 548,\n        \"samples\": [\n          23.18,\n          26.885\n        ],\n        \"semantic_type\": \"\",\n        \"description\": \"\"\n      }\n    },\n    {\n      \"column\": \"children\",\n      \"properties\": {\n        \"dtype\": \"number\",\n        \"std\": 1,\n        \"min\": 0,\n        \"max\": 5,\n        \"num_unique_values\": 6,\n        \"samples\": [\n          0,\n          1\n        ],\n        \"semantic_type\": \"\",\n        \"description\": \"\"\n      }\n    },\n    {\n      \"column\": \"smoker\",\n      \"properties\": {\n        \"dtype\": \"category\",\n        \"num_unique_values\": 2,\n        \"samples\": [\n          \"no\",\n          \"yes\"\n        ],\n        \"semantic_type\": \"\",\n        \"description\": \"\"\n      }\n    },\n    {\n      \"column\": \"region\",\n      \"properties\": {\n        \"dtype\": \"category\",\n        \"num_unique_values\": 4,\n        \"samples\": [\n          \"southeast\",\n          \"northeast\"\n        ],\n        \"semantic_type\": \"\",\n        \"description\": \"\"\n      }\n    },\n    {\n      \"column\": \"charges\",\n      \"properties\": {\n        \"dtype\": \"number\",\n        \"std\": 12110.011236694001,\n        \"min\": 1121.8739,\n        \"max\": 63770.42801,\n        \"num_unique_values\": 1337,\n        \"samples\": [\n          8688.85885,\n          5708.867\n        ],\n        \"semantic_type\": \"\",\n        \"description\": \"\"\n      }\n    }\n  ]\n}"
            }
          },
          "metadata": {},
          "execution_count": 108
        }
      ]
    },
    {
      "cell_type": "markdown",
      "source": [
        "To prepare our data, we can borrow a few callses form Scikit-Lear"
      ],
      "metadata": {
        "id": "mTMP-5OfsJ3P"
      }
    },
    {
      "cell_type": "code",
      "source": [
        "from sklearn.compose import make_column_transformer\n",
        "from sklearn.preprocessing import MinMaxScaler, OneHotEncoder\n",
        "from sklearn.model_selection import train_test_split\n",
        "\n",
        "# Create a column transformer\n",
        "ct = make_column_transformer(\n",
        "    (MinMaxScaler(), [\"age\", \"bmi\", \"children\"]), # turn all values in these columns between 0 and 1\n",
        "    (OneHotEncoder(handle_unknown=\"ignore\"), [\"sex\", \"smoker\", \"region\"])\n",
        ")\n",
        "\n",
        "# Create X & y\n",
        "X = insurance.drop(\"charges\", axis=1)\n",
        "y = insurance[\"charges\"]\n",
        "\n",
        "# Build our train and test sets\n",
        "X_train, X_test, y_train, y_test = train_test_split(X, y, test_size=0.2, random_state=42)\n",
        "\n",
        "# Fit the column transformer to our training data\n",
        "ct.fit(X_train)\n",
        "\n",
        "# Transform training and test data with normalization (MinMaxScaler) and OneHotEncoder\n",
        "X_train_normal = ct.transform(X_train)\n",
        "X_test_normal = ct.transform(X_test)\n",
        "\n"
      ],
      "metadata": {
        "id": "eBXkPDt4sO1f"
      },
      "execution_count": 113,
      "outputs": []
    },
    {
      "cell_type": "code",
      "source": [
        "# What does our dataa look like now ?\n",
        "X_train.loc[0]"
      ],
      "metadata": {
        "colab": {
          "base_uri": "https://localhost:8080/"
        },
        "id": "5CNVpgr-u7Zh",
        "outputId": "3a7e11dc-14bc-43fb-bdac-c0793c000735"
      },
      "execution_count": 114,
      "outputs": [
        {
          "output_type": "execute_result",
          "data": {
            "text/plain": [
              "age                19\n",
              "sex            female\n",
              "bmi              27.9\n",
              "children            0\n",
              "smoker            yes\n",
              "region      southwest\n",
              "Name: 0, dtype: object"
            ]
          },
          "metadata": {},
          "execution_count": 114
        }
      ]
    },
    {
      "cell_type": "code",
      "source": [
        "X_train_normal[0]"
      ],
      "metadata": {
        "colab": {
          "base_uri": "https://localhost:8080/"
        },
        "id": "rDOI4OdYvHzd",
        "outputId": "31da6f0c-ff21-494a-da5d-028b983b35b3"
      },
      "execution_count": 115,
      "outputs": [
        {
          "output_type": "execute_result",
          "data": {
            "text/plain": [
              "array([0.60869565, 0.10734463, 0.4       , 1.        , 0.        ,\n",
              "       1.        , 0.        , 0.        , 1.        , 0.        ,\n",
              "       0.        ])"
            ]
          },
          "metadata": {},
          "execution_count": 115
        }
      ]
    },
    {
      "cell_type": "code",
      "source": [
        "X_train_normal"
      ],
      "metadata": {
        "colab": {
          "base_uri": "https://localhost:8080/"
        },
        "id": "lni7Ts3uvct9",
        "outputId": "06dd4ca5-52fe-4914-ed6b-111e03316882"
      },
      "execution_count": 116,
      "outputs": [
        {
          "output_type": "execute_result",
          "data": {
            "text/plain": [
              "array([[0.60869565, 0.10734463, 0.4       , ..., 1.        , 0.        ,\n",
              "        0.        ],\n",
              "       [0.63043478, 0.22491256, 0.        , ..., 0.        , 0.        ,\n",
              "        0.        ],\n",
              "       [0.73913043, 0.23944041, 0.        , ..., 0.        , 1.        ,\n",
              "        0.        ],\n",
              "       ...,\n",
              "       [0.86956522, 0.24791499, 0.        , ..., 0.        , 0.        ,\n",
              "        0.        ],\n",
              "       [0.41304348, 0.85122411, 0.4       , ..., 0.        , 0.        ,\n",
              "        1.        ],\n",
              "       [0.80434783, 0.37503363, 0.        , ..., 0.        , 0.        ,\n",
              "        1.        ]])"
            ]
          },
          "metadata": {},
          "execution_count": 116
        }
      ]
    },
    {
      "cell_type": "code",
      "source": [
        "# X_train has 6 column, X_train_normal has 11 column\n",
        "X_train.shape, X_train_normal.shape"
      ],
      "metadata": {
        "colab": {
          "base_uri": "https://localhost:8080/"
        },
        "id": "E8mIRVopveYs",
        "outputId": "affd39cd-7045-4444-daf0-603ca1945927"
      },
      "execution_count": 118,
      "outputs": [
        {
          "output_type": "execute_result",
          "data": {
            "text/plain": [
              "((1070, 6), (1070, 11))"
            ]
          },
          "metadata": {},
          "execution_count": 118
        }
      ]
    },
    {
      "cell_type": "markdown",
      "source": [
        "Beautiful! Our data has been normalized and one hot encoded.\n",
        "Now let's build a neural network model on it and see how it goes."
      ],
      "metadata": {
        "id": "RunPIOkav0Oa"
      }
    },
    {
      "cell_type": "code",
      "source": [
        "# Build a neural network model to fit on our normalize data\n",
        "tf.random.set_seed(42)\n",
        "\n",
        "# 1. Create the model\n",
        "insurance_model_4 = tf.keras.Sequential([\n",
        "    tf.keras.layers.Dense(100),\n",
        "    tf.keras.layers.Dense(10),\n",
        "    tf.keras.layers.Dense(1)\n",
        "])\n",
        "\n",
        "# 2. Compile the model\n",
        "insurance_model_4.compile(loss=tf.keras.losses.mae,\n",
        "                          optimizer=tf.keras.optimizers.Adam(),\n",
        "                          metrics=['mae'])\n",
        "\n",
        "# 3. Fit the model\n",
        "insurance_model_4.fit(X_train_normal, y_train, epochs=100)"
      ],
      "metadata": {
        "colab": {
          "base_uri": "https://localhost:8080/"
        },
        "id": "AhOT5D7vwCfB",
        "outputId": "85f06360-9ee6-47f9-f22a-22e23f956e86"
      },
      "execution_count": 121,
      "outputs": [
        {
          "output_type": "stream",
          "name": "stdout",
          "text": [
            "Epoch 1/100\n",
            "34/34 [==============================] - 2s 6ms/step - loss: 13343.7109 - mae: 13343.7109\n",
            "Epoch 2/100\n",
            "34/34 [==============================] - 0s 4ms/step - loss: 13335.3789 - mae: 13335.3789\n",
            "Epoch 3/100\n",
            "34/34 [==============================] - 0s 5ms/step - loss: 13314.6719 - mae: 13314.6719\n",
            "Epoch 4/100\n",
            "34/34 [==============================] - 0s 4ms/step - loss: 13270.7373 - mae: 13270.7373\n",
            "Epoch 5/100\n",
            "34/34 [==============================] - 0s 4ms/step - loss: 13192.3135 - mae: 13192.3135\n",
            "Epoch 6/100\n",
            "34/34 [==============================] - 0s 5ms/step - loss: 13068.4463 - mae: 13068.4463\n",
            "Epoch 7/100\n",
            "34/34 [==============================] - 0s 5ms/step - loss: 12888.9521 - mae: 12888.9521\n",
            "Epoch 8/100\n",
            "34/34 [==============================] - 0s 6ms/step - loss: 12643.7529 - mae: 12643.7529\n",
            "Epoch 9/100\n",
            "34/34 [==============================] - 0s 4ms/step - loss: 12322.6699 - mae: 12322.6699\n",
            "Epoch 10/100\n",
            "34/34 [==============================] - 0s 4ms/step - loss: 11921.0254 - mae: 11921.0254\n",
            "Epoch 11/100\n",
            "34/34 [==============================] - 0s 5ms/step - loss: 11447.8809 - mae: 11447.8809\n",
            "Epoch 12/100\n",
            "34/34 [==============================] - 0s 6ms/step - loss: 10942.2891 - mae: 10942.2891\n",
            "Epoch 13/100\n",
            "34/34 [==============================] - 0s 4ms/step - loss: 10440.2217 - mae: 10440.2217\n",
            "Epoch 14/100\n",
            "34/34 [==============================] - 0s 4ms/step - loss: 9943.0557 - mae: 9943.0557\n",
            "Epoch 15/100\n",
            "34/34 [==============================] - 0s 4ms/step - loss: 9474.4219 - mae: 9474.4219\n",
            "Epoch 16/100\n",
            "34/34 [==============================] - 0s 5ms/step - loss: 9059.8584 - mae: 9059.8584\n",
            "Epoch 17/100\n",
            "34/34 [==============================] - 0s 5ms/step - loss: 8716.0029 - mae: 8716.0029\n",
            "Epoch 18/100\n",
            "34/34 [==============================] - 0s 4ms/step - loss: 8435.4854 - mae: 8435.4854\n",
            "Epoch 19/100\n",
            "34/34 [==============================] - 0s 4ms/step - loss: 8222.2100 - mae: 8222.2100\n",
            "Epoch 20/100\n",
            "34/34 [==============================] - 0s 5ms/step - loss: 8075.6279 - mae: 8075.6279\n",
            "Epoch 21/100\n",
            "34/34 [==============================] - 0s 5ms/step - loss: 7966.6035 - mae: 7966.6035\n",
            "Epoch 22/100\n",
            "34/34 [==============================] - 0s 5ms/step - loss: 7891.8804 - mae: 7891.8804\n",
            "Epoch 23/100\n",
            "34/34 [==============================] - 0s 5ms/step - loss: 7833.2256 - mae: 7833.2256\n",
            "Epoch 24/100\n",
            "34/34 [==============================] - 0s 5ms/step - loss: 7780.5396 - mae: 7780.5396\n",
            "Epoch 25/100\n",
            "34/34 [==============================] - 0s 5ms/step - loss: 7741.4048 - mae: 7741.4048\n",
            "Epoch 26/100\n",
            "34/34 [==============================] - 0s 6ms/step - loss: 7689.4741 - mae: 7689.4741\n",
            "Epoch 27/100\n",
            "34/34 [==============================] - 0s 5ms/step - loss: 7647.1885 - mae: 7647.1885\n",
            "Epoch 28/100\n",
            "34/34 [==============================] - 0s 4ms/step - loss: 7604.4102 - mae: 7604.4102\n",
            "Epoch 29/100\n",
            "34/34 [==============================] - 0s 5ms/step - loss: 7561.4199 - mae: 7561.4199\n",
            "Epoch 30/100\n",
            "34/34 [==============================] - 0s 5ms/step - loss: 7517.5488 - mae: 7517.5488\n",
            "Epoch 31/100\n",
            "34/34 [==============================] - 0s 5ms/step - loss: 7473.3638 - mae: 7473.3638\n",
            "Epoch 32/100\n",
            "34/34 [==============================] - 0s 8ms/step - loss: 7428.8867 - mae: 7428.8867\n",
            "Epoch 33/100\n",
            "34/34 [==============================] - 0s 7ms/step - loss: 7384.1128 - mae: 7384.1128\n",
            "Epoch 34/100\n",
            "34/34 [==============================] - 0s 8ms/step - loss: 7335.5176 - mae: 7335.5176\n",
            "Epoch 35/100\n",
            "34/34 [==============================] - 0s 8ms/step - loss: 7288.2837 - mae: 7288.2837\n",
            "Epoch 36/100\n",
            "34/34 [==============================] - 0s 8ms/step - loss: 7237.6772 - mae: 7237.6772\n",
            "Epoch 37/100\n",
            "34/34 [==============================] - 0s 6ms/step - loss: 7186.9023 - mae: 7186.9023\n",
            "Epoch 38/100\n",
            "34/34 [==============================] - 0s 8ms/step - loss: 7135.2485 - mae: 7135.2485\n",
            "Epoch 39/100\n",
            "34/34 [==============================] - 0s 7ms/step - loss: 7079.8564 - mae: 7079.8564\n",
            "Epoch 40/100\n",
            "34/34 [==============================] - 0s 8ms/step - loss: 7023.8242 - mae: 7023.8242\n",
            "Epoch 41/100\n",
            "34/34 [==============================] - 0s 8ms/step - loss: 6966.6523 - mae: 6966.6523\n",
            "Epoch 42/100\n",
            "34/34 [==============================] - 0s 7ms/step - loss: 6907.0298 - mae: 6907.0298\n",
            "Epoch 43/100\n",
            "34/34 [==============================] - 0s 9ms/step - loss: 6843.5679 - mae: 6843.5679\n",
            "Epoch 44/100\n",
            "34/34 [==============================] - 0s 9ms/step - loss: 6776.4575 - mae: 6776.4575\n",
            "Epoch 45/100\n",
            "34/34 [==============================] - 0s 9ms/step - loss: 6708.2798 - mae: 6708.2798\n",
            "Epoch 46/100\n",
            "34/34 [==============================] - 0s 8ms/step - loss: 6638.2363 - mae: 6638.2363\n",
            "Epoch 47/100\n",
            "34/34 [==============================] - 0s 10ms/step - loss: 6566.1050 - mae: 6566.1050\n",
            "Epoch 48/100\n",
            "34/34 [==============================] - 0s 9ms/step - loss: 6486.3462 - mae: 6486.3462\n",
            "Epoch 49/100\n",
            "34/34 [==============================] - 0s 6ms/step - loss: 6406.6382 - mae: 6406.6382\n",
            "Epoch 50/100\n",
            "34/34 [==============================] - 0s 8ms/step - loss: 6319.7798 - mae: 6319.7798\n",
            "Epoch 51/100\n",
            "34/34 [==============================] - 0s 9ms/step - loss: 6233.9917 - mae: 6233.9917\n",
            "Epoch 52/100\n",
            "34/34 [==============================] - 0s 8ms/step - loss: 6139.8711 - mae: 6139.8711\n",
            "Epoch 53/100\n",
            "34/34 [==============================] - 0s 6ms/step - loss: 6042.7280 - mae: 6042.7280\n",
            "Epoch 54/100\n",
            "34/34 [==============================] - 0s 4ms/step - loss: 5942.7334 - mae: 5942.7334\n",
            "Epoch 55/100\n",
            "34/34 [==============================] - 0s 5ms/step - loss: 5834.6006 - mae: 5834.6006\n",
            "Epoch 56/100\n",
            "34/34 [==============================] - 0s 5ms/step - loss: 5724.9238 - mae: 5724.9238\n",
            "Epoch 57/100\n",
            "34/34 [==============================] - 0s 7ms/step - loss: 5608.7222 - mae: 5608.7222\n",
            "Epoch 58/100\n",
            "34/34 [==============================] - 0s 8ms/step - loss: 5492.4922 - mae: 5492.4922\n",
            "Epoch 59/100\n",
            "34/34 [==============================] - 0s 7ms/step - loss: 5372.8809 - mae: 5372.8809\n",
            "Epoch 60/100\n",
            "34/34 [==============================] - 0s 7ms/step - loss: 5249.8945 - mae: 5249.8945\n",
            "Epoch 61/100\n",
            "34/34 [==============================] - 0s 7ms/step - loss: 5125.0156 - mae: 5125.0156\n",
            "Epoch 62/100\n",
            "34/34 [==============================] - 0s 5ms/step - loss: 4994.6455 - mae: 4994.6455\n",
            "Epoch 63/100\n",
            "34/34 [==============================] - 0s 5ms/step - loss: 4867.5527 - mae: 4867.5527\n",
            "Epoch 64/100\n",
            "34/34 [==============================] - 0s 7ms/step - loss: 4736.2373 - mae: 4736.2373\n",
            "Epoch 65/100\n",
            "34/34 [==============================] - 0s 6ms/step - loss: 4612.1108 - mae: 4612.1108\n",
            "Epoch 66/100\n",
            "34/34 [==============================] - 0s 6ms/step - loss: 4493.5708 - mae: 4493.5708\n",
            "Epoch 67/100\n",
            "34/34 [==============================] - 0s 6ms/step - loss: 4388.6660 - mae: 4388.6660\n",
            "Epoch 68/100\n",
            "34/34 [==============================] - 0s 5ms/step - loss: 4284.7954 - mae: 4284.7954\n",
            "Epoch 69/100\n",
            "34/34 [==============================] - 0s 6ms/step - loss: 4185.5322 - mae: 4185.5322\n",
            "Epoch 70/100\n",
            "34/34 [==============================] - 0s 7ms/step - loss: 4093.9817 - mae: 4093.9817\n",
            "Epoch 71/100\n",
            "34/34 [==============================] - 0s 6ms/step - loss: 4009.0957 - mae: 4009.0957\n",
            "Epoch 72/100\n",
            "34/34 [==============================] - 0s 5ms/step - loss: 3935.4827 - mae: 3935.4827\n",
            "Epoch 73/100\n",
            "34/34 [==============================] - 0s 6ms/step - loss: 3872.4353 - mae: 3872.4353\n",
            "Epoch 74/100\n",
            "34/34 [==============================] - 0s 4ms/step - loss: 3819.2117 - mae: 3819.2117\n",
            "Epoch 75/100\n",
            "34/34 [==============================] - 0s 2ms/step - loss: 3777.6394 - mae: 3777.6394\n",
            "Epoch 76/100\n",
            "34/34 [==============================] - 0s 2ms/step - loss: 3746.4160 - mae: 3746.4160\n",
            "Epoch 77/100\n",
            "34/34 [==============================] - 0s 2ms/step - loss: 3721.3083 - mae: 3721.3083\n",
            "Epoch 78/100\n",
            "34/34 [==============================] - 0s 3ms/step - loss: 3704.1458 - mae: 3704.1458\n",
            "Epoch 79/100\n",
            "34/34 [==============================] - 0s 2ms/step - loss: 3691.1680 - mae: 3691.1680\n",
            "Epoch 80/100\n",
            "34/34 [==============================] - 0s 2ms/step - loss: 3681.6807 - mae: 3681.6807\n",
            "Epoch 81/100\n",
            "34/34 [==============================] - 0s 2ms/step - loss: 3675.0029 - mae: 3675.0029\n",
            "Epoch 82/100\n",
            "34/34 [==============================] - 0s 3ms/step - loss: 3671.4160 - mae: 3671.4160\n",
            "Epoch 83/100\n",
            "34/34 [==============================] - 0s 2ms/step - loss: 3665.6179 - mae: 3665.6179\n",
            "Epoch 84/100\n",
            "34/34 [==============================] - 0s 2ms/step - loss: 3662.5308 - mae: 3662.5308\n",
            "Epoch 85/100\n",
            "34/34 [==============================] - 0s 2ms/step - loss: 3660.3799 - mae: 3660.3799\n",
            "Epoch 86/100\n",
            "34/34 [==============================] - 0s 2ms/step - loss: 3658.2146 - mae: 3658.2146\n",
            "Epoch 87/100\n",
            "34/34 [==============================] - 0s 2ms/step - loss: 3655.4441 - mae: 3655.4441\n",
            "Epoch 88/100\n",
            "34/34 [==============================] - 0s 2ms/step - loss: 3652.7363 - mae: 3652.7363\n",
            "Epoch 89/100\n",
            "34/34 [==============================] - 0s 2ms/step - loss: 3651.2759 - mae: 3651.2759\n",
            "Epoch 90/100\n",
            "34/34 [==============================] - 0s 2ms/step - loss: 3649.4829 - mae: 3649.4829\n",
            "Epoch 91/100\n",
            "34/34 [==============================] - 0s 2ms/step - loss: 3646.4373 - mae: 3646.4373\n",
            "Epoch 92/100\n",
            "34/34 [==============================] - 0s 2ms/step - loss: 3645.7734 - mae: 3645.7734\n",
            "Epoch 93/100\n",
            "34/34 [==============================] - 0s 2ms/step - loss: 3643.4265 - mae: 3643.4265\n",
            "Epoch 94/100\n",
            "34/34 [==============================] - 0s 3ms/step - loss: 3641.8000 - mae: 3641.8000\n",
            "Epoch 95/100\n",
            "34/34 [==============================] - 0s 3ms/step - loss: 3642.7822 - mae: 3642.7822\n",
            "Epoch 96/100\n",
            "34/34 [==============================] - 0s 2ms/step - loss: 3639.8398 - mae: 3639.8398\n",
            "Epoch 97/100\n",
            "34/34 [==============================] - 0s 2ms/step - loss: 3637.1553 - mae: 3637.1553\n",
            "Epoch 98/100\n",
            "34/34 [==============================] - 0s 2ms/step - loss: 3635.2087 - mae: 3635.2087\n",
            "Epoch 99/100\n",
            "34/34 [==============================] - 0s 3ms/step - loss: 3634.6216 - mae: 3634.6216\n",
            "Epoch 100/100\n",
            "34/34 [==============================] - 0s 2ms/step - loss: 3633.0552 - mae: 3633.0552\n"
          ]
        },
        {
          "output_type": "execute_result",
          "data": {
            "text/plain": [
              "<keras.src.callbacks.History at 0x7868ddf4de70>"
            ]
          },
          "metadata": {},
          "execution_count": 121
        }
      ]
    },
    {
      "cell_type": "code",
      "source": [
        "# Evaluate our insurance model trained on normalized data\n",
        "insurance_model_4.evaluate(X_test_normal, y_test)"
      ],
      "metadata": {
        "colab": {
          "base_uri": "https://localhost:8080/"
        },
        "id": "32IBV1qixkTm",
        "outputId": "6dadbc3b-c232-46e8-9380-3b8fc83e59af"
      },
      "execution_count": 122,
      "outputs": [
        {
          "output_type": "stream",
          "name": "stdout",
          "text": [
            "9/9 [==============================] - 1s 12ms/step - loss: 3434.7771 - mae: 3434.7771\n"
          ]
        },
        {
          "output_type": "execute_result",
          "data": {
            "text/plain": [
              "[3434.777099609375, 3434.777099609375]"
            ]
          },
          "metadata": {},
          "execution_count": 122
        }
      ]
    },
    {
      "cell_type": "code",
      "source": [
        "# Insurance model 2 result\n",
        "# 9/9 [==============================] - 0s 2ms/step - loss: 4793.0903 - mae: 4793.0903"
      ],
      "metadata": {
        "id": "kLKCsbNFyDSC"
      },
      "execution_count": null,
      "outputs": []
    },
    {
      "cell_type": "code",
      "source": [
        "insurance_model_2.summary()"
      ],
      "metadata": {
        "colab": {
          "base_uri": "https://localhost:8080/"
        },
        "id": "LC025P1CxOtM",
        "outputId": "a6ef9a14-05ee-41b3-f091-de111bebbf84"
      },
      "execution_count": 120,
      "outputs": [
        {
          "output_type": "stream",
          "name": "stdout",
          "text": [
            "Model: \"sequential_10\"\n",
            "_________________________________________________________________\n",
            " Layer (type)                Output Shape              Param #   \n",
            "=================================================================\n",
            " dense_18 (Dense)            (None, 100)               1200      \n",
            "                                                                 \n",
            " dense_19 (Dense)            (None, 10)                1010      \n",
            "                                                                 \n",
            " dense_20 (Dense)            (None, 1)                 11        \n",
            "                                                                 \n",
            "=================================================================\n",
            "Total params: 2221 (8.68 KB)\n",
            "Trainable params: 2221 (8.68 KB)\n",
            "Non-trainable params: 0 (0.00 Byte)\n",
            "_________________________________________________________________\n"
          ]
        }
      ]
    },
    {
      "cell_type": "code",
      "source": [
        "X"
      ],
      "metadata": {
        "colab": {
          "base_uri": "https://localhost:8080/",
          "height": 443
        },
        "id": "6rMpyrq_TA06",
        "outputId": "8f22c3e7-f0d1-4c3b-ae7c-fea97887cc40"
      },
      "execution_count": 103,
      "outputs": [
        {
          "output_type": "execute_result",
          "data": {
            "text/plain": [
              "      age     bmi  children  sex_female  sex_male  smoker_no  smoker_yes  \\\n",
              "0      19  27.900         0           1         0          0           1   \n",
              "1      18  33.770         1           0         1          1           0   \n",
              "2      28  33.000         3           0         1          1           0   \n",
              "3      33  22.705         0           0         1          1           0   \n",
              "4      32  28.880         0           0         1          1           0   \n",
              "...   ...     ...       ...         ...       ...        ...         ...   \n",
              "1333   50  30.970         3           0         1          1           0   \n",
              "1334   18  31.920         0           1         0          1           0   \n",
              "1335   18  36.850         0           1         0          1           0   \n",
              "1336   21  25.800         0           1         0          1           0   \n",
              "1337   61  29.070         0           1         0          0           1   \n",
              "\n",
              "      region_northeast  region_northwest  region_southeast  region_southwest  \n",
              "0                    0                 0                 0                 1  \n",
              "1                    0                 0                 1                 0  \n",
              "2                    0                 0                 1                 0  \n",
              "3                    0                 1                 0                 0  \n",
              "4                    0                 1                 0                 0  \n",
              "...                ...               ...               ...               ...  \n",
              "1333                 0                 1                 0                 0  \n",
              "1334                 1                 0                 0                 0  \n",
              "1335                 0                 0                 1                 0  \n",
              "1336                 0                 0                 0                 1  \n",
              "1337                 0                 1                 0                 0  \n",
              "\n",
              "[1338 rows x 11 columns]"
            ],
            "text/html": [
              "\n",
              "  <div id=\"df-4e25d39f-6f55-4996-b7d2-ff2da0f80a7a\" class=\"colab-df-container\">\n",
              "    <div>\n",
              "<style scoped>\n",
              "    .dataframe tbody tr th:only-of-type {\n",
              "        vertical-align: middle;\n",
              "    }\n",
              "\n",
              "    .dataframe tbody tr th {\n",
              "        vertical-align: top;\n",
              "    }\n",
              "\n",
              "    .dataframe thead th {\n",
              "        text-align: right;\n",
              "    }\n",
              "</style>\n",
              "<table border=\"1\" class=\"dataframe\">\n",
              "  <thead>\n",
              "    <tr style=\"text-align: right;\">\n",
              "      <th></th>\n",
              "      <th>age</th>\n",
              "      <th>bmi</th>\n",
              "      <th>children</th>\n",
              "      <th>sex_female</th>\n",
              "      <th>sex_male</th>\n",
              "      <th>smoker_no</th>\n",
              "      <th>smoker_yes</th>\n",
              "      <th>region_northeast</th>\n",
              "      <th>region_northwest</th>\n",
              "      <th>region_southeast</th>\n",
              "      <th>region_southwest</th>\n",
              "    </tr>\n",
              "  </thead>\n",
              "  <tbody>\n",
              "    <tr>\n",
              "      <th>0</th>\n",
              "      <td>19</td>\n",
              "      <td>27.900</td>\n",
              "      <td>0</td>\n",
              "      <td>1</td>\n",
              "      <td>0</td>\n",
              "      <td>0</td>\n",
              "      <td>1</td>\n",
              "      <td>0</td>\n",
              "      <td>0</td>\n",
              "      <td>0</td>\n",
              "      <td>1</td>\n",
              "    </tr>\n",
              "    <tr>\n",
              "      <th>1</th>\n",
              "      <td>18</td>\n",
              "      <td>33.770</td>\n",
              "      <td>1</td>\n",
              "      <td>0</td>\n",
              "      <td>1</td>\n",
              "      <td>1</td>\n",
              "      <td>0</td>\n",
              "      <td>0</td>\n",
              "      <td>0</td>\n",
              "      <td>1</td>\n",
              "      <td>0</td>\n",
              "    </tr>\n",
              "    <tr>\n",
              "      <th>2</th>\n",
              "      <td>28</td>\n",
              "      <td>33.000</td>\n",
              "      <td>3</td>\n",
              "      <td>0</td>\n",
              "      <td>1</td>\n",
              "      <td>1</td>\n",
              "      <td>0</td>\n",
              "      <td>0</td>\n",
              "      <td>0</td>\n",
              "      <td>1</td>\n",
              "      <td>0</td>\n",
              "    </tr>\n",
              "    <tr>\n",
              "      <th>3</th>\n",
              "      <td>33</td>\n",
              "      <td>22.705</td>\n",
              "      <td>0</td>\n",
              "      <td>0</td>\n",
              "      <td>1</td>\n",
              "      <td>1</td>\n",
              "      <td>0</td>\n",
              "      <td>0</td>\n",
              "      <td>1</td>\n",
              "      <td>0</td>\n",
              "      <td>0</td>\n",
              "    </tr>\n",
              "    <tr>\n",
              "      <th>4</th>\n",
              "      <td>32</td>\n",
              "      <td>28.880</td>\n",
              "      <td>0</td>\n",
              "      <td>0</td>\n",
              "      <td>1</td>\n",
              "      <td>1</td>\n",
              "      <td>0</td>\n",
              "      <td>0</td>\n",
              "      <td>1</td>\n",
              "      <td>0</td>\n",
              "      <td>0</td>\n",
              "    </tr>\n",
              "    <tr>\n",
              "      <th>...</th>\n",
              "      <td>...</td>\n",
              "      <td>...</td>\n",
              "      <td>...</td>\n",
              "      <td>...</td>\n",
              "      <td>...</td>\n",
              "      <td>...</td>\n",
              "      <td>...</td>\n",
              "      <td>...</td>\n",
              "      <td>...</td>\n",
              "      <td>...</td>\n",
              "      <td>...</td>\n",
              "    </tr>\n",
              "    <tr>\n",
              "      <th>1333</th>\n",
              "      <td>50</td>\n",
              "      <td>30.970</td>\n",
              "      <td>3</td>\n",
              "      <td>0</td>\n",
              "      <td>1</td>\n",
              "      <td>1</td>\n",
              "      <td>0</td>\n",
              "      <td>0</td>\n",
              "      <td>1</td>\n",
              "      <td>0</td>\n",
              "      <td>0</td>\n",
              "    </tr>\n",
              "    <tr>\n",
              "      <th>1334</th>\n",
              "      <td>18</td>\n",
              "      <td>31.920</td>\n",
              "      <td>0</td>\n",
              "      <td>1</td>\n",
              "      <td>0</td>\n",
              "      <td>1</td>\n",
              "      <td>0</td>\n",
              "      <td>1</td>\n",
              "      <td>0</td>\n",
              "      <td>0</td>\n",
              "      <td>0</td>\n",
              "    </tr>\n",
              "    <tr>\n",
              "      <th>1335</th>\n",
              "      <td>18</td>\n",
              "      <td>36.850</td>\n",
              "      <td>0</td>\n",
              "      <td>1</td>\n",
              "      <td>0</td>\n",
              "      <td>1</td>\n",
              "      <td>0</td>\n",
              "      <td>0</td>\n",
              "      <td>0</td>\n",
              "      <td>1</td>\n",
              "      <td>0</td>\n",
              "    </tr>\n",
              "    <tr>\n",
              "      <th>1336</th>\n",
              "      <td>21</td>\n",
              "      <td>25.800</td>\n",
              "      <td>0</td>\n",
              "      <td>1</td>\n",
              "      <td>0</td>\n",
              "      <td>1</td>\n",
              "      <td>0</td>\n",
              "      <td>0</td>\n",
              "      <td>0</td>\n",
              "      <td>0</td>\n",
              "      <td>1</td>\n",
              "    </tr>\n",
              "    <tr>\n",
              "      <th>1337</th>\n",
              "      <td>61</td>\n",
              "      <td>29.070</td>\n",
              "      <td>0</td>\n",
              "      <td>1</td>\n",
              "      <td>0</td>\n",
              "      <td>0</td>\n",
              "      <td>1</td>\n",
              "      <td>0</td>\n",
              "      <td>1</td>\n",
              "      <td>0</td>\n",
              "      <td>0</td>\n",
              "    </tr>\n",
              "  </tbody>\n",
              "</table>\n",
              "<p>1338 rows × 11 columns</p>\n",
              "</div>\n",
              "    <div class=\"colab-df-buttons\">\n",
              "\n",
              "  <div class=\"colab-df-container\">\n",
              "    <button class=\"colab-df-convert\" onclick=\"convertToInteractive('df-4e25d39f-6f55-4996-b7d2-ff2da0f80a7a')\"\n",
              "            title=\"Convert this dataframe to an interactive table.\"\n",
              "            style=\"display:none;\">\n",
              "\n",
              "  <svg xmlns=\"http://www.w3.org/2000/svg\" height=\"24px\" viewBox=\"0 -960 960 960\">\n",
              "    <path d=\"M120-120v-720h720v720H120Zm60-500h600v-160H180v160Zm220 220h160v-160H400v160Zm0 220h160v-160H400v160ZM180-400h160v-160H180v160Zm440 0h160v-160H620v160ZM180-180h160v-160H180v160Zm440 0h160v-160H620v160Z\"/>\n",
              "  </svg>\n",
              "    </button>\n",
              "\n",
              "  <style>\n",
              "    .colab-df-container {\n",
              "      display:flex;\n",
              "      gap: 12px;\n",
              "    }\n",
              "\n",
              "    .colab-df-convert {\n",
              "      background-color: #E8F0FE;\n",
              "      border: none;\n",
              "      border-radius: 50%;\n",
              "      cursor: pointer;\n",
              "      display: none;\n",
              "      fill: #1967D2;\n",
              "      height: 32px;\n",
              "      padding: 0 0 0 0;\n",
              "      width: 32px;\n",
              "    }\n",
              "\n",
              "    .colab-df-convert:hover {\n",
              "      background-color: #E2EBFA;\n",
              "      box-shadow: 0px 1px 2px rgba(60, 64, 67, 0.3), 0px 1px 3px 1px rgba(60, 64, 67, 0.15);\n",
              "      fill: #174EA6;\n",
              "    }\n",
              "\n",
              "    .colab-df-buttons div {\n",
              "      margin-bottom: 4px;\n",
              "    }\n",
              "\n",
              "    [theme=dark] .colab-df-convert {\n",
              "      background-color: #3B4455;\n",
              "      fill: #D2E3FC;\n",
              "    }\n",
              "\n",
              "    [theme=dark] .colab-df-convert:hover {\n",
              "      background-color: #434B5C;\n",
              "      box-shadow: 0px 1px 3px 1px rgba(0, 0, 0, 0.15);\n",
              "      filter: drop-shadow(0px 1px 2px rgba(0, 0, 0, 0.3));\n",
              "      fill: #FFFFFF;\n",
              "    }\n",
              "  </style>\n",
              "\n",
              "    <script>\n",
              "      const buttonEl =\n",
              "        document.querySelector('#df-4e25d39f-6f55-4996-b7d2-ff2da0f80a7a button.colab-df-convert');\n",
              "      buttonEl.style.display =\n",
              "        google.colab.kernel.accessAllowed ? 'block' : 'none';\n",
              "\n",
              "      async function convertToInteractive(key) {\n",
              "        const element = document.querySelector('#df-4e25d39f-6f55-4996-b7d2-ff2da0f80a7a');\n",
              "        const dataTable =\n",
              "          await google.colab.kernel.invokeFunction('convertToInteractive',\n",
              "                                                    [key], {});\n",
              "        if (!dataTable) return;\n",
              "\n",
              "        const docLinkHtml = 'Like what you see? Visit the ' +\n",
              "          '<a target=\"_blank\" href=https://colab.research.google.com/notebooks/data_table.ipynb>data table notebook</a>'\n",
              "          + ' to learn more about interactive tables.';\n",
              "        element.innerHTML = '';\n",
              "        dataTable['output_type'] = 'display_data';\n",
              "        await google.colab.output.renderOutput(dataTable, element);\n",
              "        const docLink = document.createElement('div');\n",
              "        docLink.innerHTML = docLinkHtml;\n",
              "        element.appendChild(docLink);\n",
              "      }\n",
              "    </script>\n",
              "  </div>\n",
              "\n",
              "\n",
              "<div id=\"df-98a6e84d-b220-415a-82be-7c5c82b261ec\">\n",
              "  <button class=\"colab-df-quickchart\" onclick=\"quickchart('df-98a6e84d-b220-415a-82be-7c5c82b261ec')\"\n",
              "            title=\"Suggest charts\"\n",
              "            style=\"display:none;\">\n",
              "\n",
              "<svg xmlns=\"http://www.w3.org/2000/svg\" height=\"24px\"viewBox=\"0 0 24 24\"\n",
              "     width=\"24px\">\n",
              "    <g>\n",
              "        <path d=\"M19 3H5c-1.1 0-2 .9-2 2v14c0 1.1.9 2 2 2h14c1.1 0 2-.9 2-2V5c0-1.1-.9-2-2-2zM9 17H7v-7h2v7zm4 0h-2V7h2v10zm4 0h-2v-4h2v4z\"/>\n",
              "    </g>\n",
              "</svg>\n",
              "  </button>\n",
              "\n",
              "<style>\n",
              "  .colab-df-quickchart {\n",
              "      --bg-color: #E8F0FE;\n",
              "      --fill-color: #1967D2;\n",
              "      --hover-bg-color: #E2EBFA;\n",
              "      --hover-fill-color: #174EA6;\n",
              "      --disabled-fill-color: #AAA;\n",
              "      --disabled-bg-color: #DDD;\n",
              "  }\n",
              "\n",
              "  [theme=dark] .colab-df-quickchart {\n",
              "      --bg-color: #3B4455;\n",
              "      --fill-color: #D2E3FC;\n",
              "      --hover-bg-color: #434B5C;\n",
              "      --hover-fill-color: #FFFFFF;\n",
              "      --disabled-bg-color: #3B4455;\n",
              "      --disabled-fill-color: #666;\n",
              "  }\n",
              "\n",
              "  .colab-df-quickchart {\n",
              "    background-color: var(--bg-color);\n",
              "    border: none;\n",
              "    border-radius: 50%;\n",
              "    cursor: pointer;\n",
              "    display: none;\n",
              "    fill: var(--fill-color);\n",
              "    height: 32px;\n",
              "    padding: 0;\n",
              "    width: 32px;\n",
              "  }\n",
              "\n",
              "  .colab-df-quickchart:hover {\n",
              "    background-color: var(--hover-bg-color);\n",
              "    box-shadow: 0 1px 2px rgba(60, 64, 67, 0.3), 0 1px 3px 1px rgba(60, 64, 67, 0.15);\n",
              "    fill: var(--button-hover-fill-color);\n",
              "  }\n",
              "\n",
              "  .colab-df-quickchart-complete:disabled,\n",
              "  .colab-df-quickchart-complete:disabled:hover {\n",
              "    background-color: var(--disabled-bg-color);\n",
              "    fill: var(--disabled-fill-color);\n",
              "    box-shadow: none;\n",
              "  }\n",
              "\n",
              "  .colab-df-spinner {\n",
              "    border: 2px solid var(--fill-color);\n",
              "    border-color: transparent;\n",
              "    border-bottom-color: var(--fill-color);\n",
              "    animation:\n",
              "      spin 1s steps(1) infinite;\n",
              "  }\n",
              "\n",
              "  @keyframes spin {\n",
              "    0% {\n",
              "      border-color: transparent;\n",
              "      border-bottom-color: var(--fill-color);\n",
              "      border-left-color: var(--fill-color);\n",
              "    }\n",
              "    20% {\n",
              "      border-color: transparent;\n",
              "      border-left-color: var(--fill-color);\n",
              "      border-top-color: var(--fill-color);\n",
              "    }\n",
              "    30% {\n",
              "      border-color: transparent;\n",
              "      border-left-color: var(--fill-color);\n",
              "      border-top-color: var(--fill-color);\n",
              "      border-right-color: var(--fill-color);\n",
              "    }\n",
              "    40% {\n",
              "      border-color: transparent;\n",
              "      border-right-color: var(--fill-color);\n",
              "      border-top-color: var(--fill-color);\n",
              "    }\n",
              "    60% {\n",
              "      border-color: transparent;\n",
              "      border-right-color: var(--fill-color);\n",
              "    }\n",
              "    80% {\n",
              "      border-color: transparent;\n",
              "      border-right-color: var(--fill-color);\n",
              "      border-bottom-color: var(--fill-color);\n",
              "    }\n",
              "    90% {\n",
              "      border-color: transparent;\n",
              "      border-bottom-color: var(--fill-color);\n",
              "    }\n",
              "  }\n",
              "</style>\n",
              "\n",
              "  <script>\n",
              "    async function quickchart(key) {\n",
              "      const quickchartButtonEl =\n",
              "        document.querySelector('#' + key + ' button');\n",
              "      quickchartButtonEl.disabled = true;  // To prevent multiple clicks.\n",
              "      quickchartButtonEl.classList.add('colab-df-spinner');\n",
              "      try {\n",
              "        const charts = await google.colab.kernel.invokeFunction(\n",
              "            'suggestCharts', [key], {});\n",
              "      } catch (error) {\n",
              "        console.error('Error during call to suggestCharts:', error);\n",
              "      }\n",
              "      quickchartButtonEl.classList.remove('colab-df-spinner');\n",
              "      quickchartButtonEl.classList.add('colab-df-quickchart-complete');\n",
              "    }\n",
              "    (() => {\n",
              "      let quickchartButtonEl =\n",
              "        document.querySelector('#df-98a6e84d-b220-415a-82be-7c5c82b261ec button');\n",
              "      quickchartButtonEl.style.display =\n",
              "        google.colab.kernel.accessAllowed ? 'block' : 'none';\n",
              "    })();\n",
              "  </script>\n",
              "</div>\n",
              "    </div>\n",
              "  </div>\n"
            ],
            "application/vnd.google.colaboratory.intrinsic+json": {
              "type": "dataframe",
              "variable_name": "X",
              "summary": "{\n  \"name\": \"X\",\n  \"rows\": 1338,\n  \"fields\": [\n    {\n      \"column\": \"age\",\n      \"properties\": {\n        \"dtype\": \"number\",\n        \"std\": 14,\n        \"min\": 18,\n        \"max\": 64,\n        \"num_unique_values\": 47,\n        \"samples\": [\n          21,\n          45,\n          36\n        ],\n        \"semantic_type\": \"\",\n        \"description\": \"\"\n      }\n    },\n    {\n      \"column\": \"bmi\",\n      \"properties\": {\n        \"dtype\": \"number\",\n        \"std\": 6.098186911679014,\n        \"min\": 15.96,\n        \"max\": 53.13,\n        \"num_unique_values\": 548,\n        \"samples\": [\n          23.18,\n          26.885,\n          29.26\n        ],\n        \"semantic_type\": \"\",\n        \"description\": \"\"\n      }\n    },\n    {\n      \"column\": \"children\",\n      \"properties\": {\n        \"dtype\": \"number\",\n        \"std\": 1,\n        \"min\": 0,\n        \"max\": 5,\n        \"num_unique_values\": 6,\n        \"samples\": [\n          0,\n          1,\n          4\n        ],\n        \"semantic_type\": \"\",\n        \"description\": \"\"\n      }\n    },\n    {\n      \"column\": \"sex_female\",\n      \"properties\": {\n        \"dtype\": \"uint8\",\n        \"num_unique_values\": 2,\n        \"samples\": [\n          0,\n          1\n        ],\n        \"semantic_type\": \"\",\n        \"description\": \"\"\n      }\n    },\n    {\n      \"column\": \"sex_male\",\n      \"properties\": {\n        \"dtype\": \"uint8\",\n        \"num_unique_values\": 2,\n        \"samples\": [\n          1,\n          0\n        ],\n        \"semantic_type\": \"\",\n        \"description\": \"\"\n      }\n    },\n    {\n      \"column\": \"smoker_no\",\n      \"properties\": {\n        \"dtype\": \"uint8\",\n        \"num_unique_values\": 2,\n        \"samples\": [\n          1,\n          0\n        ],\n        \"semantic_type\": \"\",\n        \"description\": \"\"\n      }\n    },\n    {\n      \"column\": \"smoker_yes\",\n      \"properties\": {\n        \"dtype\": \"uint8\",\n        \"num_unique_values\": 2,\n        \"samples\": [\n          0,\n          1\n        ],\n        \"semantic_type\": \"\",\n        \"description\": \"\"\n      }\n    },\n    {\n      \"column\": \"region_northeast\",\n      \"properties\": {\n        \"dtype\": \"uint8\",\n        \"num_unique_values\": 2,\n        \"samples\": [\n          1,\n          0\n        ],\n        \"semantic_type\": \"\",\n        \"description\": \"\"\n      }\n    },\n    {\n      \"column\": \"region_northwest\",\n      \"properties\": {\n        \"dtype\": \"uint8\",\n        \"num_unique_values\": 2,\n        \"samples\": [\n          1,\n          0\n        ],\n        \"semantic_type\": \"\",\n        \"description\": \"\"\n      }\n    },\n    {\n      \"column\": \"region_southeast\",\n      \"properties\": {\n        \"dtype\": \"uint8\",\n        \"num_unique_values\": 2,\n        \"samples\": [\n          1,\n          0\n        ],\n        \"semantic_type\": \"\",\n        \"description\": \"\"\n      }\n    },\n    {\n      \"column\": \"region_southwest\",\n      \"properties\": {\n        \"dtype\": \"uint8\",\n        \"num_unique_values\": 2,\n        \"samples\": [\n          0,\n          1\n        ],\n        \"semantic_type\": \"\",\n        \"description\": \"\"\n      }\n    }\n  ]\n}"
            }
          },
          "metadata": {},
          "execution_count": 103
        }
      ]
    },
    {
      "cell_type": "code",
      "source": [
        "X[\"age\"].plot(kind=\"hist\")"
      ],
      "metadata": {
        "colab": {
          "base_uri": "https://localhost:8080/",
          "height": 448
        },
        "id": "Agg2rdvUbrRx",
        "outputId": "f4211dc3-fe13-4639-a396-0601778f9223"
      },
      "execution_count": 104,
      "outputs": [
        {
          "output_type": "execute_result",
          "data": {
            "text/plain": [
              "<Axes: ylabel='Frequency'>"
            ]
          },
          "metadata": {},
          "execution_count": 104
        },
        {
          "output_type": "display_data",
          "data": {
            "text/plain": [
              "<Figure size 640x480 with 1 Axes>"
            ],
            "image/png": "[encoded data removed]"
          },
          "metadata": {}
        }
      ]
    },
    {
      "cell_type": "code",
      "source": [
        "X[\"bmi\"].plot(kind=\"hist\")"
      ],
      "metadata": {
        "colab": {
          "base_uri": "https://localhost:8080/",
          "height": 448
        },
        "id": "gNoRHD7HburH",
        "outputId": "f4264b39-f4a8-4a9f-e060-5c1d8ed4f26e"
      },
      "execution_count": 105,
      "outputs": [
        {
          "output_type": "execute_result",
          "data": {
            "text/plain": [
              "<Axes: ylabel='Frequency'>"
            ]
          },
          "metadata": {},
          "execution_count": 105
        },
        {
          "output_type": "display_data",
          "data": {
            "text/plain": [
              "<Figure size 640x480 with 1 Axes>"
            ],
            "image/png": "[encoded data removed]"
          },
          "metadata": {}
        }
      ]
    },
    {
      "cell_type": "code",
      "source": [
        "X[\"children\"].value_counts()"
      ],
      "metadata": {
        "colab": {
          "base_uri": "https://localhost:8080/"
        },
        "id": "Mk_U5Xd1bzNp",
        "outputId": "c1cab926-0a47-4111-bcc6-27fca495b63f"
      },
      "execution_count": 107,
      "outputs": [
        {
          "output_type": "execute_result",
          "data": {
            "text/plain": [
              "0    574\n",
              "1    324\n",
              "2    240\n",
              "3    157\n",
              "4     25\n",
              "5     18\n",
              "Name: children, dtype: int64"
            ]
          },
          "metadata": {},
          "execution_count": 107
        }
      ]
    },
    {
      "cell_type": "code",
      "source": [],
      "metadata": {
        "id": "N_mB7gN3b3-s"
      },
      "execution_count": null,
      "outputs": []
    }
  ]
}